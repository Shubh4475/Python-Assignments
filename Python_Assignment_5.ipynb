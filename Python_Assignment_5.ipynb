{
  "nbformat": 4,
  "nbformat_minor": 0,
  "metadata": {
    "colab": {
      "provenance": []
    },
    "kernelspec": {
      "name": "python3",
      "display_name": "Python 3"
    },
    "language_info": {
      "name": "python"
    }
  },
  "cells": [
    {
      "cell_type": "markdown",
      "source": [
        "**THEORY QUESTIONS:**"
      ],
      "metadata": {
        "id": "IOE1jck9haPI"
      }
    },
    {
      "cell_type": "markdown",
      "source": [
        "**Q1. What is the difference between interpreted and compiled languages?**"
      ],
      "metadata": {
        "id": "reMUqTsBglXK"
      }
    },
    {
      "cell_type": "markdown",
      "source": [
        "**Ans:** Interpreted and compiled languages differ primarily in how their code is executed by a computer. Given below is the detailed description of both:\n",
        "\n",
        "**Interpreted Languages:**\n",
        "Interpreted languages are executed line-by-line or statement-by-statement by an interpreter. The interpreter reads the source code, translates it into machine code, and executes it directly.\n",
        "\n",
        "**Characteristics of Interpreted Languages:**\n",
        "\n",
        "* **Execution:** Code is executed directly by an interpreter without needing to be compiled into machine code beforehand.\n",
        "\n",
        "* **Portability:** Often more portable since the same source code can run on different platforms, provided an appropriate interpreter is available.\n",
        "\n",
        "* **Runtime:** Errors are typically found at runtime, which can make debugging more immediate but may also lead to runtime errors being discovered late.\n",
        "\n",
        "* **Speed:** Generally slower execution compared to compiled languages, as the interpreter translates the code on the fly.\n",
        "\n",
        "**Examples of Interpreted Languages:**\n",
        "\n",
        "* Python,\n",
        "JavaScript,\n",
        " Ruby,\n",
        " PHP.\n",
        "\n",
        "**Compiled Languages:**\n",
        "Compiled languages require a compiler to translate the entire source code into machine code (binary code) before execution. The machine code is then executed directly by the computer’s CPU.\n",
        "\n",
        "**Characteristics of Compiled Languages:**\n",
        "\n",
        "* **Execution:** Source code is compiled into machine code before execution. The resulting binary code is executed directly by the CPU.\n",
        "\n",
        "* **Performance:** Typically faster execution compared to interpreted languages, as the code is already translated into machine-readable format.\n",
        "\n",
        "* **Error Detection:** Compilation catches errors before the program runs, allowing for errors to be identified and fixed during the compilation process.\n",
        "\n",
        "* **Platform Dependency:** The compiled binary is usually platform-specific. The same source code needs to be compiled separately for different platforms.\n",
        "\n",
        "**Examples of Compiled Languages:**\n",
        "\n",
        "* C,\n",
        "C++,\n",
        "Rust,\n",
        "Go\n",
        "\n",
        "**Hybrid Approach: Some languages use a mix of both compiled and interpreted techniques:**\n",
        "\n",
        "* **Java:** Java code is first compiled into bytecode (an intermediate form) by the Java compiler, then executed by the Java Virtual Machine (JVM), which acts as an interpreter.\n",
        "* **C#:** Similar to Java, where C# code is compiled into an intermediate language (IL) and then executed by the .NET runtime.\n",
        "\n",
        "**Upon summarization, we can say that:**\n",
        "\n",
        "**Interpreted Languages:** Directly executed by an interpreter, generally slower, more portable, and errors are detected at runtime.\n",
        "\n",
        "**Compiled Languages:** Translated into machine code by a compiler, generally faster, platform-specific, and errors are caught at compile time.\n",
        "\n",
        "Both types of languages have their own advantages and use cases. The choice between using an interpreted or compiled language often depends on the specific requirements and constraints of the project."
      ],
      "metadata": {
        "id": "NkftQzH6guzl"
      }
    },
    {
      "cell_type": "markdown",
      "source": [
        "**Q2. What is exception handling in Python?**"
      ],
      "metadata": {
        "id": "KRXHQ_IRkf8p"
      }
    },
    {
      "cell_type": "markdown",
      "source": [
        "**Ans:** Python Exception Handling is a mechanism which lets the program handle errors or exceptions. Instead of crashing when a program hits an error, Python enables catching and handling of the error in a controlled manner to avoid unwanted termination of the program.\n",
        "\n",
        "**Why we need Exception Handling?**\n",
        "\n",
        "Exceptions are errors that come at runtime. Such errors might occur due to a variety of causes, such as mistaken input from the user, missing files, or network connectivity issues. Exception handling is the best practice that allows a program to catch these errors and act upon them so that either the program continues running smoothly or terminates gracefully with a nice informative message.\n",
        "\n",
        "**Components of Exception Handling in Python:**\n",
        "\n",
        "1. **Exceptions:** Errors detected during execution are called exceptions. Examples include ***ZeroDivisionError, FileNotFoundError, ValueError***, etc.\n",
        "\n",
        "2. **Try Block:** Code that might raise an exception is placed inside a try block.\n",
        "\n",
        "3. **Except Block:** Code that handles the exception is placed inside an except block. Multiple except blocks can be used to handle different exceptions.\n",
        "\n",
        "4. **Else Block:** Code inside an else block will execute if no exceptions are raised in the try block.\n",
        "\n",
        "5. **Finally Block:** Code inside a finally block will always execute, regardless of whether an exception was raised or not. It is typically used for cleanup actions.\n",
        "\n",
        "**Syntax with example of Exception Handling:**"
      ],
      "metadata": {
        "id": "m6GUMuYtkqok"
      }
    },
    {
      "cell_type": "code",
      "execution_count": null,
      "metadata": {
        "id": "KzWm8Mpegh1C"
      },
      "outputs": [],
      "source": [
        "try:\n",
        "    # Code that might raise an exception\n",
        "    x = 10 / 0  # Division by zero will raise an exception\n",
        "except ZeroDivisionError:\n",
        "    # Code that runs when an exception occurs\n",
        "    print(\"You can't divide by zero!\")\n",
        "else:\n",
        "    # Code that runs if no exception occurs\n",
        "    print(\"Division was successful!\")\n",
        "finally:\n",
        "    # Code that runs no matter what\n",
        "    print(\"Execution finished.\")"
      ]
    },
    {
      "cell_type": "markdown",
      "source": [
        "**Explanation of the Code:**\n",
        "* **try:** The code inside this block is where the potential exception might occur (in this case, division by zero).\n",
        "* **except ZeroDivisionError:** If a ZeroDivisionError occurs (i.e., trying to divide by zero), this block will execute and print a helpful error message.\n",
        "* **else:** If no exception occurs in the try block, the else block will run (though in this example, the exception will always occur, so it won't be executed).\n",
        "* **finally:** This block always runs, regardless of whether an exception occurred or not. It is often used for cleanup, like closing files or network connections.\n",
        "\n",
        "**Note:** You can catch **multiple exceptions** using different **except** blocks or a single block for multiple exceptions and generic Exception block that catches any other exceptions that weren’t explicitly handled.\n",
        "\n",
        "**Raising Exceptions:**\n",
        "You can also raise exceptions manually in your code using the **raise** statement. This is useful when you want to enforce certain conditions or validate data. Example:"
      ],
      "metadata": {
        "id": "WIn3WJ1PgkU4"
      }
    },
    {
      "cell_type": "code",
      "source": [
        "def check_age(age):\n",
        "    if age < 18:\n",
        "        raise ValueError(\"Age must be 18 or older.\")\n",
        "    print(\"Age is valid.\")\n",
        "\n",
        "try:\n",
        "    check_age(15)\n",
        "except ValueError as e:\n",
        "    print(e)\n",
        "\n",
        "# raise: This raises a ValueError if the age is less than 18, which is then caught by the except block."
      ],
      "metadata": {
        "colab": {
          "base_uri": "https://localhost:8080/"
        },
        "id": "12aDQIayqqIe",
        "outputId": "bd8d3716-743f-415b-f6aa-7d5a92c4ecf2"
      },
      "execution_count": null,
      "outputs": [
        {
          "output_type": "stream",
          "name": "stdout",
          "text": [
            "Age must be 18 or older.\n"
          ]
        }
      ]
    },
    {
      "cell_type": "markdown",
      "source": [
        "**Benefits of Exception Handling:**\n",
        "* **Graceful Error Handling:** Allows your program to handle errors gracefully without abruptly terminating.\n",
        "\n",
        "* **Improved Debugging:** Helps in identifying and managing different types of runtime errors.\n",
        "\n",
        "* **Resource Management:** Ensures that resources like file handles, network connections, etc., are properly released even if an error occurs.\n",
        "\n",
        "Exception handling is an essential tool for building robust and fault-tolerant applications."
      ],
      "metadata": {
        "id": "VsvBkXA4rCq7"
      }
    },
    {
      "cell_type": "markdown",
      "source": [
        "**Q3. What is the purpose of the finally block in exception handling?**"
      ],
      "metadata": {
        "id": "O2jQFTtvrSYy"
      }
    },
    {
      "cell_type": "markdown",
      "source": [
        "**Ans:** The purpose of the finally block in exception handling is to ensure that certain code is executed no matter what, regardless of whether an exception was raised or not in the try block.\n",
        "\n",
        "**It is typically used for cleanup operations such as:**\n",
        "\n",
        "* Closing files or database connections\n",
        "* Releasing system resources\n",
        "* Performing necessary clean-up tasks (e.g., resetting variables or releasing locks)\n",
        "* Ensuring that critical code runs regardless of exceptions, allowing the program to exit gracefully or leave the system in a consistent state.\n",
        "\n",
        "**Example of Using the finally Block:**"
      ],
      "metadata": {
        "id": "R0tUm0I4rXhZ"
      }
    },
    {
      "cell_type": "code",
      "source": [
        "def file_operations():\n",
        "    try:\n",
        "        file = open(\"example.txt\", \"r\")\n",
        "        content = file.read()\n",
        "        print(content)\n",
        "    except FileNotFoundError:\n",
        "        print(\"File not found!\")\n",
        "    except Exception as e:\n",
        "        print(f\"An error occurred: {e}\")\n",
        "    finally:\n",
        "        print(\"This will always run, regardless of whether an exception occurred.\")\n",
        "        # Ensuring the file is closed even if an exception occurred\n",
        "        if 'file' in locals() and not file.closed:\n",
        "            file.close()\n",
        "            print(\"File closed.\")\n",
        "\n",
        "# Calling the function\n",
        "file_operations()"
      ],
      "metadata": {
        "id": "g3_wTP1btf3_"
      },
      "execution_count": null,
      "outputs": []
    },
    {
      "cell_type": "markdown",
      "source": [
        "**Explanation:**\n",
        "1. **try block:** Attempts to open and read from a file.\n",
        "2. **except blocks:** Handle specific exceptions like FileNotFoundError.\n",
        "3. **finally block:** Ensures the message \"This will always run...\" is printed, and it closes the file if it was opened, even if an error occurred.\n",
        "\n",
        "**Why Use finally?**\n",
        "* **Resource Management:** In cases where you allocate resources (e.g., open files, network connections, or database transactions), the finally block ensures that these resources are released properly, preventing resource leaks.\n",
        "* **Program Stability:** By guaranteeing that essential cleanup tasks are always completed, you help prevent issues where your program may behave unpredictably after an error."
      ],
      "metadata": {
        "id": "SJA6rTcjxATQ"
      }
    },
    {
      "cell_type": "markdown",
      "source": [
        "**Q4. What is logging in Python?**"
      ],
      "metadata": {
        "id": "Uh2yN9kgxyuR"
      }
    },
    {
      "cell_type": "markdown",
      "source": [
        "**Ans:** In Python, logging refers to the process of recording events that occur while an application under development is executed. The process is an important tool in debugging and monitoring because it allows the developer to know about the activity of the program and even identify issues or abnormal behaviors.\n",
        "\n",
        "**Key Concepts of Logging in Python:**\n",
        "* **Loggers:** The Logger object is the main interface for logging. It is responsible for dispatching log messages to the appropriate destination.\n",
        "\n",
        "* **Handlers:** Handler objects send log messages to their final destination, such as the console, a file, or a remote server.\n",
        "\n",
        "* **Formatters:** Formatter objects specify the layout of the log messages.\n",
        "\n",
        "* **Log Levels:** Logging levels indicate the severity of events. Python's logging module defines several levels, including:\n",
        "\n",
        "  1. **DEBUG:** Detailed information, typically of interest only when diagnosing problems.\n",
        "\n",
        "  2. **INFO:** Confirmation that things are working as expected.\n",
        "\n",
        "  3. **WARNING:** An indication that something unexpected happened or indicative of some problem in the near future (e.g., 'disk space low'). The software is still working as expected.\n",
        "\n",
        "  4. **ERROR:** Due to a more serious problem, the software has not been able to perform some function.\n",
        "\n",
        "  5. **CRITICAL:** A very serious error, indicating that the program itself may be unable to continue running.\n",
        "\n",
        "**Simple Example of Logging Setup:**"
      ],
      "metadata": {
        "id": "AeSfAfEiy2Vj"
      }
    },
    {
      "cell_type": "code",
      "source": [
        "import logging\n",
        "\n",
        "# Configure the logging\n",
        "logging.basicConfig(level=logging.DEBUG, format='%(asctime)s - %(levelname)s - %(message)s')\n",
        "\n",
        "# Create a logger\n",
        "logger = logging.getLogger()\n",
        "\n",
        "# Log messages of different severity levels\n",
        "logger.debug(\"This is a debug message\")\n",
        "logger.info(\"This is an info message\")\n",
        "logger.warning(\"This is a warning message\")\n",
        "logger.error(\"This is an error message\")\n",
        "logger.critical(\"This is a critical message\")"
      ],
      "metadata": {
        "colab": {
          "base_uri": "https://localhost:8080/"
        },
        "id": "jJhRa273rCUx",
        "outputId": "54bb05ff-3588-4776-ee3e-5c7ac940ac6e"
      },
      "execution_count": null,
      "outputs": [
        {
          "output_type": "stream",
          "name": "stderr",
          "text": [
            "WARNING:root:This is a warning message\n",
            "ERROR:root:This is an error message\n",
            "CRITICAL:root:This is a critical message\n"
          ]
        }
      ]
    },
    {
      "cell_type": "markdown",
      "source": [
        "**Explanation:**\n",
        "1. **Configuration:** **logging.basicConfig()** sets up the logging configuration, specifying the log level and format of the log messages.\n",
        "\n",
        "2. **Logger Creation:** **logging.getLogger()** creates a logger object.\n",
        "\n",
        "3. **Logging Messages:** Various logging methods (**debug, info, warning, error,** **critical**) log messages with different severity levels.\n",
        "\n",
        "**Benefits of Logging:**\n",
        "* **Debugging:** Helps identify and fix bugs by providing detailed information about the program's execution.\n",
        "\n",
        "* **Monitoring:** Tracks the application's behavior in production environments to ensure it is running correctly.\n",
        "\n",
        "* **Audit Trails:** Provides a record of significant events for auditing and analysis.\n",
        "\n",
        "Logging is a powerful tool that enhances the visibility and maintainability of your code. By using logging effectively, you can create more reliable and easier-to-debug applications."
      ],
      "metadata": {
        "id": "N105G6ot0dUK"
      }
    },
    {
      "cell_type": "markdown",
      "source": [
        "**Q5. What is the significance of the** **__** **del__** **method in Python?**"
      ],
      "metadata": {
        "id": "8nYhs6Wf1aLA"
      }
    },
    {
      "cell_type": "markdown",
      "source": [
        "**Ans:** The **__** **del__** method in Python is a special method, also known as a destructor. It is called when an object is about to be destroyed, and it allows you to define cleanup actions that should be performed when an object is no longer needed.\n",
        "\n",
        "**Significance of the __del__ Method:**\n",
        "\n",
        "**1. Resource Cleanup:** The primary use of **__** **del__** is to release resources that are not automatically freed when an object is destroyed, such as closing files, network connections, or database connections. If your object has acquired such resources, you can use **__** **del__** to ensure they are properly released.\n",
        "\n",
        "**2. Automatic Memory Management:** Python uses automatic memory management through garbage collection, but when an object holds external resources (such as open files or locks), Python might not know how to release these resources automatically. The **__** **del__** method can help clean up those resources when the object is destroyed.\n",
        "\n",
        "**3. Custom Cleanup**: Sometimes, custom logic is needed when an object is no longer in use, and the **__** **del__** method provides a way to implement such logic.\n",
        "\n",
        "**Syntax and Basic Usage:**\n",
        "\n",
        "The **__** **del__** method is defined within a class just like any other method, but it is called automatically when the object is about to be destroyed."
      ],
      "metadata": {
        "id": "q7m-bRiR2okZ"
      }
    },
    {
      "cell_type": "code",
      "source": [
        "class MyClass:\n",
        "    def __init__(self, name):\n",
        "        self.name = name\n",
        "        print(f\"Object {self.name} created.\")\n",
        "\n",
        "    def __del__(self):\n",
        "        print(f\"Object {self.name} is being destroyed.\")\n",
        "\n",
        "# Example usage\n",
        "obj = MyClass(\"TestObject\")\n",
        "del obj  # Manually delete the object to trigger __del__"
      ],
      "metadata": {
        "id": "4MDuAjTV3wMm"
      },
      "execution_count": null,
      "outputs": []
    },
    {
      "cell_type": "markdown",
      "source": [
        "**Explanation:**\n",
        "* **__** **init__**: This constructor initializes the object and prints a message when the object is created.\n",
        "* **__** **del__**: The destructor prints a message when the object is destroyed.\n",
        "\n",
        "**Key Points:**\n",
        "1. **Automatic Destruction:**\n",
        "\n",
        "* Normally, Python will automatically call **__** **del__** when an object is garbage collected, but there are cases where this may not happen immediately. For example, if there are circular references, the garbage collector may not collect the object as expected.\n",
        "2. **Unpredictability:**\n",
        "\n",
        "* The exact timing of when **__** **del__** is called is not guaranteed. The destructor is triggered when the object's reference count drops to zero and the garbage collector runs. This means you cannot rely on **__** **del__** for precise resource management timing.\n",
        "* It's not guaranteed that **__** **del__** will be called immediately after an object is no longer needed, especially in the presence of cyclic references.\n",
        "3. **Garbage Collection:**\n",
        "\n",
        "* If an object has circular references, Python's garbage collector may not destroy the object as expected, which means the **__** **del__** method might not be called at all in some situations. In these cases, it's better to explicitly manage resources through context managers or other techniques.\n",
        "4. **Exceptions in** **__** **del__:**\n",
        "\n",
        "* If an exception is raised inside **__** **del__**, it is ignored, and the object will be destroyed. However, it's a best practice to avoid complex logic inside **__** **del__** to prevent unwanted behavior.\n",
        "\n",
        "So basically, The **__** **del__** method can be useful for cleanup tasks, but its usage should be considered carefully due to its non-deterministic nature and potential complications. Proper resource management practices, such as using context managers (with statement) for file handling, are often preferred for ensuring that resources are released appropriately."
      ],
      "metadata": {
        "id": "KDyaPcUN32fP"
      }
    },
    {
      "cell_type": "markdown",
      "source": [
        "**Q6. What is the difference between import and from ... import in Python?**"
      ],
      "metadata": {
        "id": "MNimdzUH5V-d"
      }
    },
    {
      "cell_type": "markdown",
      "source": [
        "**Ans:** In Python, both **import** and **from ... import** are used to bring code from other modules or libraries into your current script, but they work in different ways. Here's an explanation of each approach and the differences between them:\n",
        "\n",
        "**1. import Statement:**\n",
        "The import statement is used to import the entire module or package. This means you need to refer to the module or package name whenever you want to use its functions, classes, or variables.\n",
        "\n",
        "**Syntax:**\n",
        "\n",
        "                      import module_name\n",
        "**Example:**"
      ],
      "metadata": {
        "id": "_N6tGTbN5y9c"
      }
    },
    {
      "cell_type": "code",
      "source": [
        "import math  # Importing the whole math module\n",
        "\n",
        "result = math.sqrt(16)  # Accessing the sqrt function from the math module\n",
        "print(result)"
      ],
      "metadata": {
        "colab": {
          "base_uri": "https://localhost:8080/"
        },
        "id": "PE5Y2-wh6PNF",
        "outputId": "9331a702-35cb-4c93-a54b-db01e6e7f7e8"
      },
      "execution_count": null,
      "outputs": [
        {
          "output_type": "stream",
          "name": "stdout",
          "text": [
            "4.0\n"
          ]
        }
      ]
    },
    {
      "cell_type": "markdown",
      "source": [
        "**Explanation:**\n",
        "1. **import math:** This imports the entire math module.\n",
        "2. To access the sqrt function, you use the module name followed by a dot: **math.sqrt(16)**.\n",
        "\n",
        "**2. from ... import Statement:**\n",
        "The **from ... import** statement is used to import specific items (functions, classes, variables) directly from a module or package. This allows you to use those items without needing to reference the module name.\n",
        "\n",
        "Syntax:\n",
        "              \n",
        "              from module_name import item1, item2, ...\n",
        "Example:"
      ],
      "metadata": {
        "id": "QXBqOzp46U--"
      }
    },
    {
      "cell_type": "code",
      "source": [
        "from math import sqrt  # Importing only the sqrt function from the math module\n",
        "\n",
        "result = sqrt(16)  # Directly using the sqrt function without the module name\n",
        "print(result)"
      ],
      "metadata": {
        "colab": {
          "base_uri": "https://localhost:8080/"
        },
        "id": "nl_jFRMO6yzG",
        "outputId": "c48da3d1-8a0b-498a-97ef-141820a636db"
      },
      "execution_count": null,
      "outputs": [
        {
          "output_type": "stream",
          "name": "stdout",
          "text": [
            "4.0\n"
          ]
        }
      ]
    },
    {
      "cell_type": "markdown",
      "source": [
        "**Explanation:**\n",
        "1. **from math import sqrt:** This imports only the **sqrt** function from the **math** module.\n",
        "2. You can now directly use **sqrt** without needing to prefix it with **math.**.\n",
        "\n",
        "**Key Differences Between import and from ... import:**\n",
        "\n",
        "1. **Importing Entire Module vs. Specific Items:**\n",
        "\n",
        "* **import:** Imports the entire module, and you must use the module name as a prefix to access its functions or classes (e.g., math.sqrt(16)).\n",
        "* **from ... import:** Imports only the specified items (functions, classes, or variables), allowing you to use them directly without the module prefix (e.g., sqrt(16)).\n",
        "2. **Namespace:**\n",
        "\n",
        "* **import:** The module name is included in the namespace, meaning that all functions, classes, and variables from the module are accessed via the module's name (e.g., module_name.function()).\n",
        "* **from ... import:** The specified items are imported directly into the current namespace, and you can use them without the module name (e.g., just function()).\n",
        "3. **Memory Usage:**\n",
        "\n",
        "* **import:** Since the entire module is imported, this might use more memory, especially if the module contains a lot of code that you don’t need.\n",
        "* **from ... import:** Imports only the specified items, which can be more memory-efficient when you only need a few functions or classes from a large module.\n",
        "4. **Code Readability and Maintainability:**\n",
        "\n",
        "* **import:** Makes it clear which module the function or class comes from, which can improve code readability and reduce the chances of naming conflicts.\n",
        "* **from ... import:** Can make the code more concise by directly importing only the functions or classes you need. However, if too many items are imported from different modules, it can make the code harder to understand and maintain because it might not be clear where a particular function or class came from.\n",
        "\n",
        "**Use import:**\n",
        "* When you want to import the whole module and keep the module’s namespace clear.\n",
        "* When you want to avoid potential naming conflicts (since all names will be prefixed with the module name).\n",
        "\n",
        "**Use from ... import:**\n",
        "* When you only need specific items from a module.\n",
        "* When you want to write cleaner code by eliminating the need to repeatedly reference the module name.\n",
        "\n",
        "In general, use import when you need the whole module, and use from ... import when you only need a specific function, class, or variable from the module."
      ],
      "metadata": {
        "id": "DNm1HM2264_F"
      }
    },
    {
      "cell_type": "markdown",
      "source": [
        "**Q7. How can you handle multiple exceptions in Python?**"
      ],
      "metadata": {
        "id": "FHSogjaW-Drk"
      }
    },
    {
      "cell_type": "markdown",
      "source": [
        "Ans: In Python, you can handle multiple exceptions in various ways, depending on your specific needs. There are several ways to handle multiple exceptions using the try-except block, allowing you to manage different types of errors effectively.\n",
        "\n",
        "**1. Using Multiple except Clauses:**\n",
        "You can catch different types of exceptions by specifying multiple except blocks. Each except block will handle a specific exception type."
      ],
      "metadata": {
        "id": "9YkMIuGs_Eik"
      }
    },
    {
      "cell_type": "code",
      "source": [
        "try:\n",
        "    x = int(input(\"Enter a number: \"))\n",
        "    result = 10 / x\n",
        "except ValueError:\n",
        "    print(\"That's not a valid number!\")\n",
        "except ZeroDivisionError:\n",
        "    print(\"You can't divide by zero!\")"
      ],
      "metadata": {
        "colab": {
          "base_uri": "https://localhost:8080/"
        },
        "id": "M8oeTjuL_N5b",
        "outputId": "d1a7a620-f67e-494b-e597-01db08e37d6e"
      },
      "execution_count": null,
      "outputs": [
        {
          "output_type": "stream",
          "name": "stdout",
          "text": [
            "Enter a number: 0\n",
            "You can't divide by zero!\n"
          ]
        }
      ]
    },
    {
      "cell_type": "markdown",
      "source": [
        "In this example:\n",
        "\n",
        "* If the user enters something that cannot be converted to an integer, a ValueError will be raised, and the appropriate error message will be printed.\n",
        "* If the user enters 0, a **ZeroDivisionError** will be raised, and a different message will be printed.\n",
        "\n",
        "**2. Catching Multiple Exceptions in a Single except Block:**\n",
        "You can handle multiple exceptions using a single except block by specifying a tuple of exception types. This can be useful if you want to handle different exceptions in the same way."
      ],
      "metadata": {
        "id": "npaM635L_8Zn"
      }
    },
    {
      "cell_type": "code",
      "source": [
        "try:\n",
        "    x = int(input(\"Enter a number: \"))\n",
        "    result = 10 / x\n",
        "except (ValueError, ZeroDivisionError):\n",
        "    print(\"An error occurred: invalid input or division by zero.\")"
      ],
      "metadata": {
        "colab": {
          "base_uri": "https://localhost:8080/"
        },
        "id": "7x4UQBtOApa7",
        "outputId": "465d21e9-60c9-4695-fc60-cbe1ca387d8f"
      },
      "execution_count": null,
      "outputs": [
        {
          "output_type": "stream",
          "name": "stdout",
          "text": [
            "Enter a number: 0\n",
            "An error occurred: invalid input or division by zero.\n"
          ]
        }
      ]
    },
    {
      "cell_type": "markdown",
      "source": [
        "In this example:\n",
        "* Both **ValueError** and **ZeroDivisionError** are handled the same way, with the same error message.\n",
        "\n",
        "**3. Using a Generic except for Catching All Exceptions:**\n",
        "If you're unsure of the specific exceptions that might occur, or if you want to handle all exceptions in a generic way, you can use a general except clause without specifying the exception type."
      ],
      "metadata": {
        "id": "Hu5EEeRVAsg1"
      }
    },
    {
      "cell_type": "code",
      "source": [
        "try:\n",
        "    x = int(input(\"Enter a number: \"))\n",
        "    result = 10 / x\n",
        "except:\n",
        "    print(\"An unexpected error occurred.\")"
      ],
      "metadata": {
        "colab": {
          "base_uri": "https://localhost:8080/"
        },
        "id": "QfwynyJQBJek",
        "outputId": "8457a290-badd-4659-9171-5cbdd0e8093a"
      },
      "execution_count": null,
      "outputs": [
        {
          "output_type": "stream",
          "name": "stdout",
          "text": [
            "Enter a number: 0\n",
            "An unexpected error occurred.\n"
          ]
        }
      ]
    },
    {
      "cell_type": "markdown",
      "source": [
        "**Note:** Using a bare except is generally not recommended because it will catch all exceptions, including system-related exceptions (like KeyboardInterrupt or SystemExit). It's better to catch specific exceptions unless you have a very good reason to catch everything.\n",
        "\n",
        "**4. Using else with try-except:**\n",
        "If no exception is raised in the try block, the code in the else block is executed. This is useful when you want to specify behavior when no exceptions occur."
      ],
      "metadata": {
        "id": "biFENkfKBUDL"
      }
    },
    {
      "cell_type": "code",
      "source": [
        "try:\n",
        "    x = int(input(\"Enter a number: \"))\n",
        "    result = 10 / x\n",
        "except (ValueError, ZeroDivisionError):\n",
        "    print(\"An error occurred.\")\n",
        "else:\n",
        "    print(\"The result is\", result)"
      ],
      "metadata": {
        "colab": {
          "base_uri": "https://localhost:8080/"
        },
        "id": "MJEJHHsSBc7i",
        "outputId": "5a12ba7f-0069-4941-8f65-7b32e6d0ec47"
      },
      "execution_count": null,
      "outputs": [
        {
          "output_type": "stream",
          "name": "stdout",
          "text": [
            "Enter a number: 0\n",
            "An error occurred.\n"
          ]
        }
      ]
    },
    {
      "cell_type": "markdown",
      "source": [
        "In this example:\n",
        "* If the user enters a valid number and no exceptions are raised, the result will be printed.\n",
        "* If an exception occurs, the error message is printed instead.\n",
        "\n",
        "**5. Using finally for Cleanup:**\n",
        "The finally block is used for code that should always be executed, regardless of whether an exception occurs or not. It's typically used for cleanup actions, such as closing files or releasing resources."
      ],
      "metadata": {
        "id": "tD2zPZ0PBh2S"
      }
    },
    {
      "cell_type": "code",
      "source": [
        "try:\n",
        "    x = int(input(\"Enter a number: \"))\n",
        "    result = 10 / x\n",
        "except (ValueError, ZeroDivisionError):\n",
        "    print(\"An error occurred.\")\n",
        "finally:\n",
        "    print(\"Execution completed.\")"
      ],
      "metadata": {
        "colab": {
          "base_uri": "https://localhost:8080/"
        },
        "id": "wYeTx_0uBu-6",
        "outputId": "597f5293-4405-4725-98f6-c61e1fda65e3"
      },
      "execution_count": null,
      "outputs": [
        {
          "output_type": "stream",
          "name": "stdout",
          "text": [
            "Enter a number: 0\n",
            "An error occurred.\n",
            "Execution completed.\n"
          ]
        }
      ]
    },
    {
      "cell_type": "markdown",
      "source": [
        "In this example:\n",
        "* If an exception occurs, the error message is printed.\n",
        "* Regardless of whether an exception occurs or not, \"Execution completed.\" will always be printed.\n",
        "\n",
        "**6. Customizing Exception Handling with as:**\n",
        "You can also capture the exception object to inspect it more closely. This can be useful for logging, debugging, or customizing the error message."
      ],
      "metadata": {
        "id": "G4_pQyMkB0VC"
      }
    },
    {
      "cell_type": "code",
      "source": [
        "try:\n",
        "    x = int(input(\"Enter a number: \"))\n",
        "    result = 10 / x\n",
        "except (ValueError, ZeroDivisionError) as e:\n",
        "    print(f\"An error occurred: {e}\")"
      ],
      "metadata": {
        "colab": {
          "base_uri": "https://localhost:8080/"
        },
        "id": "rkxgdSYWB-y8",
        "outputId": "ed5895b2-eb48-4e86-fd99-741dd34891b3"
      },
      "execution_count": null,
      "outputs": [
        {
          "output_type": "stream",
          "name": "stdout",
          "text": [
            "Enter a number: 0\n",
            "An error occurred: division by zero\n"
          ]
        }
      ]
    },
    {
      "cell_type": "markdown",
      "source": [
        "In this example:\n",
        "* The variable e holds the exception object, which you can use to access more details about the error (e.g., the message associated with the exception).\n",
        "\n",
        "By using these different methods, you can handle multiple exceptions in Python effectively, providing more control over the program's flow and ensuring proper handling of errors."
      ],
      "metadata": {
        "id": "1BWtgvSNB-MS"
      }
    },
    {
      "cell_type": "markdown",
      "source": [
        "**Q8. What is the purpose of the with statement when handling files in Python?**"
      ],
      "metadata": {
        "id": "EtXtgWArCPpD"
      }
    },
    {
      "cell_type": "markdown",
      "source": [
        "**Ans:** The use of the with statement in Python makes working with resources such as files easier. The resources get properly managed and cleaned up regardless of whether an exception occurs or not. For file operations, the with statement closes the file automatically when operations on the file get completed. Such action minimizes resource leaks and improves the legibility and maintenance of the codes.\n",
        "\n",
        "**Key Benefits of Using the with Statement:**\n",
        "**1. Automatic Resource Management:** Ensures that the file is properly closed after its suite finishes, even if an exception is raised.\n",
        "\n",
        "**2. Cleaner Syntax:** Simplifies the code by removing the need for explicit try and finally blocks.\n",
        "\n",
        "**3. Error Handling:** Makes the code more robust by handling exceptions automatically and ensuring that resources are released properly.\n",
        "\n",
        "**Syntax and Example:**"
      ],
      "metadata": {
        "id": "ziH79PvQC_wi"
      }
    },
    {
      "cell_type": "code",
      "source": [
        "# Opening and reading a file using the with statement\n",
        "with open('example.txt', 'r') as file:\n",
        "    content = file.read()\n",
        "    print(content)"
      ],
      "metadata": {
        "id": "E1RnCwC1D3kp"
      },
      "execution_count": null,
      "outputs": []
    },
    {
      "cell_type": "markdown",
      "source": [
        "**Explanation:**\n",
        "* **Opening the File:** The with open('example.txt', 'r') as file: statement opens the file in read mode and assigns the file object to the variable file.\n",
        "\n",
        "* **Reading the File:** The file.read() method reads the content of the file.\n",
        "\n",
        "* **Automatic Closure:** When the block inside the with statement is exited (either after the block's code has executed or if an exception occurs), the file is automatically closed.\n",
        "\n",
        "**Without the with Statement:**\n",
        "Here’s the equivalent code without using the with statement, which requires more explicit handling:"
      ],
      "metadata": {
        "id": "O62yFzjJD76R"
      }
    },
    {
      "cell_type": "code",
      "source": [
        "file = open('example.txt', 'r')\n",
        "try:\n",
        "    content = file.read()\n",
        "    print(content)\n",
        "finally:\n",
        "    file.close()"
      ],
      "metadata": {
        "id": "pwY0do2rEOb1"
      },
      "execution_count": null,
      "outputs": []
    },
    {
      "cell_type": "markdown",
      "source": [
        "In this example:\n",
        "\n",
        "* The finally block ensures that the file is closed, but it requires additional lines of code compared to using the with statement.\n",
        "\n",
        "Using the with statement makes the code more concise, readable, and less error-prone. It’s a best practice in Python to use the with statement for resource management, especially when dealing with files."
      ],
      "metadata": {
        "id": "Ga1DGuczESOK"
      }
    },
    {
      "cell_type": "markdown",
      "source": [
        "**Q9. What is the difference between multithreading and multiprocessing?**"
      ],
      "metadata": {
        "id": "yKC9ZnkKEaZp"
      }
    },
    {
      "cell_type": "markdown",
      "source": [
        "**Ans:** Multithreading and multiprocessing are both techniques used in Python (and other programming languages) for achieving concurrency, which allows tasks to be executed simultaneously. However, they differ in how they handle tasks and how resources are utilized, which affects their performance and use cases.\n",
        "\n",
        "**Multithreading**\n",
        "\n",
        "Multithreading is a technique where multiple threads (smaller units of a process) are created within a single process. These threads share the same memory space, which allows for efficient communication between them. However, threads in the same process are subject to the Global Interpreter Lock (GIL) in Python, which limits their ability to execute in parallel on multiple CPU cores.\n",
        "\n",
        "**Characteristics of Multithreading:**\n",
        "* **Shared Memory:** All threads within the same process share the same memory space. This can be beneficial for tasks that require frequent communication or data sharing between threads.\n",
        "* **GIL (Global Interpreter Lock):** In CPython (the standard Python implementation), the GIL restricts the ability of multiple threads to execute Python bytecode in parallel. This means that, while threads can run concurrently (i.e., one thread can run while another is waiting for I/O), only one thread can execute Python bytecode at a time.\n",
        "* **Best for I/O-bound tasks:** Due to the GIL, multithreading is most effective for tasks that are I/O-bound (e.g., reading files, network communication) rather than CPU-bound tasks (e.g., heavy computation).\n",
        "* **Overhead:** Since threads share memory space, they have less overhead in terms of memory usage compared to processes. However, managing multiple threads can still involve complexity, especially with issues like thread synchronization (e.g., using locks).\n",
        "\n",
        "**Example of Multithreading in Python:**"
      ],
      "metadata": {
        "id": "fbHcyt-2Ees5"
      }
    },
    {
      "cell_type": "code",
      "source": [
        "import threading\n",
        "import time\n",
        "\n",
        "def print_numbers():\n",
        "    for i in range(1, 6):\n",
        "        print(i)\n",
        "        time.sleep(1)\n",
        "\n",
        "def print_letters():\n",
        "    for letter in 'ABCDE':\n",
        "        print(letter)\n",
        "        time.sleep(1)\n",
        "\n",
        "# Creating two threads\n",
        "thread1 = threading.Thread(target=print_numbers)\n",
        "thread2 = threading.Thread(target=print_letters)\n",
        "\n",
        "# Starting the threads\n",
        "thread1.start()\n",
        "thread2.start()\n",
        "\n",
        "# Joining the threads to wait for them to finish\n",
        "thread1.join()\n",
        "thread2.join()\n",
        "\n",
        "print(\"Both threads have finished.\")"
      ],
      "metadata": {
        "colab": {
          "base_uri": "https://localhost:8080/"
        },
        "id": "DWgj_f17FajB",
        "outputId": "3b8df43f-fb12-425d-9cd8-7ca45c417d79"
      },
      "execution_count": null,
      "outputs": [
        {
          "output_type": "stream",
          "name": "stdout",
          "text": [
            "1\n",
            "A\n",
            "2\n",
            "B\n",
            "3\n",
            "C\n",
            "4\n",
            "D\n",
            "5\n",
            "E\n",
            "Both threads have finished.\n"
          ]
        }
      ]
    },
    {
      "cell_type": "markdown",
      "source": [
        "**Multiprocessing:**\n",
        "\n",
        "Multiprocessing involves creating multiple processes, each with its own memory space and Python interpreter. This means that each process can run independently on different CPU cores, allowing true parallelism in Python.\n",
        "\n",
        "**Characteristics of Multiprocessing:**\n",
        "* **Separate Memory:** Each process has its own memory space, so there is no sharing of memory between processes unless explicitly done via inter-process communication mechanisms (e.g., queues or pipes).\n",
        "* **True Parallelism:** Since each process has its own Python interpreter and memory space, multiple processes can run simultaneously on different CPU cores. This allows for true parallel execution, bypassing the GIL.\n",
        "* **Best for CPU-bound tasks:** Multiprocessing is more effective for CPU-bound tasks (e.g., complex computations, data processing) where the task requires significant CPU power.\n",
        "* **Overhead:** Each process has its own memory space, which can lead to higher memory usage compared to multithreading. Creating processes also incurs more overhead due to the need to spawn new operating system processes.\n",
        "* **Communication between processes:** Since processes don't share memory, inter-process communication (IPC) can be more complex and require special mechanisms like queues or shared memory.\n",
        "\n",
        "**Example of Multiprocessing in Python:**"
      ],
      "metadata": {
        "id": "6g5ynoCxFfQj"
      }
    },
    {
      "cell_type": "code",
      "source": [
        "import multiprocessing\n",
        "import time\n",
        "\n",
        "def print_numbers():\n",
        "    for i in range(1, 6):\n",
        "        print(i)\n",
        "        time.sleep(1)\n",
        "\n",
        "def print_letters():\n",
        "    for letter in 'ABCDE':\n",
        "        print(letter)\n",
        "        time.sleep(1)\n",
        "\n",
        "# Creating two processes\n",
        "process1 = multiprocessing.Process(target=print_numbers)\n",
        "process2 = multiprocessing.Process(target=print_letters)\n",
        "\n",
        "# Starting the processes\n",
        "process1.start()\n",
        "process2.start()\n",
        "\n",
        "# Joining the processes to wait for them to finish\n",
        "process1.join()\n",
        "process2.join()\n",
        "\n",
        "print(\"Both processes have finished.\")"
      ],
      "metadata": {
        "colab": {
          "base_uri": "https://localhost:8080/"
        },
        "id": "b9PsuAQzGBnx",
        "outputId": "aabaf397-6322-44a4-8c9d-74ebc46726c1"
      },
      "execution_count": null,
      "outputs": [
        {
          "output_type": "stream",
          "name": "stdout",
          "text": [
            "1\n",
            "A\n",
            "2\n",
            "B\n",
            "3\n",
            "C\n",
            "4\n",
            "D\n",
            "5\n",
            "E\n",
            "Both processes have finished.\n"
          ]
        }
      ]
    },
    {
      "cell_type": "markdown",
      "source": [
        "**Q10. What are the advantages of using logging in a program?**"
      ],
      "metadata": {
        "id": "CpvIQrfdGLMR"
      }
    },
    {
      "cell_type": "markdown",
      "source": [
        "**Ans:** Using logging in a program provides numerous advantages that can significantly enhance the development, maintenance, and debugging processes.\n",
        "Here are some key benefits:\n",
        "\n",
        "**Advantages of Using Logging:**\n",
        "\n",
        "**1. Debugging and Error Tracking:**\n",
        "\n",
        "* Detailed Insights: Logs provide detailed information about the program's execution flow, making it easier to identify and fix bugs.\n",
        "* Historical Record: Logs can capture historical data that can be reviewed later to understand what went wrong and why.\n",
        "\n",
        "**2. Monitoring and Diagnostics:**\n",
        "\n",
        "* Real-Time Monitoring: Logs can be monitored in real-time to track the health and performance of an application.\n",
        "* Performance Metrics: Logging can capture performance metrics, helping to identify bottlenecks and optimize the application's performance.\n",
        "\n",
        "**3. Audit Trails:**\n",
        "\n",
        "* Security and Compliance: Logs provide an audit trail of user activities, which is essential for security audits and regulatory compliance.\n",
        "* Accountability: Logs can track changes and actions taken by different users, promoting accountability.\n",
        "\n",
        "**4. Data Analysis:**\n",
        "\n",
        "* Trend Analysis: Logs can be analyzed to identify trends, usage patterns, and potential issues before they become critical.\n",
        "* Predictive Maintenance: By analyzing logs, you can predict and prevent future problems, improving system reliability.\n",
        "\n",
        "**5. Error Handling and Recovery:**\n",
        "* Graceful Degradation: Logs can help in handling errors more gracefully by providing fallback mechanisms and detailed error reports.\n",
        "* Automatic Alerts: Logs can trigger alerts for specific events, allowing for timely intervention and recovery.\n",
        "\n",
        "**6. Communication:**\n",
        "* Developer Collaboration: Logs serve as a communication tool among developers, providing insights into what different parts of the code are doing.\n",
        "* Customer Support: Logs can help support teams diagnose issues reported by users, leading to faster resolution times.\n",
        "\n",
        "**7. Documentation:**\n",
        "* Operational Understanding: Logs act as a form of documentation, providing insights into how the application operates and its current state.\n",
        "* Learning Tool: For new developers or team members, logs can be a valuable learning tool to understand the application's behavior.\n",
        "\n",
        "**Example of Logging in Python:**\n"
      ],
      "metadata": {
        "id": "eb0SCihyGPkB"
      }
    },
    {
      "cell_type": "code",
      "source": [
        "import logging\n",
        "\n",
        "# Configure the logging\n",
        "logging.basicConfig(level=logging.INFO, format='%(asctime)s - %(levelname)s - %(message)s')\n",
        "\n",
        "# Create a logger\n",
        "logger = logging.getLogger()\n",
        "\n",
        "# Log messages of different severity levels\n",
        "logger.debug(\"This is a debug message\")\n",
        "logger.info(\"This is an info message\")\n",
        "logger.warning(\"This is a warning message\")\n",
        "logger.error(\"This is an error message\")\n",
        "logger.critical(\"This is a critical message\")"
      ],
      "metadata": {
        "colab": {
          "base_uri": "https://localhost:8080/"
        },
        "id": "G2Gj2nylHlzq",
        "outputId": "00390578-fe62-499e-8b39-a470a52faed7"
      },
      "execution_count": null,
      "outputs": [
        {
          "output_type": "stream",
          "name": "stderr",
          "text": [
            "WARNING:root:This is a warning message\n",
            "ERROR:root:This is an error message\n",
            "CRITICAL:root:This is a critical message\n"
          ]
        }
      ]
    },
    {
      "cell_type": "markdown",
      "source": [
        "**Summary:** Logging is a powerful tool that enhances the visibility, reliability, and maintainability of your applications. It helps in understanding the program's behavior, identifying issues, and ensuring that the application runs smoothly. By incorporating logging into your development process, you can create more robust and user-friendly applications."
      ],
      "metadata": {
        "id": "E4W5KzcpHqeY"
      }
    },
    {
      "cell_type": "markdown",
      "source": [
        "**Q11. What is memory management in Python?**"
      ],
      "metadata": {
        "id": "bPTUYKdqHy0Z"
      }
    },
    {
      "cell_type": "markdown",
      "source": [
        "Ans: Memory management in Python consists of memory usage, allocation, and deallocation in the system programs. Python automatically performs the process of memory management. The automatic memory management includes garbage collection, dynamic memory allocation, which minimizes and optimizes memory usage without involving the hand of a programmer.\n",
        "\n",
        "**Key Aspects of Memory Management in Python:**\n",
        "**1. Memory Allocation:**\n",
        "* Python allocates memory for variables and data structures dynamically, which means memory is allocated as needed during program execution.\n",
        "* The Python memory manager handles the allocation of memory for Python objects, including integers, strings, lists, dictionaries, and custom objects.\n",
        "\n",
        "**2. Garbage Collection:**\n",
        "* Python uses a built-in garbage collector to reclaim memory that is no longer in use. This helps prevent memory leaks, where memory is allocated but never freed.\n",
        "* The garbage collector uses reference counting and cyclic garbage collection to manage memory.\n",
        "\n",
        "**3. Reference Counting:**\n",
        "* Each object in Python has an associated reference count, which keeps track of the number of references pointing to that object.\n",
        "* When an object's reference count drops to zero (i.e., no references are pointing to it), the memory occupied by the object can be deallocated.\n",
        "* Reference counting is a primary mechanism used by Python to manage memory.\n",
        "\n",
        "**4. Cyclic Garbage Collection:**\n",
        "* Reference counting alone cannot handle cyclic references (i.e., objects referencing each other, forming a cycle).\n",
        "* Python's garbage collector periodically detects and collects cyclic references, freeing memory occupied by objects involved in reference cycles.\n",
        "\n",
        "**5. Memory Pools and Arenas:**\n",
        "* Python uses memory pools and arenas to manage small objects efficiently.\n",
        "* Objects of the same size are allocated from memory pools, which reduces fragmentation and improves performance.\n",
        "* Memory pools are managed within larger memory blocks called arenas.\n",
        "\n",
        "**Example of Memory Management in Python:**"
      ],
      "metadata": {
        "id": "F0qST7PpH20p"
      }
    },
    {
      "cell_type": "code",
      "source": [
        "# Example of dynamic memory allocation\n",
        "a = [1, 2, 3, 4, 5]  # Memory is dynamically allocated for the list\n",
        "\n",
        "# Example of automatic garbage collection\n",
        "b = a                # Reference count of the list increases\n",
        "del a                # Reference count of the list decreases\n",
        "# If reference count drops to zero, the memory is deallocated\n",
        "\n",
        "# Example of cyclic reference\n",
        "class Node:\n",
        "    def __init__(self, value):\n",
        "        self.value = value\n",
        "        self.next = None\n",
        "\n",
        "node1 = Node(1)\n",
        "node2 = Node(2)\n",
        "node1.next = node2\n",
        "node2.next = node1  # Cyclic reference\n",
        "\n",
        "# Garbage collector will eventually detect and collect the cyclic reference"
      ],
      "metadata": {
        "id": "CF6j0eeJI22w"
      },
      "execution_count": null,
      "outputs": []
    },
    {
      "cell_type": "markdown",
      "source": [
        "**Conclusion:** Memory management in Python ensures efficient use of memory resources through dynamic allocation, automatic garbage collection, reference counting, and cyclic garbage collection. This helps maintain the stability and performance of Python applications without requiring manual memory management by the programmer."
      ],
      "metadata": {
        "id": "8g3Xg5XYJEGg"
      }
    },
    {
      "cell_type": "markdown",
      "source": [
        "**Q12. What are the basic steps involved in exception handling in Python?**"
      ],
      "metadata": {
        "id": "0C5cSCwyJLD_"
      }
    },
    {
      "cell_type": "markdown",
      "source": [
        "Ans: Exception handling in Python involves several basic steps to ensure that errors are managed gracefully and the program can continue running or exit cleanly. Here are the fundamental steps:\n",
        "\n",
        "**1. Try Block:**\n",
        "* The code that might raise an exception is placed inside a try block.\n",
        "* The try block allows you to test a block of code for errors.\n",
        "         \n",
        "                   try:\n",
        "                       # Code that might raise an exception\n",
        "                       result = 10 / 0\n",
        "\n",
        "**2. Except Block:**\n",
        "* If an error occurs in the try block, the code in the except block is executed.\n",
        "* You can specify the type of exception to handle multiple types of errors differently.\n",
        "\n",
        "            except ZeroDivisionError:\n",
        "                  # Code that runs if a ZeroDivisionError is encountered\n",
        "                  print(\"You can't divide by zero!\")\n",
        "\n",
        "**3. Else Block:**\n",
        "* The else block runs if no exceptions are raised in the try block.\n",
        "* This is useful for code that should only execute if no errors occurred.\n",
        "\n",
        "          else:\n",
        "               # Code that runs if no exceptions are raised\n",
        "               print(\"Division successful:\", result)\n",
        "\n",
        "**4. Finally Block:**\n",
        "* The finally block contains code that will always execute, regardless of whether an exception was raised or not.\n",
        "* This is typically used for cleanup actions, such as closing files or releasing resources.\n",
        "\n",
        "                finally:\n",
        "                   # Code that always runs\n",
        "                   print(\"Execution completed.\")\n",
        "\n",
        "**Example:**\n",
        "\n"
      ],
      "metadata": {
        "id": "12ellmZzJbcU"
      }
    },
    {
      "cell_type": "code",
      "source": [
        "try:\n",
        "    num = int(input(\"Enter a number: \"))\n",
        "    result = 10 / num\n",
        "except ZeroDivisionError:\n",
        "    print(\"You can't divide by zero!\")\n",
        "except ValueError:\n",
        "    print(\"Invalid value provided. Please enter a valid number.\")\n",
        "else:\n",
        "    print(\"Division successful:\", result)\n",
        "finally:\n",
        "    print(\"Execution completed.\")"
      ],
      "metadata": {
        "colab": {
          "base_uri": "https://localhost:8080/"
        },
        "id": "YnvFYKUnK3hY",
        "outputId": "705f1865-76e0-48bc-859b-f657a94fad3b"
      },
      "execution_count": null,
      "outputs": [
        {
          "output_type": "stream",
          "name": "stdout",
          "text": [
            "Enter a number: 0\n",
            "You can't divide by zero!\n",
            "Execution completed.\n"
          ]
        }
      ]
    },
    {
      "cell_type": "markdown",
      "source": [
        "**Explanation:**\n",
        "1. **Try Block:** Attempts to convert input to an integer and perform division.\n",
        "2. **Except Blocks:** Handles specific exceptions:\n",
        "3. **ZeroDivisionError:** Occurs if the user enters 0.\n",
        "4. **ValueError:** Occurs if the user enters a non-integer value.\n",
        "5. **Else Block:** Runs if no exceptions are raised, printing the result of the division.\n",
        "6. **Finally Block:** Always executes, indicating the end of the execution process.\n",
        "\n",
        "This structure helps ensure that your program can handle errors gracefully, provide meaningful error messages to the user, and perform necessary cleanup tasks."
      ],
      "metadata": {
        "id": "a-t-imcEK8PI"
      }
    },
    {
      "cell_type": "markdown",
      "source": [
        "**Q13. Why is memory management important in Python?**"
      ],
      "metadata": {
        "id": "uLSc1HVULQKg"
      }
    },
    {
      "cell_type": "markdown",
      "source": [
        "**Ans:** Memory management is a critical aspect of any programming language, including Python, for several reasons:\n",
        "\n",
        "**1. Efficient Resource Utilization:**\n",
        "* **Optimal Performance:** Proper memory management ensures that the available memory resources are used efficiently, leading to better performance of the application.\n",
        "* **Preventing Memory Leaks:** Without efficient memory management, memory leaks can occur, where memory is allocated but never released, eventually exhausting the available memory.\n",
        "\n",
        "**2. Stability and Reliability:**\n",
        "* **Avoiding Crashes:** Memory mismanagement can lead to application crashes, instability, or unexpected behavior. By managing memory effectively, applications can run more reliably and predictably.\n",
        "* **Consistent Behavior:** Ensures consistent behavior across different systems and under varying loads by managing memory in a controlled manner.\n",
        "\n",
        "**3. Automatic Memory Management:**\n",
        "* **Garbage Collection:** Python's automatic garbage collection mechanism helps in reclaiming memory occupied by objects that are no longer in use, thus preventing memory leaks and managing memory efficiently.\n",
        "* **Reference Counting:** Python's memory manager uses reference counting to keep track of the number of references to an object. When the reference count drops to zero, the memory occupied by the object can be deallocated.\n",
        "\n",
        "**4. Developer Productivity:**\n",
        "* **Focus on Logic:** Python's automatic memory management allows developers to focus on the logic of their applications rather than worrying about manually allocating and deallocating memory.\n",
        "* **Simplified Development:** Simplifies development by providing mechanisms to manage memory automatically, reducing the chances of memory-related bugs.\n",
        "\n",
        "**5. Resource Management:**\n",
        "* **Efficient Resource Use:** Proper memory management ensures that resources such as file handles, network connections, and other system resources are managed efficiently and released appropriately.\n",
        "* **Cleanup and Finalization:** Ensures that resources are properly cleaned up and finalized when they are no longer needed.\n",
        "\n",
        "**Example:**\n",
        "Here’s a simple example to illustrate how memory management helps prevent memory leaks and ensures efficient resource use:\n"
      ],
      "metadata": {
        "id": "aovyusp8LVAQ"
      }
    },
    {
      "cell_type": "code",
      "source": [
        "class MyClass:\n",
        "    def __init__(self, name):\n",
        "        self.name = name\n",
        "        print(f\"Object {self.name} created.\")\n",
        "\n",
        "    def __del__(self):\n",
        "        print(f\"Object {self.name} destroyed.\")\n",
        "\n",
        "# Creating an instance of MyClass\n",
        "obj = MyClass(\"A\")\n",
        "\n",
        "# Deleting the object\n",
        "del obj"
      ],
      "metadata": {
        "colab": {
          "base_uri": "https://localhost:8080/"
        },
        "id": "RPgKudSKMElI",
        "outputId": "b20d2b7a-2a30-4a9c-f9e0-2adefec723f0"
      },
      "execution_count": null,
      "outputs": [
        {
          "output_type": "stream",
          "name": "stdout",
          "text": [
            "Object A created.\n",
            "Object A destroyed.\n"
          ]
        }
      ]
    },
    {
      "cell_type": "markdown",
      "source": [
        "In this example:\n",
        "* The **__** **init__** method creates an object and allocates memory for it.\n",
        "* The **__** **del__** method is called when the object is destroyed, releasing the memory occupied by the object.\n",
        "\n",
        "By handling **memory management** effectively, Python ensures that resources are used efficiently, applications run reliably, and developers can focus on building robust applications without worrying about low-level memory details."
      ],
      "metadata": {
        "id": "QrsIUNqOMIsy"
      }
    },
    {
      "cell_type": "markdown",
      "source": [
        "**Q14. What is the role of try and except in exception handling?**"
      ],
      "metadata": {
        "id": "yRNlv42fMQMy"
      }
    },
    {
      "cell_type": "markdown",
      "source": [
        "**Ans:** The try and except blocks play crucial roles in Python's exception handling mechanism, allowing you to manage errors and exceptions gracefully. Here's how they work and their roles:\n",
        "\n",
        "**Try Block:**\n",
        "The try block is used to wrap the code that might raise an exception. It allows you to test a block of code for errors.\n",
        "\n",
        "**Role of the try block:**\n",
        "\n",
        "**1.Code Testing:** Encloses the code that you want to test for potential errors.\n",
        "\n",
        "**2. Error Isolation:** Isolates the error-prone code from the rest of the program to handle exceptions without crashing the entire program.\n",
        "\n",
        "**Except Block:**\n",
        "The except block is used to catch and handle exceptions that occur within the try block. You can specify different except blocks for different types of exceptions.\n",
        "\n",
        "**Role of the except block:**\n",
        "\n",
        "**1. Error Handling:** Catches specific exceptions and executes the code to handle those exceptions.\n",
        "\n",
        "**2. Error Reporting:** Can be used to log, print, or take corrective actions based on the exception.\n",
        "\n",
        "**3. Program Continuation:** Allows the program to continue running even after an error has occurred, instead of terminating unexpectedly.\n",
        "\n",
        "**Example:**\n",
        "Here's a simple example to illustrate the use of **try** and **except** blocks:"
      ],
      "metadata": {
        "id": "Qt88ASZPMXXY"
      }
    },
    {
      "cell_type": "code",
      "source": [
        "try:\n",
        "    # Code that might raise an exception\n",
        "    result = 10 / int(input(\"Enter a number: \"))\n",
        "except ZeroDivisionError:\n",
        "    # Code that runs if a ZeroDivisionError is encountered\n",
        "    print(\"You can't divide by zero!\")\n",
        "except ValueError:\n",
        "    # Code that runs if a ValueError is encountered\n",
        "    print(\"Invalid value provided. Please enter a valid number.\")"
      ],
      "metadata": {
        "colab": {
          "base_uri": "https://localhost:8080/"
        },
        "id": "lQB3D7v8M-8f",
        "outputId": "5242b57b-c7e9-4395-c287-694a36517ab4"
      },
      "execution_count": null,
      "outputs": [
        {
          "output_type": "stream",
          "name": "stdout",
          "text": [
            "Enter a number: 0\n",
            "You can't divide by zero!\n"
          ]
        }
      ]
    },
    {
      "cell_type": "markdown",
      "source": [
        "**Explanation:**\n",
        "1. **Try Block:** Contains code that attempts to perform a division operation, which might raise exceptions.\n",
        "\n",
        "2. **Except Blocks:** Handles specific exceptions:\n",
        "\n",
        "* **ZeroDivisionError:** Handles the case when the user tries to divide by zero.\n",
        "\n",
        "* **ValueError:** Handles the case when the user provides an invalid input (e.g., non-integer).\n",
        "\n",
        "By using try and except blocks, you can make your programs more robust and user-friendly, as they can handle errors gracefully and provide meaningful feedback to the user."
      ],
      "metadata": {
        "id": "qD1kuvZPNVkA"
      }
    },
    {
      "cell_type": "markdown",
      "source": [
        "**Q15. How does Python's garbage collection system work?**"
      ],
      "metadata": {
        "id": "AvHryFbuNg1Y"
      }
    },
    {
      "cell_type": "markdown",
      "source": [
        "**Ans:** Python's garbage collection system is an automatic memory management feature that ensures unused and unreachable objects are identified and their memory is reclaimed. This process helps prevent memory leaks and optimizes the use of available memory.\n",
        "\n",
        "**Key Components of Python's Garbage Collection System:**\n",
        "\n",
        "**1. Reference Counting:**\n",
        "* **Mechanism:** Every object in Python maintains a reference count, which tracks how many references point to that object.\n",
        "* **Incrementing:** The reference count increases when a new reference to the object is created.\n",
        "* **Decrementing:** The reference count decreases when a reference to the object is deleted or goes out of scope.\n",
        "* **Deallocation:** When an object's reference count drops to zero, it becomes unreachable, and its memory can be deallocated."
      ],
      "metadata": {
        "id": "70L7X5IHNrUP"
      }
    },
    {
      "cell_type": "code",
      "source": [
        "a = [1, 2, 3]\n",
        "b = a  # Reference count of the list object is now 2\n",
        "del a  # Reference count of the list object is now 1\n",
        "del b  # Reference count of the list object is now 0, memory is deallocated"
      ],
      "metadata": {
        "id": "pvqXM0LpOaPm"
      },
      "execution_count": null,
      "outputs": []
    },
    {
      "cell_type": "markdown",
      "source": [
        "**2. Cyclic Garbage Collection:**\n",
        "* **Limitation of Reference Counting:** Reference counting alone cannot handle cyclic references, where objects reference each other, forming a cycle.\n",
        "* **Cycle Detection:** Python's garbage collector periodically detects and collects cyclic references.\n",
        "* **Generational Collection**: The garbage collector categorizes objects into three generations based on their lifespan:\n",
        "    * **Generation 0:** Newly created objects.\n",
        "    * **Generation 1:** Objects that survived one garbage collection.\n",
        "    * **Generation 2:** Objects that survived multiple garbage collections.\n",
        "* **Efficiency:** Younger generations are collected more frequently than older ones, based on the assumption that most objects die young."
      ],
      "metadata": {
        "id": "cq8NraY3Ocvf"
      }
    },
    {
      "cell_type": "code",
      "source": [
        "# Example:\n",
        "class Node:\n",
        "    def __init__(self, value):\n",
        "        self.value = value\n",
        "        self.next = None\n",
        "\n",
        "node1 = Node(1)\n",
        "node2 = Node(2)\n",
        "node1.next = node2\n",
        "node2.next = node1  # Cyclic reference\n",
        "\n",
        "# Garbage collector will eventually detect and collect the cyclic reference"
      ],
      "metadata": {
        "id": "5nG5CN39O67u"
      },
      "execution_count": null,
      "outputs": []
    },
    {
      "cell_type": "markdown",
      "source": [
        "**3. Managing Garbage Collection:**\n",
        "* **Manual Control:** While Python's garbage collection is automatic, you can manually control it using the gc module.\n",
        "* **Disabling Garbage Collection:** You can disable garbage collection for performance reasons or specific use cases.\n",
        "* **Running Garbage Collection:** You can explicitly trigger garbage collection if needed."
      ],
      "metadata": {
        "id": "P-E8bwqDPCrH"
      }
    },
    {
      "cell_type": "code",
      "source": [
        "# Example of gc:\n",
        "import gc\n",
        "\n",
        "# Disable automatic garbage collection\n",
        "gc.disable()\n",
        "\n",
        "# Manually run garbage collection\n",
        "gc.collect()\n",
        "\n",
        "# Enable automatic garbage collection\n",
        "gc.enable()"
      ],
      "metadata": {
        "id": "qqgYRSktPK1u"
      },
      "execution_count": null,
      "outputs": []
    },
    {
      "cell_type": "markdown",
      "source": [
        "In general, Python's garbage collection system, combining reference counting and cyclic garbage collection, helps efficiently manage memory by automatically reclaiming memory from unused objects. This system enhances the stability and performance of Python applications while reducing the need for manual memory management."
      ],
      "metadata": {
        "id": "M6rWDx3ePSzm"
      }
    },
    {
      "cell_type": "markdown",
      "source": [
        "**Q16. What is the purpose of the else block in exception handling?**"
      ],
      "metadata": {
        "id": "KgZNd84DPVM1"
      }
    },
    {
      "cell_type": "markdown",
      "source": [
        "Ans: In Python's exception handling, the else block is an optional part of the try-except construct that executes only if no exceptions are raised in the try block. Its main purpose is to provide a place for code that should run if the try block executes successfully without encountering any exceptions.\n",
        "\n",
        "**Purpose and Benefits of the else Block:**\n",
        "\n",
        "**1. Separation of Concerns:**\n",
        "* **Clear Structure:** The else block helps separate the code that runs when there are no exceptions from the code that handles exceptions, making the code structure clearer and more readable.\n",
        "* **Logical Flow:** It allows for a logical flow of operations, where you handle exceptions first and then execute additional code if everything in the try block succeeds.\n",
        "\n",
        "**2. Optimization:**\n",
        "* **Efficiency:** By placing code that should only run when no exceptions occur in the else block, you avoid unnecessary checks and make your code more efficient.\n",
        "\n",
        "**Example Usage:**"
      ],
      "metadata": {
        "id": "xlSZAhEsPs3W"
      }
    },
    {
      "cell_type": "code",
      "source": [
        "try:\n",
        "    num = int(input(\"Enter a number: \"))\n",
        "    result = 10 / num\n",
        "except ZeroDivisionError:\n",
        "    print(\"You can't divide by zero!\")\n",
        "except ValueError:\n",
        "    print(\"Invalid value provided. Please enter a valid number.\")\n",
        "else:\n",
        "    print(f\"Division successful: {result}\")\n",
        "finally:\n",
        "    print(\"Execution completed.\")"
      ],
      "metadata": {
        "colab": {
          "base_uri": "https://localhost:8080/"
        },
        "id": "KS3HZvYZP7bm",
        "outputId": "4133323c-fe5a-44b5-ccbc-9a16061415bc"
      },
      "execution_count": null,
      "outputs": [
        {
          "output_type": "stream",
          "name": "stdout",
          "text": [
            "Enter a number: five\n",
            "Invalid value provided. Please enter a valid number.\n",
            "Execution completed.\n"
          ]
        }
      ]
    },
    {
      "cell_type": "markdown",
      "source": [
        "**Explanation:**\n",
        "* **Try Block:** Attempts to convert user input to an integer and perform a division.\n",
        "* **Except Blocks:** Handles specific exceptions:\n",
        "   * **ZeroDivisionError:** Catches division by zero.\n",
        "   * **ValueError:** Catches invalid input.\n",
        "* **Else Block:** Runs if no exceptions are raised in the try block, printing the result of the division.\n",
        "* **Finally Block:** Always executes, indicating the end of the execution process.\n",
        "\n",
        "The else block is a useful feature that enhances the clarity and efficiency of your exception handling code."
      ],
      "metadata": {
        "id": "yJdVAJvGQG1f"
      }
    },
    {
      "cell_type": "markdown",
      "source": [
        "**Q17.  What are the common logging levels in Python?**"
      ],
      "metadata": {
        "id": "5fEr2PdrQiwW"
      }
    },
    {
      "cell_type": "markdown",
      "source": [
        "**Ans:** In Python, the logging module provides several predefined logging levels to indicate the severity of events. These levels help categorize log messages and determine which messages should be processed based on their importance. Here are the common logging levels, listed from the lowest to the highest severity:\n",
        "\n",
        "**1. DEBUG:**\n",
        "* **Description:** Detailed information, typically of interest only when diagnosing problems.\n",
        "* **Usage:** Used for debugging purposes to understand the program's internal state.\n",
        "* **Example:** logging.debug(\"This is a debug message.\")\n",
        "\n",
        "**2. INFO:**\n",
        "* **Description:** Confirmation that things are working as expected.\n",
        "* **Usage:** Used to inform about general events or milestones in the program's execution.\n",
        "* **Example:** logging.info(\"This is an info message.\")\n",
        "\n",
        "**3. WARNING:**\n",
        "* **Description:** An indication that something unexpected happened or indicative of some problem in the near future (e.g., 'disk space low'). The software is still working as expected.\n",
        "* **Usage:** Used to indicate potential issues that are not necessarily errors.\n",
        "* **Example:** logging.warning(\"This is a warning message.\")\n",
        "\n",
        "**4. ERROR:**\n",
        "* **Description:** Due to a more serious problem, the software has not been able to perform some function.\n",
        "* **Usage:** Used to log errors that cause the program to fail to perform a function.\n",
        "* **Example:** logging.error(\"This is an error message.\")\n",
        "\n",
        "**5. CRITICAL:**\n",
        "* **Description:** A very serious error, indicating that the program itself may be unable to continue running.\n",
        "* **Usage:** Used for serious errors that may result in program termination.\n",
        "* **Example:** logging.critical(\"This is a critical message.\")\n",
        "\n",
        "**Example of Logging in Python:**"
      ],
      "metadata": {
        "id": "wstbgDMzQnpW"
      }
    },
    {
      "cell_type": "code",
      "source": [
        "import logging\n",
        "\n",
        "# Configure the logging\n",
        "logging.basicConfig(level=logging.DEBUG, format='%(asctime)s - %(levelname)s - %(message)s')\n",
        "\n",
        "# Create a logger\n",
        "logger = logging.getLogger()\n",
        "\n",
        "# Log messages of different severity levels\n",
        "logger.debug(\"This is a debug message.\")\n",
        "logger.info(\"This is an info message.\")\n",
        "logger.warning(\"This is a warning message.\")\n",
        "logger.error(\"This is an error message.\")\n",
        "logger.critical(\"This is a critical message.\")"
      ],
      "metadata": {
        "colab": {
          "base_uri": "https://localhost:8080/"
        },
        "id": "EeaRuyTaReAW",
        "outputId": "69aa84c6-1cb4-4874-d9ca-b3cd619665e4"
      },
      "execution_count": null,
      "outputs": [
        {
          "output_type": "stream",
          "name": "stderr",
          "text": [
            "WARNING:root:This is a warning message.\n",
            "ERROR:root:This is an error message.\n",
            "CRITICAL:root:This is a critical message.\n"
          ]
        }
      ]
    },
    {
      "cell_type": "markdown",
      "source": [
        "In this example:\n",
        "* **Logging Configuration:** **logging.basicConfig** is used to configure the logging system, setting the log level and format.\n",
        "* **Logger Creation:** **logging.getLogger()** creates a logger object.\n",
        "* **Logging Messages:** Various logging methods (**debug, info, warning, error**, **critical**) log messages with different severity levels.\n",
        "\n",
        "These logging levels allow you to filter log messages based on their importance, helping you focus on the most critical information and maintain an efficient logging system."
      ],
      "metadata": {
        "id": "1H-pN4TgRi7W"
      }
    },
    {
      "cell_type": "markdown",
      "source": [
        "**Q18. What is the difference between os.fork() and multiprocessing in Python?**"
      ],
      "metadata": {
        "id": "w2kWKx6RSbrd"
      }
    },
    {
      "cell_type": "markdown",
      "source": [
        "Ans: Both **os.fork()** and the **multiprocessing** module in Python are used to create new processes, but they serve different purposes and have distinct characteristics. Here’s a breakdown of the differences:\n",
        "\n",
        "**os.fork():**\n",
        "* **Description:** **os.fork()** is a low-level system call available on Unix-based systems (like Linux and macOS) that creates a new child process by duplicating the current process.\n",
        "* **Behavior:**\n",
        "   * The child process is an exact copy of the parent process, including its memory space, file descriptors, and environment.\n",
        "   * The parent and child processes can be differentiated by the return value of os.fork(): 0 for the child process, and the child's process ID (PID) for the parent process.\n",
        "* **Use Cases:** os.fork() is suitable for applications requiring fine-grained control over process creation and execution.\n",
        "* **Platform Dependence:** It is only available on Unix-like operating systems and is not available on Windows.\n",
        "\n",
        "**Example:**"
      ],
      "metadata": {
        "id": "Mwu-njMlSgOT"
      }
    },
    {
      "cell_type": "code",
      "source": [
        "import os\n",
        "\n",
        "pid = os.fork()\n",
        "\n",
        "if pid == 0:\n",
        "    # This is the child process\n",
        "    print(\"Child process\")\n",
        "else:\n",
        "    # This is the parent process\n",
        "    print(f\"Parent process, child PID: {pid}\")"
      ],
      "metadata": {
        "id": "l6Cx98NnTjl_"
      },
      "execution_count": null,
      "outputs": []
    },
    {
      "cell_type": "markdown",
      "source": [
        "**multiprocessing Module:**\n",
        "* **Description:** The multiprocessing module provides a high-level interface for creating and managing separate processes, supporting both Unix and Windows.\n",
        "* **Behavior:**\n",
        "   * It allows you to create separate processes using an API similar to the threading module.\n",
        "   * Each process runs independently and has its own memory space.\n",
        "   * It includes features like process pools, shared data structures, and inter-process communication (IPC) mechanisms (queues, pipes, etc.).\n",
        "* **Use Cases:** The multiprocessing module is suitable for parallel processing tasks and applications that require portability across different platforms.\n",
        "* **Platform Independence:** It works on both Unix-like systems and Windows.\n",
        "\n",
        "**Example:**"
      ],
      "metadata": {
        "id": "yCPrw9kkTWdu"
      }
    },
    {
      "cell_type": "code",
      "source": [
        "from multiprocessing import Process\n",
        "\n",
        "def worker():\n",
        "    print(\"Worker process\")\n",
        "\n",
        "if __name__ == \"__main__\":\n",
        "    p = Process(target=worker)\n",
        "    p.start()\n",
        "    p.join()"
      ],
      "metadata": {
        "id": "guJ2oq5sUlYz"
      },
      "execution_count": null,
      "outputs": []
    },
    {
      "cell_type": "markdown",
      "source": [
        "**Key Differences:**\n",
        "* **Level of Abstraction:** os.fork() is a low-level system call, while multiprocessing is a high-level module.\n",
        "* **Portability:** os.fork() is limited to Unix-like systems, whereas multiprocessing is cross-platform.\n",
        "* **Memory Space:** os.fork() creates a copy of the parent process's memory space, while multiprocessing starts a new process with its own separate memory space.\n",
        "* **Features:** multiprocessing offers additional features like process pools, shared data structures, and IPC mechanisms, which are not available with os.fork().\n",
        "\n",
        "In summary,we use **os.fork()** when you need low-level control over process creation on Unix-like systems, and use **multiprocessing** when you need a cross-platform, high-level interface for creating and managing processes."
      ],
      "metadata": {
        "id": "APo-1HW9Up0y"
      }
    },
    {
      "cell_type": "markdown",
      "source": [
        "**Q19. What is the importance of closing a file in Python?**"
      ],
      "metadata": {
        "id": "l7RbRgusU57y"
      }
    },
    {
      "cell_type": "markdown",
      "source": [
        "**Ans:** Closing a file in Python is crucial for several reasons. These are:\n",
        "\n",
        "**Key Reasons to Close a File:**\n",
        "\n",
        "**1. Resource Management:**\n",
        "* **Release Resources:** Closing a file releases the system resources associated with it, such as file handles. This is especially important in applications that open many files, as failing to close files can exhaust the available resources.\n",
        "\n",
        "**2. Data Integrity:**\n",
        "* **Flushing Buffers:** When you close a file, it ensures that all data written to the file is properly flushed from buffers to the file on disk. This guarantees that all your changes are saved and the file is in a consistent state.\n",
        "* **Avoiding Data Loss:** If you don’t close a file, some of the data might not be written to disk, leading to data loss or corruption.\n",
        "\n",
        "**3. Preventing Errors:**\n",
        "* **Avoiding File Locks:** On some operating systems, an open file may be locked, preventing other programs or processes from accessing it. Closing the file releases the lock, allowing others to access it.\n",
        "* **Error Handling:** By closing a file explicitly, you can handle potential errors related to file operations more effectively.\n",
        "\n",
        "**4. Readability and Best Practices:**\n",
        "* **Code Readability:** Closing a file explicitly makes your code more readable and signals to others that you’ve properly managed file resources.\n",
        "* **Good Practice:** It’s considered good practice to close files when you’re done with them, as it promotes better programming habits and resource management.\n",
        "\n",
        "**Example:**\n",
        "\n",
        "\n",
        "\n"
      ],
      "metadata": {
        "id": "vEoY7oyHVAEi"
      }
    },
    {
      "cell_type": "code",
      "source": [
        "# Opening and closing a file explicitly\n",
        "file = open('example.txt', 'w')\n",
        "file.write('Hello, World!')\n",
        "file.close()  # Ensures data is written to disk and resources are released\n",
        "\n",
        "# Using a with statement to automatically close the file\n",
        "with open('example.txt', 'w') as file:\n",
        "    file.write('Hello, World!')  # File is automatically closed at the end of the block"
      ],
      "metadata": {
        "id": "eru-yE9MWTs6"
      },
      "execution_count": null,
      "outputs": []
    },
    {
      "cell_type": "markdown",
      "source": [
        "**Using the with Statement:**\n",
        "\n",
        "The with statement in Python is a context manager that ensures a file is properly closed, even if an error occurs during file operations. This simplifies file handling and reduces the risk of resource leaks."
      ],
      "metadata": {
        "id": "gtXo3WFqWXKa"
      }
    },
    {
      "cell_type": "code",
      "source": [
        "# Using a with statement for better resource management\n",
        "with open('example.txt', 'w') as file:\n",
        "    file.write('Hello, World!')\n",
        "# No need to explicitly call file.close(), as it is automatically handled"
      ],
      "metadata": {
        "id": "OR2cDRHgWazp"
      },
      "execution_count": null,
      "outputs": []
    },
    {
      "cell_type": "markdown",
      "source": [
        "In summary, always closing files in Python is essential for efficient resource management, ensuring data integrity, preventing errors, and following good coding practices. The with statement is a convenient way to handle files and guarantee that they are properly closed."
      ],
      "metadata": {
        "id": "v-MMwltgWdfJ"
      }
    },
    {
      "cell_type": "markdown",
      "source": [
        "**Q20. What is the difference between file.read() and file.readline() in Python?**"
      ],
      "metadata": {
        "id": "rhyyOH7LWggy"
      }
    },
    {
      "cell_type": "markdown",
      "source": [
        "**Ans:** The methods **file.read()** and **file.readline()** are used for reading contents from a file in Python, but they serve different purposes and behave differently.\n",
        "\n",
        "**file.read()**\n",
        "* **Purpose:** Reads the entire content of the file or a specified number of characters from the file.\n",
        "* **Behavior:**\n",
        "   * If called without arguments, it reads the entire file into a single string.\n",
        "   * If a numeric argument is provided, it reads that many characters from the file.\n",
        "* **Usage:** Useful when you need to read the entire file content at once or a specific number of characters."
      ],
      "metadata": {
        "id": "qHc4AiU8Wlgh"
      }
    },
    {
      "cell_type": "code",
      "source": [
        "# Example:\n",
        "with open('example.txt', 'r') as file:\n",
        "    content = file.read()  # Reads the entire file content\n",
        "    print(content)\n",
        "\n",
        "# Example with a specific number of characters:\n",
        "\n",
        "with open('example.txt', 'r') as file:\n",
        "    content = file.read(10)  # Reads the first 10 characters\n",
        "    print(content)\n"
      ],
      "metadata": {
        "id": "sGrf0-fwXQ_h"
      },
      "execution_count": null,
      "outputs": []
    },
    {
      "cell_type": "markdown",
      "source": [
        "**file.readline()**\n",
        "* Purpose: Reads a single line from the file.\n",
        "* Behavior:\n",
        "   * Reads characters from the current position up to and including the next newline character (**\\n**).\n",
        "   * If called repeatedly, it reads lines one by one until the end of the file.\n",
        "* Usage: Useful when you need to process the file line by line."
      ],
      "metadata": {
        "id": "K9IeN5R1Xfsx"
      }
    },
    {
      "cell_type": "code",
      "source": [
        "# Example:\n",
        "with open('example.txt', 'r') as file:\n",
        "    line = file.readline()  # Reads the first line of the file\n",
        "    print(line)\n",
        "\n",
        "# Example of reading all lines one by one:\n",
        "with open('example.txt', 'r') as file:\n",
        "    while True:\n",
        "        line = file.readline()  # Reads the next line\n",
        "        if not line:  # If no more lines, break the loop\n",
        "            break\n",
        "        print(line)"
      ],
      "metadata": {
        "id": "ROkaETRrXx2J"
      },
      "execution_count": null,
      "outputs": []
    },
    {
      "cell_type": "markdown",
      "source": [
        "Each method is suited to different use cases depending on how you need to process the file's content."
      ],
      "metadata": {
        "id": "HsTurzh2YEKk"
      }
    },
    {
      "cell_type": "markdown",
      "source": [
        "**Q22. What is the logging module in Python used for?**"
      ],
      "metadata": {
        "id": "fkriAuLeYFoC"
      }
    },
    {
      "cell_type": "markdown",
      "source": [
        "**Ans:** The logging module in Python is a powerful tool designed to help developers track events that happen when their code runs. It provides a flexible framework for emitting log messages from Python programs. Here's a breakdown of its main purposes and features:\n",
        "\n",
        "**Key Purposes of the logging Module:**\n",
        "\n",
        "**1.Debugging and Error Tracking:**\n",
        "* **Detailed Logs:** Helps capture detailed information about the program's execution, making it easier to diagnose and fix bugs.\n",
        "* **Track Issues:** Records errors and warnings, providing a historical record of problems that occurred during execution.\n",
        "\n",
        "**2. Monitoring and Maintenance:**\n",
        "* **Real-Time Monitoring:** Allows real-time monitoring of applications, which is essential for identifying and resolving issues quickly.\n",
        "* **System Health:** Helps in keeping track of the application's health and performance metrics.\n",
        "\n",
        "**3. Audit Trails and Security:**\n",
        "* **Audit Logs:** Provides a record of significant events, user actions, and transactions, which is crucial for security audits and compliance.\n",
        "* **Access Control:** Helps in monitoring access and detecting unauthorized activities.\n",
        "\n",
        "**4. Communication and Documentation:**\n",
        "* **Team Collaboration:** Facilitates communication among team members by providing a clear log of what has occurred within the application.\n",
        "* **Operational Documentation:** Acts as a documentation of the application's behavior over time.\n",
        "\n",
        "**Features of the logging Module:**\n",
        "\n",
        "**1. Log Levels:** Allows categorization of log messages by severity:\n",
        "* **DEBUG:** Detailed information, typically used for diagnosing problems.\n",
        "* **INFO:** Confirmations that things are working as expected.\n",
        "* **WARNING:** An indication of something unexpected or a potential issue.\n",
        "* **ERROR:** Serious problems that have occurred during execution.\n",
        "* **CRITICAL:** Severe errors indicating that the program may not be able to continue running.\n",
        "\n",
        "**2. Handlers:** Directs log messages to different destinations, such as console, files, or remote servers.\n",
        "* **StreamHandler:** Sends log messages to streams like sys.stdout or sys.stderr.\n",
        "* **FileHandler:** Writes log messages to a file.\n",
        "* **SocketHandler:** Sends log messages to a remote server.\n",
        "\n",
        "**3. Formatters:** Specifies the layout of log messages.\n",
        "* **Custom Formats:** You can define the format of the log messages, including the timestamp, log level, message, and more.\n",
        "\n",
        "**4. Configurable Logging:** The logging module provides various ways to configure logging, from basic configuration to more complex setups.\n",
        "\n",
        "**Example Usage:**"
      ],
      "metadata": {
        "id": "fFdO3t6iYQB5"
      }
    },
    {
      "cell_type": "code",
      "source": [
        "import logging\n",
        "\n",
        "# Configure the logging\n",
        "logging.basicConfig(level=logging.DEBUG, format='%(asctime)s - %(levelname)s - %(message)s')\n",
        "\n",
        "# Create a logger\n",
        "logger = logging.getLogger()\n",
        "\n",
        "# Log messages of different severity levels\n",
        "logger.debug(\"This is a debug message\")\n",
        "logger.info(\"This is an info message\")\n",
        "logger.warning(\"This is a warning message\")\n",
        "logger.error(\"This is an error message\")\n",
        "logger.critical(\"This is a critical message\")"
      ],
      "metadata": {
        "colab": {
          "base_uri": "https://localhost:8080/"
        },
        "id": "VG2B6ElnaSmI",
        "outputId": "165a682f-840a-4067-cf09-4209153368bf"
      },
      "execution_count": 1,
      "outputs": [
        {
          "output_type": "stream",
          "name": "stderr",
          "text": [
            "WARNING:root:This is a warning message\n",
            "ERROR:root:This is an error message\n",
            "CRITICAL:root:This is a critical message\n"
          ]
        }
      ]
    },
    {
      "cell_type": "markdown",
      "source": [
        "**Summary:**\n",
        "The logging module in Python is used to track events, debug issues, monitor applications, maintain audit trails, and facilitate communication and documentation. By leveraging the logging framework, developers can create more robust, maintainable, and secure applications."
      ],
      "metadata": {
        "id": "KWSwaplSaWKw"
      }
    },
    {
      "cell_type": "markdown",
      "source": [
        "**Q22. What is the os module in Python used for in file handling?**"
      ],
      "metadata": {
        "id": "_n5XpJcDaYuw"
      }
    },
    {
      "cell_type": "markdown",
      "source": [
        "**Ans:** The os module in Python provides a way to interact with the operating system, and it includes several functions for performing file and directory operations. Here's how the os module can be used for file handling:\n",
        "\n",
        "**Key Functions of the os Module for File Handling:**\n",
        "\n",
        "**1. File Operations:**\n",
        "* **Creating Files:** The os module can create files using the **open()** method along with file modes such as **'w' (write) or 'a' (append)**.\n",
        "* **Deleting Files:** Use **os.remove(path)** to delete a file specified by path.\n",
        "* **Renaming Files:** Use **os.rename(src, dst)** to rename a file from src to dst.\n",
        "\n",
        "**2. Directory Operations:**\n",
        "* **Creating Directories:** **os.mkdir(path)** creates a new directory specified by path.\n",
        "* **Deleting Directories:** **os.rmdir(path)** deletes an empty directory specified by path.\n",
        "* **Listing Directory Contents:** **os.listdir(path)** returns a list of files and directories in the directory specified by path.\n",
        "* **Changing Directories:** **os.chdir(path)** changes the current working directory to path.\n",
        "* **Getting Current Directory:** **os.getcwd()** returns the current working directory.\n",
        "\n",
        "**3. Path Operations:**\n",
        "* **Checking Path Existence:** **os.path.exists(path)** checks if a specified path exists.\n",
        "* **Joining Paths:** **os.path.join(path1, path2, ...)** joins one or more path components into a single path.\n",
        "* **Splitting Paths:** **os.path.split(path)** splits the path into a tuple (head, tail).\n",
        "\n",
        "**Example Usage:**"
      ],
      "metadata": {
        "id": "rGEVcw4MarNB"
      }
    },
    {
      "cell_type": "code",
      "source": [
        "import os\n",
        "\n",
        "# Creating a new directory\n",
        "os.mkdir('test_dir')\n",
        "\n",
        "# Changing the current working directory\n",
        "os.chdir('test_dir')\n",
        "\n",
        "# Creating a new file\n",
        "with open('example.txt', 'w') as file:\n",
        "    file.write('Hello, World!')\n",
        "\n",
        "# Checking if the file exists\n",
        "if os.path.exists('example.txt'):\n",
        "    print('File exists!')\n",
        "\n",
        "# Renaming the file\n",
        "os.rename('example.txt', 'renamed_example.txt')\n",
        "\n",
        "# Listing directory contents\n",
        "print(os.listdir('.'))\n",
        "\n",
        "# Removing the file\n",
        "os.remove('renamed_example.txt')\n",
        "\n",
        "# Changing back to the original directory\n",
        "os.chdir('..')\n",
        "\n",
        "# Removing the directory\n",
        "os.rmdir('test_dir')"
      ],
      "metadata": {
        "id": "Jdgykdfqby-p"
      },
      "execution_count": null,
      "outputs": []
    },
    {
      "cell_type": "markdown",
      "source": [
        "**Explanation:**\n",
        "\n",
        "**1. Creating a Directory:** **os.mkdir('test_dir')** creates a new directory named **test_dir**.\n",
        "\n",
        "**2. Changing Directory:** **os.chdir('test_dir')** changes the current working directory to **test_dir**.\n",
        "\n",
        "**3. Creating a File:** **open('example.txt', 'w')** creates a new file named **example.txt** and writes \"Hello, World!\" to it.\n",
        "\n",
        "**4. Checking File Existence:** **os.path.exists('example.txt')** checks if the file **example.txt** exists.\n",
        "\n",
        "**5. Renaming a File:** **os.rename('example.txt', 'renamed_example.txt')** renames example.txt to **renamed_example.txt**.\n",
        "\n",
        "**6. Listing Directory Contents:** **os.listdir('.')** lists the contents of the current directory.\n",
        "\n",
        "**7. Removing a File:** **os.remove('renamed_example.txt')** deletes the file **renamed_example.txt**.\n",
        "\n",
        "**8. Changing Back to Original Directory:** **os.chdir('..')** changes back to the original directory.\n",
        "\n",
        "**9. Removing a Directory:** **os.rmdir('test_dir')** deletes the directory test_dir.\n",
        "\n",
        "The **os module** is versatile and provides a wide range of functions to interact with the file system, making it an essential tool for file handling and directory management in Python."
      ],
      "metadata": {
        "id": "xAxWHTNKb4uB"
      }
    },
    {
      "cell_type": "markdown",
      "source": [
        "**Q23. What are the challenges associated with memory management in Python?**"
      ],
      "metadata": {
        "id": "yw-0WQmgcvuv"
      }
    },
    {
      "cell_type": "markdown",
      "source": [
        "Memory management in Python, while largely automated and efficient, does come with its own set of challenges. Here are some of the key issues:\n",
        "\n",
        "**1. Reference Cycles:**\n",
        "* **Description:** When two or more objects reference each other, creating a cycle. These cycles can prevent the reference count of the objects from dropping to zero, leading to memory not being released.\n",
        "* **Garbage Collector:** Python’s cyclic garbage collector can handle these, but cycles can still cause delays in memory reclamation and increase the complexity of memory management.\n",
        "\n",
        "**2. Memory Fragmentation:**\n",
        "* **Description:** As objects are created and destroyed, memory can become fragmented, meaning that memory blocks are inefficiently used. This can lead to higher memory usage and reduced performance.\n",
        "* **Impact:** Fragmentation can slow down the allocation and deallocation processes.\n",
        "\n",
        "**3. High Memory Usage:**\n",
        "* **Description:** Python’s dynamic typing and memory management can result in higher memory usage compared to languages with static typing and manual memory management.\n",
        "* **Consequences:** Applications that require large datasets or operate in memory-constrained environments may face issues due to high memory consumption.\n",
        "\n",
        "**4. Garbage Collection Overhead:**\n",
        "* **Description:** The garbage collection process itself consumes CPU resources, which can lead to performance overhead.\n",
        "* **Trade-offs:** While it simplifies memory management, it can introduce latency and affect the performance of time-sensitive applications.\n",
        "\n",
        "**5. Memory Leaks:**\n",
        "* **Description:** Even with automatic memory management, memory leaks can still occur, often due to lingering references that prevent objects from being garbage collected.\n",
        "* **Detection:** Identifying and resolving memory leaks can be challenging and requires careful coding practices and profiling tools.\n",
        "\n",
        "**6. Manual Intervention:**\n",
        "* **Description:** Although Python's garbage collector automates many aspects of memory management, there are cases where manual intervention (e.g., using the gc module to trigger garbage collection) is necessary.\n",
        "* **Complexity:** Deciding when and how to manually manage memory can add complexity to the code.\n",
        "\n",
        "**7. Global Interpreter Lock (GIL):**\n",
        "* **Description:** The GIL in CPython can be a bottleneck in multi-threaded applications, as it allows only one thread to execute Python bytecode at a time.\n",
        "* **Impact on Concurrency:** This can limit the performance of multi-threaded programs and lead to inefficient CPU usage.\n",
        "\n",
        "**8. Memory Management Differences Across Implementations:**\n",
        "* **Description:** Different Python implementations (e.g., CPython, PyPy, Jython) have different memory management strategies, which can lead to inconsistencies in performance and behavior.\n",
        "* **Adapting Code:** Developers may need to adapt their code or optimize it differently depending on the implementation used.\n",
        "\n",
        "**Mitigation Strategies:**\n",
        "* **Profiling and Monitoring:** Use profiling tools to monitor memory usage and identify leaks or inefficiencies.\n",
        "* **Coding Best Practices:** Follow best practices, such as avoiding circular references, using context managers, and releasing resources explicitly.\n",
        "* **Manual Garbage Collection:** Use the gc module to manually control garbage collection when necessary.\n",
        "\n",
        "In summary, while Python's automatic memory management greatly simplifies development, understanding these challenges and knowing how to address them can help you write more efficient and robust code."
      ],
      "metadata": {
        "id": "zvHrgAEmdHAY"
      }
    },
    {
      "cell_type": "markdown",
      "source": [
        "**Q24. How do you raise an exception manually in Python?**"
      ],
      "metadata": {
        "id": "WT3Bi_o2eeaG"
      }
    },
    {
      "cell_type": "markdown",
      "source": [
        "**Ans:** Raising an exception manually in Python is straightforward and can be done using the **raise** statement. This is useful when you want to indicate that an error or unusual situation has occurred in your program. Here’s how you can do it:\n",
        "\n",
        "**Raising a Built-in Exception:**\n",
        "You can raise a built-in exception by simply specifying the exception type:"
      ],
      "metadata": {
        "id": "Vup2snu5emn5"
      }
    },
    {
      "cell_type": "code",
      "source": [
        "# Example of raising a built-in exception\n",
        "def check_positive(number):\n",
        "    if number <= 0:\n",
        "        raise ValueError(\"The number must be positive!\")\n",
        "    return number\n",
        "\n",
        "try:\n",
        "    check_positive(-5)\n",
        "except ValueError as e:\n",
        "    print(f\"Error: {e}\")"
      ],
      "metadata": {
        "id": "7wntr7F2fRnn"
      },
      "execution_count": null,
      "outputs": []
    },
    {
      "cell_type": "markdown",
      "source": [
        "In this example:\n",
        "* The raise statement raises a ValueError if the number is not positive.\n",
        "* The try block calls the check_positive function, and the except block catches and handles the ValueError.\n",
        "\n",
        "**Raising a Custom Exception:**\n",
        "You can also define your own custom exception class and raise it:"
      ],
      "metadata": {
        "id": "gv4HkE5ofXUw"
      }
    },
    {
      "cell_type": "code",
      "source": [
        "# Example of raising a custom exception\n",
        "class CustomError(Exception):\n",
        "    pass\n",
        "\n",
        "def some_function():\n",
        "    raise CustomError(\"Something went wrong!\")\n",
        "\n",
        "try:\n",
        "    some_function()\n",
        "except CustomError as e:\n",
        "    print(f\"CustomError caught: {e}\")"
      ],
      "metadata": {
        "id": "rMDhJwyPfvQn"
      },
      "execution_count": null,
      "outputs": []
    },
    {
      "cell_type": "markdown",
      "source": [
        "In this example:\n",
        "* A custom exception class CustomError is defined by inheriting from the base Exception class.\n",
        "* The some_function function raises a CustomError.\n",
        "* The try block calls some_function, and the except block catches and handles the CustomError.\n",
        "\n",
        "**Raising Exceptions with Additional Information:**\n",
        "You can also provide additional information when raising exceptions, which can be useful for debugging:"
      ],
      "metadata": {
        "id": "_W00bipnfygW"
      }
    },
    {
      "cell_type": "code",
      "source": [
        "# Example of raising an exception with additional information\n",
        "def divide(a, b):\n",
        "    if b == 0:\n",
        "        raise ZeroDivisionError(f\"Cannot divide {a} by zero.\")\n",
        "    return a / b\n",
        "\n",
        "try:\n",
        "    divide(10, 0)\n",
        "except ZeroDivisionError as e:\n",
        "    print(f\"Error: {e}\")"
      ],
      "metadata": {
        "id": "3danNEjSf8fO"
      },
      "execution_count": null,
      "outputs": []
    },
    {
      "cell_type": "markdown",
      "source": [
        "In this example:\n",
        "The divide function raises a ZeroDivisionError with a message that includes the values of a and b.\n",
        "\n",
        "**Summary:**\n",
        "* Use the **raise** statement to manually raise exceptions.\n",
        "* You can raise built-in exceptions or define and raise custom exceptions.\n",
        "* Providing additional information with exceptions can aid in debugging and error handling."
      ],
      "metadata": {
        "id": "qy8dx8hEf_T_"
      }
    },
    {
      "cell_type": "markdown",
      "source": [
        "**Q25. Why is it important to use multithreading in certain applications?**"
      ],
      "metadata": {
        "id": "I749MyG3gJVe"
      }
    },
    {
      "cell_type": "markdown",
      "source": [
        "Ans: Multithreading is crucial in many applications due to its ability to enhance performance, improve responsiveness, and make efficient use of system resources. Here are several reasons why multithreading is important in certain applications:\n",
        "\n",
        "**1. Improved Performance:**\n",
        "* **Parallelism:** Multithreading allows a program to execute multiple threads concurrently, which can lead to better utilization of multiple CPU cores and improved overall performance.\n",
        "* **Task Division:** By dividing tasks into smaller threads, applications can complete work faster, especially on multicore systems.\n",
        "\n",
        "**2. Responsiveness:**\n",
        "* **User Interface (UI):** In GUI applications, multithreading is essential to keep the user interface responsive. For example, a long-running task can run in a background thread while the main thread continues to handle user interactions.\n",
        "* **Real-Time Applications:** Applications that require real-time responses, such as gaming, multimedia, and interactive systems, benefit from multithreading to maintain smooth operation.\n",
        "\n",
        "**3. Resource Sharing:**\n",
        "* **Shared Resources:** Threads can share data and resources within the same process, which can simplify the development of complex applications that need to access common resources.\n",
        "\n",
        "**4. Efficient I/O Operations:**\n",
        "* **I/O Bound Tasks:** Multithreading is particularly useful for I/O-bound tasks (e.g., file reading/writing, network operations). While one thread waits for I/O operations to complete, other threads can continue processing, thereby improving efficiency.\n",
        "\n",
        "**5. Better Resource Utilization:**\n",
        "* **CPU Utilization:** Multithreading maximizes CPU usage by ensuring that the CPU is not idle while waiting for tasks to complete. This is especially important in high-performance computing environments.\n",
        "* **Concurrency:** It allows multiple operations to be performed concurrently, improving the throughput of applications.\n",
        "\n",
        "**6. Isolation and Scalability:**\n",
        "* **Isolation:** Threads can be isolated to perform specific tasks independently, reducing the risk of one task affecting another.\n",
        "* **Scalability:** Multithreaded applications can be scaled more easily to take advantage of multi-core and multi-processor systems.\n",
        "\n",
        "**Example Use Cases:**\n",
        "* **Web Servers:** Handle multiple client requests simultaneously, improving responsiveness and performance.\n",
        "* **Real-Time Systems:** Applications like video streaming and gaming require smooth and continuous operation.\n",
        "* **Data Processing:** Large datasets can be processed in parallel, reducing the time required for data analysis and computation.\n",
        "\n",
        "**Conclusion:**\n",
        "\n",
        "Multithreading plays a vital role in modern software development by enhancing performance, improving responsiveness, and making efficient use of system resources. It is particularly important for applications that require concurrent execution, real-time processing, and efficient handling of I/O operations."
      ],
      "metadata": {
        "id": "aH0H_CVngOdm"
      }
    },
    {
      "cell_type": "markdown",
      "source": [
        "**PRACTICAL QUESTIONS:**"
      ],
      "metadata": {
        "id": "1OsZBvClg5C6"
      }
    },
    {
      "cell_type": "markdown",
      "source": [
        "**Q1. How can you open a file for writing in Python and write a string to it?**"
      ],
      "metadata": {
        "id": "e-GHNGUpikp1"
      }
    },
    {
      "cell_type": "code",
      "source": [
        "# Open the file for writing (will overwrite existing file)\n",
        "with open('example.txt', 'w') as file:\n",
        "    file.write(\"Hello, world!\")\n",
        "\n",
        "# If you want to append instead of overwrite, use 'a' mode\n",
        "with open('example.txt', 'a') as file:\n",
        "    file.write(\"\\nAppending this line.\")"
      ],
      "metadata": {
        "id": "6ZQyUZx0ivat"
      },
      "execution_count": null,
      "outputs": []
    },
    {
      "cell_type": "markdown",
      "source": [
        "**Q2. Write a Python program to read the contents of a file and print each line.**"
      ],
      "metadata": {
        "id": "GWhBAGiii-Hm"
      }
    },
    {
      "cell_type": "code",
      "source": [
        "# Open the file for reading\n",
        "with open('example.txt', 'r') as file:\n",
        "    # Read and print each line\n",
        "    for line in file:\n",
        "        print(line, end='')  # 'end=\"\"' prevents adding extra newline since lines already have it"
      ],
      "metadata": {
        "id": "1cOIFntEjIVd"
      },
      "execution_count": null,
      "outputs": []
    },
    {
      "cell_type": "markdown",
      "source": [
        "**Q3. How would you handle a case where the file doesn't exist while trying to open it for reading?**"
      ],
      "metadata": {
        "id": "SdgnrYiZjMLn"
      }
    },
    {
      "cell_type": "code",
      "source": [
        "# To handle the case where a file doesn't exist while trying to open it for reading, you can use a try-except block to catch the FileNotFoundError exception. This way, the program won't crash, and you can handle the error gracefully, such as printing an error message or taking some other action.\n",
        "\n",
        "try:\n",
        "    # Try to open the file for reading\n",
        "    with open('example.txt', 'r') as file:\n",
        "        # Read and print each line\n",
        "        for line in file:\n",
        "            print(line, end='')  # 'end=\"\"' prevents adding extra newline\n",
        "except FileNotFoundError:\n",
        "    # Handle the case where the file doesn't exist\n",
        "    print(\"The file 'example.txt' does not exist.\")"
      ],
      "metadata": {
        "id": "rsYGMQ24jeK9"
      },
      "execution_count": null,
      "outputs": []
    },
    {
      "cell_type": "markdown",
      "source": [
        "**Q4. Write a Python script that reads from one file and writes its content to another file.**"
      ],
      "metadata": {
        "id": "RYOaIMoXjqPd"
      }
    },
    {
      "cell_type": "code",
      "source": [
        "try:\n",
        "    # Open the source file for reading\n",
        "    with open('source.txt', 'r') as source_file:\n",
        "        # Open the destination file for writing (this will overwrite the destination file)\n",
        "        with open('destination.txt', 'w') as destination_file:\n",
        "            # Read the content from the source file and write it to the destination file\n",
        "            content = source_file.read()  # Read the entire content of the source file\n",
        "            destination_file.write(content)  # Write the content to the destination file\n",
        "\n",
        "    print(\"Content has been copied from 'source.txt' to 'destination.txt'.\")\n",
        "except FileNotFoundError:\n",
        "    print(\"One of the files does not exist.\")"
      ],
      "metadata": {
        "id": "AuuW30Lojxxl"
      },
      "execution_count": null,
      "outputs": []
    },
    {
      "cell_type": "markdown",
      "source": [
        "**Q5. How would you catch and handle division by zero error in Python?**"
      ],
      "metadata": {
        "id": "dJkJFgSTjzSF"
      }
    },
    {
      "cell_type": "code",
      "source": [
        "try:\n",
        "    # Attempt to divide two numbers\n",
        "    numerator = 10\n",
        "    denominator = 0  # This will cause a division by zero error\n",
        "    result = numerator / denominator\n",
        "    print(\"The result is:\", result)\n",
        "except ZeroDivisionError:\n",
        "    # Handle division by zero error\n",
        "    print(\"Error: Cannot divide by zero.\")"
      ],
      "metadata": {
        "colab": {
          "base_uri": "https://localhost:8080/"
        },
        "id": "25eZeEgBj8pV",
        "outputId": "67d18692-78f5-403d-cc6b-652d68c5bd87"
      },
      "execution_count": 2,
      "outputs": [
        {
          "output_type": "stream",
          "name": "stdout",
          "text": [
            "Error: Cannot divide by zero.\n"
          ]
        }
      ]
    },
    {
      "cell_type": "markdown",
      "source": [
        "**Q6. Write a Python program that logs an error message to a log file when a division by zero exception occurs.**"
      ],
      "metadata": {
        "id": "XuRFDBKxkDEF"
      }
    },
    {
      "cell_type": "code",
      "source": [
        "import logging\n",
        "\n",
        "# Configure logging to write messages to a log file\n",
        "logging.basicConfig(filename='error_log.txt', level=logging.ERROR,\n",
        "                    format='%(asctime)s - %(levelname)s - %(message)s')\n",
        "\n",
        "try:\n",
        "    # Attempt to divide two numbers\n",
        "    numerator = 10\n",
        "    denominator = 0  # This will cause a division by zero error\n",
        "    result = numerator / denominator\n",
        "    print(\"The result is:\", result)\n",
        "except ZeroDivisionError as e:\n",
        "    # Log the error message when division by zero occurs\n",
        "    logging.error(f\"Division by zero error: {e}\")\n",
        "    print(\"Error: Cannot divide by zero. Check the log file for details.\")"
      ],
      "metadata": {
        "colab": {
          "base_uri": "https://localhost:8080/"
        },
        "id": "VyLb6fj2kGMF",
        "outputId": "b9d39b9d-9262-4221-e91d-276bbf083cef"
      },
      "execution_count": 10,
      "outputs": [
        {
          "output_type": "stream",
          "name": "stderr",
          "text": [
            "ERROR:root:Division by zero error: division by zero\n"
          ]
        },
        {
          "output_type": "stream",
          "name": "stdout",
          "text": [
            "Error: Cannot divide by zero. Check the log file for details.\n"
          ]
        }
      ]
    },
    {
      "cell_type": "markdown",
      "source": [
        "**Q7. How do you log information at different levels (INFO, ERROR, WARNING) in Python using the logging module?**"
      ],
      "metadata": {
        "id": "Zk2dmU94kNcV"
      }
    },
    {
      "cell_type": "code",
      "source": [
        "import logging\n",
        "\n",
        "# Configure logging to write messages to a log file with a specific log level\n",
        "logging.basicConfig(filename='example_log.txt', level=logging.DEBUG,  # Log level set to DEBUG to capture all messages\n",
        "                    format='%(asctime)s - %(levelname)s - %(message)s')\n",
        "\n",
        "# Example of logging at different levels:\n",
        "\n",
        "# INFO: General information about the execution\n",
        "logging.info(\"This is an informational message.\")\n",
        "\n",
        "# WARNING: Indicating a potential issue\n",
        "logging.warning(\"This is a warning message.\")\n",
        "\n",
        "# ERROR: A more serious issue, indicating an error has occurred\n",
        "logging.error(\"This is an error message.\")\n",
        "\n",
        "# CRITICAL: A very serious issue that may stop the program\n",
        "logging.critical(\"This is a critical error message.\")"
      ],
      "metadata": {
        "colab": {
          "base_uri": "https://localhost:8080/"
        },
        "id": "u40q87lYkZ6M",
        "outputId": "bce15ba8-2837-4b91-b26a-d72ff624677a"
      },
      "execution_count": 3,
      "outputs": [
        {
          "output_type": "stream",
          "name": "stderr",
          "text": [
            "WARNING:root:This is a warning message.\n",
            "ERROR:root:This is an error message.\n",
            "CRITICAL:root:This is a critical error message.\n"
          ]
        }
      ]
    },
    {
      "cell_type": "markdown",
      "source": [
        "**Q8. Write a program to handle a file opening error using exception handling.**"
      ],
      "metadata": {
        "id": "VE3opMfnkeq0"
      }
    },
    {
      "cell_type": "code",
      "source": [
        "try:\n",
        "    # Attempt to open the file for reading\n",
        "    with open('non_existent_file.txt', 'r') as file:\n",
        "        content = file.read()\n",
        "        print(content)\n",
        "except FileNotFoundError:\n",
        "    print(\"Error: The file does not exist.\")\n",
        "except IOError:\n",
        "    print(\"Error: There was an issue with the file I/O operation.\")\n",
        "except Exception as e:\n",
        "    # This catches any other exceptions that may arise\n",
        "    print(f\"An unexpected error occurred: {e}\")"
      ],
      "metadata": {
        "id": "PvAS38ickkbF"
      },
      "execution_count": null,
      "outputs": []
    },
    {
      "cell_type": "markdown",
      "source": [
        "**Q9. How can you read a file line by line and store its content in a list in Python?**"
      ],
      "metadata": {
        "id": "GvK2KyyQkqxt"
      }
    },
    {
      "cell_type": "code",
      "source": [
        "# Open the file for reading\n",
        "with open('example.txt', 'r') as file:\n",
        "    # Read each line and store it in a list\n",
        "    lines = file.readlines()\n",
        "\n",
        "# Print the list of lines\n",
        "print(lines)"
      ],
      "metadata": {
        "id": "jRBGYE1EkwwU"
      },
      "execution_count": null,
      "outputs": []
    },
    {
      "cell_type": "markdown",
      "source": [
        "**Q10. How can you append data to an existing file in Python?**"
      ],
      "metadata": {
        "id": "eSAUr2jBk11H"
      }
    },
    {
      "cell_type": "code",
      "source": [
        "# Open the file in append mode\n",
        "with open('example.txt', 'a') as file:\n",
        "    # Append new data to the file\n",
        "    file.write(\"\\nThis is a new line of text that is appended to the file.\")\n",
        "\n",
        "print(\"Data has been appended to the file.\")"
      ],
      "metadata": {
        "id": "wvG8X0AmlEyU"
      },
      "execution_count": null,
      "outputs": []
    },
    {
      "cell_type": "markdown",
      "source": [
        "**Q11. Write a Python program that uses a try-except block to handle an error when attempting to access a**\n",
        "**dictionary key that doesn't exist.**"
      ],
      "metadata": {
        "id": "IDdV86E9lJfm"
      }
    },
    {
      "cell_type": "code",
      "source": [
        "# Define a dictionary\n",
        "my_dict = {\n",
        "    \"name\": \"Alice\",\n",
        "    \"age\": 30,\n",
        "    \"city\": \"New York\"\n",
        "}\n",
        "\n",
        "# Key to be accessed\n",
        "key_to_access = \"address\"\n",
        "\n",
        "try:\n",
        "    # Attempt to access the dictionary with the given key\n",
        "    value = my_dict[key_to_access]\n",
        "    print(f\"The value for '{key_to_access}' is: {value}\")\n",
        "except KeyError:\n",
        "    # Handle the case where the key doesn't exist\n",
        "    print(f\"Error: The key '{key_to_access}' does not exist in the dictionary.\")"
      ],
      "metadata": {
        "colab": {
          "base_uri": "https://localhost:8080/"
        },
        "id": "ZUqyP2SUlqzj",
        "outputId": "021f2959-1032-41ed-c426-d8ea0dc01891"
      },
      "execution_count": 4,
      "outputs": [
        {
          "output_type": "stream",
          "name": "stdout",
          "text": [
            "Error: The key 'address' does not exist in the dictionary.\n"
          ]
        }
      ]
    },
    {
      "cell_type": "markdown",
      "source": [
        "**Q12. Write a program that demonstrates using multiple except blocks to handle different types of exceptions.**"
      ],
      "metadata": {
        "id": "owjPX5RCluMk"
      }
    },
    {
      "cell_type": "code",
      "source": [
        "try:\n",
        "    # Code that may raise different exceptions\n",
        "\n",
        "    # For demonstration, we'll intentionally raise different types of errors\n",
        "    x = int(input(\"Enter a number: \"))  # Could raise ValueError\n",
        "    y = int(input(\"Enter another number: \"))  # Could raise ValueError\n",
        "\n",
        "    result = x / y  # Could raise ZeroDivisionError\n",
        "    print(f\"The result of {x} / {y} is {result}\")\n",
        "\n",
        "except ValueError:\n",
        "    # Handles invalid input that cannot be converted to an integer\n",
        "    print(\"Error: Please enter a valid number.\")\n",
        "except ZeroDivisionError:\n",
        "    # Handles division by zero error\n",
        "    print(\"Error: You cannot divide by zero.\")\n",
        "except Exception as e:\n",
        "    # Catches any other exception that doesn't match the above types\n",
        "    print(f\"An unexpected error occurred: {e}\")"
      ],
      "metadata": {
        "colab": {
          "base_uri": "https://localhost:8080/"
        },
        "id": "eUaFPXhal0zj",
        "outputId": "d74beec4-bcc5-4bf4-9aa8-d22aa70985e7"
      },
      "execution_count": 5,
      "outputs": [
        {
          "output_type": "stream",
          "name": "stdout",
          "text": [
            "Enter a number: 6\n",
            "Enter another number: 9\n",
            "The result of 6 / 9 is 0.6666666666666666\n"
          ]
        }
      ]
    },
    {
      "cell_type": "markdown",
      "source": [
        "**Q13. How would you check if a file exists before attempting to read it in Python?**"
      ],
      "metadata": {
        "id": "MKydXw39mF-T"
      }
    },
    {
      "cell_type": "code",
      "source": [
        "# Method 1: Using os.path.exists()\n",
        "import os\n",
        "\n",
        "file_path = 'example.txt'\n",
        "\n",
        "# Check if the file exists before attempting to read it\n",
        "if os.path.exists(file_path):\n",
        "    with open(file_path, 'r') as file:\n",
        "        content = file.read()\n",
        "        print(content)\n",
        "else:\n",
        "    print(f\"The file '{file_path}' does not exist.\")\n",
        "\n",
        "# Method 2: Using os.path.isfile()\n",
        "\n",
        "import os\n",
        "\n",
        "file_path = 'example.txt'\n",
        "\n",
        "# Check if the file exists and is a regular file\n",
        "if os.path.isfile(file_path):\n",
        "    with open(file_path, 'r') as file:\n",
        "        content = file.read()\n",
        "        print(content)\n",
        "else:\n",
        "    print(f\"The file '{file_path}' does not exist or is not a regular file.\")\n"
      ],
      "metadata": {
        "id": "Ir_AgxUQmJ4j"
      },
      "execution_count": null,
      "outputs": []
    },
    {
      "cell_type": "markdown",
      "source": [
        "**Q14. Write a program that uses the logging module to log both informational and error messages.**"
      ],
      "metadata": {
        "id": "RO7Rx0_Bmrqz"
      }
    },
    {
      "cell_type": "code",
      "source": [
        "import logging\n",
        "\n",
        "# Configure logging to log messages to a file with a specific format\n",
        "logging.basicConfig(\n",
        "    filename='app.log',  # Log messages will be saved to this file\n",
        "    level=logging.DEBUG,  # Set the minimum log level to DEBUG (captures all levels)\n",
        "    format='%(asctime)s - %(levelname)s - %(message)s'  # Log format with timestamp, level, and message\n",
        ")\n",
        "\n",
        "# Log an informational message\n",
        "logging.info(\"This is an informational message.\")\n",
        "\n",
        "# Log an error message\n",
        "logging.error(\"This is an error message.\")\n",
        "\n",
        "# Example of a more complex situation where an exception is caught\n",
        "try:\n",
        "    x = 5 / 0  # This will raise a ZeroDivisionError\n",
        "except ZeroDivisionError as e:\n",
        "    logging.error(f\"Error occurred: {e}\")  # Log the error message with exception details"
      ],
      "metadata": {
        "colab": {
          "base_uri": "https://localhost:8080/"
        },
        "id": "Id-mpayqm0G7",
        "outputId": "c7e97b54-b021-4a0b-982b-44f60e119cab"
      },
      "execution_count": 6,
      "outputs": [
        {
          "output_type": "stream",
          "name": "stderr",
          "text": [
            "ERROR:root:This is an error message.\n",
            "ERROR:root:Error occurred: division by zero\n"
          ]
        }
      ]
    },
    {
      "cell_type": "markdown",
      "source": [
        "**Q15. Write a Python program that prints the content of a file and handles the case when the file is empty.**"
      ],
      "metadata": {
        "id": "6kQuCzpom74b"
      }
    },
    {
      "cell_type": "code",
      "source": [
        "# Specify the path to the file\n",
        "file_path = 'example.txt'\n",
        "\n",
        "try:\n",
        "    # Open the file for reading\n",
        "    with open(file_path, 'r') as file:\n",
        "        content = file.read().strip()  # Read the file and remove any leading/trailing whitespace\n",
        "\n",
        "        if content:  # Check if the content is not empty\n",
        "            print(\"File Content:\")\n",
        "            print(content)\n",
        "        else:\n",
        "            print(f\"The file '{file_path}' is empty.\")\n",
        "\n",
        "except FileNotFoundError:\n",
        "    print(f\"Error: The file '{file_path}' does not exist.\")\n",
        "except IOError as e:\n",
        "    print(f\"Error reading the file '{file_path}': {e}\")"
      ],
      "metadata": {
        "id": "_IFRBdC-nCxy"
      },
      "execution_count": null,
      "outputs": []
    },
    {
      "cell_type": "markdown",
      "source": [
        "**Q16. Demonstrate how to use memory profiling to check the memory usage of a small program.**"
      ],
      "metadata": {
        "id": "Ioz_Jv2CnNwy"
      }
    },
    {
      "cell_type": "code",
      "source": [
        "# Firstly, Install the memory_profiler module: \"pip install memory-profiler\"\n",
        "\n",
        "\n",
        "from memory_profiler import profile\n",
        "\n",
        "@profile\n",
        "def my_function():\n",
        "    # Allocate some data in memory\n",
        "    data = [x for x in range(1000000)]  # List with 1 million integers\n",
        "    print(\"Data has been allocated.\")\n",
        "    # Do some other computation\n",
        "    sum_data = sum(data)\n",
        "    print(f\"Sum of data is {sum_data}\")\n",
        "    return sum_data\n",
        "\n",
        "if __name__ == '__main__':\n",
        "    my_function()"
      ],
      "metadata": {
        "id": "i2-xNWcAnNbb"
      },
      "execution_count": null,
      "outputs": []
    },
    {
      "cell_type": "markdown",
      "source": [
        "**Q17. Write a Python program to create and write a list of numbers to a file, one number per line.**"
      ],
      "metadata": {
        "id": "HYRAFa3on8hz"
      }
    },
    {
      "cell_type": "code",
      "source": [
        "# List of numbers to be written to a file\n",
        "numbers = [1, 2, 3, 4, 5, 6, 7, 8, 9, 10]\n",
        "\n",
        "# Open a file in write mode ('w')\n",
        "with open('numbers.txt', 'w') as file:\n",
        "    # Iterate over the list of numbers\n",
        "    for number in numbers:\n",
        "        # Write each number followed by a newline\n",
        "        file.write(f\"{number}\\n\")\n",
        "\n",
        "print(\"Numbers have been written to 'numbers.txt'.\")"
      ],
      "metadata": {
        "colab": {
          "base_uri": "https://localhost:8080/"
        },
        "id": "NOcUarcYoHdz",
        "outputId": "8869c56b-76f4-4221-a400-d0b07edb984c"
      },
      "execution_count": 9,
      "outputs": [
        {
          "output_type": "stream",
          "name": "stdout",
          "text": [
            "Numbers have been written to 'numbers.txt'.\n"
          ]
        }
      ]
    },
    {
      "cell_type": "markdown",
      "source": [
        "**Q18. How would you implement a basic logging setup that logs to a file with rotation after 1MB?**"
      ],
      "metadata": {
        "id": "Vo4faDbXoJpE"
      }
    },
    {
      "cell_type": "code",
      "source": [
        "import logging\n",
        "from logging.handlers import RotatingFileHandler\n",
        "\n",
        "# Create a logger object\n",
        "logger = logging.getLogger('MyLogger')\n",
        "\n",
        "# Set the logging level (for example, DEBUG to capture all messages)\n",
        "logger.setLevel(logging.DEBUG)\n",
        "\n",
        "# Create a RotatingFileHandler that will rotate logs after 1MB\n",
        "log_handler = RotatingFileHandler(\n",
        "    'app.log',           # Log file name\n",
        "    maxBytes=1*1024*1024,  # Max file size before rotation (1MB)\n",
        "    backupCount=3        # Number of backup files to keep (3 in this case)\n",
        ")\n",
        "\n",
        "# Create a formatter for the log messages"
      ],
      "metadata": {
        "id": "SfEjC5JQoVGj"
      },
      "execution_count": 7,
      "outputs": []
    },
    {
      "cell_type": "markdown",
      "source": [
        "**Q19. Write a program that handles both IndexError and KeyError using a try-except block.**"
      ],
      "metadata": {
        "id": "aaGYpdZQoYhq"
      }
    },
    {
      "cell_type": "code",
      "source": [
        "def handle_errors():\n",
        "    # Example list and dictionary\n",
        "    my_list = [1, 2, 3]\n",
        "    my_dict = {'a': 1, 'b': 2, 'c': 3}\n",
        "\n",
        "    try:\n",
        "        # Trigger an IndexError by trying to access an index that doesn't exist\n",
        "        print(my_list[5])  # IndexError: list index out of range\n",
        "\n",
        "        # Trigger a KeyError by trying to access a key that doesn't exist\n",
        "        print(my_dict['d'])  # KeyError: 'd'\n",
        "\n",
        "    except IndexError as index_error:\n",
        "        print(f\"IndexError: {index_error}\")\n",
        "\n",
        "    except KeyError as key_error:\n",
        "        print(f\"KeyError: {key_error}\")\n",
        "\n",
        "# Call the function to test error handling\n",
        "handle_errors()"
      ],
      "metadata": {
        "colab": {
          "base_uri": "https://localhost:8080/"
        },
        "id": "YVKAXgBVobgp",
        "outputId": "09511664-a2a2-4205-a5c5-eb93737b9e9c"
      },
      "execution_count": 8,
      "outputs": [
        {
          "output_type": "stream",
          "name": "stdout",
          "text": [
            "IndexError: list index out of range\n"
          ]
        }
      ]
    },
    {
      "cell_type": "markdown",
      "source": [
        "**Q20. How would you open a file and read its contents using a context manager in Python?**"
      ],
      "metadata": {
        "id": "sNIJoGVwoquT"
      }
    },
    {
      "cell_type": "code",
      "source": [
        "# Open the file and read its contents using a context manager\n",
        "file_path = 'example.txt'\n",
        "\n",
        "with open(file_path, 'r') as file:\n",
        "    # Read the contents of the file\n",
        "    content = file.read()\n",
        "\n",
        "# Print the content of the file\n",
        "print(content)"
      ],
      "metadata": {
        "id": "6_81fL0sot2j"
      },
      "execution_count": null,
      "outputs": []
    },
    {
      "cell_type": "markdown",
      "source": [
        "**Q21. Write a Python program that reads a file and prints the number of occurrences of a specific word.**"
      ],
      "metadata": {
        "id": "ZobcazXVo0fa"
      }
    },
    {
      "cell_type": "code",
      "source": [
        "def count_word_occurrences(file_path, word_to_search):\n",
        "    # Initialize a counter for the word occurrences\n",
        "    count = 0\n",
        "\n",
        "    # Open the file using a context manager\n",
        "    with open(file_path, 'r') as file:\n",
        "        # Iterate through each line in the file\n",
        "        for line in file:\n",
        "            # Split the line into words and count the occurrences of the specific word\n",
        "            count += line.lower().split().count(word_to_search.lower())\n",
        "\n",
        "    # Print the total occurrences of the word\n",
        "    print(f\"The word '{word_to_search}' appears {count} times in the file.\")\n",
        "\n",
        "# Example usage\n",
        "file_path = 'example.txt'  # Replace with your file path\n",
        "word_to_search = 'python'  # Replace with the word you want to search\n",
        "count_word_occurrences(file_path, word_to_search)"
      ],
      "metadata": {
        "id": "i1f_okvSo7XM"
      },
      "execution_count": null,
      "outputs": []
    },
    {
      "cell_type": "markdown",
      "source": [
        "**Q22. How can you check if a file is empty before attempting to read its contents?**"
      ],
      "metadata": {
        "id": "KRBDqSQspaXS"
      }
    },
    {
      "cell_type": "code",
      "source": [
        "import os\n",
        "\n",
        "def read_file_if_not_empty(file_path):\n",
        "    # Check if the file exists and is not empty\n",
        "    if os.path.exists(file_path) and os.path.getsize(file_path) > 0:\n",
        "        # Open the file and read its contents if it's not empty\n",
        "        with open(file_path, 'r') as file:\n",
        "            content = file.read()\n",
        "            print(\"File Content:\")\n",
        "            print(content)\n",
        "    else:\n",
        "        print(f\"The file '{file_path}' is empty or does not exist.\")\n",
        "\n",
        "# Example usage\n",
        "file_path = 'example.txt'  # Replace with your file path\n",
        "read_file_if_not_empty(file_path)"
      ],
      "metadata": {
        "id": "ydq6llSGpm0y"
      },
      "execution_count": null,
      "outputs": []
    },
    {
      "cell_type": "markdown",
      "source": [
        "**Q23. Write a Python program that writes to a log file when an error occurs during file handling.**"
      ],
      "metadata": {
        "id": "-sbmsbUNp00a"
      }
    },
    {
      "cell_type": "code",
      "source": [
        "import logging\n",
        "\n",
        "# Set up logging configuration\n",
        "logging.basicConfig(\n",
        "    filename='file_handling.log',  # Log file name\n",
        "    level=logging.ERROR,  # Set the log level to ERROR, meaning only error messages will be logged\n",
        "    format='%(asctime)s - %(levelname)s - %(message)s'  # Log message format\n",
        ")\n",
        "\n",
        "def read_file(file_path):\n",
        "    try:\n",
        "        with open(file_path, 'r') as file:\n",
        "            content = file.read()\n",
        "            print(content)\n",
        "    except FileNotFoundError:\n",
        "        logging.error(f\"File not found: {file_path}\")  # Log the error if file is not found\n",
        "        print(f\"Error: The file '{file_path}' does not exist.\")\n",
        "    except IOError as e:\n",
        "        logging.error(f\"IO Error occurred while reading file '{file_path}': {e}\")  # Log other IO errors\n",
        "        print(f\"Error: An IO error occurred while reading the file '{file_path}'.\")\n",
        "    except Exception as e:\n",
        "        logging.error(f\"Unexpected error occurred while reading file '{file_path}': {e}\")  # Log unexpected errors\n",
        "        print(f\"An unexpected error occurred: {e}\")\n",
        "\n",
        "# Example usage\n",
        "file_path = 'example.txt'  # Replace with the file you want to read\n",
        "read_file(file_path)"
      ],
      "metadata": {
        "id": "uiXg9aIYp5Va"
      },
      "execution_count": null,
      "outputs": []
    }
  ]
}