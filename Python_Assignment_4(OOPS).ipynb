{
  "nbformat": 4,
  "nbformat_minor": 0,
  "metadata": {
    "colab": {
      "provenance": []
    },
    "kernelspec": {
      "name": "python3",
      "display_name": "Python 3"
    },
    "language_info": {
      "name": "python"
    }
  },
  "cells": [
    {
      "cell_type": "markdown",
      "source": [
        "**Q1. What are the five key concepts of Object-Oriented Programming (OOP)?**"
      ],
      "metadata": {
        "id": "RrMSWnDkX3dv"
      }
    },
    {
      "cell_type": "markdown",
      "source": [
        "**Ans:** In Python, the five key concepts of Object-Oriented Programming (OOP) are:\n",
        "\n",
        "**1. Encapsulation:**\n",
        "Encapsulation in Python encompasses how the data, or attributes, can be collected along with their methods, or functions, under one class. This is done through classes and objects. The access modifiers are public, protected, and private. Application of these types of modifiers control how access to an object's internal state is achieved. Python uses a single underscore (_) or double underscore (__ ) for protected or private variables/methods though it does not enforce data hiding."
      ],
      "metadata": {
        "id": "rVaSD53kYAPK"
      }
    },
    {
      "cell_type": "code",
      "execution_count": null,
      "metadata": {
        "id": "2fqF5-H1Xk_J"
      },
      "outputs": [],
      "source": [
        "# Example of Encapsulation:\n",
        "class Car:\n",
        "    def __init__(self, make, model):\n",
        "        self.__make = make  # Private attribute\n",
        "        self.__model = model  # Private attribute\n",
        "\n",
        "    def get_make(self):\n",
        "        return self.__make\n",
        "\n",
        "    def get_model(self):\n",
        "        return self.__model"
      ]
    },
    {
      "cell_type": "markdown",
      "source": [
        "**2. Abstraction:**\n",
        "Abstractness in the Python programming language allows hiding of the complex implementation details but still exposing only the important things to the user. Abstract base classes and abstract methods are very common ways to realize the concept of abstraction in Python. An abstract class is a template for the generation of other classes, with the constraint that concrete subclasses must implement the abstract methods."
      ],
      "metadata": {
        "id": "2EGafiOgZ3Zl"
      }
    },
    {
      "cell_type": "code",
      "source": [
        "# Example of Abstraction:\n",
        "from abc import ABC, abstractmethod\n",
        "\n",
        "class Animal(ABC):\n",
        "    @abstractmethod\n",
        "    def make_sound(self):\n",
        "        pass\n",
        "\n",
        "class Dog(Animal):\n",
        "    def make_sound(self):\n",
        "        return \"Woof!\""
      ],
      "metadata": {
        "id": "E6_0mJOpZ-9a"
      },
      "execution_count": null,
      "outputs": []
    },
    {
      "cell_type": "markdown",
      "source": [
        "**3. Inheritance:**\n",
        "Inheritance enables one class, or child class, to inherit properties and methods from another class called a parent class. Python supports both single inheritance and multiple inheritance whereby a child class inherits from more than one parent."
      ],
      "metadata": {
        "id": "eVCkkdKDaG97"
      }
    },
    {
      "cell_type": "code",
      "source": [
        "# Example of Inheritance:\n",
        "class Vehicle:\n",
        "    def __init__(self, brand):\n",
        "        self.brand = brand\n",
        "\n",
        "    def display_brand(self):\n",
        "        return f\"Brand: {self.brand}\"\n",
        "\n",
        "class Car(Vehicle):\n",
        "    def __init__(self, brand, model):\n",
        "        super().__init__(brand)\n",
        "        self.model = model\n",
        "\n",
        "    def display_info(self):\n",
        "        return f\"{self.display_brand()}, Model: {self.model}\"\n"
      ],
      "metadata": {
        "id": "9m2qrTawaVxA"
      },
      "execution_count": null,
      "outputs": []
    },
    {
      "cell_type": "markdown",
      "source": [
        "**4. Polymorphism:**\n",
        "Polymorphism in Python is the use of a method differently, that is by usually changing it in a subclass. Python allows the overriding of methods so that a sub-class has its own implementation of a method defined in the main class."
      ],
      "metadata": {
        "id": "u0vZmrViaa2G"
      }
    },
    {
      "cell_type": "code",
      "source": [
        "# Example of Polymorphism:\n",
        "class Bird:\n",
        "    def sound(self):\n",
        "        return \"Chirp!\"\n",
        "\n",
        "class Dog:\n",
        "    def sound(self):\n",
        "        return \"Woof!\"\n",
        "\n",
        "def make_sound(animal):\n",
        "    print(animal.sound())\n",
        "\n",
        "bird = Bird()\n",
        "dog = Dog()\n",
        "\n",
        "make_sound(bird)  # Output: Chirp!\n",
        "make_sound(dog)  # Output: Woof!\n"
      ],
      "metadata": {
        "colab": {
          "base_uri": "https://localhost:8080/"
        },
        "id": "x30ovv5raoAV",
        "outputId": "33cf484f-91e0-41cf-a5ef-191069ca7b49"
      },
      "execution_count": null,
      "outputs": [
        {
          "output_type": "stream",
          "name": "stdout",
          "text": [
            "Chirp!\n",
            "Woof!\n"
          ]
        }
      ]
    },
    {
      "cell_type": "markdown",
      "source": [
        "**5. Association:**\n",
        "Association depicts how objects are related to one another. In Python, class attributes can be used for types of relations between objects such as one-to-one and even one-to-many and many-to-many.\n",
        "\n",
        "These five OOP concepts in Python help structure programs in a more modular and\n",
        "organized way, allowing for code reuse, maintainability, and flexibility."
      ],
      "metadata": {
        "id": "w4kLeyFsctEg"
      }
    },
    {
      "cell_type": "code",
      "source": [
        "# Example of Association:\n",
        "class Author:\n",
        "    def __init__(self, name):\n",
        "        self.name = name\n",
        "\n",
        "class Book:\n",
        "    def __init__(self, title, author):\n",
        "        self.title = title\n",
        "        self.author = author  # association with Author object\n",
        "\n",
        "author = Author(\"J.K. Rowling\")\n",
        "book = Book(\"Harry Potter\", author)\n",
        "print(f\"The book '{book.title}' was written by {book.author.name}.\")\n"
      ],
      "metadata": {
        "colab": {
          "base_uri": "https://localhost:8080/"
        },
        "id": "QugOXiqyc0pn",
        "outputId": "6e2d1d2d-974d-4c2c-b7cd-25a92cb2388e"
      },
      "execution_count": null,
      "outputs": [
        {
          "output_type": "stream",
          "name": "stdout",
          "text": [
            "The book 'Harry Potter' was written by J.K. Rowling.\n"
          ]
        }
      ]
    },
    {
      "cell_type": "markdown",
      "source": [
        "**Q2. Write a Python class for a `Car` with attributes for `make`, `model`, and `year`. Include a method to display**\n",
        "**the car's information.**"
      ],
      "metadata": {
        "id": "pieT73qYdl1y"
      }
    },
    {
      "cell_type": "markdown",
      "source": [
        "**Ans:** Here's a Python class for a Car that includes attributes for make, model, and year, along with a method to display the car's information:"
      ],
      "metadata": {
        "id": "pAtbYzz5dwpE"
      }
    },
    {
      "cell_type": "code",
      "source": [
        "# Example:\n",
        "class Car:\n",
        "    def __init__(self, make, model, year):\n",
        "        # Initialize the car's attributes\n",
        "        self.make = make\n",
        "        self.model = model\n",
        "        self.year = year\n",
        "\n",
        "    def display_info(self):\n",
        "        # Display the car's information\n",
        "        print(f\"Car Information: {self.year} {self.make} {self.model}\")\n",
        "\n",
        "my_car = Car(\"Toyota\", \"Corolla\", 2020)\n",
        "my_car.display_info()"
      ],
      "metadata": {
        "colab": {
          "base_uri": "https://localhost:8080/"
        },
        "id": "fut4rpb1eVOH",
        "outputId": "6f3e428e-10f6-498b-b475-7a1c12faa93f"
      },
      "execution_count": null,
      "outputs": [
        {
          "output_type": "stream",
          "name": "stdout",
          "text": [
            "Car Information: 2020 Toyota Corolla\n"
          ]
        }
      ]
    },
    {
      "cell_type": "markdown",
      "source": [
        "**Explanation:**\n",
        "* The **__** **init__** method initializes the Car object with the make, model, and year attributes.\n",
        "* The display_info method is used to print the car's details in a formatted way.\n",
        "\n",
        "This class can be instantiated with any car's make, model, and year, and the display_info method will display the car's details."
      ],
      "metadata": {
        "id": "Coihsa22ejES"
      }
    },
    {
      "cell_type": "markdown",
      "source": [
        "**Q3. Explain the difference between instance methods and class methods. Provide an example of each.**"
      ],
      "metadata": {
        "id": "8n2Y4GeSfW9w"
      }
    },
    {
      "cell_type": "markdown",
      "source": [
        "**Ans:** In Python, instance methods and class methods are both methods that belong to a class, but they have different purposes and behaviors. Here's an explanation of the difference:\n",
        "\n",
        "**Instance Methods:**\n",
        "* ***Definition:*** The most commonly-used methods are instance methods in Python, which work on an object from the class and have the ability to use or change attributes of objects.\n",
        "* ***Self Parameter :*** Conventionally, methods of instances take self as the first parameter; it is the name of the instance of the class.\n",
        "* ***Access:*** They can make use of both instance attributes (self.attribute) and class attributes (ClassName.attribute), but they generally work with instance attributes."
      ],
      "metadata": {
        "id": "2_0iYePxfgrc"
      }
    },
    {
      "cell_type": "code",
      "source": [
        "class Car:\n",
        "    def __init__(self, make, model, year):\n",
        "        self.make = make\n",
        "        self.model = model\n",
        "        self.year = year\n",
        "\n",
        "    def display_info(self):\n",
        "        print(f\"{self.year} {self.make} {self.model}\")\n",
        "\n",
        "# Creating an instance of the Car class\n",
        "my_car = Car(\"Toyota\", \"Corolla\", 2020)\n",
        "\n",
        "# Calling the instance method\n",
        "my_car.display_info()  # Output: 2020 Toyota Corolla"
      ],
      "metadata": {
        "colab": {
          "base_uri": "https://localhost:8080/"
        },
        "id": "1KjPwNQ8h9Wp",
        "outputId": "b85320cb-7052-4a8f-e9d0-8c537af61e18"
      },
      "execution_count": null,
      "outputs": [
        {
          "output_type": "stream",
          "name": "stdout",
          "text": [
            "2020 Toyota Corolla\n"
          ]
        }
      ]
    },
    {
      "cell_type": "markdown",
      "source": [
        "In the above example, display_info is an instance method because it operates on a specific instance (self), and it has access to the instance's attributes (self.year, self.make, self.model).\n",
        "\n",
        "**Class Methods:**\n",
        "* ***Definition:*** Class methods are bound to the class rather than an instance. They can access class-level attributes but cannot access instance-specific attributes.\n",
        "* ***cls Parameter:*** Class methods always take the cls parameter as the first argument, which refers to the class itself (not an instance).\n",
        "* ***Decorator:*** In Python, class methods are defined using the @classmethod decorator."
      ],
      "metadata": {
        "id": "F47vqOlyiE-R"
      }
    },
    {
      "cell_type": "code",
      "source": [
        "class Car:\n",
        "    total_cars = 0  # Class attribute to track the number of cars created\n",
        "\n",
        "    def __init__(self, make, model, year):\n",
        "        self.make = make\n",
        "        self.model = model\n",
        "        self.year = year\n",
        "        Car.total_cars += 1  # Increment the class attribute when a new car is created\n",
        "\n",
        "    @classmethod\n",
        "    def display_total_cars(cls):\n",
        "        print(f\"Total cars created: {cls.total_cars}\")\n",
        "\n",
        "# Creating instances of the Car class\n",
        "car1 = Car(\"Toyota\", \"Corolla\", 2020)\n",
        "car2 = Car(\"Honda\", \"Civic\", 2021)\n",
        "\n",
        "# Calling the class method\n",
        "Car.display_total_cars()"
      ],
      "metadata": {
        "colab": {
          "base_uri": "https://localhost:8080/"
        },
        "id": "I3Smxphgirm_",
        "outputId": "51fa2f49-7619-4ba0-d168-350b5a517aa0"
      },
      "execution_count": null,
      "outputs": [
        {
          "output_type": "stream",
          "name": "stdout",
          "text": [
            "Total cars created: 2\n"
          ]
        }
      ]
    },
    {
      "cell_type": "markdown",
      "source": [
        "In this example, display_total_cars is a class method because it operates on the class itself (not on an instance). It can access and modify the class-level attribute total_cars but cannot access instance-specific attributes like self.make or self.model.\n",
        "\n",
        "**Key Differences:**\n",
        "\n",
        "**Binding:**\n",
        "\n",
        "Instance methods are bound to instances of the class.\n",
        "Class methods are bound to the class itself and not to any specific instance.\n",
        "\n",
        "**Access:**\n",
        "\n",
        "Instance methods can access both instance attributes and class attributes.\n",
        "Class methods can only access class-level attributes (not instance attributes).\n",
        "\n",
        "**Usage:**\n",
        "\n",
        "Instance methods are used to perform operations on individual objects.\n",
        "Class methods are often used to work with class-level data or create alternative constructors."
      ],
      "metadata": {
        "id": "e7q053ZCirAI"
      }
    },
    {
      "cell_type": "markdown",
      "source": [
        "  **Q4. How does Python implement method overloading? Give an example.**"
      ],
      "metadata": {
        "id": "o_XMP-awkXLL"
      }
    },
    {
      "cell_type": "markdown",
      "source": [
        "**Ans:** In Python, method overloading--the concept of defining several methods having the same name but different signatures is not natively supported like in some other languages like Java or C++. In Python, no multiple methods are allowed in the same name in the same class, but there are flexible methods to do much the same things. You can implement method overloading using the default arguments, the variable-length arguments as well as manually checking the type of arguments.\n",
        "\n",
        "**1. Method Overloading with Default Arguments:**\n",
        "You can provide default values for parameters, allowing a method to be called with varying numbers of arguments."
      ],
      "metadata": {
        "id": "ad-gKODtknbf"
      }
    },
    {
      "cell_type": "code",
      "source": [
        "class Calculator:\n",
        "    def add(self, a, b=0, c=0):\n",
        "        return a + b + c\n",
        "\n",
        "# Create an instance of Calculator\n",
        "calc = Calculator()\n",
        "\n",
        "# Method called with two arguments\n",
        "print(calc.add(5, 3))  # Output: 8\n",
        "\n",
        "# Method called with one argument\n",
        "print(calc.add(5))  # Output: 5\n",
        "\n",
        "# Method called with three arguments\n",
        "print(calc.add(5, 3, 2))  # Output: 10"
      ],
      "metadata": {
        "colab": {
          "base_uri": "https://localhost:8080/"
        },
        "id": "zeNvCA19mrVt",
        "outputId": "6e433fe4-6d66-4bbc-88f5-6522074d852a"
      },
      "execution_count": null,
      "outputs": [
        {
          "output_type": "stream",
          "name": "stdout",
          "text": [
            "8\n",
            "5\n",
            "10\n"
          ]
        }
      ]
    },
    {
      "cell_type": "markdown",
      "source": [
        "In this example, the method add works as if it is overloaded, but it is a single method that has default values for b and c. When fewer than three arguments are provided, Python uses the default values.\n",
        "\n",
        "**2. Method Overloading with Variable-Length Arguments:**\n",
        "You can also use *args and **kwargs to accept an arbitrary number of positional or keyword arguments. This enables a method to handle different types and numbers of arguments."
      ],
      "metadata": {
        "id": "RoOROS_mmyjf"
      }
    },
    {
      "cell_type": "code",
      "source": [
        "class Calculator:\n",
        "    def add(self, *args):\n",
        "        return sum(args)\n",
        "\n",
        "# Create an instance of Calculator\n",
        "calc = Calculator()\n",
        "\n",
        "# Method called with two arguments\n",
        "print(calc.add(5, 3))  # Output: 8\n",
        "\n",
        "# Method called with three arguments\n",
        "print(calc.add(5, 3, 2))  # Output: 10\n",
        "\n",
        "# Method called with four arguments\n",
        "print(calc.add(5, 3, 2, 1))  # Output: 11"
      ],
      "metadata": {
        "colab": {
          "base_uri": "https://localhost:8080/"
        },
        "id": "Nzzm9hJLm6h9",
        "outputId": "24c81816-76c7-4b84-b3f7-c0a4a8f51b11"
      },
      "execution_count": null,
      "outputs": [
        {
          "output_type": "stream",
          "name": "stdout",
          "text": [
            "8\n",
            "10\n",
            "11\n"
          ]
        }
      ]
    },
    {
      "cell_type": "markdown",
      "source": [
        "In this case, the add method accepts a variable number of arguments (*args) and sums them up, allowing for any number of arguments to be passed in.\n",
        "\n",
        "**3. Method Overloading by Checking Argument Types:**\n",
        "You can also define a single method and implement logic to check the types or values of the arguments to simulate method overloading behavior."
      ],
      "metadata": {
        "id": "IXhVtJOVm_aK"
      }
    },
    {
      "cell_type": "code",
      "source": [
        "class Printer:\n",
        "    def print_message(self, message, repeat=1):\n",
        "        if isinstance(message, str) and isinstance(repeat, int):\n",
        "            for _ in range(repeat):\n",
        "                print(message)\n",
        "        else:\n",
        "            print(\"Invalid arguments\")\n",
        "\n",
        "# Create an instance of Printer\n",
        "printer = Printer()\n",
        "\n",
        "# Method called with two arguments\n",
        "printer.print_message(\"Hello, World!\", 3)\n",
        "# Output:\n",
        "# Hello, World!\n",
        "# Hello, World!\n",
        "# Hello, World!\n",
        "\n",
        "# Method called with one argument\n",
        "printer.print_message(\"Hello, World!\")\n",
        "# Output:\n",
        "# Hello, World!\n",
        "\n",
        "# Method called with invalid argument\n",
        "printer.print_message(\"Hello\", \"two\")  # Output: Invalid arguments"
      ],
      "metadata": {
        "colab": {
          "base_uri": "https://localhost:8080/"
        },
        "id": "GRRiEvlsnFeW",
        "outputId": "a7fbd22e-5d48-4c68-cb48-05e2e061cb2c"
      },
      "execution_count": null,
      "outputs": [
        {
          "output_type": "stream",
          "name": "stdout",
          "text": [
            "Hello, World!\n",
            "Hello, World!\n",
            "Hello, World!\n",
            "Hello, World!\n",
            "Invalid arguments\n"
          ]
        }
      ]
    },
    {
      "cell_type": "markdown",
      "source": [
        "Here, the method print_message can take two arguments (message and repeat), and it prints the message a number of times depending on the repeat argument. The logic checks if the arguments are of the correct types to perform the operation.\n",
        "\n",
        "**Note:** Python does not directly support traditional method overloading like some other languages (e.g., Java or C++)."
      ],
      "metadata": {
        "id": "yJtyf_fxnKOv"
      }
    },
    {
      "cell_type": "markdown",
      "source": [
        "**Q5. What are the three types of access modifiers in Python? How are they denoted?**"
      ],
      "metadata": {
        "id": "nufQZGkMneCk"
      }
    },
    {
      "cell_type": "markdown",
      "source": [
        "**Ans:** Access modifiers in Python denote accessibility of class attributes and methods. Their control is use of naming convention with no strict enforcement, as in other languages like Java for access control purposes. There are three types of access modifiers available in Python:\n",
        "\n",
        "**1. Public Access Modifier:**\n",
        "* **Definition:** Public members are accessible from anywhere, both inside and outside the class. There are no restrictions on accessing public attributes or methods.\n",
        "* **Denotation:** Public attributes and methods are defined without any special prefix"
      ],
      "metadata": {
        "id": "8oNv4mkIpDls"
      }
    },
    {
      "cell_type": "code",
      "source": [
        "class Car:\n",
        "    def __init__(self, make, model):\n",
        "        self.make = make  # public attribute\n",
        "        self.model = model  # public attribute\n",
        "\n",
        "    def display_info(self):  # public method\n",
        "        print(f\"Make: {self.make}, Model: {self.model}\")\n",
        "\n",
        "my_car = Car(\"Toyota\", \"Corolla\")\n",
        "print(my_car.make)  # Accessing public attribute\n",
        "my_car.display_info()  # Calling public method"
      ],
      "metadata": {
        "colab": {
          "base_uri": "https://localhost:8080/"
        },
        "id": "Y_dpsHOYqCEN",
        "outputId": "d807b3ed-34d8-4257-8b49-17203a464e5e"
      },
      "execution_count": null,
      "outputs": [
        {
          "output_type": "stream",
          "name": "stdout",
          "text": [
            "Toyota\n",
            "Make: Toyota, Model: Corolla\n"
          ]
        }
      ]
    },
    {
      "cell_type": "markdown",
      "source": [
        "In this example, **make**, **model**, and **display_info** are public, meaning they can be accessed directly outside the class.\n",
        "\n",
        "**2. Protected Access Modifier:**\n",
        "* **Definition:** Protected members are intended to be accessible only within the class and its subclasses. They are not meant to be accessed directly from outside the class.\n",
        "* **Denotation:** Protected attributes and methods are prefixed with a single underscore (_)."
      ],
      "metadata": {
        "id": "bQ5EeRWQqE8J"
      }
    },
    {
      "cell_type": "code",
      "source": [
        "class Car:\n",
        "    def __init__(self, make, model):\n",
        "        self._make = make  # protected attribute\n",
        "        self._model = model  # protected attribute\n",
        "\n",
        "    def _display_info(self):  # protected method\n",
        "        print(f\"Make: {self._make}, Model: {self._model}\")\n",
        "\n",
        "my_car = Car(\"Toyota\", \"Corolla\")\n",
        "print(my_car._make)  # Technically accessible, but not recommended\n",
        "my_car._display_info()  # Technically accessible, but not recommended"
      ],
      "metadata": {
        "colab": {
          "base_uri": "https://localhost:8080/"
        },
        "id": "LAPlM8sVqEWr",
        "outputId": "0a50977d-092c-4bbb-ab05-bba0f3cfe5cc"
      },
      "execution_count": null,
      "outputs": [
        {
          "output_type": "stream",
          "name": "stdout",
          "text": [
            "Toyota\n",
            "Make: Toyota, Model: Corolla\n"
          ]
        }
      ]
    },
    {
      "cell_type": "markdown",
      "source": [
        "In this case, **_make** and **_model** are intended to be protected, meaning they should not be accessed directly from outside the class. However, they are still accessible, so this is only a convention.\n",
        "\n",
        "**3. Private Access Modifier:**\n",
        "* **Definition:** Private members are meant to be accessible only within the class. They are not supposed to be accessed or modified directly from outside the class or by subclasses.\n",
        "* **Denotation:** Private attributes and methods are prefixed with a double underscore (__)."
      ],
      "metadata": {
        "id": "QuXsSwaYqgwg"
      }
    },
    {
      "cell_type": "code",
      "source": [
        "class Car:\n",
        "    def __init__(self, make, model):\n",
        "        self.__make = make  # private attribute\n",
        "        self.__model = model  # private attribute\n",
        "\n",
        "    def __display_info(self):  # private method\n",
        "        print(f\"Make: {self.__make}, Model: {self.__model}\")\n",
        "\n",
        "    def display_info(self):  # public method to access private data\n",
        "        self.__display_info()\n",
        "\n",
        "my_car = Car(\"Toyota\", \"Corolla\")\n",
        "# print(my_car.__make)  # This would raise an AttributeError\n",
        "my_car.display_info()  # Correct way to access private method"
      ],
      "metadata": {
        "colab": {
          "base_uri": "https://localhost:8080/"
        },
        "id": "I626UhBWq_5J",
        "outputId": "05b1f926-1206-42a2-de4f-d5205a19d195"
      },
      "execution_count": null,
      "outputs": [
        {
          "output_type": "stream",
          "name": "stdout",
          "text": [
            "Make: Toyota, Model: Corolla\n"
          ]
        }
      ]
    },
    {
      "cell_type": "markdown",
      "source": [
        "In this example, **__make** and **__model** are private, and attempting to access them directly outside the class will result in an AttributeError.\n",
        "\n",
        "**Note:**\n",
        "* These access modifiers are not strictly enforced by Python, so they rely on **conventions**.\n",
        "* Python uses **name mangling** to make private attributes and methods harder to accidentally access outside the class, but they are still technically accessible using a modified name (e.g., _ClassName__attribute)."
      ],
      "metadata": {
        "id": "poKQlHV6rKsr"
      }
    },
    {
      "cell_type": "markdown",
      "source": [
        "**Q6. Describe the five types of inheritance in Python. Provide a simple example of multiple inheritance.**"
      ],
      "metadata": {
        "id": "llT_sUQ1rtHC"
      }
    },
    {
      "cell_type": "markdown",
      "source": [
        "**Ans:** Inheritance is just a concept in Python where one class can inherit all its attributes and methods to another class (that is the child class) from another class (that is the parent class). It promotes the reuse of code along with a hierarchical relationship of classes. There are five common types of inheritance in Python:\n",
        "\n",
        "**1. Single Inheritance:**\n",
        "* Definition: In single inheritance, a class (child class) inherits from a single parent class.\n",
        "* Example: A Dog class inherits from an Animal class"
      ],
      "metadata": {
        "id": "Fx3wO3uJsr3Z"
      }
    },
    {
      "cell_type": "code",
      "source": [
        "class Animal:\n",
        "    def speak(self):\n",
        "        print(\"Animal makes a sound\")\n",
        "\n",
        "class Dog(Animal):\n",
        "    def bark(self):\n",
        "        print(\"Dog barks\")\n",
        "\n",
        "dog = Dog()\n",
        "dog.speak()  # Inherited method\n",
        "dog.bark()   # Method of Dog class"
      ],
      "metadata": {
        "colab": {
          "base_uri": "https://localhost:8080/"
        },
        "id": "T1x1HyZLs733",
        "outputId": "f7d885be-377c-4830-ece8-eebc6c7d3260"
      },
      "execution_count": null,
      "outputs": [
        {
          "output_type": "stream",
          "name": "stdout",
          "text": [
            "Animal makes a sound\n",
            "Dog barks\n"
          ]
        }
      ]
    },
    {
      "cell_type": "markdown",
      "source": [
        "**2. Multiple Inheritance:**\n",
        "* Definition: In multiple inheritance, a class (child class) inherits from more than one parent class. This allows the child class to inherit attributes and methods from multiple classes.\n",
        "* Example: A Bird class inherits from both Animal and Flying classes."
      ],
      "metadata": {
        "id": "hqepq7sWtEPT"
      }
    },
    {
      "cell_type": "code",
      "source": [
        "class Animal:\n",
        "    def speak(self):\n",
        "        print(\"Animal makes a sound\")\n",
        "\n",
        "class Flying:\n",
        "    def fly(self):\n",
        "        print(\"Flying high\")\n",
        "\n",
        "class Bird(Animal, Flying):\n",
        "    def chirp(self):\n",
        "        print(\"Bird chirps\")\n",
        "\n",
        "bird = Bird()\n",
        "bird.speak()  # Inherited from Animal\n",
        "bird.fly()    # Inherited from Flying\n",
        "bird.chirp()  # Method of Bird class\n",
        "\n",
        "# In this example, Bird class inherits from both Animal and Flying classes, and thus it can use methods from both parent classes (speak from Animal and fly from Flying)."
      ],
      "metadata": {
        "colab": {
          "base_uri": "https://localhost:8080/"
        },
        "id": "-S6S0zlztOPh",
        "outputId": "4ad23322-ff59-402a-fe44-56ae3cc10e52"
      },
      "execution_count": null,
      "outputs": [
        {
          "output_type": "stream",
          "name": "stdout",
          "text": [
            "Animal makes a sound\n",
            "Flying high\n",
            "Bird chirps\n"
          ]
        }
      ]
    },
    {
      "cell_type": "markdown",
      "source": [
        "**3. Multilevel Inheritance:**\n",
        "* Definition: In multilevel inheritance, a class (child class) inherits from another class, which in turn inherits from another class (grandparent class). The inheritance forms a chain.\n",
        "* Example: A Child class inherits from a Parent class, which in turn inherits from a Grandparent class."
      ],
      "metadata": {
        "id": "G7-CoRTgtT52"
      }
    },
    {
      "cell_type": "code",
      "source": [
        "class Grandparent:\n",
        "    def say_hello(self):\n",
        "        print(\"Hello from Grandparent\")\n",
        "\n",
        "class Parent(Grandparent):\n",
        "    def greet(self):\n",
        "        print(\"Hello from Parent\")\n",
        "\n",
        "class Child(Parent):\n",
        "    def introduce(self):\n",
        "        print(\"Hello from Child\")\n",
        "\n",
        "child = Child()\n",
        "child.say_hello()  # Inherited from Grandparent\n",
        "child.greet()      # Inherited from Parent\n",
        "child.introduce()  # Method of Child class"
      ],
      "metadata": {
        "colab": {
          "base_uri": "https://localhost:8080/"
        },
        "id": "y6k0YTlUtfyh",
        "outputId": "83169c21-d102-4df8-dee6-8f665743f218"
      },
      "execution_count": null,
      "outputs": [
        {
          "output_type": "stream",
          "name": "stdout",
          "text": [
            "Hello from Grandparent\n",
            "Hello from Parent\n",
            "Hello from Child\n"
          ]
        }
      ]
    },
    {
      "cell_type": "markdown",
      "source": [
        "**4. Hierarchical Inheritance:**\n",
        "* Definition: In hierarchical inheritance, multiple child classes inherit from a single parent class. This allows different classes to share common functionality from the same parent class.\n",
        "* Example: Both Dog and Cat classes inherit from the Animal class."
      ],
      "metadata": {
        "id": "Ck8_hl01tln0"
      }
    },
    {
      "cell_type": "code",
      "source": [
        "class Animal:\n",
        "    def speak(self):\n",
        "        print(\"Animal makes a sound\")\n",
        "\n",
        "class Dog(Animal):\n",
        "    def bark(self):\n",
        "        print(\"Dog barks\")\n",
        "\n",
        "class Cat(Animal):\n",
        "    def meow(self):\n",
        "        print(\"Cat meows\")\n",
        "\n",
        "dog = Dog()\n",
        "cat = Cat()\n",
        "dog.speak()  # Inherited from Animal\n",
        "dog.bark()   # Method of Dog class\n",
        "cat.speak()  # Inherited from Animal\n",
        "cat.meow()   # Method of Cat class"
      ],
      "metadata": {
        "colab": {
          "base_uri": "https://localhost:8080/"
        },
        "id": "3XlyVQyDtrKg",
        "outputId": "e6478e0c-88e8-477f-9f97-6206556f3579"
      },
      "execution_count": null,
      "outputs": [
        {
          "output_type": "stream",
          "name": "stdout",
          "text": [
            "Animal makes a sound\n",
            "Dog barks\n",
            "Animal makes a sound\n",
            "Cat meows\n"
          ]
        }
      ]
    },
    {
      "cell_type": "markdown",
      "source": [
        "**5. Hybrid Inheritance:**\n",
        "* Definition: Hybrid inheritance is a combination of two or more types of inheritance. It typically combines multiple and multilevel inheritance or other types of inheritance in a single class structure.\n",
        "* Example: A Child class inherits from both Parent and Grandparent, and the Parent class inherits from another class."
      ],
      "metadata": {
        "id": "Ql97DDwJtuRt"
      }
    },
    {
      "cell_type": "code",
      "source": [
        "class Grandparent:\n",
        "    def say_hello(self):\n",
        "        print(\"Hello from Grandparent\")\n",
        "\n",
        "class Parent(Grandparent):\n",
        "    def greet(self):\n",
        "        print(\"Hello from Parent\")\n",
        "\n",
        "class Mother:\n",
        "    def cook(self):\n",
        "        print(\"Mother cooks food\")\n",
        "\n",
        "class Child(Parent, Mother):\n",
        "    def play(self):\n",
        "        print(\"Child plays\")\n",
        "\n",
        "child = Child()\n",
        "child.say_hello()  # Inherited from Grandparent\n",
        "child.greet()      # Inherited from Parent\n",
        "child.cook()       # Inherited from Mother\n",
        "child.play()       # Method of Child class"
      ],
      "metadata": {
        "colab": {
          "base_uri": "https://localhost:8080/"
        },
        "id": "FvIW4n2Nt49Y",
        "outputId": "2cf6cfd3-eeb7-405c-ba2d-489e21afdc3b"
      },
      "execution_count": null,
      "outputs": [
        {
          "output_type": "stream",
          "name": "stdout",
          "text": [
            "Hello from Grandparent\n",
            "Hello from Parent\n",
            "Mother cooks food\n",
            "Child plays\n"
          ]
        }
      ]
    },
    {
      "cell_type": "markdown",
      "source": [
        "**Q7. What is the Method Resolution Order (MRO) in Python? How can you retrieve it programmatically?**"
      ],
      "metadata": {
        "id": "b59wx_ubt2k-"
      }
    },
    {
      "cell_type": "markdown",
      "source": [
        "**Ans:** **MRO in Python:**\n",
        "A method resolution order lets Python define a search path up in an inheritance hierarchy. In simple terms, we can say that it guides Python when it needs to find a method in case of a call on an object. It becomes very useful in the case of multiple inheritance whereby a class inherits from more than one class. Using MRO, Python can determine the order of calling methods from base classes ensuring that the method that is supposed to be called is selected.\n",
        "\n",
        "**How MRO Works:**\n",
        "1. Python uses a depth-first search to look for methods in the class hierarchy.\n",
        "2. The MRO is used to determine the sequence of classes that Python will look into when searching for an attribute or method.\n",
        "3. The MRO is determined using the C3 linearization algorithm (C3 superclass linearization), which ensures that the inheritance is consistent and avoids conflicts, especially in multiple inheritance scenarios.\n",
        "\n",
        "In simple terms, the MRO specifies the order in which base classes are searched when looking for a method. This order is automatically computed based on the inheritance hierarchy and the class's MRO."
      ],
      "metadata": {
        "id": "26_bevMKxRgp"
      }
    },
    {
      "cell_type": "code",
      "source": [
        "class A:\n",
        "    def greet(self):\n",
        "        print(\"Hello from A\")\n",
        "\n",
        "class B(A):\n",
        "    def greet(self):\n",
        "        print(\"Hello from B\")\n",
        "\n",
        "class C(A):\n",
        "    def greet(self):\n",
        "        print(\"Hello from C\")\n",
        "\n",
        "class D(B, C):\n",
        "    pass\n",
        "\n",
        "d = D()\n",
        "d.greet()"
      ],
      "metadata": {
        "colab": {
          "base_uri": "https://localhost:8080/"
        },
        "id": "-Xa7rqUox9Mz",
        "outputId": "1139e205-3280-442a-82af-3c2da6f67aa3"
      },
      "execution_count": null,
      "outputs": [
        {
          "output_type": "stream",
          "name": "stdout",
          "text": [
            "Hello from B\n"
          ]
        }
      ]
    },
    {
      "cell_type": "markdown",
      "source": [
        "**Explanation:**\n",
        "* D inherits from both B and C.\n",
        "* B inherits from A, and C also inherits from A.\n",
        "* When d.greet() is called, Python searches for the greet method starting from class D, then B, then C, and finally A.\n",
        "* The method is resolved using the MRO, and Python will find greet in class B because it is the first class in the MRO list that contains the method.\n",
        "\n",
        "**How to Retrieve MRO Programmatically:**\n",
        "\n",
        "You can retrieve the MRO of a class by using the **mro()** method of the class or by accessing the **__** **mro__** attribute. Both approaches give you the MRO as a list of classes."
      ],
      "metadata": {
        "id": "cM4hHkeVyELV"
      }
    },
    {
      "cell_type": "code",
      "source": [
        "class A:\n",
        "    pass\n",
        "\n",
        "class B(A):\n",
        "    pass\n",
        "\n",
        "class C(B):\n",
        "    pass\n",
        "\n",
        "# Retrieve MRO using the mro() method\n",
        "print(C.mro())\n",
        "\n",
        "# Alternatively, you can access the __mro__ attribute\n",
        "print(C.__mro__)"
      ],
      "metadata": {
        "colab": {
          "base_uri": "https://localhost:8080/"
        },
        "id": "Lp7bibLky5xE",
        "outputId": "ae01e7f5-b0da-400a-9c3f-ef18581d35b5"
      },
      "execution_count": null,
      "outputs": [
        {
          "output_type": "stream",
          "name": "stdout",
          "text": [
            "[<class '__main__.C'>, <class '__main__.B'>, <class '__main__.A'>, <class 'object'>]\n",
            "(<class '__main__.C'>, <class '__main__.B'>, <class '__main__.A'>, <class 'object'>)\n"
          ]
        }
      ]
    },
    {
      "cell_type": "markdown",
      "source": [
        "* Both mro() and __mro__ return the same result. The MRO list shows the order in which Python will search for methods when you call a method on an instance of class C.\n",
        "* The object class is always the last class in the MRO because it is the ultimate base class for all classes in Python.\n",
        "\n",
        "**C3 Linearization Algorithm:**\n",
        "The C3 Linearization is the algorithm Python uses to compute the MRO, ensuring that classes are linearized in a consistent way. The key rule of C3 linearization is that the base classes are selected in such a way that they preserve the order of inheritance and avoid conflicts. It ensures that classes are searched in a methodical and non-ambiguous manner, particularly when multiple inheritance is involved."
      ],
      "metadata": {
        "id": "Vz4pEDz5zB9t"
      }
    },
    {
      "cell_type": "markdown",
      "source": [
        "**Q8. Create an abstract base class `Shape` with an abstract method `area()`. Then create two subclasses**\n",
        "**`Circle` and `Rectangle` that implement the `area()` method.**\n",
        "\n",
        "\n"
      ],
      "metadata": {
        "id": "MCUYT9b0zUDC"
      }
    },
    {
      "cell_type": "markdown",
      "source": [
        "**Ans:** You can create an abstract base class Shape with an abstract method area() using the **abc** (Abstract Base Classes) module of Python. The classes defined this way cannot be directly instantiated, and their abstract method must be implemented in the derived class.\n",
        "\n",
        "**Steps:**  \n",
        "1. Create an abstract base class **Shape** using the class ABC in **abc** module and use the **@abstractmethod** decorator for **area()** method.\n",
        "2. Make two subclasses: Circle and Rectangle which implement the method **area()**."
      ],
      "metadata": {
        "id": "ew8SMh7DzbYm"
      }
    },
    {
      "cell_type": "code",
      "source": [
        "from abc import ABC, abstractmethod\n",
        "import math\n",
        "\n",
        "# Abstract Base Class\n",
        "class Shape(ABC):\n",
        "    @abstractmethod\n",
        "    def area(self):\n",
        "        pass\n",
        "\n",
        "# Subclass for Circle\n",
        "class Circle(Shape):\n",
        "    def __init__(self, radius):\n",
        "        self.radius = radius\n",
        "\n",
        "    def area(self):\n",
        "        return math.pi * self.radius ** 2\n",
        "\n",
        "# Subclass for Rectangle\n",
        "class Rectangle(Shape):\n",
        "    def __init__(self, length, width):\n",
        "        self.length = length\n",
        "        self.width = width\n",
        "\n",
        "    def area(self):\n",
        "        return self.length * self.width\n",
        "\n",
        "# Example usage\n",
        "circle = Circle(5)\n",
        "rectangle = Rectangle(4, 6)\n",
        "\n",
        "print(f\"Area of the circle: {circle.area()}\")\n",
        "print(f\"Area of the rectangle: {rectangle.area()}\")"
      ],
      "metadata": {
        "colab": {
          "base_uri": "https://localhost:8080/"
        },
        "id": "daMk2JJe1eoX",
        "outputId": "4b981084-ad02-4732-9c72-54bad7d8d5ea"
      },
      "execution_count": null,
      "outputs": [
        {
          "output_type": "stream",
          "name": "stdout",
          "text": [
            "Area of the circle: 78.53981633974483\n",
            "Area of the rectangle: 24\n"
          ]
        }
      ]
    },
    {
      "cell_type": "markdown",
      "source": [
        "**Explanation:**\n",
        "\n",
        "**Shape Class:**\n",
        "\n",
        "Shape is an abstract base class that cannot be instantiated directly.\n",
        "It defines an abstract method **area()** that must be implemented by any subclass.\n",
        "\n",
        "**Circle Class:**\n",
        "\n",
        "The Circle class inherits from Shape and implements the area() method. The area of a circle is calculated using the formula **πr^2**\n",
        " , where r is the radius of the circle.\n",
        "\n",
        "**Rectangle Class:**\n",
        "\n",
        "The Rectangle class also inherits from Shape and implements the **area()** method. The area of a rectangle is calculated using the formula\n",
        "**length**\n",
        "**×**\n",
        "**width**.\n",
        "\n",
        "**Usage:**\n",
        "\n",
        "Instances of Circle and Rectangle are created, and their respective area() methods are called to calculate and print the area of each shape.\n",
        "\n",
        "**Key Points:**\n",
        "* The Shape class cannot be instantiated because it contains an abstract method (area()), which requires concrete implementations in the subclasses.\n",
        "* Each subclass (Circle and Rectangle) must implement the area() method to define how to calculate the area for that specific shape."
      ],
      "metadata": {
        "id": "UaeQIuRW1lNb"
      }
    },
    {
      "cell_type": "markdown",
      "source": [
        "**Q9. Demonstrate polymorphism by creating a function that can work with different shape objects to calculate**\n",
        "**and print their areas.**"
      ],
      "metadata": {
        "id": "jQyrByFr-5fL"
      }
    },
    {
      "cell_type": "markdown",
      "source": [
        "**Ans:** Polymorphism makes it possible for an instance of one class to resemble that of another using a single interface. For example, polymorphism may be demonstrated through the creation of a function which can calculate the areas of any shape object such as Circle, Rectangle etc., provided that those are implementations of the area() method from the Shape abstract base class.\n",
        "\n",
        "**Steps:**\n",
        "* Define the Shape class with an abstract area() method (as before).\n",
        "* Create subclasses Circle and Rectangle that implement the area() method.\n",
        "* Create a function that accepts different shape objects and calculates their area by calling the area() method."
      ],
      "metadata": {
        "id": "eqT8XQuJ_DE6"
      }
    },
    {
      "cell_type": "code",
      "source": [
        "from abc import ABC, abstractmethod\n",
        "import math\n",
        "\n",
        "# Abstract Base Class\n",
        "class Shape(ABC):\n",
        "    @abstractmethod\n",
        "    def area(self):\n",
        "        pass\n",
        "\n",
        "# Subclass for Circle\n",
        "class Circle(Shape):\n",
        "    def __init__(self, radius):\n",
        "        self.radius = radius\n",
        "\n",
        "    def area(self):\n",
        "        return math.pi * self.radius ** 2\n",
        "\n",
        "# Subclass for Rectangle\n",
        "class Rectangle(Shape):\n",
        "    def __init__(self, length, width):\n",
        "        self.length = length\n",
        "        self.width = width\n",
        "\n",
        "    def area(self):\n",
        "        return self.length * self.width\n",
        "\n",
        "# Function demonstrating polymorphism\n",
        "def print_area(shape: Shape):\n",
        "    print(f\"The area of the shape is: {shape.area()}\")\n",
        "\n",
        "# Example usage\n",
        "circle = Circle(5)\n",
        "rectangle = Rectangle(4, 6)\n",
        "\n",
        "# Using polymorphism: passing different objects to the same function\n",
        "print_area(circle)\n",
        "print_area(rectangle)"
      ],
      "metadata": {
        "colab": {
          "base_uri": "https://localhost:8080/"
        },
        "id": "rSOhRM95AfS9",
        "outputId": "078faca9-9365-4dfa-d9ff-75253dee47bb"
      },
      "execution_count": null,
      "outputs": [
        {
          "output_type": "stream",
          "name": "stdout",
          "text": [
            "The area of the shape is: 78.53981633974483\n",
            "The area of the shape is: 24\n"
          ]
        }
      ]
    },
    {
      "cell_type": "markdown",
      "source": [
        "**Explanation:**\n",
        "\n",
        "**Shape Class:**\n",
        "\n",
        "The Shape class is an abstract base class that defines the area() method. Any class inheriting from Shape is required to implement this method.\n",
        "\n",
        "**Circle and Rectangle Classes:**\n",
        "\n",
        "Both Circle and Rectangle inherit from the Shape class and provide their own implementations of the area() method.\n",
        "\n",
        "**Polymorphic Function (print_area):**\n",
        "\n",
        "* The function print_area accepts a Shape object as its argument. Since both Circle and Rectangle are subclasses of Shape, the same function can be used to handle objects of different types.\n",
        "\n",
        "* When print_area(circle) is called, Python invokes the area() method of the Circle class. Similarly, when print_area(rectangle) is called, Python invokes the area() method of the Rectangle class.\n",
        "\n",
        "**Polymorphism:**\n",
        "\n",
        "The key idea here is that the print_area function works with any object that is a subclass of Shape, making it polymorphic. It does not need to know the specific type of the object (whether it's a Circle or Rectangle), just that it has an area() method.\n",
        "\n",
        "**Key Points:**\n",
        "* Polymorphism: The print_area function demonstrates polymorphism because it can work with different types of shape objects (Circle, Rectangle, etc.) and calculate their area by calling the area() method, which is implemented differently for each shape.\n",
        "* This is a clear example of method overriding, where each subclass provides its own implementation of the area() method.\n",
        "* The function is flexible and can easily handle other shapes as long as they implement the area() method."
      ],
      "metadata": {
        "id": "ovKD7YAoAt5r"
      }
    },
    {
      "cell_type": "markdown",
      "source": [
        "**Q10. Implement encapsulation in a `BankAccount` class with private attributes for `balance` and**\n",
        "**`account_number`. Include methods for deposit, withdrawal, and balance inquiry.**"
      ],
      "metadata": {
        "id": "LFRqofy8LF4N"
      }
    },
    {
      "cell_type": "markdown",
      "source": [
        "**Ans:** Encapsulation in a **BankAccount** class involves making the **balance** and **account_number** attributes private, so they can only be accessed or modified through specific methods. Here's how we can implement this in Python:"
      ],
      "metadata": {
        "id": "Be9X-trWLQKv"
      }
    },
    {
      "cell_type": "code",
      "source": [
        "class BankAccount:\n",
        "    def __init__(self, account_number, initial_balance=0):\n",
        "        self.__account_number = account_number  # Private attribute\n",
        "        self.__balance = initial_balance  # Private attribute\n",
        "\n",
        "    # Method to deposit money\n",
        "    def deposit(self, amount):\n",
        "        if amount > 0:\n",
        "            self.__balance += amount\n",
        "            print(f\"Deposited: {amount}. New balance: {self.__balance}\")\n",
        "        else:\n",
        "            print(\"Invalid deposit amount. Please enter a positive amount.\")\n",
        "\n",
        "    # Method to withdraw money\n",
        "    def withdraw(self, amount):\n",
        "        if 0 < amount <= self.__balance:\n",
        "            self.__balance -= amount\n",
        "            print(f\"Withdrawn: {amount}. New balance: {self.__balance}\")\n",
        "        else:\n",
        "            print(\"Invalid withdrawal amount or insufficient funds.\")\n",
        "\n",
        "    # Method to inquire balance\n",
        "    def get_balance(self):\n",
        "        return f\"Current balance: {self.__balance}\"\n",
        "\n",
        "    # Method to get account number\n",
        "    def get_account_number(self):\n",
        "        return f\"Account Number: {self.__account_number}\"\n",
        "\n",
        "# Example usage\n",
        "account = BankAccount(\"123456789\", 1000)\n",
        "\n",
        "# Making a deposit\n",
        "account.deposit(500)  # Output: Deposited: 500. New balance: 1500\n",
        "\n",
        "# Making a withdrawal\n",
        "account.withdraw(200)  # Output: Withdrawn: 200. New balance: 1300\n",
        "\n",
        "# Inquiring balance\n",
        "print(account.get_balance())  # Output: Current balance: 1300\n",
        "\n",
        "# Getting account number\n",
        "print(account.get_account_number())  # Output: Account Number: 123456789"
      ],
      "metadata": {
        "colab": {
          "base_uri": "https://localhost:8080/"
        },
        "id": "YNLSQ99zM8Va",
        "outputId": "1a79d5eb-8a41-4e05-c9bd-f50f8a4421ad"
      },
      "execution_count": null,
      "outputs": [
        {
          "output_type": "stream",
          "name": "stdout",
          "text": [
            "Deposited: 500. New balance: 1500\n",
            "Withdrawn: 200. New balance: 1300\n",
            "Current balance: 1300\n",
            "Account Number: 123456789\n"
          ]
        }
      ]
    },
    {
      "cell_type": "markdown",
      "source": [
        "**Explanation:**\n",
        "\n",
        "**1.** **Private Attributes:** The __balance and __account_number attributes are prefixed with double underscores (__) to make them private. This means they cannot be accessed directly from outside the class.\n",
        "\n",
        "**2.** **Constructor:** The __init__ method initializes the private attributes and sets an initial balance (default is 0).\n",
        "\n",
        "**3. Methods:**\n",
        "* deposit(self, amount): Adds the specified amount to the balance if the amount is positive.\n",
        "* withdraw(self, amount): Deducts the specified amount from the balance if the amount is positive and less than or equal to the current balance.\n",
        "* get_balance(self): Returns the current balance.\n",
        "* get_account_number(self): Returns the account number.\n",
        "\n",
        "This encapsulation ensures that the balance and account number can only be modified through the provided methods, maintaining data integrity and security."
      ],
      "metadata": {
        "id": "mcjK888pNSez"
      }
    },
    {
      "cell_type": "markdown",
      "source": [
        "**Q11. Write a class that overrides the `__str__` and `__add__` magic methods. What will these methods allow**\n",
        "**you to do?**"
      ],
      "metadata": {
        "id": "PU7ALIeQN6fp"
      }
    },
    {
      "cell_type": "markdown",
      "source": [
        "**Ans:** The **__** **str__** and **__** **add__** magic methods in Python allow you to customize string representation and addition operations for instances of your class. Here's a class that overrides these methods:"
      ],
      "metadata": {
        "id": "etfedQyEOAWC"
      }
    },
    {
      "cell_type": "code",
      "source": [
        "class Vector:\n",
        "    def __init__(self, x, y):\n",
        "        self.x = x\n",
        "        self.y = y\n",
        "\n",
        "    # Overriding __str__ method\n",
        "    def __str__(self):\n",
        "        return f\"Vector({self.x}, {self.y})\"\n",
        "\n",
        "    # Overriding __add__ method\n",
        "    def __add__(self, other):\n",
        "        if isinstance(other, Vector):\n",
        "            return Vector(self.x + other.x, self.y + other.y)\n",
        "        return NotImplemented\n",
        "\n",
        "# Example usage\n",
        "v1 = Vector(2, 3)\n",
        "v2 = Vector(4, 5)\n",
        "\n",
        "# Using __str__ method\n",
        "print(v1)  # Output: Vector(2, 3)\n",
        "\n",
        "# Using __add__ method\n",
        "v3 = v1 + v2\n",
        "print(v3)  # Output: Vector(6, 8)"
      ],
      "metadata": {
        "id": "3yRnaPhZQBIc"
      },
      "execution_count": null,
      "outputs": []
    },
    {
      "cell_type": "markdown",
      "source": [
        "**Explanation:**\n",
        "\n",
        "**__** **str__** **Method:**\n",
        "\n",
        "* This method is called when we use the print() function or str() on an instance of the class. It provides a human-readable string representation of the object.\n",
        "\n",
        "* In this example, __str__ returns a string in the format Vector(x, y).\n",
        "\n",
        "**__** **add__** **Method:**\n",
        "\n",
        "* This method is called when we use the + operator on instances of the class. It defines how two instances of the class should be added together.\n",
        "\n",
        "* In this example, __add__ checks if the other object is an instance of Vector. If it is, it creates a new Vector whose components are the sum of the corresponding components of the two vectors.\n",
        "\n",
        "**Benefits:**\n",
        "\n",
        "**__** **str__** **Method:**\n",
        "* Allows for a clear and informative string representation of the object, which is particularly useful for debugging and logging.\n",
        "\n",
        "**__** **add__** **Method:**\n",
        "* Enables custom behavior for the + operator, allowing objects of the class to be added together in a meaningful way.\n",
        "\n",
        "By overriding these magic methods, we can make your class more intuitive and user-friendly."
      ],
      "metadata": {
        "id": "DAGtsZ8QQNBx"
      }
    },
    {
      "cell_type": "markdown",
      "source": [
        "**Q12. Create a decorator that measures and prints the execution time of a function.**"
      ],
      "metadata": {
        "id": "EVjjx8-7RACC"
      }
    },
    {
      "cell_type": "markdown",
      "source": [
        "**Ans:** A Python decorator that measures and prints the execution time of a function is given below:"
      ],
      "metadata": {
        "id": "rNrWTB7BRF6G"
      }
    },
    {
      "cell_type": "code",
      "source": [
        "import time\n",
        "\n",
        "def measure_time(func):\n",
        "    def wrapper(*args, **kwargs):\n",
        "        start_time = time.time()  # Capture start time\n",
        "        result = func(*args, **kwargs)  # Execute the function\n",
        "        end_time = time.time()  # Capture end time\n",
        "        execution_time = end_time - start_time  # Calculate execution time\n",
        "        print(f\"Execution time of {func.__name__}: {execution_time:.4f} seconds\")\n",
        "        return result\n",
        "    return wrapper\n",
        "\n",
        "# Example usage:\n",
        "\n",
        "@measure_time\n",
        "def some_function():\n",
        "    time.sleep(2)  # Simulate a delay\n",
        "\n",
        "some_function()"
      ],
      "metadata": {
        "colab": {
          "base_uri": "https://localhost:8080/"
        },
        "id": "40-ljE2XS6v7",
        "outputId": "93479776-ecad-4520-cdce-4c0f56266630"
      },
      "execution_count": null,
      "outputs": [
        {
          "output_type": "stream",
          "name": "stdout",
          "text": [
            "Execution time of some_function: 2.0021 seconds\n"
          ]
        }
      ]
    },
    {
      "cell_type": "markdown",
      "source": [
        "**How it works:**\n",
        "* measure_time is the decorator function.\n",
        "* Inside measure_time, a nested function wrapper is defined that captures the start and end times around the function call.\n",
        "* The execution time is calculated and printed.\n",
        "* The wrapper function returns the result of the decorated function.\n",
        "\n",
        "When we run the some_function, it will print the time it took to execute."
      ],
      "metadata": {
        "id": "v_NjfrAPTOl0"
      }
    },
    {
      "cell_type": "markdown",
      "source": [
        "**Q13. Explain the concept of the Diamond Problem in multiple inheritance. How does Python resolve it?**"
      ],
      "metadata": {
        "id": "zS0YBJYYTm7_"
      }
    },
    {
      "cell_type": "markdown",
      "source": [
        "**Ans:** Diamond Problem is a widely known problem of multiple inheritance which arises when a class inherits from two different classes, both of which inherit from a common base class resulting in a diamond-shaped inheritance diagram. It leads to ambiguities in the order of method resolution (MRO) along with conflicting cases of attribute and method inheritance.\n",
        "\n",
        "                                  A\n",
        "                                 / \\\n",
        "                                B   C\n",
        "                                 \\ /\n",
        "                                  D\n",
        "\n",
        "**Consider the following class hierarchy:**                                  \n",
        "     "
      ],
      "metadata": {
        "id": "eT8GRP-YTvx3"
      }
    },
    {
      "cell_type": "code",
      "source": [
        "class A:\n",
        "    def method(self):\n",
        "        print(\"Method from class A\")\n",
        "\n",
        "class B(A):\n",
        "    def method(self):\n",
        "        print(\"Method from class B\")\n",
        "\n",
        "class C(A):\n",
        "    def method(self):\n",
        "        print(\"Method from class C\")\n",
        "\n",
        "class D(B, C):\n",
        "    pass"
      ],
      "metadata": {
        "id": "ZoWGGHOwdaMa"
      },
      "execution_count": null,
      "outputs": []
    },
    {
      "cell_type": "markdown",
      "source": [
        "In this example, class D inherits from both class B and class C, which in turn both inherit from class A. If you create an instance of D and call method(), it’s unclear whether D should use the method from B, C, or A.\n",
        "\n",
        "**Python Resolution through MRO:**\n",
        "\n",
        "This is done by employing a Method Resolution Order (MRO), with which the interpreter automatically calculates for base classes being searched for a method, in order of the bases searched. The MRO is computed using an implementation of the C3 Linearization algorithm:\n",
        "\n",
        "To check the MRO, either use the **mro()** method or access the **__** **mro__** attribute:"
      ],
      "metadata": {
        "id": "ndf8j2JkdrS7"
      }
    },
    {
      "cell_type": "code",
      "source": [
        "print(D.mro())\n",
        "# Output: [<class '__main__.D'>, <class '__main__.B'>, <class '__main__.C'>, <class '__main__.A'>, <class 'object'>]\n",
        "\n",
        "print(D.__mro__)\n",
        "# Output: (<class '__main__.D'>, <class '__main__.B'>, <class '__main__.C'>, <class '__main__.A'>, <class 'object'>)"
      ],
      "metadata": {
        "colab": {
          "base_uri": "https://localhost:8080/"
        },
        "id": "fF5afeb_epcA",
        "outputId": "71e7466f-3aaf-4e90-a835-d1d388691bfb"
      },
      "execution_count": null,
      "outputs": [
        {
          "output_type": "stream",
          "name": "stdout",
          "text": [
            "[<class '__main__.D'>, <class '__main__.B'>, <class '__main__.C'>, <class '__main__.A'>, <class 'object'>]\n",
            "(<class '__main__.D'>, <class '__main__.B'>, <class '__main__.C'>, <class '__main__.A'>, <class 'object'>)\n"
          ]
        }
      ]
    },
    {
      "cell_type": "markdown",
      "source": [
        "In the example above, Python determines that the method resolution order for D is: D -> B -> C -> A -> object. When you call d.method() on an instance of D, Python follows this order to find and execute the method. Here’s what happens:"
      ],
      "metadata": {
        "id": "IpgmSfYYfVSE"
      }
    },
    {
      "cell_type": "code",
      "source": [
        "d = D()\n",
        "d.method()\n",
        "# Output: Method from class B"
      ],
      "metadata": {
        "colab": {
          "base_uri": "https://localhost:8080/"
        },
        "id": "y_yaFMoyffDy",
        "outputId": "42630678-c000-4903-8707-f3bc91dbcfaf"
      },
      "execution_count": null,
      "outputs": [
        {
          "output_type": "stream",
          "name": "stdout",
          "text": [
            "Method from class B\n"
          ]
        }
      ]
    },
    {
      "cell_type": "markdown",
      "source": [
        "Since B appears before C in the MRO, D will use the method from B.\n",
        "\n",
        "Key Points:\n",
        "* **MRO Calculation:** The MRO ensures a consistent and predictable order for method and attribute resolution, avoiding conflicts.\n",
        "\n",
        "* **C3 Linearization:** Python uses the C3 Linearization algorithm to compute the MRO, which takes into account the order of inheritance and ensures no class appears before its parents.\n",
        "\n",
        "* **Consistent Resolution:** The MRO allows Python to handle complex multiple inheritance hierarchies without ambiguity or conflicts.\n",
        "\n",
        "Understanding the Diamond Problem and Python's MRO is crucial when working with multiple inheritance, as it helps ensure that methods and attributes are resolved correctly and consistently."
      ],
      "metadata": {
        "id": "umyalLeffkUc"
      }
    },
    {
      "cell_type": "markdown",
      "source": [
        "**Q14. Write a class method that keeps track of the number of instances created from a class.**"
      ],
      "metadata": {
        "id": "fWID-CtIf91R"
      }
    },
    {
      "cell_type": "markdown",
      "source": [
        "**Ans:** To track the number of instances created from a class, you can use a **class variable** that is shared across all instances of the class. This variable will be incremented each time a new instance is created. Here's how we can implement it:"
      ],
      "metadata": {
        "id": "5uRtMPzVgd5f"
      }
    },
    {
      "cell_type": "code",
      "source": [
        "class MyClass:\n",
        "    # Class variable to keep track of instance count\n",
        "    instance_count = 0\n",
        "\n",
        "    def __init__(self):\n",
        "        # Increment the instance count when a new instance is created\n",
        "        MyClass.instance_count += 1\n",
        "\n",
        "    @classmethod\n",
        "    def get_instance_count(cls):\n",
        "        # Class method to return the current instance count\n",
        "        return cls.instance_count\n",
        "\n",
        "# Example usage:\n",
        "obj1 = MyClass()\n",
        "obj2 = MyClass()\n",
        "obj3 = MyClass()\n",
        "\n",
        "# Get the number of instances created\n",
        "print(MyClass.get_instance_count())  # Output: 3"
      ],
      "metadata": {
        "colab": {
          "base_uri": "https://localhost:8080/"
        },
        "id": "pEOr3dISgnRu",
        "outputId": "4ea4b80a-d677-45e7-dd46-f70f69f7a77e"
      },
      "execution_count": null,
      "outputs": [
        {
          "output_type": "stream",
          "name": "stdout",
          "text": [
            "3\n"
          ]
        }
      ]
    },
    {
      "cell_type": "markdown",
      "source": [
        "**Explanation:**\n",
        "* **instance_count:** This is a class variable that starts at 0 and is incremented every time a new instance of the class is created.\n",
        "* **__** **init__** **method:** When a new instance is initialized, this method increments the instance_count.\n",
        "* **get_instance_count method:** This is a class method that returns the current number of instances. It uses the @classmethod decorator and the cls parameter to refer to the class itself.\n",
        "\n",
        "In the example above, after creating three instances of **MyClass**, calling **MyClass.get_instance_count()** will return **3**, indicating that three instances have been created.\n",
        "\n",
        "\n",
        "\n"
      ],
      "metadata": {
        "id": "YKi71O2vgtee"
      }
    },
    {
      "cell_type": "markdown",
      "source": [
        "**Q15. Implement a static method in a class that checks if a given year is a leap year.**"
      ],
      "metadata": {
        "id": "zyQK9HzLhXG-"
      }
    },
    {
      "cell_type": "markdown",
      "source": [
        "**Ans:** Here is a static method in a class which checks whether the year is a leap year or no. It will be defined using the @staticmethod decorator. A leap year is a year which is divisible by 4, but not by 100, unless it is also divisible by 400."
      ],
      "metadata": {
        "id": "DNXFUn93h80Z"
      }
    },
    {
      "cell_type": "code",
      "source": [
        "class YearChecker:\n",
        "    @staticmethod\n",
        "    def is_leap_year(year):\n",
        "        if (year % 4 == 0 and year % 100 != 0) or (year % 400 == 0):\n",
        "            return True\n",
        "        else:\n",
        "            return False\n",
        "\n",
        "# Example usage\n",
        "print(YearChecker.is_leap_year(2024))  # Output: True\n",
        "print(YearChecker.is_leap_year(2023))  # Output: False\n",
        "print(YearChecker.is_leap_year(2000))  # Output: True\n",
        "print(YearChecker.is_leap_year(1900))  # Output: False"
      ],
      "metadata": {
        "colab": {
          "base_uri": "https://localhost:8080/"
        },
        "id": "lDk52XyhiQrU",
        "outputId": "eac61f5e-dedd-4449-eb25-fa39eb2014eb"
      },
      "execution_count": null,
      "outputs": [
        {
          "output_type": "stream",
          "name": "stdout",
          "text": [
            "True\n",
            "False\n",
            "True\n",
            "False\n"
          ]
        }
      ]
    },
    {
      "cell_type": "markdown",
      "source": [
        "**Explanation:**\n",
        "1. **Class Definition:** YearChecker is a class that contains a static method.\n",
        "\n",
        "2. **Static Method:** The is_leap_year method is defined as a static method using the @staticmethod decorator.\n",
        "\n",
        "* **Logic:** It checks if a given year is a leap year:\n",
        "\n",
        "     * A year is a leap year if it is divisible by 4 and not divisible by 100, or it is divisible by 400.\n",
        "\n",
        "3. **Example Usage:** The static method can be called directly on the class without creating an instance of the class.\n",
        "\n",
        "This approach allows us to encapsulate the leap year checking logic within a class while using a static method to perform the check."
      ],
      "metadata": {
        "id": "rUADKIyZic9w"
      }
    }
  ]
}