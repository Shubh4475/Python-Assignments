{
  "nbformat": 4,
  "nbformat_minor": 0,
  "metadata": {
    "colab": {
      "provenance": []
    },
    "kernelspec": {
      "name": "python3",
      "display_name": "Python 3"
    },
    "language_info": {
      "name": "python"
    }
  },
  "cells": [
    {
      "cell_type": "markdown",
      "source": [
        "### **THEORITICAL QUESTIONS:**"
      ],
      "metadata": {
        "id": "2WlOplaUs7VO"
      }
    },
    {
      "cell_type": "markdown",
      "source": [
        "**Q1. What is NumPy, and why is it widely used in Python?**"
      ],
      "metadata": {
        "id": "BI1NBSE7tLfp"
      }
    },
    {
      "cell_type": "markdown",
      "source": [
        "**Ans:** **NumPy**, short for Numerical Python, is a fundamental package for scientific computing in Python. It provides support for large, multi-dimensional arrays and matrices, along with a collection of mathematical functions to operate on these arrays with high performance. Here are some key reasons why NumPy is widely used:\n",
        "\n",
        "### Key Features of NumPy:\n",
        "\n",
        "1. **N-Dimensional Array Object**:\n",
        "   - **Arrays**: NumPy's primary data structure is the ndarray, a powerful n-dimensional array that supports various data types and enables efficient computations.\n",
        "\n",
        "2. **Broadcasting**:\n",
        "   - **Vectorized Operations**: NumPy's broadcasting feature allows you to perform arithmetic operations on arrays of different shapes without explicitly writing loops, leading to more readable and efficient code.\n",
        "\n",
        "3. **Mathematical Functions**:\n",
        "   - **Extensive Library**: NumPy provides a wide range of mathematical functions, including linear algebra, statistical, and Fourier transform functions, making it a versatile tool for scientific computing.\n",
        "\n",
        "4. **Integration with Other Libraries**:\n",
        "   - **Ecosystem**: NumPy is the foundation for many other scientific libraries in Python, such as SciPy, Pandas, Matplotlib, and scikit-learn. It serves as the backbone for data manipulation and numerical operations.\n",
        "\n",
        "5. **Performance**:\n",
        "   - **Speed**: NumPy's operations are implemented in C, which makes them much faster than equivalent Python code using lists or loops. This performance boost is critical for large-scale data processing and numerical simulations.\n",
        "\n",
        "6. **Ease of Use**:\n",
        "   - **Concise and Expressive**: NumPy allows for concise and expressive syntax, making it easier to write and understand code for complex mathematical operations.\n",
        "\n",
        "### Applications:\n",
        "- **Data Analysis**: NumPy is extensively used in data analysis for handling and processing large datasets.\n",
        "- **Machine Learning**: Many machine learning algorithms and frameworks rely on NumPy for numerical computations.\n",
        "- **Scientific Research**: Researchers use NumPy for simulations, modeling, and various computational tasks in physics, chemistry, biology, and engineering.\n",
        "\n",
        "On summarizing, we can say that NumPy is a powerful and efficient library for numerical computing in Python, offering an array of functionalities that make it indispensable for scientific computing, data analysis, and machine learning. Its ease of use, performance, and integration with other libraries contribute to its widespread adoption.\n"
      ],
      "metadata": {
        "id": "71hHlM5vtYkm"
      }
    },
    {
      "cell_type": "code",
      "execution_count": 1,
      "metadata": {
        "colab": {
          "base_uri": "https://localhost:8080/"
        },
        "id": "uPiQY6RBst4R",
        "outputId": "8e1b2b0e-e541-4815-b770-d0baa52ff314"
      },
      "outputs": [
        {
          "output_type": "stream",
          "name": "stdout",
          "text": [
            "Array multiplied by 2: [ 2  4  6  8 10]\n",
            "Transposed matrix:\n",
            " [[1 4]\n",
            " [2 5]\n",
            " [3 6]]\n",
            "Mean of the array: 3.0\n"
          ]
        }
      ],
      "source": [
        "# Example Usage:\n",
        "\n",
        "import numpy as np\n",
        "\n",
        "# Creating a NumPy array\n",
        "arr = np.array([1, 2, 3, 4, 5])\n",
        "\n",
        "# Performing arithmetic operations\n",
        "arr2 = arr * 2\n",
        "print(\"Array multiplied by 2:\", arr2)\n",
        "\n",
        "# Creating a 2D array\n",
        "matrix = np.array([[1, 2, 3], [4, 5, 6]])\n",
        "\n",
        "# Transposing the matrix\n",
        "transpose_matrix = np.transpose(matrix)\n",
        "print(\"Transposed matrix:\\n\", transpose_matrix)\n",
        "\n",
        "# Calculating the mean\n",
        "mean_value = np.mean(arr)\n",
        "print(\"Mean of the array:\", mean_value)"
      ]
    },
    {
      "cell_type": "markdown",
      "source": [
        "**Q2. How does broadcasting work in NumPy?**"
      ],
      "metadata": {
        "id": "ZztMJKoGxNqB"
      }
    },
    {
      "cell_type": "markdown",
      "source": [
        "**Ans:** **Broadcasting in NumPy** is a powerful mechanism that allows operations on arrays of different shapes without explicitly reshaping or replicating data. It facilitates vectorized operations, making your code more efficient and concise. Here's how broadcasting works and some key concepts:\n",
        "\n",
        "### Basic Principle:\n",
        "Broadcasting expands the smaller array to match the shape of the larger array, without actually copying data, to perform element-wise operations.\n",
        "\n",
        "### Broadcasting Rules:\n",
        "1. **Compatibility**: Two dimensions are compatible for broadcasting if:\n",
        "   - They are equal, or\n",
        "   - One of them is 1.\n",
        "2. **Result Shape**: The shape of the result is determined by taking the maximum size along each dimension.\n",
        "\n",
        "### Example 1: Adding Scalars to Arrays:\n",
        "A scalar (single value) can be broadcasted to an array of any shape:\n",
        "\n",
        "```python\n",
        "import numpy as np\n",
        "\n",
        "arr = np.array([1, 2, 3])\n",
        "result = arr + 5  # Scalar 5 is broadcasted to match the shape of arr\n",
        "print(result)  # Output: [6, 7, 8]\n",
        "```\n",
        "\n",
        "### Example 2: Adding Arrays of Different Shapes:\n",
        "Arrays of different shapes can be broadcasted if they follow the broadcasting rules:\n",
        "\n",
        "```python\n",
        "import numpy as np\n",
        "\n",
        "arr1 = np.array([1, 2, 3])\n",
        "arr2 = np.array([[10], [20], [30]])\n",
        "result = arr1 + arr2  # arr1 is broadcasted to match the shape of arr2\n",
        "print(result)\n",
        "# Output:\n",
        "# [[11 12 13]\n",
        "#  [21 22 23]\n",
        "#  [31 32 33]]\n",
        "```\n",
        "\n",
        "### Example 3: Broadcasting with Higher Dimensions:\n",
        "Broadcasting can also be applied to arrays with more than two dimensions:\n",
        "\n",
        "```python\n",
        "import numpy as np\n",
        "\n",
        "arr1 = np.array([[[1]], [[2]], [[3]]])\n",
        "arr2 = np.array([[10, 20, 30]])\n",
        "result = arr1 + arr2  # Both arrays are broadcasted to match each other's shape\n",
        "print(result)\n",
        "# Output:\n",
        "# [[[11 21 31]]\n",
        "#  [[12 22 32]]\n",
        "#  [[13 23 33]]]\n",
        "```\n",
        "\n",
        "In simple words, Broadcasting simplifies array operations by allowing arrays of different shapes to be combined without explicit reshaping. This leads to more efficient and readable code, particularly in numerical and scientific computing.\n"
      ],
      "metadata": {
        "id": "505vcSR6xUqC"
      }
    },
    {
      "cell_type": "markdown",
      "source": [
        "**Q3. What is a Pandas DataFrame?**"
      ],
      "metadata": {
        "id": "p_8NMkEy0jWr"
      }
    },
    {
      "cell_type": "markdown",
      "source": [
        "**Ans:** A Pandas DataFrame is a two-dimensional, size-mutable, and potentially heterogeneous tabular data structure with labeled axes (rows and columns). It is one of the most commonly used data structures in the Pandas library, which is designed for data manipulation and analysis in Python.\n",
        "\n",
        "### Key Features of a Pandas DataFrame:\n",
        "\n",
        "1. **Data Representation**:\n",
        "   - **Tabular Structure**: Similar to a table in a relational database or an Excel spreadsheet, a DataFrame consists of rows and columns.\n",
        "   - **Labeled Axes**: Each column has a label, which makes it easy to reference and manipulate specific columns.\n",
        "\n",
        "2. **Flexibility**:\n",
        "   - **Heterogeneous Data**: A DataFrame can hold different data types (integer, float, string, etc.) in different columns.\n",
        "   - **Size-Mutable**: You can easily add or remove columns and rows.\n",
        "\n",
        "3. **Indexing and Selection**:\n",
        "   - **Indexing**: DataFrames have a powerful indexing system, making it easy to select, filter, and manipulate data.\n",
        "   - **Loc and iloc**: The `loc` and `iloc` properties provide versatile ways to access specific rows and columns by labels or integer positions, respectively.\n",
        "\n",
        "4. **Data Manipulation**:\n",
        "   - **Operations**: Supports a wide range of operations such as merging, joining, reshaping, and aggregating data.\n",
        "   - **Missing Data Handling**: Provides tools for handling missing data, such as filling or dropping null values.\n",
        "\n",
        "### Example Usage:\n",
        "Here’s a simple example of creating and manipulating a Pandas DataFrame:\n",
        "\n",
        "```python\n",
        "import pandas as pd\n",
        "\n",
        "# Creating a DataFrame from a dictionary\n",
        "data = {\n",
        "    'Name': ['Alice', 'Bob', 'Charlie'],\n",
        "    'Age': [25, 30, 35],\n",
        "    'City': ['New York', 'Los Angeles', 'Chicago']\n",
        "}\n",
        "\n",
        "df = pd.DataFrame(data)\n",
        "\n",
        "# Displaying the DataFrame\n",
        "print(df)\n",
        "\n",
        "# Accessing a specific column\n",
        "print(df['Name'])\n",
        "\n",
        "# Accessing a specific row using loc\n",
        "print(df.loc[1])\n",
        "\n",
        "# Adding a new column\n",
        "df['Salary'] = [50000, 60000, 70000]\n",
        "\n",
        "# Displaying the updated DataFrame\n",
        "print(df)\n",
        "```\n",
        "\n",
        "### Explanation:\n",
        "- **Creating a DataFrame**: The DataFrame is created from a dictionary, where keys represent column names and values represent data.\n",
        "- **Displaying the DataFrame**: The DataFrame is printed, showing the tabular structure with labeled rows and columns.\n",
        "- **Accessing Columns and Rows**: Specific columns and rows are accessed using labels.\n",
        "- **Adding a Column**: A new column is added to the DataFrame.\n",
        "\n",
        "### Applications:\n",
        "- **Data Analysis**: Widely used for data analysis tasks, including cleaning, transforming, and visualizing data.\n",
        "- **Machine Learning**: Essential for preparing and exploring data before applying machine learning algorithms.\n",
        "- **Finance**: Used for financial data analysis and modeling.\n",
        "\n",
        "Pandas DataFrames are versatile and powerful, making them an essential tool for data scientists, analysts, and anyone working with structured data. If you have any more questions or need further assistance, feel free to ask!"
      ],
      "metadata": {
        "id": "-0cZwlEo0vgl"
      }
    },
    {
      "cell_type": "markdown",
      "source": [
        "**Q4. Explain the use of the groupby() method in Pandas?**"
      ],
      "metadata": {
        "id": "h-5vOLYr1gNr"
      }
    },
    {
      "cell_type": "markdown",
      "source": [
        "**Ans:** The `groupby()` method in Pandas is a powerful and versatile tool for data aggregation and analysis. It allows you to group data based on one or more columns and then apply various aggregation functions to each group independently. This method is similar to SQL's `GROUP BY` clause and is often used for data summarization, aggregation, and transformation.\n",
        "\n",
        "### Key Features of `groupby()`:\n",
        "\n",
        "1. **Grouping Data**:\n",
        "   - You can group data by one or more columns, creating a GroupBy object that can be used to apply various operations to each group.\n",
        "\n",
        "2. **Aggregation Functions**:\n",
        "   - Common aggregation functions include `sum()`, `mean()`, `count()`, `min()`, `max()`, `std()`, and many more. You can apply these functions to the grouped data to compute summary statistics.\n",
        "\n",
        "3. **Transformation and Filtering**:\n",
        "   - Besides aggregation, you can also perform transformations and filtering on the grouped data.\n",
        "\n",
        "### Example Usage:\n",
        "\n",
        "#### 1. Grouping by a Single Column:\n",
        "```python\n",
        "import pandas as pd\n",
        "\n",
        "# Sample DataFrame\n",
        "data = {\n",
        "    'Category': ['A', 'A', 'B', 'B', 'C', 'C'],\n",
        "    'Values': [10, 15, 10, 20, 30, 25]\n",
        "}\n",
        "\n",
        "df = pd.DataFrame(data)\n",
        "\n",
        "# Grouping by 'Category' column\n",
        "grouped = df.groupby('Category')\n",
        "\n",
        "# Aggregating using sum()\n",
        "sum_result = grouped['Values'].sum()\n",
        "print(sum_result)\n",
        "```\n",
        "\n",
        "**Output**:\n",
        "```\n",
        "Category\n",
        "A    25\n",
        "B    30\n",
        "C    55\n",
        "Name: Values, dtype: int64\n",
        "```\n",
        "\n",
        "#### 2. Grouping by Multiple Columns:\n",
        "```python\n",
        "import pandas as pd\n",
        "\n",
        "# Sample DataFrame\n",
        "data = {\n",
        "    'Category': ['A', 'A', 'B', 'B', 'C', 'C'],\n",
        "    'SubCategory': ['X', 'Y', 'X', 'Y', 'X', 'Y'],\n",
        "    'Values': [10, 15, 10, 20, 30, 25]\n",
        "}\n",
        "\n",
        "df = pd.DataFrame(data)\n",
        "\n",
        "# Grouping by 'Category' and 'SubCategory' columns\n",
        "grouped = df.groupby(['Category', 'SubCategory'])\n",
        "\n",
        "# Aggregating using mean()\n",
        "mean_result = grouped['Values'].mean()\n",
        "print(mean_result)\n",
        "```\n",
        "\n",
        "**Output**:\n",
        "```\n",
        "Category  SubCategory\n",
        "A         X              10.0\n",
        "          Y              15.0\n",
        "B         X              10.0\n",
        "          Y              20.0\n",
        "C         X              30.0\n",
        "          Y              25.0\n",
        "Name: Values, dtype: float64\n",
        "```\n",
        "\n",
        "### Applications of `groupby()`:\n",
        "- **Data Summarization**: Compute summary statistics (sum, mean, count, etc.) for groups within a dataset.\n",
        "- **Data Transformation**: Apply custom transformations to each group.\n",
        "- **Data Filtering**: Filter out specific groups based on conditions.\n",
        "- **Pivot Tables**: Create pivot tables to restructure data for analysis.\n",
        "\n",
        "### Summary:\n",
        "The `groupby()` method in Pandas is essential for grouping data and performing aggregate operations efficiently. It is widely used for data analysis, allowing you to gain insights from your data by summarizing and transforming grouped subsets."
      ],
      "metadata": {
        "id": "YmNG6rGa1x1Q"
      }
    },
    {
      "cell_type": "markdown",
      "source": [
        "**Q5. Why is Seaborn preferred for statistical visualizations?**"
      ],
      "metadata": {
        "id": "uNET0M2m19bA"
      }
    },
    {
      "cell_type": "markdown",
      "source": [
        "**Ans:** Seaborn is preferred for statistical visualizations in Python for several compelling reasons:\n",
        "\n",
        "### 1. **Built-in Themes and Aesthetics**:\n",
        "   - **Stylish Visuals**: Seaborn provides aesthetically pleasing, high-level themes and color palettes that make plots visually attractive by default. This means you spend less time on customization to make your charts look good.\n",
        "\n",
        "### 2. **Integration with Pandas**:\n",
        "   - **Seamless Compatibility**: Seaborn works seamlessly with Pandas DataFrames, making it easy to create complex visualizations directly from your data structures without additional data transformation steps.\n",
        "\n",
        "### 3. **Simplified Plot Creation**:\n",
        "   - **High-Level Interface**: Seaborn offers a high-level interface for drawing attractive and informative statistical graphics, simplifying the process of creating complex plots. Functions like `sns.scatterplot()`, `sns.lineplot()`, and `sns.histplot()` are easy to use.\n",
        "\n",
        "### 4. **Specialized Statistical Plots**:\n",
        "   - **Statistical Insight**: Seaborn includes specialized plot types like violin plots, box plots, pair plots, and more, which are specifically designed for statistical analysis. These plots can reveal patterns, distributions, and relationships in the data that are crucial for statistical analysis.\n",
        "\n",
        "### 5. **Built-in Support for Complex Visualization**:\n",
        "   - **Complex Visuals with Ease**: Seaborn can handle complex visualizations such as facet grids, joint plots, and pair plots with minimal code. This allows you to visualize multi-dimensional relationships and distributions effortlessly.\n",
        "\n",
        "### 6. **Customization and Configuration**:\n",
        "   - **Flexible Customization**: While Seaborn provides great default settings, it is also highly customizable. You can fine-tune almost every aspect of your plots, from colors and styles to annotations and scales.\n",
        "\n",
        "### 7. **Integration with Matplotlib**:\n",
        "   - **Complementary Use**: Seaborn is built on top of Matplotlib and integrates well with it. This means you can use Matplotlib's features and customization options alongside Seaborn's simpler and more intuitive interface.\n",
        "\n",
        "### Example Usage:\n",
        "\n",
        "```python\n",
        "import seaborn as sns\n",
        "import pandas as pd\n",
        "\n",
        "# Sample DataFrame\n",
        "data = pd.DataFrame({\n",
        "    'Category': ['A', 'A', 'B', 'B', 'C', 'C'],\n",
        "    'Values': [10, 15, 10, 20, 30, 25]\n",
        "})\n",
        "\n",
        "# Creating a bar plot with Seaborn\n",
        "sns.barplot(x='Category', y='Values', data=data)\n",
        "```\n",
        "\n",
        "Seaborn’s ability to create beautiful, informative, and complex statistical visualizations with minimal code makes it a preferred choice for data scientists and analysts. Its integration with Pandas, ease of use, and comprehensive features for statistical plotting provide a powerful toolkit for exploratory data analysis and presenting insights.\n"
      ],
      "metadata": {
        "id": "Ys0lwoQu2DQG"
      }
    },
    {
      "cell_type": "markdown",
      "source": [
        "**Q6. What are the differences between NumPy arrays and Python lists?**"
      ],
      "metadata": {
        "id": "k3TeCok42Zxs"
      }
    },
    {
      "cell_type": "markdown",
      "source": [
        "**Ans:** **NumPy arrays** and **Python lists** are both used for storing collections of elements, but they have significant differences in terms of functionality, performance, and usage. Here’s a comparison of their key differences:\n",
        "\n",
        "### 1. **Data Types**:\n",
        "- **Python Lists**: Can store elements of different data types (e.g., integers, floats, strings, objects) in the same list.\n",
        "- **NumPy Arrays**: Require elements to be of the same data type, which is specified when the array is created. This ensures uniformity and allows for more efficient storage and computation.\n",
        "\n",
        "### 2. **Performance**:\n",
        "- **Python Lists**: Slower for numerical operations due to the overhead of dynamically typed elements.\n",
        "- **NumPy Arrays**: Optimized for numerical and scientific computations, leading to much faster performance for mathematical operations due to the use of contiguous memory blocks and efficient, low-level C implementations.\n",
        "\n",
        "### 3. **Functionality**:\n",
        "- **Python Lists**: Provide general-purpose features for storing and manipulating collections of items. They support basic operations like indexing, slicing, and appending.\n",
        "- **NumPy Arrays**: Offer a wide range of mathematical and statistical functions, vectorized operations, broadcasting, and multidimensional array support, making them ideal for scientific computing and data analysis.\n",
        "\n",
        "### 4. **Memory Consumption**:\n",
        "- **Python Lists**: Can be less memory efficient, especially when storing large datasets, as they store each element as a separate Python object with additional overhead.\n",
        "- **NumPy Arrays**: More memory efficient due to the uniform data type and contiguous memory allocation, resulting in reduced memory overhead.\n",
        "\n",
        "### 5. **Mutability**:\n",
        "- **Python Lists**: Mutable, meaning you can change elements, add, or remove items after the list is created.\n",
        "- **NumPy Arrays**: Also mutable, but any changes must conform to the array’s data type and shape constraints.\n",
        "\n",
        "### Example Code Comparison:\n",
        "\n",
        "**Python List**:\n",
        "```python\n",
        "# Creating a Python list\n",
        "py_list = [1, 2, 3, 4, 5]\n",
        "\n",
        "# Appending an element\n",
        "py_list.append(6)\n",
        "\n",
        "# Accessing elements\n",
        "print(py_list[0])  # Output: 1\n",
        "\n",
        "# Multiplying each element by 2 (requires a loop)\n",
        "multiplied_list = [x * 2 for x in py_list]\n",
        "print(multiplied_list)  # Output: [2, 4, 6, 8, 10, 12]\n",
        "```\n",
        "\n",
        "**NumPy Array**:\n",
        "```python\n",
        "import numpy as np\n",
        "\n",
        "# Creating a NumPy array\n",
        "np_array = np.array([1, 2, 3, 4, 5])\n",
        "\n",
        "# Appending an element (creates a new array)\n",
        "np_array = np.append(np_array, 6)\n",
        "\n",
        "# Accessing elements\n",
        "print(np_array[0])  # Output: 1\n",
        "\n",
        "# Multiplying each element by 2 (vectorized operation)\n",
        "multiplied_array = np_array * 2\n",
        "print(multiplied_array)  # Output: [ 2  4  6  8 10 12]\n",
        "```\n",
        "\n",
        "### Summary:\n",
        "- **Python Lists**: Suitable for general-purpose programming where flexibility and diverse data types are needed.\n",
        "- **NumPy Arrays**: Ideal for scientific computing, numerical analysis, and situations where performance and memory efficiency are critical.\n"
      ],
      "metadata": {
        "id": "EpfV9V7r2pTl"
      }
    },
    {
      "cell_type": "markdown",
      "source": [
        "**Q7. What is a heatmap, and when should it be used?**"
      ],
      "metadata": {
        "id": "1aO3WBnV209l"
      }
    },
    {
      "cell_type": "markdown",
      "source": [
        "**Ans:** A **heatmap** is a **data visualization technique** that uses color to represent the magnitude of values in a matrix or a 2D grid. It is especially useful for visualizing complex data sets and identifying patterns, correlations, and anomalies at a glance.\n",
        "\n",
        "### Key Features of a Heatmap:\n",
        "\n",
        "1. **Color Representation**:\n",
        "   - **Magnitude**: Different colors or shades of colors represent different values or magnitudes. Typically, a color gradient (e.g., from blue to red) is used, where one end of the spectrum represents low values and the other end represents high values.\n",
        "\n",
        "2. **Grid Layout**:\n",
        "   - **Structure**: The data is represented in a grid format, with each cell representing a data point. The position of the cell in the grid corresponds to specific variables or categories.\n",
        "\n",
        "3. **Intensity Visualization**:\n",
        "   - **Heat Intensity**: The intensity of the color indicates the value's magnitude, making it easy to spot areas of high or low intensity.\n",
        "\n",
        "### When to Use a Heatmap:\n",
        "\n",
        "1. **Correlation Analysis**:\n",
        "   - **Understanding Relationships**: Heatmaps are ideal for visualizing the correlation between variables in a data set. For example, a heatmap can show the correlation matrix of different features in a data set, highlighting which features are strongly or weakly correlated.\n",
        "\n",
        "2. **Pattern Recognition**:\n",
        "   - **Identifying Patterns**: Heatmaps can help identify patterns, trends, and outliers in large data sets. For example, in genomic data, heatmaps can show gene expression levels across different conditions.\n",
        "\n",
        "3. **Data Density**:\n",
        "   - **Visualizing Density**: Heatmaps are useful for visualizing the density of data points in a 2D space. For example, in geographic data, heatmaps can show the density of occurrences in different regions.\n",
        "\n",
        "4. **Time Series Analysis**:\n",
        "   - **Temporal Patterns**: Heatmaps can be used to visualize changes over time. For example, a heatmap can show website traffic by hour and day, revealing peak times of activity.\n",
        "\n",
        "5. **Hierarchical Data**:\n",
        "   - **Hierarchical Clustering**: Heatmaps are often used in conjunction with hierarchical clustering to visualize the similarity between data points. This is common in bioinformatics for clustering gene expression data.\n",
        "\n",
        "### Example of Creating a Heatmap in Python using Seaborn:\n",
        "\n",
        "```python\n",
        "import seaborn as sns\n",
        "import pandas as pd\n",
        "import numpy as np\n",
        "import matplotlib.pyplot as plt\n",
        "\n",
        "# Sample data: Correlation matrix\n",
        "data = np.random.rand(10, 12)\n",
        "df = pd.DataFrame(data, columns=[f'Var{i}' for i in range(1, 13)])\n",
        "\n",
        "# Creating the heatmap\n",
        "plt.figure(figsize=(10, 8))\n",
        "sns.heatmap(df, annot=True, cmap='coolwarm')\n",
        "plt.title('Sample Heatmap')\n",
        "plt.show()\n",
        "```\n",
        "\n",
        "### Explanation:\n",
        "- **Data**: A sample data frame is created with random values.\n",
        "- **Heatmap Creation**: The `sns.heatmap()` function from the Seaborn library is used to create the heatmap, with `annot=True` to display the values in each cell and `cmap='coolwarm'` to set the color palette.\n",
        "- **Display**: The heatmap is displayed using `plt.show()`.\n",
        "\n",
        "\n",
        "**Heatmaps** are powerful tools for visualizing complex data sets, enabling quick identification of patterns, correlations, and anomalies. They are widely used in fields such as data analysis, bioinformatics, finance, and more, making them an essential part of a data scientist's toolkit."
      ],
      "metadata": {
        "id": "p7iEcDOb26QF"
      }
    },
    {
      "cell_type": "markdown",
      "source": [
        "**Q8. What does the term “vectorized operation” mean in NumPy?**"
      ],
      "metadata": {
        "id": "7gaOGldd3WlI"
      }
    },
    {
      "cell_type": "markdown",
      "source": [
        "**Ans:** In NumPy, a **\"vectorized operation\"** refers to the process of performing operations on entire arrays or large chunks of data at once, rather than iterating through individual elements with explicit loops. This approach leverages optimized, low-level implementation in C to achieve high performance and efficiency.\n",
        "\n",
        "### Key Characteristics of Vectorized Operations:\n",
        "\n",
        "1. **Efficiency**:\n",
        "   - **Speed**: Vectorized operations are much faster than using explicit Python loops because they are implemented in compiled code, reducing the overhead of the Python interpreter.\n",
        "   - **Performance**: They take advantage of CPU-level optimizations and efficient memory access patterns, leading to significant performance improvements for large data sets.\n",
        "\n",
        "2. **Simplicity**:\n",
        "   - **Concise Code**: Vectorized operations often result in more concise and readable code. Complex operations can be expressed in a few lines rather than verbose loops.\n",
        "   - **Ease of Use**: NumPy's array operations are designed to be intuitive and easy to use, making data manipulation straightforward.\n",
        "\n",
        "3. **Parallelism**:\n",
        "   - **Implicit Parallelism**: Vectorized operations can utilize the parallelism capabilities of modern CPUs, performing multiple operations simultaneously.\n",
        "\n",
        "### Example of a Vectorized Operation:\n",
        "\n",
        "#### Without Vectorization (Using Loops):\n",
        "```python\n",
        "import numpy as np\n",
        "\n",
        "# Create an array\n",
        "arr = np.array([1, 2, 3, 4, 5])\n",
        "\n",
        "# Using a loop to square each element\n",
        "squared_arr = np.zeros_like(arr)\n",
        "for i in range(len(arr)):\n",
        "    squared_arr[i] = arr[i] ** 2\n",
        "\n",
        "print(squared_arr)  # Output: [ 1  4  9 16 25]\n",
        "```\n",
        "\n",
        "#### With Vectorization:\n",
        "```python\n",
        "import numpy as np\n",
        "\n",
        "# Create an array\n",
        "arr = np.array([1, 2, 3, 4, 5])\n",
        "\n",
        "# Using vectorized operation to square each element\n",
        "squared_arr = arr ** 2\n",
        "\n",
        "print(squared_arr)  # Output: [ 1  4  9 16 25]\n",
        "```\n",
        "\n",
        "### Explanation:\n",
        "- **Without Vectorization**: A loop is used to iterate over each element in the array, performing the squaring operation one element at a time. This approach is less efficient and more verbose.\n",
        "- **With Vectorization**: The squaring operation is applied directly to the entire array using NumPy's vectorized operations. This approach is more efficient and concise.\n",
        "\n",
        "### Summary:\n",
        "Vectorized operations in NumPy are essential for efficient numerical computations, enabling faster and more readable code. By operating on entire arrays at once, they leverage the power of optimized low-level implementations and modern CPU capabilities, making them a cornerstone of scientific computing and data analysis in Python.\n"
      ],
      "metadata": {
        "id": "KH7kBg7k3ijh"
      }
    },
    {
      "cell_type": "markdown",
      "source": [
        "**Q9. How does Matplotlib differ from Plotly?**"
      ],
      "metadata": {
        "id": "fJzXIHO836oR"
      }
    },
    {
      "cell_type": "markdown",
      "source": [
        "**Ans:** **Matplotlib** and **Plotly** are both powerful Python libraries for creating visualizations, but they have different features and serve different purposes. Here are the key differences between the two:\n",
        "\n",
        "### Matplotlib:\n",
        "1. **Primary Use**:\n",
        "   - **Static Plots**: Matplotlib is primarily used for creating static, publication-quality visualizations. It is highly versatile and can create a wide variety of plots.\n",
        "   \n",
        "2. **Customization**:\n",
        "   - **Highly Customizable**: Matplotlib provides extensive customization options for fine-tuning every aspect of a plot. This makes it ideal for creating detailed and specific visualizations.\n",
        "\n",
        "3. **Complexity**:\n",
        "   - **Steep Learning Curve**: While Matplotlib offers a lot of control, it can be complex and have a steep learning curve, especially for beginners.\n",
        "\n",
        "4. **Interactivity**:\n",
        "   - **Limited Interactivity**: Matplotlib does support some interactive features, but it is primarily designed for static plots.\n",
        "\n",
        "5. **Integration**:\n",
        "   - **Integration with Jupyter Notebooks**: Matplotlib integrates well with Jupyter Notebooks, making it a popular choice for data analysis and visualization in research and academic settings.\n",
        "\n",
        "6. **Community and Ecosystem**:\n",
        "   - **Widely Used**: Matplotlib has a large user base and a robust ecosystem, with many other libraries (such as Seaborn and Pandas) built on top of it.\n",
        "\n",
        "### Example of a Matplotlib Plot:\n",
        "```python\n",
        "import matplotlib.pyplot as plt\n",
        "\n",
        "# Sample data\n",
        "x = [1, 2, 3, 4, 5]\n",
        "y = [2, 3, 5, 7, 11]\n",
        "\n",
        "# Creating a line plot\n",
        "plt.plot(x, y)\n",
        "plt.xlabel('X-axis')\n",
        "plt.ylabel('Y-axis')\n",
        "plt.title('Matplotlib Line Plot')\n",
        "plt.show()\n",
        "```\n",
        "\n",
        "### Plotly:\n",
        "1. **Primary Use**:\n",
        "   - **Interactive Plots**: Plotly is designed for creating interactive, web-based visualizations. It offers interactive features such as zooming, hovering, and panning.\n",
        "\n",
        "2. **Ease of Use**:\n",
        "   - **User-Friendly**: Plotly's API is more user-friendly and easier to learn, especially for beginners. It abstracts many of the complexities involved in creating interactive plots.\n",
        "\n",
        "3. **Interactivity**:\n",
        "   - **Highly Interactive**: Plotly excels in creating interactive visualizations that can be embedded in web applications or dashboards. Users can interact with the plots in various ways, making them more engaging.\n",
        "\n",
        "4. **Customization**:\n",
        "   - **Less Fine-Tuned Customization**: While Plotly offers customization options, it may not provide the same level of detailed control as Matplotlib. However, it strikes a balance between ease of use and customization.\n",
        "\n",
        "5. **Web Integration**:\n",
        "   - **Web-Based**: Plotly plots are rendered as HTML and JavaScript, making them ideal for web applications and sharing online.\n",
        "\n",
        "6. **Community and Ecosystem**:\n",
        "   - **Growing Popularity**: Plotly has a growing user base and an active community. It is well-suited for modern web-based data visualization needs.\n",
        "\n",
        "### Example of a Plotly Plot:\n",
        "```python\n",
        "import plotly.express as px\n",
        "\n",
        "# Sample data\n",
        "df = px.data.iris()\n",
        "\n",
        "# Creating a scatter plot\n",
        "fig = px.scatter(df, x='sepal_width', y='sepal_length', color='species',\n",
        "                 title='Plotly Scatter Plot')\n",
        "fig.show()\n",
        "```\n",
        "\n",
        "### Summary:\n",
        "- **Matplotlib**: Best for creating detailed and static visualizations with extensive customization options. Suitable for publication-quality plots and use in Jupyter Notebooks.\n",
        "- **Plotly**: Best for creating interactive and web-based visualizations with a user-friendly API. Suitable for web applications and interactive dashboards.\n",
        "\n",
        "-> Both libraries are powerful and serve different purposes, so the choice between them depends on the specific requirements of your visualization project."
      ],
      "metadata": {
        "id": "DKr1jSYK4COQ"
      }
    },
    {
      "cell_type": "markdown",
      "source": [
        "**Q10. What is the significance of hierarchical indexing in Pandas?**"
      ],
      "metadata": {
        "id": "HcadOOKV4ghw"
      }
    },
    {
      "cell_type": "markdown",
      "source": [
        "**Ans:** **Hierarchical indexing** (also known as **MultiIndex**) in Pandas allows you to work with higher-dimensional data in a lower-dimensional DataFrame. It provides a way to handle and analyze data with multiple levels of indexing, enabling more complex data structures and operations. Here’s why hierarchical indexing is significant:\n",
        "\n",
        "### Key Benefits of Hierarchical Indexing:\n",
        "\n",
        "1. **Complex Data Representation**:\n",
        "   - **Multi-Dimensional Data**: Hierarchical indexing allows you to represent and manipulate multi-dimensional data in a 2D DataFrame. This is particularly useful for datasets with natural hierarchical relationships (e.g., time series data, geographical data).\n",
        "\n",
        "2. **Efficient Data Selection**:\n",
        "   - **Easier Subsetting**: With MultiIndex, you can easily subset and filter data by multiple index levels, making data selection more intuitive and efficient.\n",
        "\n",
        "3. **Data Aggregation and Grouping**:\n",
        "   - **Advanced Aggregation**: Hierarchical indexing enhances the power of groupby operations, enabling more granular and detailed aggregation across different levels.\n",
        "\n",
        "4. **Flexibility in Data Manipulation**:\n",
        "   - **Reshaping Data**: You can reshape data using methods like `stack()` and `unstack()`, transforming data between wide and long formats effortlessly.\n",
        "\n",
        "5. **Enhanced Readability**:\n",
        "   - **Clear Structure**: MultiIndex provides a clear and organized structure for complex datasets, improving readability and interpretability.\n",
        "\n",
        "### Example of Hierarchical Indexing:\n",
        "\n",
        "#### Creating a MultiIndex DataFrame:\n",
        "```python\n",
        "import pandas as pd\n",
        "\n",
        "# Creating a MultiIndex\n",
        "index = pd.MultiIndex.from_tuples([\n",
        "    ('A', 1), ('A', 2), ('B', 1), ('B', 2)\n",
        "], names=['Category', 'Number'])\n",
        "\n",
        "# Creating a DataFrame with MultiIndex\n",
        "data = {\n",
        "    'Value1': [10, 15, 20, 25],\n",
        "    'Value2': [100, 150, 200, 250]\n",
        "}\n",
        "df = pd.DataFrame(data, index=index)\n",
        "\n",
        "print(df)\n",
        "```\n",
        "\n",
        "**Output**:\n",
        "```\n",
        "                Value1  Value2\n",
        "Category Number                \n",
        "A        1          10     100\n",
        "         2          15     150\n",
        "B        1          20     200\n",
        "         2          25     250\n",
        "```\n",
        "\n",
        "#### Selecting Data with MultiIndex:\n",
        "```python\n",
        "# Selecting data for a specific category and number\n",
        "print(df.loc['A', 1])\n",
        "```\n",
        "\n",
        "**Output**:\n",
        "```\n",
        "Value1     10\n",
        "Value2    100\n",
        "Name: (A, 1), dtype: int64\n",
        "```\n",
        "\n",
        "#### Aggregation with MultiIndex:\n",
        "```python\n",
        "# Grouping by the first level of the index and calculating the sum\n",
        "grouped = df.groupby(level='Category').sum()\n",
        "print(grouped)\n",
        "```\n",
        "\n",
        "**Output**:\n",
        "```\n",
        "         Value1  Value2\n",
        "Category                \n",
        "A             25     250\n",
        "B             45     450\n",
        "```\n",
        "\n",
        "Hierarchical indexing in Pandas enhances the capability to handle complex and multi-dimensional datasets. It provides efficient data selection, advanced aggregation, flexible data manipulation, and a clear structure, making it an essential feature for data analysis and manipulation.\n"
      ],
      "metadata": {
        "id": "xE62XWwE4mJp"
      }
    },
    {
      "cell_type": "markdown",
      "source": [
        "**Q11. What is the role of Seaborn’s pairplot() function?**"
      ],
      "metadata": {
        "id": "ZJdB1chn5C8u"
      }
    },
    {
      "cell_type": "markdown",
      "source": [
        "**Ans:** Seaborn’s **`pairplot()`** function is a versatile and powerful tool for exploring relationships between multiple variables in a dataset. It creates a grid of scatter plots for each pair of variables, along with histograms or KDE plots along the diagonal. Here’s why `pairplot()` is significant and how it can be used:\n",
        "\n",
        "### Key Features of `pairplot()`:\n",
        "\n",
        "1. **Multi-Variable Analysis**:\n",
        "   - **Pairwise Relationships**: `pairplot()` allows you to visualize the pairwise relationships between all variables in a dataset, making it easier to identify trends, patterns, and correlations.\n",
        "\n",
        "2. **Distribution Visualization**:\n",
        "   - **Diagonal Plots**: The diagonal of the plot grid shows the distribution of each variable, typically using histograms or kernel density estimation (KDE) plots. This helps in understanding the distribution of individual variables.\n",
        "\n",
        "3. **Categorical Differentiation**:\n",
        "   - **Hue Parameter**: You can use the `hue` parameter to color-code the plots based on a categorical variable, which helps in distinguishing different groups or categories within the data.\n",
        "\n",
        "4. **Customization**:\n",
        "   - **Flexible Customization**: `pairplot()` offers various customization options, such as controlling the kind of plots, markers, and palettes, allowing you to tailor the plots to your specific needs.\n",
        "\n",
        "### Example Usage:\n",
        "\n",
        "```python\n",
        "import seaborn as sns\n",
        "import pandas as pd\n",
        "\n",
        "# Sample dataset\n",
        "df = sns.load_dataset('iris')\n",
        "\n",
        "# Creating a pairplot\n",
        "sns.pairplot(df, hue='species', markers=[\"o\", \"s\", \"D\"], palette=\"Set2\")\n",
        "```\n",
        "\n",
        "### Explanation:\n",
        "- **Loading Data**: In this example, the Iris dataset is loaded using Seaborn's `load_dataset()` function.\n",
        "- **Creating Pairplot**: `sns.pairplot(df, hue='species', markers=[\"o\", \"s\", \"D\"], palette=\"Set2\")` creates a pairplot with scatter plots for each pair of variables, color-coded by the `species` column. Different markers and a specific color palette are used for better visualization.\n",
        "\n",
        "### Benefits of Using `pairplot()`:\n",
        "\n",
        "1. **Comprehensive Visualization**:\n",
        "   - **All-in-One**: Provides a comprehensive overview of the relationships and distributions in a dataset in a single plot.\n",
        "\n",
        "2. **Easy Comparison**:\n",
        "   - **Side-by-Side**: Allows easy comparison of pairwise relationships and distributions across different variables.\n",
        "\n",
        "3. **Exploratory Data Analysis**:\n",
        "   - **EDA**: Ideal for exploratory data analysis (EDA), helping you uncover insights and understand the structure of your data before further analysis or modeling.\n",
        "\n",
        "### Summary:\n",
        "Seaborn's `pairplot()` function is a powerful tool for visualizing the relationships between multiple variables in a dataset. It provides a comprehensive and customizable way to explore pairwise relationships and distributions, making it invaluable for data exploration and analysis.\n"
      ],
      "metadata": {
        "id": "8eW4m5mp5eHt"
      }
    },
    {
      "cell_type": "markdown",
      "source": [
        "**Q12. What is the purpose of the describe() function in Pandas?**"
      ],
      "metadata": {
        "id": "3VHM3EX45uIV"
      }
    },
    {
      "cell_type": "markdown",
      "source": [
        "**Ans:** The **`describe()`** function in Pandas provides a quick and convenient way to generate descriptive statistics for a DataFrame or a Series. Its main purpose is to give you a summary of the central tendency, dispersion, and shape of a dataset’s distribution, excluding `NaN` values.\n",
        "\n",
        "### Key Features of `describe()`:\n",
        "\n",
        "1. **Descriptive Statistics**:\n",
        "   - **Count**: The number of non-null entries.\n",
        "   - **Mean**: The average of the entries.\n",
        "   - **Standard Deviation**: Measures the spread of the dataset.\n",
        "   - **Minimum**: The smallest entry.\n",
        "   - **25th Percentile (Q1)**: The first quartile value.\n",
        "   - **50th Percentile (Median or Q2)**: The middle value of the dataset.\n",
        "   - **75th Percentile (Q3)**: The third quartile value.\n",
        "   - **Maximum**: The largest entry.\n",
        "\n",
        "2. **Customization**:\n",
        "   - **Numeric Data**: By default, it applies to numeric columns, but it can be used on categorical columns by specifying parameters.\n",
        "   - **Percentiles Parameter**: You can specify custom percentiles to include in the summary.\n",
        "\n",
        "### Example Usage:\n",
        "\n",
        "```python\n",
        "import pandas as pd\n",
        "\n",
        "# Sample DataFrame\n",
        "data = {\n",
        "    'Age': [23, 45, 12, 34, 28],\n",
        "    'Salary': [50000, 80000, 20000, 120000, 60000]\n",
        "}\n",
        "\n",
        "df = pd.DataFrame(data)\n",
        "\n",
        "# Generating descriptive statistics\n",
        "summary = df.describe()\n",
        "print(summary)\n",
        "```\n",
        "\n",
        "**Output**:\n",
        "```\n",
        "             Age        Salary\n",
        "count   5.000000      5.000000\n",
        "mean   28.400000  66000.000000\n",
        "std    11.866070  38493.453873\n",
        "min    12.000000  20000.000000\n",
        "25%    23.000000  50000.000000\n",
        "50%    28.000000  60000.000000\n",
        "75%    34.000000  80000.000000\n",
        "max    45.000000 120000.000000\n",
        "```\n",
        "\n",
        "### Benefits of Using `describe()`:\n",
        "\n",
        "1. **Quick Summary**: Provides an immediate overview of the dataset's key statistics, helping you understand the data's distribution and central tendency.\n",
        "2. **Data Insights**: Highlights important aspects of the dataset, such as the presence of outliers or the range of values.\n",
        "3. **Efficiency**: Saves time and effort by quickly generating comprehensive statistics without the need for manual calculations or multiple function calls.\n",
        "\n",
        "### Customizing `describe()`:\n",
        "You can customize the `describe()` function to include specific percentiles or to apply it to all columns, including non-numeric ones.\n",
        "\n",
        "```python\n",
        "# Including specific percentiles\n",
        "summary = df.describe(percentiles=[.10, .25, .75, .90])\n",
        "print(summary)\n",
        "\n",
        "# Applying describe to all columns\n",
        "summary_all = df.describe(include='all')\n",
        "print(summary_all)\n",
        "```\n",
        "\n",
        "The **`describe()`** function in Pandas is a valuable tool for exploratory data analysis, providing a summary of the central tendency, dispersion, and shape of the data's distribution. Its simplicity and efficiency make it a go-to method for quickly gaining insights into a dataset.\n"
      ],
      "metadata": {
        "id": "5zuYt6Ko52LE"
      }
    },
    {
      "cell_type": "markdown",
      "source": [
        "**Q13. Why is handling missing data important in Pandas?**"
      ],
      "metadata": {
        "id": "E11_5DMA6SIL"
      }
    },
    {
      "cell_type": "markdown",
      "source": [
        "Ans: Handling missing data is a critical aspect of data analysis and preprocessing in Pandas for several reasons:\n",
        "\n",
        "### 1. **Data Integrity**:\n",
        "   - **Accurate Analysis**: Missing data can lead to inaccurate analysis and misleading results. Proper handling ensures that the dataset accurately represents the underlying patterns and relationships.\n",
        "   - **Consistency**: Ensures consistency in the dataset, preventing errors and inconsistencies in calculations and visualizations.\n",
        "\n",
        "### 2. **Model Performance**:\n",
        "   - **Prediction Accuracy**: In machine learning, missing data can adversely affect model performance. Models trained on incomplete data may produce biased or incorrect predictions.\n",
        "   - **Algorithm Requirements**: Many machine learning algorithms cannot handle missing values and require a complete dataset for training and evaluation.\n",
        "\n",
        "### 3. **Statistical Validity**:\n",
        "   - **Valid Inferences**: Proper handling of missing data is crucial for making valid statistical inferences. Ignoring or improperly handling missing values can skew the results and lead to invalid conclusions.\n",
        "\n",
        "### 4. **Data Completeness**:\n",
        "   - **Comprehensive Insights**: Ensures that the analysis is based on a complete set of information, providing comprehensive insights into the data.\n",
        "   - **Avoiding Bias**: Reduces the risk of introducing bias into the analysis, as certain patterns or trends may be overlooked if missing data is not addressed.\n",
        "\n",
        "### Common Methods for Handling Missing Data:\n",
        "\n",
        "1. **Removing Missing Data**:\n",
        "   - **Drop Missing Values**: Use `dropna()` to remove rows or columns with missing values.\n",
        "\n",
        "   ```python\n",
        "   df.dropna(inplace=True)\n",
        "   ```\n",
        "\n",
        "2. **Imputing Missing Data**:\n",
        "   - **Fill with a Specific Value**: Use `fillna()` to replace missing values with a specific value (e.g., mean, median).\n",
        "\n",
        "   ```python\n",
        "   df['column'].fillna(df['column'].mean(), inplace=True)\n",
        "   ```\n",
        "\n",
        "3. **Interpolation**:\n",
        "   - **Interpolate Values**: Use `interpolate()` to estimate and fill missing values based on other values in the dataset.\n",
        "   \n",
        "   ```python\n",
        "   df.interpolate(method='linear', inplace=True)\n",
        "   ```\n",
        "\n",
        "### Example of Handling Missing Data:\n",
        "\n",
        "```python\n",
        "import pandas as pd\n",
        "import numpy as np\n",
        "\n",
        "# Sample DataFrame with missing values\n",
        "data = {\n",
        "    'A': [1, 2, np.nan, 4],\n",
        "    'B': [5, np.nan, np.nan, 8],\n",
        "    'C': [10, 11, 12, 13]\n",
        "}\n",
        "\n",
        "df = pd.DataFrame(data)\n",
        "\n",
        "# Drop rows with missing values\n",
        "df_dropped = df.dropna()\n",
        "\n",
        "# Fill missing values with the mean of the column\n",
        "df_filled = df.fillna(df.mean())\n",
        "\n",
        "# Interpolate missing values\n",
        "df_interpolated = df.interpolate()\n",
        "\n",
        "print(\"Original DataFrame:\\n\", df)\n",
        "print(\"\\nDataFrame with dropped missing values:\\n\", df_dropped)\n",
        "print(\"\\nDataFrame with filled missing values:\\n\", df_filled)\n",
        "print(\"\\nDataFrame with interpolated missing values:\\n\", df_interpolated)\n",
        "```\n",
        "\n",
        "### Summary:\n",
        "Handling missing data is essential for maintaining the integrity, accuracy, and validity of data analysis and machine learning models. By properly addressing missing values, you ensure that your analysis is robust, reliable, and free from bias, leading to more accurate and meaningful insights.\n"
      ],
      "metadata": {
        "id": "2agzyM0T6el3"
      }
    },
    {
      "cell_type": "markdown",
      "source": [
        "**Q14. What are the benefits of using Plotly for data visualization?**"
      ],
      "metadata": {
        "id": "uWrq6Yf66kk2"
      }
    },
    {
      "cell_type": "markdown",
      "source": [
        "**Ans:** **Plotly** is a popular Python library for interactive data visualization that offers several key benefits, making it a preferred choice for many data scientists and analysts. Here are some of the main advantages:\n",
        "\n",
        "### 1. **Interactivity**:\n",
        "- **Dynamic Visualizations**: Plotly excels in creating interactive plots that allow users to zoom, pan, hover, and click to get more details. This enhances the user experience and makes the data exploration process more engaging.\n",
        "\n",
        "### 2. **Ease of Use**:\n",
        "- **User-Friendly API**: Plotly’s API is designed to be intuitive and easy to use, even for beginners. With high-level functions, you can create complex visualizations with just a few lines of code.\n",
        "- **Expressiveness**: The `plotly.express` module simplifies the process of creating common plot types with concise syntax.\n",
        "\n",
        "### 3. **Customization**:\n",
        "- **Flexible Customization**: While Plotly provides great default settings, it also offers extensive customization options. You can tailor every aspect of your plots, from colors and markers to axes and annotations.\n",
        "\n",
        "### 4. **Web Integration**:\n",
        "- **Embedding in Web Applications**: Plotly plots are rendered as HTML and JavaScript, making them easy to embed in web applications and dashboards. This is ideal for sharing interactive visualizations online.\n",
        "- **Dash Compatibility**: Plotly integrates seamlessly with Dash, a web application framework, allowing you to build interactive, web-based data applications with Python.\n",
        "\n",
        "### 5. **Cross-Platform Support**:\n",
        "- **Versatility**: Plotly works across different platforms and environments, including Jupyter Notebooks, standalone Python scripts, and web applications. This makes it a versatile tool for various use cases.\n",
        "\n",
        "### 6. **Wide Range of Plot Types**:\n",
        "- **Diverse Visualizations**: Plotly supports a wide variety of plot types, including scatter plots, line plots, bar charts, histograms, pie charts, 3D plots, and more. It also supports advanced visualizations like heatmaps, contour plots, and geographic maps.\n",
        "\n",
        "### 7. **High-Quality Graphics**:\n",
        "- **Publication-Ready**: Plotly generates high-quality, publication-ready graphics that are suitable for reports, presentations, and research papers.\n",
        "\n",
        "### 8. **Community and Documentation**:\n",
        "- **Active Community**: Plotly has a vibrant community and extensive documentation, including tutorials and examples that help users get started and solve common problems.\n",
        "\n",
        "### Example Usage:\n",
        "\n",
        "```python\n",
        "import plotly.express as px\n",
        "\n",
        "# Sample data\n",
        "df = px.data.iris()\n",
        "\n",
        "# Creating an interactive scatter plot\n",
        "fig = px.scatter(df, x='sepal_width', y='sepal_length', color='species',\n",
        "                 title='Interactive Scatter Plot')\n",
        "fig.show()\n",
        "```\n",
        "\n",
        "Basically, Plotly stands out for its ability to create interactive, web-based visualizations with ease. Its user-friendly API, extensive customization options, and wide range of plot types make it a versatile tool for data visualization. Whether you’re building a dashboard, exploring data in a Jupyter Notebook, or creating visualizations for reports, Plotly’s features and flexibility make it a powerful choice.\n"
      ],
      "metadata": {
        "id": "Qbrb_eP96pbo"
      }
    },
    {
      "cell_type": "markdown",
      "source": [
        "**Q15. How does NumPy handle multidimensional arrays?**"
      ],
      "metadata": {
        "id": "2RjfXd8T68dK"
      }
    },
    {
      "cell_type": "markdown",
      "source": [
        "**Ans:** **NumPy** is designed to handle multidimensional arrays (ndarrays) efficiently and with ease. Here’s how NumPy deals with multidimensional arrays and some key aspects that make it powerful:\n",
        "\n",
        "### Creation of Multidimensional Arrays:\n",
        "You can create a multidimensional array (ndarray) using `np.array()`, `np.zeros()`, `np.ones()`, `np.full()`, `np.random.rand()`, and other functions.\n",
        "\n",
        "```python\n",
        "import numpy as np\n",
        "\n",
        "# Creating a 2D array\n",
        "array_2d = np.array([[1, 2, 3], [4, 5, 6]])\n",
        "\n",
        "# Creating a 3D array\n",
        "array_3d = np.array([[[1, 2], [3, 4]], [[5, 6], [7, 8]]])\n",
        "\n",
        "print(\"2D array:\\n\", array_2d)\n",
        "print(\"3D array:\\n\", array_3d)\n",
        "```\n",
        "\n",
        "### Array Attributes:\n",
        "NumPy arrays have several important attributes that provide information about the array, such as its shape, size, and data type.\n",
        "\n",
        "- **`ndim`**: The number of dimensions (axes) of the array.\n",
        "- **`shape`**: A tuple representing the dimensions of the array.\n",
        "- **`size`**: The total number of elements in the array.\n",
        "- **`dtype`**: The data type of the array elements.\n",
        "\n",
        "```python\n",
        "print(\"Number of dimensions:\", array_3d.ndim)\n",
        "print(\"Shape of the array:\", array_3d.shape)\n",
        "print(\"Total number of elements:\", array_3d.size)\n",
        "print(\"Data type:\", array_3d.dtype)\n",
        "```\n",
        "\n",
        "### Indexing and Slicing:\n",
        "You can access and modify elements, subarrays, and slices of a multidimensional array using indexing and slicing. NumPy supports advanced indexing for more complex operations.\n",
        "\n",
        "```python\n",
        "# Accessing elements\n",
        "element = array_2d[1, 2]  # Access element at row 1, column 2\n",
        "print(\"Accessed element:\", element)\n",
        "\n",
        "# Slicing subarrays\n",
        "subarray = array_3d[:, 1, :]\n",
        "print(\"Sliced subarray:\\n\", subarray)\n",
        "\n",
        "# Modifying elements\n",
        "array_2d[0, 1] = 10\n",
        "print(\"Modified array:\\n\", array_2d)\n",
        "```\n",
        "\n",
        "### Vectorized Operations:\n",
        "NumPy enables you to perform operations on entire arrays without explicit loops, leveraging vectorized operations for efficiency.\n",
        "\n",
        "```python\n",
        "# Element-wise operations\n",
        "result = array_2d * 2\n",
        "print(\"Array multiplied by 2:\\n\", result)\n",
        "\n",
        "# Matrix multiplication\n",
        "matrix_product = np.dot(array_2d, array_2d.T)\n",
        "print(\"Matrix product:\\n\", matrix_product)\n",
        "```\n",
        "\n",
        "### Reshaping and Transposing:\n",
        "NumPy provides functions to change the shape and orientation of arrays, such as `reshape()`, `transpose()`, and `T`.\n",
        "\n",
        "```python\n",
        "# Reshaping the array\n",
        "reshaped_array = array_2d.reshape((3, 2))\n",
        "print(\"Reshaped array:\\n\", reshaped_array)\n",
        "\n",
        "# Transposing the array\n",
        "transposed_array = array_2d.T\n",
        "print(\"Transposed array:\\n\", transposed_array)\n",
        "```\n",
        "\n",
        "### Broadcasting:\n",
        "Broadcasting allows NumPy to perform arithmetic operations on arrays of different shapes by expanding the smaller array to match the shape of the larger array.\n",
        "\n",
        "```python\n",
        "# Broadcasting example\n",
        "array_1d = np.array([1, 2, 3])\n",
        "broadcast_result = array_2d + array_1d\n",
        "print(\"Broadcasted result:\\n\", broadcast_result)\n",
        "```\n",
        "\n",
        "### Summary:\n",
        "NumPy handles multidimensional arrays with ease, providing a rich set of functionalities for creation, manipulation, and arithmetic operations. Its ability to perform vectorized operations and broadcasting, combined with efficient memory usage, makes it a powerful tool for scientific computing and data analysis.\n"
      ],
      "metadata": {
        "id": "nrv1WgpU7Dhh"
      }
    },
    {
      "cell_type": "markdown",
      "source": [
        "**Q16. What is the role of Bokeh in data visualization?**"
      ],
      "metadata": {
        "id": "CAlxNzDL7bra"
      }
    },
    {
      "cell_type": "markdown",
      "source": [
        "**Ans:** **Bokeh** is a powerful interactive visualization library in Python that enables the creation of complex and highly interactive plots and dashboards. Here are some key roles and features of Bokeh in data visualization:\n",
        "\n",
        "### Key Roles of Bokeh:\n",
        "\n",
        "1. **Interactive Visualizations**:\n",
        "   - **Interactivity**: Bokeh excels at creating interactive plots that allow users to zoom, pan, hover, and click to explore data in greater detail. This interactivity makes it ideal for exploratory data analysis and presenting insights.\n",
        "\n",
        "2. **Web-Based Plots**:\n",
        "   - **HTML and JavaScript**: Bokeh renders plots as HTML and JavaScript, making it easy to embed visualizations into web applications and share them online. This is particularly useful for creating interactive data dashboards and reports.\n",
        "\n",
        "3. **High-Level and Low-Level Interfaces**:\n",
        "   - **User-Friendly**: Bokeh offers both high-level and low-level interfaces, catering to different user needs. The high-level interface (`bokeh.plotting`) allows users to create common plot types quickly, while the low-level interface (`bokeh.models`) provides fine-grained control over plot elements.\n",
        "\n",
        "4. **Customization and Flexibility**:\n",
        "   - **Highly Customizable**: Bokeh provides extensive customization options, allowing users to tailor plots to their specific needs. Users can customize everything from plot axes and legends to colors and tools.\n",
        "\n",
        "5. **Integration with Other Tools**:\n",
        "   - **Seamless Integration**: Bokeh integrates well with other data science tools and libraries, such as Pandas, NumPy, and Jupyter Notebooks. This makes it easy to incorporate Bokeh visualizations into data workflows.\n",
        "\n",
        "### Example Usage:\n",
        "\n",
        "Here's a simple example of creating an interactive scatter plot using Bokeh:\n",
        "\n",
        "```python\n",
        "from bokeh.plotting import figure, show\n",
        "from bokeh.io import output_notebook\n",
        "import pandas as pd\n",
        "\n",
        "# Sample data\n",
        "df = pd.DataFrame({\n",
        "    'x': [1, 2, 3, 4, 5],\n",
        "    'y': [6, 7, 2, 4, 5]\n",
        "})\n",
        "\n",
        "# Output to notebook\n",
        "output_notebook()\n",
        "\n",
        "# Create a new plot\n",
        "p = figure(title=\"Simple Scatter Plot\", x_axis_label='X', y_axis_label='Y')\n",
        "\n",
        "# Add a scatter renderer\n",
        "p.scatter('x', 'y', source=df, size=10, color=\"navy\", alpha=0.5)\n",
        "\n",
        "# Show the plot\n",
        "show(p)\n",
        "```\n",
        "\n",
        "### Summary:\n",
        "Bokeh is a versatile and powerful library for creating interactive, web-based visualizations. Its ability to produce highly interactive plots, combined with extensive customization options and seamless integration with other tools, makes it an excellent choice for data scientists and analysts looking to create engaging and insightful visualizations.\n"
      ],
      "metadata": {
        "id": "oPknXChT7ibM"
      }
    },
    {
      "cell_type": "markdown",
      "source": [
        "**Q17. Explain the difference between apply() and map() in Pandas.**"
      ],
      "metadata": {
        "id": "NYb6wl018QBb"
      }
    },
    {
      "cell_type": "markdown",
      "source": [
        "**Ans:** In Pandas, both **`apply()`** and **`map()`** are used to apply functions to data in a DataFrame or Series, but they serve different purposes and are used in different contexts.\n",
        "\n",
        "### **`map()`:**\n",
        "- **Context**: Used primarily with Pandas Series.\n",
        "- **Functionality**: Applies a function element-wise to each value in the Series. It can also be used for value substitution based on a mapping or dictionary.\n",
        "- **Usage**: Ideal for simple operations or transformations on individual elements within a Series.\n",
        "\n",
        "**Example**:\n",
        "```python\n",
        "import pandas as pd\n",
        "\n",
        "# Sample Series\n",
        "s = pd.Series([1, 2, 3, 4, 5])\n",
        "\n",
        "# Using map() to square each element\n",
        "squared = s.map(lambda x: x ** 2)\n",
        "print(squared)\n",
        "```\n",
        "\n",
        "**Output**:\n",
        "```\n",
        "0     1\n",
        "1     4\n",
        "2     9\n",
        "3    16\n",
        "4    25\n",
        "dtype: int64\n",
        "```\n",
        "\n",
        "**Example of value substitution**:\n",
        "```python\n",
        "# Creating a mapping dictionary\n",
        "mapping = {1: 'one', 2: 'two', 3: 'three', 4: 'four', 5: 'five'}\n",
        "\n",
        "# Using map() for value substitution\n",
        "mapped = s.map(mapping)\n",
        "print(mapped)\n",
        "```\n",
        "\n",
        "**Output**:\n",
        "```\n",
        "0      one\n",
        "1      two\n",
        "2    three\n",
        "3     four\n",
        "4     five\n",
        "dtype: object\n",
        "```\n",
        "\n",
        "### **`apply()`:**\n",
        "- **Context**: Used with both Pandas Series and DataFrame.\n",
        "- **Functionality**: Applies a function along an axis of the DataFrame (rows or columns) or to a Series. It can apply more complex functions that operate on entire rows or columns.\n",
        "- **Usage**: Suitable for applying functions that require access to the entire row or column data, or for more complex operations.\n",
        "\n",
        "**Example with Series**:\n",
        "```python\n",
        "# Using apply() with a Series to increment each element\n",
        "incremented = s.apply(lambda x: x + 1)\n",
        "print(incremented)\n",
        "```\n",
        "\n",
        "**Output**:\n",
        "```\n",
        "0    2\n",
        "1    3\n",
        "2    4\n",
        "3    5\n",
        "4    6\n",
        "dtype: int64\n",
        "```\n",
        "\n",
        "**Example with DataFrame**:\n",
        "```python\n",
        "# Sample DataFrame\n",
        "df = pd.DataFrame({\n",
        "    'A': [1, 2, 3],\n",
        "    'B': [4, 5, 6]\n",
        "})\n",
        "\n",
        "# Using apply() with a DataFrame to sum each row\n",
        "row_sums = df.apply(lambda row: row.sum(), axis=1)\n",
        "print(row_sums)\n",
        "```\n",
        "\n",
        "**Output**:\n",
        "```\n",
        "0    5\n",
        "1    7\n",
        "2    9\n",
        "dtype: int64\n",
        "```\n",
        "\n",
        "### Summary:\n",
        "- **`map()`**:\n",
        "  - Used primarily with Series.\n",
        "  - Applies a function element-wise or substitutes values.\n",
        "  - Ideal for simple transformations on individual elements.\n",
        "- **`apply()`**:\n",
        "  - Used with both Series and DataFrame.\n",
        "  - Applies a function to rows or columns of a DataFrame or elements of a Series.\n",
        "  - Suitable for more complex operations requiring access to entire rows or columns.\n",
        "\n",
        "These methods provide flexibility in applying functions to your data, each suited to different scenarios depending on the complexity and scope of the operation."
      ],
      "metadata": {
        "id": "u97Ud-Ob8WKP"
      }
    },
    {
      "cell_type": "markdown",
      "source": [
        "**Q18. What are some advanced features of NumPy?**"
      ],
      "metadata": {
        "id": "JBuXXJB88xN6"
      }
    },
    {
      "cell_type": "markdown",
      "source": [
        "**Ans:** **NumPy** is a fundamental package for numerical computing in Python, and it offers several advanced features that enhance its capabilities. Here are some of the key advanced features of NumPy:\n",
        "\n",
        "### 1. **Broadcasting**:\n",
        "- **Efficient Operations**: Allows arrays of different shapes to be used in arithmetic operations without explicit reshaping. This leads to efficient and readable code.\n",
        "- **Example**:\n",
        "\n",
        "```python\n",
        "import numpy as np\n",
        "\n",
        "a = np.array([1, 2, 3])\n",
        "b = np.array([[1], [2], [3]])\n",
        "result = a + b  # Broadcasting a to the shape of b\n",
        "print(result)\n",
        "```\n",
        "\n",
        "### 2. **Universal Functions (ufuncs)**:\n",
        "- **Element-wise Operations**: Provide fast, element-wise functions like `np.add()`, `np.multiply()`, and more. They operate efficiently on arrays.\n",
        "- **Example**:\n",
        "\n",
        "```python\n",
        "import numpy as np\n",
        "\n",
        "a = np.array([1, 2, 3])\n",
        "b = np.array([4, 5, 6])\n",
        "result = np.add(a, b)\n",
        "print(result)\n",
        "```\n",
        "\n",
        "### 3. **Advanced Indexing**:\n",
        "- **Selective Data Access**: Allows for complex operations like slicing, boolean indexing, and fancy indexing to access and modify data.\n",
        "- **Example**:\n",
        "\n",
        "```python\n",
        "import numpy as np\n",
        "\n",
        "a = np.array([1, 2, 3, 4, 5])\n",
        "indices = [0, 2, 4]\n",
        "result = a[indices]  # Fancy indexing\n",
        "print(result)\n",
        "```\n",
        "\n",
        "### 4. **Structured Arrays**:\n",
        "- **Heterogeneous Data**: Allow you to create arrays with different data types, similar to a database table or a DataFrame in Pandas.\n",
        "- **Example**:\n",
        "\n",
        "```python\n",
        "import numpy as np\n",
        "\n",
        "data = np.array([(1, 'Alice', 25), (2, 'Bob', 30)], dtype=[('id', 'i4'), ('name', 'U10'), ('age', 'i4')])\n",
        "print(data['name'])\n",
        "```\n",
        "\n",
        "### 5. **Memory Mapping**:\n",
        "- **Efficient I/O**: Enables large datasets to be stored on disk and accessed as if they were in memory, facilitating efficient processing of large files.\n",
        "- **Example**:\n",
        "\n",
        "```python\n",
        "import numpy as np\n",
        "\n",
        "# Creating a memory-mapped file\n",
        "filename = 'data.dat'\n",
        "shape = (1000, 1000)\n",
        "dtype = 'float32'\n",
        "data = np.memmap(filename, dtype=dtype, mode='w+', shape=shape)\n",
        "data[:] = np.random.rand(1000, 1000)  # Write data\n",
        "data.flush()  # Ensure data is written to disk\n",
        "```\n",
        "\n",
        "### 6. **Linear Algebra Functions**:\n",
        "- **Advanced Math**: Provides a suite of linear algebra functions for matrix operations, eigenvalues, decompositions, and more through `np.linalg`.\n",
        "- **Example**:\n",
        "\n",
        "```python\n",
        "import numpy as np\n",
        "\n",
        "a = np.array([[1, 2], [3, 4]])\n",
        "inv_a = np.linalg.inv(a)  # Inverse of a matrix\n",
        "print(inv_a)\n",
        "```\n",
        "\n",
        "### 7. **Fourier Transforms**:\n",
        "- **Signal Processing**: Offers functions for computing Fourier transforms, useful in signal processing and data analysis.\n",
        "- **Example**:\n",
        "\n",
        "```python\n",
        "import numpy as np\n",
        "\n",
        "a = np.array([0, 1, 0, -1])\n",
        "fft_a = np.fft.fft(a)  # Fourier transform\n",
        "print(fft_a)\n",
        "```\n",
        "\n",
        "### 8. **Random Sampling**:\n",
        "- **Statistical Simulations**: Includes a robust random number generation system for creating random samples, generating random distributions, and performing Monte Carlo simulations.\n",
        "- **Example**:\n",
        "\n",
        "```python\n",
        "import numpy as np\n",
        "\n",
        "random_samples = np.random.rand(5)  # Uniform random samples\n",
        "print(random_samples)\n",
        "```\n",
        "\n",
        "### 9. **Polynomial Fitting**:\n",
        "- **Curve Fitting**: Provides utilities for polynomial fitting and evaluation through `np.polynomial`.\n",
        "- **Example**:\n",
        "\n",
        "```python\n",
        "import numpy as np\n",
        "\n",
        "coeffs = np.polynomial.polynomial.polyfit([0, 1, 2], [1, 2, 0], 2)  # Fit a quadratic polynomial\n",
        "print(coeffs)\n",
        "```\n",
        "\n",
        "### **Summary:**\n",
        "NumPy's advanced features such as broadcasting, universal functions, advanced indexing, structured arrays, memory mapping, linear algebra functions, Fourier transforms, random sampling, and polynomial fitting make it a versatile and powerful tool for scientific computing and data analysis.\n"
      ],
      "metadata": {
        "id": "wNxesszf80il"
      }
    },
    {
      "cell_type": "markdown",
      "source": [
        "**Q19. How does Pandas simplify time series analysis?**"
      ],
      "metadata": {
        "id": "voPBF-Mz9w0w"
      }
    },
    {
      "cell_type": "markdown",
      "source": [
        "**Ans:** **Pandas** simplifies time series analysis with its powerful and flexible tools designed specifically for handling time-indexed data. Here are some key features and functionalities that make Pandas an invaluable tool for time series analysis:\n",
        "\n",
        "### 1. **Datetime Indexing**:\n",
        "- **DatetimeIndex**: Pandas allows you to use dates and times as indices, enabling time-based indexing and slicing, which makes it easy to access specific periods or perform time-based operations.\n",
        "- **Example**:\n",
        "\n",
        "```python\n",
        "import pandas as pd\n",
        "\n",
        "# Creating a date range\n",
        "dates = pd.date_range(start='2023-01-01', periods=6, freq='D')\n",
        "\n",
        "# Creating a DataFrame with datetime index\n",
        "df = pd.DataFrame({'Value': [1, 2, 3, 4, 5, 6]}, index=dates)\n",
        "print(df)\n",
        "```\n",
        "\n",
        "### 2. **Resampling and Frequency Conversion**:\n",
        "- **Resampling**: Change the frequency of your time series data using methods like `resample()` for up-sampling or down-sampling (e.g., from daily to monthly data).\n",
        "- **Example**:\n",
        "\n",
        "```python\n",
        "# Resampling to monthly frequency\n",
        "monthly_df = df.resample('M').mean()\n",
        "print(monthly_df)\n",
        "```\n",
        "\n",
        "### 3. **Shifting and Lagging**:\n",
        "- **Shift**: Shift data forward or backward in time, useful for creating lagged features or aligning time series data.\n",
        "- **Example**:\n",
        "\n",
        "```python\n",
        "# Shifting the data\n",
        "shifted_df = df.shift(1)\n",
        "print(shifted_df)\n",
        "```\n",
        "\n",
        "### 4. **Rolling and Expanding Windows**:\n",
        "- **Rolling Window**: Calculate rolling statistics like moving averages, sums, or other aggregations over a sliding window.\n",
        "- **Example**:\n",
        "\n",
        "```python\n",
        "# Rolling mean with a window of 3 periods\n",
        "rolling_mean = df.rolling(window=3).mean()\n",
        "print(rolling_mean)\n",
        "```\n",
        "\n",
        "### 5. **Time Series Visualization**:\n",
        "- **Plotting**: Pandas integrates seamlessly with Matplotlib, making it easy to visualize time series data with simple plot commands.\n",
        "- **Example**:\n",
        "\n",
        "```python\n",
        "# Plotting the time series data\n",
        "df.plot()\n",
        "```\n",
        "\n",
        "### 6. **Time Zone Handling**:\n",
        "- **Time Zones**: Pandas supports time zone-aware datetime objects, allowing you to convert between different time zones.\n",
        "- **Example**:\n",
        "\n",
        "```python\n",
        "# Converting to a different time zone\n",
        "df.index = df.index.tz_localize('UTC').tz_convert('Asia/Kolkata')\n",
        "print(df)\n",
        "```\n",
        "\n",
        "### 7. **Handling Missing Data**:\n",
        "- **Interpolate and Fill**: Handle missing data in time series by interpolating or filling missing values.\n",
        "- **Example**:\n",
        "\n",
        "```python\n",
        "# Filling missing values\n",
        "df_filled = df.asfreq('D').fillna(method='ffill')\n",
        "print(df_filled)\n",
        "```\n",
        "\n",
        "### 8. **Date and Time Arithmetic**:\n",
        "- **Date Offsets**: Perform arithmetic operations on dates, such as adding or subtracting time periods.\n",
        "- **Example**:\n",
        "\n",
        "```python\n",
        "from pandas.tseries.offsets import Day, MonthEnd\n",
        "\n",
        "# Adding days to the index\n",
        "df.index = df.index + Day(2)\n",
        "print(df)\n",
        "```\n",
        "\n",
        "### Summary:\n",
        "Pandas provides a comprehensive suite of tools for time series analysis, making it easy to manipulate, analyze, and visualize time-indexed data. Its intuitive syntax and powerful functionalities simplify complex time series operations, enabling you to gain insights and make data-driven decisions effectively.\n"
      ],
      "metadata": {
        "id": "P63gO_AS92yT"
      }
    },
    {
      "cell_type": "markdown",
      "source": [
        "**Q20. What is the role of a pivot table in Pandas?**"
      ],
      "metadata": {
        "id": "1Ns6VQim_N0M"
      }
    },
    {
      "cell_type": "markdown",
      "source": [
        "**Ans:** A pivot table in Pandas is a powerful tool for summarizing and analyzing data. It allows you to transform and restructure your data, making it easier to draw insights and perform complex data analysis. Here are the key roles and benefits of using a pivot table in Pandas:\n",
        "\n",
        "### 1. **Data Summarization**:\n",
        "   - **Aggregation**: Pivot tables enable you to aggregate data by applying functions such as **`sum()`, `mean()`, `count()`**, and more, across different categories or groups.\n",
        "   - **Example**:\n",
        "\n",
        "     ```python\n",
        "     import pandas as pd\n",
        "\n",
        "     # Sample DataFrame\n",
        "     data = {\n",
        "         'Category': ['A', 'A', 'B', 'B', 'C', 'C'],\n",
        "         'Values': [10, 15, 10, 20, 30, 25]\n",
        "     }\n",
        "     df = pd.DataFrame(data)\n",
        "\n",
        "     # Creating a pivot table\n",
        "     pivot_table = df.pivot_table(values='Values', index='Category', aggfunc='sum')\n",
        "     print(pivot_table)\n",
        "     ```\n",
        "\n",
        "### 2. **Data Reshaping**:\n",
        "   - **Transforming Data**: Pivot tables allow you to reshape data by rotating or pivoting columns into rows and vice versa, making it easier to analyze multi-dimensional data.\n",
        "   - **Example**:\n",
        "\n",
        "     ```python\n",
        "     import pandas as pd\n",
        "\n",
        "     # Sample DataFrame\n",
        "     data = {\n",
        "         'Date': ['2023-01', '2023-01', '2023-02', '2023-02'],\n",
        "         'Category': ['A', 'B', 'A', 'B'],\n",
        "         'Values': [10, 20, 15, 25]\n",
        "     }\n",
        "     df = pd.DataFrame(data)\n",
        "\n",
        "     # Creating a pivot table\n",
        "     pivot_table = df.pivot(index='Date', columns='Category', values='Values')\n",
        "     print(pivot_table)\n",
        "     ```\n",
        "\n",
        "### 3. **Multi-Level Indexing**:\n",
        "   - **Hierarchical Summarization**: Pivot tables support multi-level indexing, allowing you to summarize data across multiple dimensions. This is useful for more detailed and granular analysis.\n",
        "   - **Example**:\n",
        "\n",
        "     ```python\n",
        "     import pandas as pd\n",
        "\n",
        "     # Sample DataFrame\n",
        "     data = {\n",
        "         'Region': ['North', 'North', 'South', 'South'],\n",
        "         'Category': ['A', 'B', 'A', 'B'],\n",
        "         'Values': [100, 150, 200, 250]\n",
        "     }\n",
        "     df = pd.DataFrame(data)\n",
        "\n",
        "     # Creating a pivot table with multi-level indexing\n",
        "     pivot_table = df.pivot_table(values='Values', index=['Region', 'Category'], aggfunc='mean')\n",
        "     print(pivot_table)\n",
        "     ```\n",
        "\n",
        "### 4. **Data Filtering**:\n",
        "   - **Selective Aggregation**: Pivot tables allow you to filter data before performing aggregation, making it easier to focus on specific subsets of your data.\n",
        "   - **Example**:\n",
        "   \n",
        "     ```python\n",
        "     import pandas as pd\n",
        "\n",
        "     # Sample DataFrame\n",
        "     data = {\n",
        "         'Product': ['A', 'A', 'B', 'B'],\n",
        "         'Region': ['North', 'South', 'North', 'South'],\n",
        "         'Sales': [200, 150, 300, 350]\n",
        "     }\n",
        "     df = pd.DataFrame(data)\n",
        "\n",
        "     # Creating a pivot table with filtering\n",
        "     pivot_table = df.pivot_table(values='Sales', index='Product', columns='Region', aggfunc='sum', margins=True)\n",
        "     print(pivot_table)\n",
        "     ```\n",
        "\n",
        "### 5. **Enhanced Data Analysis**:\n",
        "   - **Derive Insights**: Pivot tables enable you to quickly derive insights by summarizing large datasets into easily interpretable formats. This is particularly useful for reporting and decision-making processes.\n",
        "\n",
        "### Summary:\n",
        "Pandas pivot tables are an essential tool for data summarization, reshaping, multi-level indexing, and filtering. They allow you to transform and analyze complex datasets efficiently, providing valuable insights for data-driven decision-making.\n"
      ],
      "metadata": {
        "id": "Xa-_PRg7_Sz7"
      }
    },
    {
      "cell_type": "markdown",
      "source": [
        "**Q21. Why is NumPy’s array slicing faster than Python’s list slicing?**"
      ],
      "metadata": {
        "id": "K51J3GfG_yJX"
      }
    },
    {
      "cell_type": "markdown",
      "source": [
        "**Ans:** NumPy’s array slicing is significantly faster than Python’s list slicing due to several key factors related to how NumPy arrays are implemented and optimized:\n",
        "\n",
        "### 1. **Homogeneous Data Types**:\n",
        "- **Consistent Data Type**: NumPy arrays are designed to hold elements of the same data type. This uniformity allows for more efficient memory allocation and processing. In contrast, Python lists can hold elements of different data types, which introduces additional overhead.\n",
        "\n",
        "### 2. **Contiguous Memory Allocation**:\n",
        "- **Efficient Memory Layout**: NumPy arrays are stored in contiguous blocks of memory. This means that accessing elements sequentially is faster because it takes advantage of modern CPU cache efficiency. Python lists, on the other hand, store references to objects in memory, which can be scattered, leading to slower access times.\n",
        "\n",
        "### 3. **Optimized C Implementation**:\n",
        "- **Low-Level Optimizations**: NumPy is implemented in C, which allows it to leverage low-level optimizations and efficient algorithms for array operations, including slicing. Python lists rely on higher-level, less optimized operations.\n",
        "\n",
        "### 4. **Vectorized Operations**:\n",
        "- **Batch Processing**: NumPy allows vectorized operations, where entire arrays are processed at once without the need for explicit loops. This reduces the overhead associated with Python's interpreted loops and increases the speed of operations like slicing.\n",
        "\n",
        "### Example Comparison:\n",
        "\n",
        "#### Python List Slicing:\n",
        "\n",
        "```python\n",
        "import time\n",
        "\n",
        "# Creating a large Python list\n",
        "py_list = list(range(1000000))\n",
        "\n",
        "# Measuring time for slicing\n",
        "start_time = time.time()\n",
        "sliced_list = py_list[100:100000]\n",
        "end_time = time.time()\n",
        "\n",
        "print(\"Python list slicing time:\", end_time - start_time)\n",
        "```\n",
        "\n",
        "#### NumPy Array Slicing:\n",
        "\n",
        "```python\n",
        "import numpy as np\n",
        "\n",
        "# Creating a large NumPy array\n",
        "np_array = np.arange(1000000)\n",
        "\n",
        "# Measuring time for slicing\n",
        "start_time = time.time()\n",
        "sliced_array = np_array[100:100000]\n",
        "end_time = time.time()\n",
        "\n",
        "print(\"NumPy array slicing time:\", end_time - start_time)\n",
        "```\n",
        "\n",
        "### Summary:\n",
        "- **Memory Efficiency**: NumPy arrays use contiguous memory and uniform data types, leading to faster access and slicing.\n",
        "- **Low-Level Optimizations**: The C implementation of NumPy leverages optimized algorithms for array operations.\n",
        "- **Vectorized Operations**: NumPy’s ability to perform batch processing without explicit loops enhances performance.\n",
        "\n",
        "These factors collectively contribute to the superior speed of NumPy array slicing compared to Python list slicing."
      ],
      "metadata": {
        "id": "45nWwOHl_5zM"
      }
    },
    {
      "cell_type": "markdown",
      "source": [
        "**Q22. What are some common use cases for Seaborn?**"
      ],
      "metadata": {
        "id": "_GqZu2p3AOBO"
      }
    },
    {
      "cell_type": "markdown",
      "source": [
        "**Ans:** **Seaborn** is a powerful and versatile data visualization library built on top of Matplotlib. It provides an easy-to-use interface for creating beautiful and informative statistical graphics. Here are some common use cases for Seaborn:\n",
        "\n",
        "### 1. **Exploratory Data Analysis (EDA)**:\n",
        "   - **Visualizing Relationships**: Seaborn is commonly used for exploring relationships between variables in a dataset. Plots like scatter plots, pair plots, and joint plots help in identifying trends, correlations, and outliers.\n",
        "   - **Example**:\n",
        "     ```python\n",
        "     import seaborn as sns\n",
        "     import pandas as pd\n",
        "\n",
        "     # Sample dataset\n",
        "     df = sns.load_dataset('iris')\n",
        "\n",
        "     # Pair plot to visualize relationships between variables\n",
        "     sns.pairplot(df, hue='species')\n",
        "     ```\n",
        "\n",
        "### 2. **Distribution Visualization**:\n",
        "   - **Understanding Distributions**: Seaborn provides various plots to visualize the distribution of data, such as histograms, KDE plots, and box plots. These plots help in understanding the spread and central tendency of data.\n",
        "   - **Example**:\n",
        "     ```python\n",
        "     # Histogram and KDE plot\n",
        "     sns.histplot(df['sepal_length'], kde=True)\n",
        "     ```\n",
        "\n",
        "### 3. **Categorical Data Visualization**:\n",
        "   - **Comparing Categories**: Seaborn excels at visualizing categorical data with plots like bar plots, count plots, and violin plots. These plots are useful for comparing categories and understanding the distribution within each category.\n",
        "   - **Example**:\n",
        "     ```python\n",
        "     # Bar plot to compare categories\n",
        "     sns.barplot(x='species', y='sepal_length', data=df)\n",
        "     ```\n",
        "\n",
        "### 4. **Time Series Analysis**:\n",
        "   - **Visualizing Trends**: Seaborn can be used to visualize time series data, making it easier to identify trends, seasonal patterns, and anomalies over time.\n",
        "   - **Example**:\n",
        "     ```python\n",
        "     # Line plot for time series data\n",
        "     sns.lineplot(x='date', y='value', data=time_series_data)\n",
        "     ```\n",
        "\n",
        "### 5. **Heatmaps and Correlation Matrices**:\n",
        "   - **Correlation Analysis**: Heatmaps are useful for visualizing the correlation between different variables in a dataset. Seaborn makes it easy to create heatmaps with annotations and color gradients.\n",
        "   - **Example**:\n",
        "     ```python\n",
        "     # Heatmap for correlation matrix\n",
        "     corr = df.corr()\n",
        "     sns.heatmap(corr, annot=True, cmap='coolwarm')\n",
        "     ```\n",
        "\n",
        "### 6. **Statistical Plotting**:\n",
        "   - **Regressions and Confidence Intervals**: Seaborn provides functions to plot regression lines and confidence intervals, which are useful for statistical analysis and hypothesis testing.\n",
        "   - **Example**:\n",
        "     ```python\n",
        "     # Regression plot\n",
        "     sns.lmplot(x='sepal_length', y='sepal_width', data=df, hue='species')\n",
        "     ```\n",
        "\n",
        "### 7. **Faceted Plots**:\n",
        "   - **Multi-Plot Grids**: Seaborn allows you to create multi-plot grids to visualize subsets of data across different categories or conditions. This is useful for comparing distributions and trends across multiple dimensions.\n",
        "   - **Example**:\n",
        "     ```python\n",
        "     # Facet grid for multi-plot visualization\n",
        "     g = sns.FacetGrid(df, col='species')\n",
        "     g.map(sns.histplot, 'sepal_length')\n",
        "     ```\n",
        "\n",
        "In simple terms, **Seaborn** is a valuable tool for creating a wide range of statistical visualizations. Its ability to handle complex visualizations with ease, combined with its intuitive interface, makes it ideal for exploratory data analysis, understanding distributions, comparing categorical data, analyzing time series, and more. The library's integration with Pandas and Matplotlib further enhances its versatility and usability.\n"
      ],
      "metadata": {
        "id": "V7eFK-ewAUhN"
      }
    },
    {
      "cell_type": "markdown",
      "source": [
        "### **PRACTICAL QUESTIONS:**"
      ],
      "metadata": {
        "id": "Q4Y-wpWVAySn"
      }
    },
    {
      "cell_type": "markdown",
      "source": [
        "**Q1. How do you create a 2D NumPy array and calculate the sum of each row?**"
      ],
      "metadata": {
        "id": "Qbu-wtGoBL0Y"
      }
    },
    {
      "cell_type": "code",
      "source": [
        "import numpy as np\n",
        "\n",
        "# Creating a 2D NumPy array\n",
        "array_2d = np.array([[1, 2, 3], [4, 5, 6], [7, 8, 9]])\n",
        "print(\"2D Array:\\n\", array_2d)\n",
        "\n",
        "# Calculating the sum of each row\n",
        "row_sums = np.sum(array_2d, axis=1)\n",
        "print(\"Sum of each row:\", row_sums)"
      ],
      "metadata": {
        "colab": {
          "base_uri": "https://localhost:8080/"
        },
        "id": "b2NekuPABFbf",
        "outputId": "527cf899-00e8-4f3c-d236-027600190c42"
      },
      "execution_count": 2,
      "outputs": [
        {
          "output_type": "stream",
          "name": "stdout",
          "text": [
            "2D Array:\n",
            " [[1 2 3]\n",
            " [4 5 6]\n",
            " [7 8 9]]\n",
            "Sum of each row: [ 6 15 24]\n"
          ]
        }
      ]
    },
    {
      "cell_type": "markdown",
      "source": [
        "**Q2. Write a Pandas script to find the mean of a specific column in a DataFrame.**"
      ],
      "metadata": {
        "id": "m54QtTT3BcRW"
      }
    },
    {
      "cell_type": "code",
      "source": [
        "import pandas as pd\n",
        "\n",
        "# Sample DataFrame\n",
        "data = {\n",
        "    'Category': ['A', 'B', 'C', 'D'],\n",
        "    'Values': [10, 20, 30, 40]\n",
        "}\n",
        "df = pd.DataFrame(data)\n",
        "\n",
        "# Calculating the mean of the 'Values' column\n",
        "mean_value = df['Values'].mean()\n",
        "\n",
        "print(\"Mean of the 'Values' column:\", mean_value)"
      ],
      "metadata": {
        "colab": {
          "base_uri": "https://localhost:8080/"
        },
        "id": "OJHS50p2BjOX",
        "outputId": "87177a9d-3a93-4637-d3e2-fadbb13cfec7"
      },
      "execution_count": 3,
      "outputs": [
        {
          "output_type": "stream",
          "name": "stdout",
          "text": [
            "Mean of the 'Values' column: 25.0\n"
          ]
        }
      ]
    },
    {
      "cell_type": "markdown",
      "source": [
        "**Q3. Create a scatter plot using Matplotlib.**"
      ],
      "metadata": {
        "id": "FmVfiu69BqwR"
      }
    },
    {
      "cell_type": "code",
      "source": [
        "import matplotlib.pyplot as plt\n",
        "\n",
        "# Sample data\n",
        "x = [1, 2, 3, 4, 5]\n",
        "y = [10, 20, 25, 30, 35]\n",
        "\n",
        "# Creating the scatter plot\n",
        "plt.scatter(x, y, color='blue', marker='o')\n",
        "\n",
        "# Adding title and labels\n",
        "plt.title('Sample Scatter Plot')\n",
        "plt.xlabel('X-axis')\n",
        "plt.ylabel('Y-axis')\n",
        "\n",
        "# Displaying the plot\n",
        "plt.show()"
      ],
      "metadata": {
        "colab": {
          "base_uri": "https://localhost:8080/",
          "height": 472
        },
        "id": "oDGrZ7p9Bxn3",
        "outputId": "f288776a-c8e6-4a0d-f36a-6545ae955d2e"
      },
      "execution_count": 4,
      "outputs": [
        {
          "output_type": "display_data",
          "data": {
            "text/plain": [
              "<Figure size 640x480 with 1 Axes>"
            ],
            "image/png": "[encoded data removed]"
          },
          "metadata": {}
        }
      ]
    },
    {
      "cell_type": "markdown",
      "source": [
        "**Q4. How do you calculate the correlation matrix using Seaborn and visualize it with a heatmap?**"
      ],
      "metadata": {
        "id": "OInFsk8cB77O"
      }
    },
    {
      "cell_type": "code",
      "source": [
        "import pandas as pd\n",
        "import seaborn as sns\n",
        "import matplotlib.pyplot as plt\n",
        "\n",
        "# Sample DataFrame\n",
        "data = {\n",
        "    'A': [1, 2, 3, 4, 5],\n",
        "    'B': [5, 4, 3, 2, 1],\n",
        "    'C': [2, 3, 4, 5, 6]\n",
        "}\n",
        "df = pd.DataFrame(data)\n",
        "\n",
        "# Calculating the correlation matrix\n",
        "corr_matrix = df.corr()\n",
        "print(corr_matrix)\n",
        "\n",
        "# Visualizing the correlation matrix with a heatmap\n",
        "plt.figure(figsize=(8, 6))\n",
        "sns.heatmap(corr_matrix, annot=True, cmap='coolwarm', linewidths=0.5)\n",
        "plt.title('Correlation Matrix Heatmap')\n",
        "plt.show()"
      ],
      "metadata": {
        "colab": {
          "base_uri": "https://localhost:8080/",
          "height": 614
        },
        "id": "RtGe-p_8CDDi",
        "outputId": "f24d5a65-c1ce-4872-c26c-7d7545b61a02"
      },
      "execution_count": 5,
      "outputs": [
        {
          "output_type": "stream",
          "name": "stdout",
          "text": [
            "     A    B    C\n",
            "A  1.0 -1.0  1.0\n",
            "B -1.0  1.0 -1.0\n",
            "C  1.0 -1.0  1.0\n"
          ]
        },
        {
          "output_type": "display_data",
          "data": {
            "text/plain": [
              "<Figure size 800x600 with 2 Axes>"
            ],
            "image/png": "[encoded data removed]"
          },
          "metadata": {}
        }
      ]
    },
    {
      "cell_type": "markdown",
      "source": [
        "**Q5. Generate a bar plot using Plotly.**"
      ],
      "metadata": {
        "id": "O0i_D_cSCUsT"
      }
    },
    {
      "cell_type": "code",
      "source": [
        "import plotly.express as px\n",
        "\n",
        "# Sample data\n",
        "data = {\n",
        "    'Category': ['A', 'B', 'C', 'D'],\n",
        "    'Values': [10, 20, 30, 40]\n",
        "}\n",
        "\n",
        "# Creating a DataFrame\n",
        "df = pd.DataFrame(data)\n",
        "\n",
        "# Creating the bar plot\n",
        "fig = px.bar(df, x='Category', y='Values', title='Sample Bar Plot')\n",
        "\n",
        "# Displaying the plot\n",
        "fig.show()"
      ],
      "metadata": {
        "colab": {
          "base_uri": "https://localhost:8080/",
          "height": 542
        },
        "id": "sihTCkTRCa7u",
        "outputId": "35f2daa0-b127-43d4-c96a-b0ea50c9cc96"
      },
      "execution_count": 6,
      "outputs": [
        {
          "output_type": "display_data",
          "data": {
            "text/html": [
              "<html>\n",
              "<head><meta charset=\"utf-8\" /></head>\n",
              "<body>\n",
              "    <div>            <script src=\"https://cdnjs.cloudflare.com/ajax/libs/mathjax/2.7.5/MathJax.js?config=TeX-AMS-MML_SVG\"></script><script type=\"text/javascript\">if (window.MathJax && window.MathJax.Hub && window.MathJax.Hub.Config) {window.MathJax.Hub.Config({SVG: {font: \"STIX-Web\"}});}</script>                <script type=\"text/javascript\">window.PlotlyConfig = {MathJaxConfig: 'local'};</script>\n",
              "        <script charset=\"utf-8\" src=\"https://cdn.plot.ly/plotly-2.35.2.min.js\"></script>                <div id=\"11c06b69-c583-4c0b-a5b9-c38252c6e3dc\" class=\"plotly-graph-div\" style=\"height:525px; width:100%;\"></div>            <script type=\"text/javascript\">                                    window.PLOTLYENV=window.PLOTLYENV || {};                                    if (document.getElementById(\"11c06b69-c583-4c0b-a5b9-c38252c6e3dc\")) {                    Plotly.newPlot(                        \"11c06b69-c583-4c0b-a5b9-c38252c6e3dc\",                        [{\"alignmentgroup\":\"True\",\"hovertemplate\":\"Category=%{x}\\u003cbr\\u003eValues=%{y}\\u003cextra\\u003e\\u003c\\u002fextra\\u003e\",\"legendgroup\":\"\",\"marker\":{\"color\":\"#636efa\",\"pattern\":{\"shape\":\"\"}},\"name\":\"\",\"offsetgroup\":\"\",\"orientation\":\"v\",\"showlegend\":false,\"textposition\":\"auto\",\"x\":[\"A\",\"B\",\"C\",\"D\"],\"xaxis\":\"x\",\"y\":[10,20,30,40],\"yaxis\":\"y\",\"type\":\"bar\"}],                        {\"template\":{\"data\":{\"histogram2dcontour\":[{\"type\":\"histogram2dcontour\",\"colorbar\":{\"outlinewidth\":0,\"ticks\":\"\"},\"colorscale\":[[0.0,\"#0d0887\"],[0.1111111111111111,\"#46039f\"],[0.2222222222222222,\"#7201a8\"],[0.3333333333333333,\"#9c179e\"],[0.4444444444444444,\"#bd3786\"],[0.5555555555555556,\"#d8576b\"],[0.6666666666666666,\"#ed7953\"],[0.7777777777777778,\"#fb9f3a\"],[0.8888888888888888,\"#fdca26\"],[1.0,\"#f0f921\"]]}],\"choropleth\":[{\"type\":\"choropleth\",\"colorbar\":{\"outlinewidth\":0,\"ticks\":\"\"}}],\"histogram2d\":[{\"type\":\"histogram2d\",\"colorbar\":{\"outlinewidth\":0,\"ticks\":\"\"},\"colorscale\":[[0.0,\"#0d0887\"],[0.1111111111111111,\"#46039f\"],[0.2222222222222222,\"#7201a8\"],[0.3333333333333333,\"#9c179e\"],[0.4444444444444444,\"#bd3786\"],[0.5555555555555556,\"#d8576b\"],[0.6666666666666666,\"#ed7953\"],[0.7777777777777778,\"#fb9f3a\"],[0.8888888888888888,\"#fdca26\"],[1.0,\"#f0f921\"]]}],\"heatmap\":[{\"type\":\"heatmap\",\"colorbar\":{\"outlinewidth\":0,\"ticks\":\"\"},\"colorscale\":[[0.0,\"#0d0887\"],[0.1111111111111111,\"#46039f\"],[0.2222222222222222,\"#7201a8\"],[0.3333333333333333,\"#9c179e\"],[0.4444444444444444,\"#bd3786\"],[0.5555555555555556,\"#d8576b\"],[0.6666666666666666,\"#ed7953\"],[0.7777777777777778,\"#fb9f3a\"],[0.8888888888888888,\"#fdca26\"],[1.0,\"#f0f921\"]]}],\"heatmapgl\":[{\"type\":\"heatmapgl\",\"colorbar\":{\"outlinewidth\":0,\"ticks\":\"\"},\"colorscale\":[[0.0,\"#0d0887\"],[0.1111111111111111,\"#46039f\"],[0.2222222222222222,\"#7201a8\"],[0.3333333333333333,\"#9c179e\"],[0.4444444444444444,\"#bd3786\"],[0.5555555555555556,\"#d8576b\"],[0.6666666666666666,\"#ed7953\"],[0.7777777777777778,\"#fb9f3a\"],[0.8888888888888888,\"#fdca26\"],[1.0,\"#f0f921\"]]}],\"contourcarpet\":[{\"type\":\"contourcarpet\",\"colorbar\":{\"outlinewidth\":0,\"ticks\":\"\"}}],\"contour\":[{\"type\":\"contour\",\"colorbar\":{\"outlinewidth\":0,\"ticks\":\"\"},\"colorscale\":[[0.0,\"#0d0887\"],[0.1111111111111111,\"#46039f\"],[0.2222222222222222,\"#7201a8\"],[0.3333333333333333,\"#9c179e\"],[0.4444444444444444,\"#bd3786\"],[0.5555555555555556,\"#d8576b\"],[0.6666666666666666,\"#ed7953\"],[0.7777777777777778,\"#fb9f3a\"],[0.8888888888888888,\"#fdca26\"],[1.0,\"#f0f921\"]]}],\"surface\":[{\"type\":\"surface\",\"colorbar\":{\"outlinewidth\":0,\"ticks\":\"\"},\"colorscale\":[[0.0,\"#0d0887\"],[0.1111111111111111,\"#46039f\"],[0.2222222222222222,\"#7201a8\"],[0.3333333333333333,\"#9c179e\"],[0.4444444444444444,\"#bd3786\"],[0.5555555555555556,\"#d8576b\"],[0.6666666666666666,\"#ed7953\"],[0.7777777777777778,\"#fb9f3a\"],[0.8888888888888888,\"#fdca26\"],[1.0,\"#f0f921\"]]}],\"mesh3d\":[{\"type\":\"mesh3d\",\"colorbar\":{\"outlinewidth\":0,\"ticks\":\"\"}}],\"scatter\":[{\"fillpattern\":{\"fillmode\":\"overlay\",\"size\":10,\"solidity\":0.2},\"type\":\"scatter\"}],\"parcoords\":[{\"type\":\"parcoords\",\"line\":{\"colorbar\":{\"outlinewidth\":0,\"ticks\":\"\"}}}],\"scatterpolargl\":[{\"type\":\"scatterpolargl\",\"marker\":{\"colorbar\":{\"outlinewidth\":0,\"ticks\":\"\"}}}],\"bar\":[{\"error_x\":{\"color\":\"#2a3f5f\"},\"error_y\":{\"color\":\"#2a3f5f\"},\"marker\":{\"line\":{\"color\":\"#E5ECF6\",\"width\":0.5},\"pattern\":{\"fillmode\":\"overlay\",\"size\":10,\"solidity\":0.2}},\"type\":\"bar\"}],\"scattergeo\":[{\"type\":\"scattergeo\",\"marker\":{\"colorbar\":{\"outlinewidth\":0,\"ticks\":\"\"}}}],\"scatterpolar\":[{\"type\":\"scatterpolar\",\"marker\":{\"colorbar\":{\"outlinewidth\":0,\"ticks\":\"\"}}}],\"histogram\":[{\"marker\":{\"pattern\":{\"fillmode\":\"overlay\",\"size\":10,\"solidity\":0.2}},\"type\":\"histogram\"}],\"scattergl\":[{\"type\":\"scattergl\",\"marker\":{\"colorbar\":{\"outlinewidth\":0,\"ticks\":\"\"}}}],\"scatter3d\":[{\"type\":\"scatter3d\",\"line\":{\"colorbar\":{\"outlinewidth\":0,\"ticks\":\"\"}},\"marker\":{\"colorbar\":{\"outlinewidth\":0,\"ticks\":\"\"}}}],\"scattermapbox\":[{\"type\":\"scattermapbox\",\"marker\":{\"colorbar\":{\"outlinewidth\":0,\"ticks\":\"\"}}}],\"scatterternary\":[{\"type\":\"scatterternary\",\"marker\":{\"colorbar\":{\"outlinewidth\":0,\"ticks\":\"\"}}}],\"scattercarpet\":[{\"type\":\"scattercarpet\",\"marker\":{\"colorbar\":{\"outlinewidth\":0,\"ticks\":\"\"}}}],\"carpet\":[{\"aaxis\":{\"endlinecolor\":\"#2a3f5f\",\"gridcolor\":\"white\",\"linecolor\":\"white\",\"minorgridcolor\":\"white\",\"startlinecolor\":\"#2a3f5f\"},\"baxis\":{\"endlinecolor\":\"#2a3f5f\",\"gridcolor\":\"white\",\"linecolor\":\"white\",\"minorgridcolor\":\"white\",\"startlinecolor\":\"#2a3f5f\"},\"type\":\"carpet\"}],\"table\":[{\"cells\":{\"fill\":{\"color\":\"#EBF0F8\"},\"line\":{\"color\":\"white\"}},\"header\":{\"fill\":{\"color\":\"#C8D4E3\"},\"line\":{\"color\":\"white\"}},\"type\":\"table\"}],\"barpolar\":[{\"marker\":{\"line\":{\"color\":\"#E5ECF6\",\"width\":0.5},\"pattern\":{\"fillmode\":\"overlay\",\"size\":10,\"solidity\":0.2}},\"type\":\"barpolar\"}],\"pie\":[{\"automargin\":true,\"type\":\"pie\"}]},\"layout\":{\"autotypenumbers\":\"strict\",\"colorway\":[\"#636efa\",\"#EF553B\",\"#00cc96\",\"#ab63fa\",\"#FFA15A\",\"#19d3f3\",\"#FF6692\",\"#B6E880\",\"#FF97FF\",\"#FECB52\"],\"font\":{\"color\":\"#2a3f5f\"},\"hovermode\":\"closest\",\"hoverlabel\":{\"align\":\"left\"},\"paper_bgcolor\":\"white\",\"plot_bgcolor\":\"#E5ECF6\",\"polar\":{\"bgcolor\":\"#E5ECF6\",\"angularaxis\":{\"gridcolor\":\"white\",\"linecolor\":\"white\",\"ticks\":\"\"},\"radialaxis\":{\"gridcolor\":\"white\",\"linecolor\":\"white\",\"ticks\":\"\"}},\"ternary\":{\"bgcolor\":\"#E5ECF6\",\"aaxis\":{\"gridcolor\":\"white\",\"linecolor\":\"white\",\"ticks\":\"\"},\"baxis\":{\"gridcolor\":\"white\",\"linecolor\":\"white\",\"ticks\":\"\"},\"caxis\":{\"gridcolor\":\"white\",\"linecolor\":\"white\",\"ticks\":\"\"}},\"coloraxis\":{\"colorbar\":{\"outlinewidth\":0,\"ticks\":\"\"}},\"colorscale\":{\"sequential\":[[0.0,\"#0d0887\"],[0.1111111111111111,\"#46039f\"],[0.2222222222222222,\"#7201a8\"],[0.3333333333333333,\"#9c179e\"],[0.4444444444444444,\"#bd3786\"],[0.5555555555555556,\"#d8576b\"],[0.6666666666666666,\"#ed7953\"],[0.7777777777777778,\"#fb9f3a\"],[0.8888888888888888,\"#fdca26\"],[1.0,\"#f0f921\"]],\"sequentialminus\":[[0.0,\"#0d0887\"],[0.1111111111111111,\"#46039f\"],[0.2222222222222222,\"#7201a8\"],[0.3333333333333333,\"#9c179e\"],[0.4444444444444444,\"#bd3786\"],[0.5555555555555556,\"#d8576b\"],[0.6666666666666666,\"#ed7953\"],[0.7777777777777778,\"#fb9f3a\"],[0.8888888888888888,\"#fdca26\"],[1.0,\"#f0f921\"]],\"diverging\":[[0,\"#8e0152\"],[0.1,\"#c51b7d\"],[0.2,\"#de77ae\"],[0.3,\"#f1b6da\"],[0.4,\"#fde0ef\"],[0.5,\"#f7f7f7\"],[0.6,\"#e6f5d0\"],[0.7,\"#b8e186\"],[0.8,\"#7fbc41\"],[0.9,\"#4d9221\"],[1,\"#276419\"]]},\"xaxis\":{\"gridcolor\":\"white\",\"linecolor\":\"white\",\"ticks\":\"\",\"title\":{\"standoff\":15},\"zerolinecolor\":\"white\",\"automargin\":true,\"zerolinewidth\":2},\"yaxis\":{\"gridcolor\":\"white\",\"linecolor\":\"white\",\"ticks\":\"\",\"title\":{\"standoff\":15},\"zerolinecolor\":\"white\",\"automargin\":true,\"zerolinewidth\":2},\"scene\":{\"xaxis\":{\"backgroundcolor\":\"#E5ECF6\",\"gridcolor\":\"white\",\"linecolor\":\"white\",\"showbackground\":true,\"ticks\":\"\",\"zerolinecolor\":\"white\",\"gridwidth\":2},\"yaxis\":{\"backgroundcolor\":\"#E5ECF6\",\"gridcolor\":\"white\",\"linecolor\":\"white\",\"showbackground\":true,\"ticks\":\"\",\"zerolinecolor\":\"white\",\"gridwidth\":2},\"zaxis\":{\"backgroundcolor\":\"#E5ECF6\",\"gridcolor\":\"white\",\"linecolor\":\"white\",\"showbackground\":true,\"ticks\":\"\",\"zerolinecolor\":\"white\",\"gridwidth\":2}},\"shapedefaults\":{\"line\":{\"color\":\"#2a3f5f\"}},\"annotationdefaults\":{\"arrowcolor\":\"#2a3f5f\",\"arrowhead\":0,\"arrowwidth\":1},\"geo\":{\"bgcolor\":\"white\",\"landcolor\":\"#E5ECF6\",\"subunitcolor\":\"white\",\"showland\":true,\"showlakes\":true,\"lakecolor\":\"white\"},\"title\":{\"x\":0.05},\"mapbox\":{\"style\":\"light\"}}},\"xaxis\":{\"anchor\":\"y\",\"domain\":[0.0,1.0],\"title\":{\"text\":\"Category\"}},\"yaxis\":{\"anchor\":\"x\",\"domain\":[0.0,1.0],\"title\":{\"text\":\"Values\"}},\"legend\":{\"tracegroupgap\":0},\"title\":{\"text\":\"Sample Bar Plot\"},\"barmode\":\"relative\"},                        {\"responsive\": true}                    ).then(function(){\n",
              "                            \n",
              "var gd = document.getElementById('11c06b69-c583-4c0b-a5b9-c38252c6e3dc');\n",
              "var x = new MutationObserver(function (mutations, observer) {{\n",
              "        var display = window.getComputedStyle(gd).display;\n",
              "        if (!display || display === 'none') {{\n",
              "            console.log([gd, 'removed!']);\n",
              "            Plotly.purge(gd);\n",
              "            observer.disconnect();\n",
              "        }}\n",
              "}});\n",
              "\n",
              "// Listen for the removal of the full notebook cells\n",
              "var notebookContainer = gd.closest('#notebook-container');\n",
              "if (notebookContainer) {{\n",
              "    x.observe(notebookContainer, {childList: true});\n",
              "}}\n",
              "\n",
              "// Listen for the clearing of the current output cell\n",
              "var outputEl = gd.closest('.output');\n",
              "if (outputEl) {{\n",
              "    x.observe(outputEl, {childList: true});\n",
              "}}\n",
              "\n",
              "                        })                };                            </script>        </div>\n",
              "</body>\n",
              "</html>"
            ]
          },
          "metadata": {}
        }
      ]
    },
    {
      "cell_type": "markdown",
      "source": [
        "**Q6. Create a DataFrame and add a new column based on an existing column.**"
      ],
      "metadata": {
        "id": "VzMXKySoCrxg"
      }
    },
    {
      "cell_type": "code",
      "source": [
        "import pandas as pd\n",
        "\n",
        "# Step 1: Create a sample DataFrame\n",
        "data = {\n",
        "    'Name': ['Alice', 'Bob', 'Charlie', 'David'],\n",
        "    'Age': [25, 30, 35, 40]\n",
        "}\n",
        "df = pd.DataFrame(data)\n",
        "\n",
        "# Step 2: Add a new column based on an existing column\n",
        "# For instance, let's create a new column 'Age_in_5_years' which is Age + 5\n",
        "df['Age_in_5_years'] = df['Age'] + 5\n",
        "\n",
        "# Display the updated DataFrame\n",
        "print(df)"
      ],
      "metadata": {
        "colab": {
          "base_uri": "https://localhost:8080/"
        },
        "id": "PJ50EdqLCy63",
        "outputId": "f1b02257-4c9b-41a6-a91b-4e4146b85001"
      },
      "execution_count": 7,
      "outputs": [
        {
          "output_type": "stream",
          "name": "stdout",
          "text": [
            "      Name  Age  Age_in_5_years\n",
            "0    Alice   25              30\n",
            "1      Bob   30              35\n",
            "2  Charlie   35              40\n",
            "3    David   40              45\n"
          ]
        }
      ]
    },
    {
      "cell_type": "markdown",
      "source": [
        "**Q7. Write a program to perform element-wise multiplication of two NumPy arrays.**"
      ],
      "metadata": {
        "id": "qL4zrSFCC-67"
      }
    },
    {
      "cell_type": "code",
      "source": [
        "import numpy as np\n",
        "\n",
        "# Creating two sample NumPy arrays\n",
        "array1 = np.array([1, 2, 3, 4, 5])\n",
        "array2 = np.array([10, 20, 30, 40, 50])\n",
        "\n",
        "# Performing element-wise multiplication\n",
        "result = np.multiply(array1, array2)\n",
        "\n",
        "# Printing the result\n",
        "print(\"Array 1:\", array1)\n",
        "print(\"Array 2:\", array2)\n",
        "print(\"Element-wise multiplication result:\", result)"
      ],
      "metadata": {
        "colab": {
          "base_uri": "https://localhost:8080/"
        },
        "id": "nNZSt9gsDEvX",
        "outputId": "30093b85-f5f6-4412-f283-6bed3afdfff6"
      },
      "execution_count": 8,
      "outputs": [
        {
          "output_type": "stream",
          "name": "stdout",
          "text": [
            "Array 1: [1 2 3 4 5]\n",
            "Array 2: [10 20 30 40 50]\n",
            "Element-wise multiplication result: [ 10  40  90 160 250]\n"
          ]
        }
      ]
    },
    {
      "cell_type": "markdown",
      "source": [
        "**Q8. Create a line plot with multiple lines using Matplotlib.**"
      ],
      "metadata": {
        "id": "5NIfZPHnDO8B"
      }
    },
    {
      "cell_type": "code",
      "source": [
        "import matplotlib.pyplot as plt\n",
        "\n",
        "# Sample data\n",
        "x = [0, 1, 2, 3, 4, 5]\n",
        "\n",
        "# Data for multiple lines\n",
        "y1 = [0, 1, 4, 9, 16, 25]\n",
        "y2 = [0, -1, -4, -9, -16, -25]\n",
        "y3 = [0, 2, 8, 18, 32, 50]\n",
        "\n",
        "# Creating the line plot\n",
        "plt.plot(x, y1, label='y = x^2', marker='o', linestyle='-', color='blue')\n",
        "plt.plot(x, y2, label='y = -x^2', marker='s', linestyle='--', color='red')\n",
        "plt.plot(x, y3, label='y = 2x^2', marker='d', linestyle='-.', color='green')\n",
        "\n",
        "# Adding title and labels\n",
        "plt.title('Multiple Line Plot')\n",
        "plt.xlabel('X-axis')\n",
        "plt.ylabel('Y-axis')\n",
        "\n",
        "# Adding legend\n",
        "plt.legend()\n",
        "\n",
        "# Displaying the plot\n",
        "plt.show()"
      ],
      "metadata": {
        "colab": {
          "base_uri": "https://localhost:8080/",
          "height": 472
        },
        "id": "MOO_R20DDby2",
        "outputId": "858f78bb-d91a-473d-d6d9-f7c8346def4c"
      },
      "execution_count": 9,
      "outputs": [
        {
          "output_type": "display_data",
          "data": {
            "text/plain": [
              "<Figure size 640x480 with 1 Axes>"
            ],
            "image/png": "[encoded data removed]"
          },
          "metadata": {}
        }
      ]
    },
    {
      "cell_type": "markdown",
      "source": [
        "**Q9. Generate a Pandas DataFrame and filter rows where a column value is greater than a threshold.**"
      ],
      "metadata": {
        "id": "_V_qsyKhDo6X"
      }
    },
    {
      "cell_type": "code",
      "source": [
        "import pandas as pd\n",
        "\n",
        "# Creating a sample DataFrame\n",
        "data = {\n",
        "    'Name': ['Alice', 'Bob', 'Charlie', 'David', 'Eva'],\n",
        "    'Age': [25, 30, 35, 40, 22],\n",
        "    'Score': [85, 90, 95, 88, 92]\n",
        "}\n",
        "df = pd.DataFrame(data)\n",
        "\n",
        "# Defining the threshold\n",
        "threshold = 30\n",
        "\n",
        "# Filtering rows where 'Age' column values are greater than the threshold\n",
        "filtered_df = df[df['Age'] > threshold]\n",
        "\n",
        "# Displaying the filtered DataFrame\n",
        "print(\"Original DataFrame:\\n\", df)\n",
        "print(\"\\nFiltered DataFrame (Age > 30):\\n\", filtered_df)"
      ],
      "metadata": {
        "colab": {
          "base_uri": "https://localhost:8080/"
        },
        "id": "dHZggrGSDtQ0",
        "outputId": "5535bac8-277f-4fe0-a3dd-a8af61c55646"
      },
      "execution_count": 10,
      "outputs": [
        {
          "output_type": "stream",
          "name": "stdout",
          "text": [
            "Original DataFrame:\n",
            "       Name  Age  Score\n",
            "0    Alice   25     85\n",
            "1      Bob   30     90\n",
            "2  Charlie   35     95\n",
            "3    David   40     88\n",
            "4      Eva   22     92\n",
            "\n",
            "Filtered DataFrame (Age > 30):\n",
            "       Name  Age  Score\n",
            "2  Charlie   35     95\n",
            "3    David   40     88\n"
          ]
        }
      ]
    },
    {
      "cell_type": "markdown",
      "source": [
        "**Q10. Create a histogram using Seaborn to visualize a distribution.**"
      ],
      "metadata": {
        "id": "0gvaM-dhD1KN"
      }
    },
    {
      "cell_type": "code",
      "source": [
        "import seaborn as sns\n",
        "import matplotlib.pyplot as plt\n",
        "\n",
        "# Sample DataFrame with random data\n",
        "data = {\n",
        "    'values': [12, 15, 14, 10, 14, 18, 22, 30, 22, 25, 14, 16, 15, 13, 15, 17, 20, 25, 24, 18, 20, 22, 19, 17, 14, 15, 16, 14, 13, 12]\n",
        "}\n",
        "df = pd.DataFrame(data)\n",
        "\n",
        "# Creating the histogram\n",
        "sns.histplot(df['values'], kde=True, bins=10, color='blue')\n",
        "\n",
        "# Adding title and labels\n",
        "plt.title('Distribution of Values')\n",
        "plt.xlabel('Value')\n",
        "plt.ylabel('Frequency')\n",
        "\n",
        "# Displaying the plot\n",
        "plt.show()"
      ],
      "metadata": {
        "colab": {
          "base_uri": "https://localhost:8080/",
          "height": 472
        },
        "id": "TWDsTnWLD67J",
        "outputId": "d9550e52-ee6a-4744-9cb3-a5483f727394"
      },
      "execution_count": 11,
      "outputs": [
        {
          "output_type": "display_data",
          "data": {
            "text/plain": [
              "<Figure size 640x480 with 1 Axes>"
            ],
            "image/png": "[encoded data removed]"
          },
          "metadata": {}
        }
      ]
    },
    {
      "cell_type": "markdown",
      "source": [
        "**Q11. Perform matrix multiplication using NumPy.**"
      ],
      "metadata": {
        "id": "drWZG6ZXEDj-"
      }
    },
    {
      "cell_type": "code",
      "source": [
        "import numpy as np\n",
        "\n",
        "# Creating two matrices\n",
        "matrix1 = np.array([[1, 2], [3, 4]])\n",
        "matrix2 = np.array([[5, 6], [7, 8]])\n",
        "\n",
        "# Performing matrix multiplication\n",
        "result = np.dot(matrix1, matrix2)\n",
        "\n",
        "# Printing the result\n",
        "print(\"Matrix 1:\\n\", matrix1)\n",
        "print(\"Matrix 2:\\n\", matrix2)\n",
        "print(\"Result of matrix multiplication:\\n\", result)"
      ],
      "metadata": {
        "colab": {
          "base_uri": "https://localhost:8080/"
        },
        "id": "uzafOYHLEKv2",
        "outputId": "53fbf7c7-829f-4858-c645-e3db18d4ada3"
      },
      "execution_count": 12,
      "outputs": [
        {
          "output_type": "stream",
          "name": "stdout",
          "text": [
            "Matrix 1:\n",
            " [[1 2]\n",
            " [3 4]]\n",
            "Matrix 2:\n",
            " [[5 6]\n",
            " [7 8]]\n",
            "Result of matrix multiplication:\n",
            " [[19 22]\n",
            " [43 50]]\n"
          ]
        }
      ]
    },
    {
      "cell_type": "markdown",
      "source": [
        "**Q12. Use Pandas to load a CSV file and display its first 5 rows.**"
      ],
      "metadata": {
        "id": "oEjqhEFLER5k"
      }
    },
    {
      "cell_type": "code",
      "source": [
        "import pandas as pd\n",
        "\n",
        "# Load the CSV file\n",
        "df = pd.read_csv('/content/sample_data/california_housing_test.csv')\n",
        "\n",
        "# Display the first 5 rows\n",
        "print(df.head())"
      ],
      "metadata": {
        "colab": {
          "base_uri": "https://localhost:8080/"
        },
        "id": "JtawnwxHEaFA",
        "outputId": "db3570be-7f5a-49f9-a81a-1e46ff2a2cd4"
      },
      "execution_count": 13,
      "outputs": [
        {
          "output_type": "stream",
          "name": "stdout",
          "text": [
            "   longitude  latitude  housing_median_age  total_rooms  total_bedrooms  \\\n",
            "0    -122.05     37.37                27.0       3885.0           661.0   \n",
            "1    -118.30     34.26                43.0       1510.0           310.0   \n",
            "2    -117.81     33.78                27.0       3589.0           507.0   \n",
            "3    -118.36     33.82                28.0         67.0            15.0   \n",
            "4    -119.67     36.33                19.0       1241.0           244.0   \n",
            "\n",
            "   population  households  median_income  median_house_value  \n",
            "0      1537.0       606.0         6.6085            344700.0  \n",
            "1       809.0       277.0         3.5990            176500.0  \n",
            "2      1484.0       495.0         5.7934            270500.0  \n",
            "3        49.0        11.0         6.1359            330000.0  \n",
            "4       850.0       237.0         2.9375             81700.0  \n"
          ]
        }
      ]
    },
    {
      "cell_type": "markdown",
      "source": [
        "**Q13. Create a 3D scatter plot using Plotly.**"
      ],
      "metadata": {
        "id": "Th6mARZ4Facv"
      }
    },
    {
      "cell_type": "code",
      "source": [
        "import plotly.express as px\n",
        "import pandas as pd\n",
        "\n",
        "# Sample data\n",
        "data = {\n",
        "    'x': [1, 2, 3, 4, 5],\n",
        "    'y': [10, 20, 30, 40, 50],\n",
        "    'z': [5, 10, 15, 20, 25],\n",
        "    'category': ['A', 'B', 'C', 'D', 'E']\n",
        "}\n",
        "\n",
        "# Creating a DataFrame\n",
        "df = pd.DataFrame(data)\n",
        "\n",
        "# Creating the 3D scatter plot\n",
        "fig = px.scatter_3d(df, x='x', y='y', z='z', color='category', title='3D Scatter Plot')\n",
        "\n",
        "# Displaying the plot\n",
        "fig.show()"
      ],
      "metadata": {
        "colab": {
          "base_uri": "https://localhost:8080/",
          "height": 542
        },
        "id": "99y-yHnIGIav",
        "outputId": "7c1b2598-5a91-4fa9-b3c1-54bf727ae054"
      },
      "execution_count": 14,
      "outputs": [
        {
          "output_type": "display_data",
          "data": {
            "text/html": [
              "<html>\n",
              "<head><meta charset=\"utf-8\" /></head>\n",
              "<body>\n",
              "    <div>            <script src=\"https://cdnjs.cloudflare.com/ajax/libs/mathjax/2.7.5/MathJax.js?config=TeX-AMS-MML_SVG\"></script><script type=\"text/javascript\">if (window.MathJax && window.MathJax.Hub && window.MathJax.Hub.Config) {window.MathJax.Hub.Config({SVG: {font: \"STIX-Web\"}});}</script>                <script type=\"text/javascript\">window.PlotlyConfig = {MathJaxConfig: 'local'};</script>\n",
              "        <script charset=\"utf-8\" src=\"https://cdn.plot.ly/plotly-2.35.2.min.js\"></script>                <div id=\"b144a5c7-6242-4d54-8876-1f483871e81c\" class=\"plotly-graph-div\" style=\"height:525px; width:100%;\"></div>            <script type=\"text/javascript\">                                    window.PLOTLYENV=window.PLOTLYENV || {};                                    if (document.getElementById(\"b144a5c7-6242-4d54-8876-1f483871e81c\")) {                    Plotly.newPlot(                        \"b144a5c7-6242-4d54-8876-1f483871e81c\",                        [{\"hovertemplate\":\"category=A\\u003cbr\\u003ex=%{x}\\u003cbr\\u003ey=%{y}\\u003cbr\\u003ez=%{z}\\u003cextra\\u003e\\u003c\\u002fextra\\u003e\",\"legendgroup\":\"A\",\"marker\":{\"color\":\"#636efa\",\"symbol\":\"circle\"},\"mode\":\"markers\",\"name\":\"A\",\"scene\":\"scene\",\"showlegend\":true,\"x\":[1],\"y\":[10],\"z\":[5],\"type\":\"scatter3d\"},{\"hovertemplate\":\"category=B\\u003cbr\\u003ex=%{x}\\u003cbr\\u003ey=%{y}\\u003cbr\\u003ez=%{z}\\u003cextra\\u003e\\u003c\\u002fextra\\u003e\",\"legendgroup\":\"B\",\"marker\":{\"color\":\"#EF553B\",\"symbol\":\"circle\"},\"mode\":\"markers\",\"name\":\"B\",\"scene\":\"scene\",\"showlegend\":true,\"x\":[2],\"y\":[20],\"z\":[10],\"type\":\"scatter3d\"},{\"hovertemplate\":\"category=C\\u003cbr\\u003ex=%{x}\\u003cbr\\u003ey=%{y}\\u003cbr\\u003ez=%{z}\\u003cextra\\u003e\\u003c\\u002fextra\\u003e\",\"legendgroup\":\"C\",\"marker\":{\"color\":\"#00cc96\",\"symbol\":\"circle\"},\"mode\":\"markers\",\"name\":\"C\",\"scene\":\"scene\",\"showlegend\":true,\"x\":[3],\"y\":[30],\"z\":[15],\"type\":\"scatter3d\"},{\"hovertemplate\":\"category=D\\u003cbr\\u003ex=%{x}\\u003cbr\\u003ey=%{y}\\u003cbr\\u003ez=%{z}\\u003cextra\\u003e\\u003c\\u002fextra\\u003e\",\"legendgroup\":\"D\",\"marker\":{\"color\":\"#ab63fa\",\"symbol\":\"circle\"},\"mode\":\"markers\",\"name\":\"D\",\"scene\":\"scene\",\"showlegend\":true,\"x\":[4],\"y\":[40],\"z\":[20],\"type\":\"scatter3d\"},{\"hovertemplate\":\"category=E\\u003cbr\\u003ex=%{x}\\u003cbr\\u003ey=%{y}\\u003cbr\\u003ez=%{z}\\u003cextra\\u003e\\u003c\\u002fextra\\u003e\",\"legendgroup\":\"E\",\"marker\":{\"color\":\"#FFA15A\",\"symbol\":\"circle\"},\"mode\":\"markers\",\"name\":\"E\",\"scene\":\"scene\",\"showlegend\":true,\"x\":[5],\"y\":[50],\"z\":[25],\"type\":\"scatter3d\"}],                        {\"template\":{\"data\":{\"histogram2dcontour\":[{\"type\":\"histogram2dcontour\",\"colorbar\":{\"outlinewidth\":0,\"ticks\":\"\"},\"colorscale\":[[0.0,\"#0d0887\"],[0.1111111111111111,\"#46039f\"],[0.2222222222222222,\"#7201a8\"],[0.3333333333333333,\"#9c179e\"],[0.4444444444444444,\"#bd3786\"],[0.5555555555555556,\"#d8576b\"],[0.6666666666666666,\"#ed7953\"],[0.7777777777777778,\"#fb9f3a\"],[0.8888888888888888,\"#fdca26\"],[1.0,\"#f0f921\"]]}],\"choropleth\":[{\"type\":\"choropleth\",\"colorbar\":{\"outlinewidth\":0,\"ticks\":\"\"}}],\"histogram2d\":[{\"type\":\"histogram2d\",\"colorbar\":{\"outlinewidth\":0,\"ticks\":\"\"},\"colorscale\":[[0.0,\"#0d0887\"],[0.1111111111111111,\"#46039f\"],[0.2222222222222222,\"#7201a8\"],[0.3333333333333333,\"#9c179e\"],[0.4444444444444444,\"#bd3786\"],[0.5555555555555556,\"#d8576b\"],[0.6666666666666666,\"#ed7953\"],[0.7777777777777778,\"#fb9f3a\"],[0.8888888888888888,\"#fdca26\"],[1.0,\"#f0f921\"]]}],\"heatmap\":[{\"type\":\"heatmap\",\"colorbar\":{\"outlinewidth\":0,\"ticks\":\"\"},\"colorscale\":[[0.0,\"#0d0887\"],[0.1111111111111111,\"#46039f\"],[0.2222222222222222,\"#7201a8\"],[0.3333333333333333,\"#9c179e\"],[0.4444444444444444,\"#bd3786\"],[0.5555555555555556,\"#d8576b\"],[0.6666666666666666,\"#ed7953\"],[0.7777777777777778,\"#fb9f3a\"],[0.8888888888888888,\"#fdca26\"],[1.0,\"#f0f921\"]]}],\"heatmapgl\":[{\"type\":\"heatmapgl\",\"colorbar\":{\"outlinewidth\":0,\"ticks\":\"\"},\"colorscale\":[[0.0,\"#0d0887\"],[0.1111111111111111,\"#46039f\"],[0.2222222222222222,\"#7201a8\"],[0.3333333333333333,\"#9c179e\"],[0.4444444444444444,\"#bd3786\"],[0.5555555555555556,\"#d8576b\"],[0.6666666666666666,\"#ed7953\"],[0.7777777777777778,\"#fb9f3a\"],[0.8888888888888888,\"#fdca26\"],[1.0,\"#f0f921\"]]}],\"contourcarpet\":[{\"type\":\"contourcarpet\",\"colorbar\":{\"outlinewidth\":0,\"ticks\":\"\"}}],\"contour\":[{\"type\":\"contour\",\"colorbar\":{\"outlinewidth\":0,\"ticks\":\"\"},\"colorscale\":[[0.0,\"#0d0887\"],[0.1111111111111111,\"#46039f\"],[0.2222222222222222,\"#7201a8\"],[0.3333333333333333,\"#9c179e\"],[0.4444444444444444,\"#bd3786\"],[0.5555555555555556,\"#d8576b\"],[0.6666666666666666,\"#ed7953\"],[0.7777777777777778,\"#fb9f3a\"],[0.8888888888888888,\"#fdca26\"],[1.0,\"#f0f921\"]]}],\"surface\":[{\"type\":\"surface\",\"colorbar\":{\"outlinewidth\":0,\"ticks\":\"\"},\"colorscale\":[[0.0,\"#0d0887\"],[0.1111111111111111,\"#46039f\"],[0.2222222222222222,\"#7201a8\"],[0.3333333333333333,\"#9c179e\"],[0.4444444444444444,\"#bd3786\"],[0.5555555555555556,\"#d8576b\"],[0.6666666666666666,\"#ed7953\"],[0.7777777777777778,\"#fb9f3a\"],[0.8888888888888888,\"#fdca26\"],[1.0,\"#f0f921\"]]}],\"mesh3d\":[{\"type\":\"mesh3d\",\"colorbar\":{\"outlinewidth\":0,\"ticks\":\"\"}}],\"scatter\":[{\"fillpattern\":{\"fillmode\":\"overlay\",\"size\":10,\"solidity\":0.2},\"type\":\"scatter\"}],\"parcoords\":[{\"type\":\"parcoords\",\"line\":{\"colorbar\":{\"outlinewidth\":0,\"ticks\":\"\"}}}],\"scatterpolargl\":[{\"type\":\"scatterpolargl\",\"marker\":{\"colorbar\":{\"outlinewidth\":0,\"ticks\":\"\"}}}],\"bar\":[{\"error_x\":{\"color\":\"#2a3f5f\"},\"error_y\":{\"color\":\"#2a3f5f\"},\"marker\":{\"line\":{\"color\":\"#E5ECF6\",\"width\":0.5},\"pattern\":{\"fillmode\":\"overlay\",\"size\":10,\"solidity\":0.2}},\"type\":\"bar\"}],\"scattergeo\":[{\"type\":\"scattergeo\",\"marker\":{\"colorbar\":{\"outlinewidth\":0,\"ticks\":\"\"}}}],\"scatterpolar\":[{\"type\":\"scatterpolar\",\"marker\":{\"colorbar\":{\"outlinewidth\":0,\"ticks\":\"\"}}}],\"histogram\":[{\"marker\":{\"pattern\":{\"fillmode\":\"overlay\",\"size\":10,\"solidity\":0.2}},\"type\":\"histogram\"}],\"scattergl\":[{\"type\":\"scattergl\",\"marker\":{\"colorbar\":{\"outlinewidth\":0,\"ticks\":\"\"}}}],\"scatter3d\":[{\"type\":\"scatter3d\",\"line\":{\"colorbar\":{\"outlinewidth\":0,\"ticks\":\"\"}},\"marker\":{\"colorbar\":{\"outlinewidth\":0,\"ticks\":\"\"}}}],\"scattermapbox\":[{\"type\":\"scattermapbox\",\"marker\":{\"colorbar\":{\"outlinewidth\":0,\"ticks\":\"\"}}}],\"scatterternary\":[{\"type\":\"scatterternary\",\"marker\":{\"colorbar\":{\"outlinewidth\":0,\"ticks\":\"\"}}}],\"scattercarpet\":[{\"type\":\"scattercarpet\",\"marker\":{\"colorbar\":{\"outlinewidth\":0,\"ticks\":\"\"}}}],\"carpet\":[{\"aaxis\":{\"endlinecolor\":\"#2a3f5f\",\"gridcolor\":\"white\",\"linecolor\":\"white\",\"minorgridcolor\":\"white\",\"startlinecolor\":\"#2a3f5f\"},\"baxis\":{\"endlinecolor\":\"#2a3f5f\",\"gridcolor\":\"white\",\"linecolor\":\"white\",\"minorgridcolor\":\"white\",\"startlinecolor\":\"#2a3f5f\"},\"type\":\"carpet\"}],\"table\":[{\"cells\":{\"fill\":{\"color\":\"#EBF0F8\"},\"line\":{\"color\":\"white\"}},\"header\":{\"fill\":{\"color\":\"#C8D4E3\"},\"line\":{\"color\":\"white\"}},\"type\":\"table\"}],\"barpolar\":[{\"marker\":{\"line\":{\"color\":\"#E5ECF6\",\"width\":0.5},\"pattern\":{\"fillmode\":\"overlay\",\"size\":10,\"solidity\":0.2}},\"type\":\"barpolar\"}],\"pie\":[{\"automargin\":true,\"type\":\"pie\"}]},\"layout\":{\"autotypenumbers\":\"strict\",\"colorway\":[\"#636efa\",\"#EF553B\",\"#00cc96\",\"#ab63fa\",\"#FFA15A\",\"#19d3f3\",\"#FF6692\",\"#B6E880\",\"#FF97FF\",\"#FECB52\"],\"font\":{\"color\":\"#2a3f5f\"},\"hovermode\":\"closest\",\"hoverlabel\":{\"align\":\"left\"},\"paper_bgcolor\":\"white\",\"plot_bgcolor\":\"#E5ECF6\",\"polar\":{\"bgcolor\":\"#E5ECF6\",\"angularaxis\":{\"gridcolor\":\"white\",\"linecolor\":\"white\",\"ticks\":\"\"},\"radialaxis\":{\"gridcolor\":\"white\",\"linecolor\":\"white\",\"ticks\":\"\"}},\"ternary\":{\"bgcolor\":\"#E5ECF6\",\"aaxis\":{\"gridcolor\":\"white\",\"linecolor\":\"white\",\"ticks\":\"\"},\"baxis\":{\"gridcolor\":\"white\",\"linecolor\":\"white\",\"ticks\":\"\"},\"caxis\":{\"gridcolor\":\"white\",\"linecolor\":\"white\",\"ticks\":\"\"}},\"coloraxis\":{\"colorbar\":{\"outlinewidth\":0,\"ticks\":\"\"}},\"colorscale\":{\"sequential\":[[0.0,\"#0d0887\"],[0.1111111111111111,\"#46039f\"],[0.2222222222222222,\"#7201a8\"],[0.3333333333333333,\"#9c179e\"],[0.4444444444444444,\"#bd3786\"],[0.5555555555555556,\"#d8576b\"],[0.6666666666666666,\"#ed7953\"],[0.7777777777777778,\"#fb9f3a\"],[0.8888888888888888,\"#fdca26\"],[1.0,\"#f0f921\"]],\"sequentialminus\":[[0.0,\"#0d0887\"],[0.1111111111111111,\"#46039f\"],[0.2222222222222222,\"#7201a8\"],[0.3333333333333333,\"#9c179e\"],[0.4444444444444444,\"#bd3786\"],[0.5555555555555556,\"#d8576b\"],[0.6666666666666666,\"#ed7953\"],[0.7777777777777778,\"#fb9f3a\"],[0.8888888888888888,\"#fdca26\"],[1.0,\"#f0f921\"]],\"diverging\":[[0,\"#8e0152\"],[0.1,\"#c51b7d\"],[0.2,\"#de77ae\"],[0.3,\"#f1b6da\"],[0.4,\"#fde0ef\"],[0.5,\"#f7f7f7\"],[0.6,\"#e6f5d0\"],[0.7,\"#b8e186\"],[0.8,\"#7fbc41\"],[0.9,\"#4d9221\"],[1,\"#276419\"]]},\"xaxis\":{\"gridcolor\":\"white\",\"linecolor\":\"white\",\"ticks\":\"\",\"title\":{\"standoff\":15},\"zerolinecolor\":\"white\",\"automargin\":true,\"zerolinewidth\":2},\"yaxis\":{\"gridcolor\":\"white\",\"linecolor\":\"white\",\"ticks\":\"\",\"title\":{\"standoff\":15},\"zerolinecolor\":\"white\",\"automargin\":true,\"zerolinewidth\":2},\"scene\":{\"xaxis\":{\"backgroundcolor\":\"#E5ECF6\",\"gridcolor\":\"white\",\"linecolor\":\"white\",\"showbackground\":true,\"ticks\":\"\",\"zerolinecolor\":\"white\",\"gridwidth\":2},\"yaxis\":{\"backgroundcolor\":\"#E5ECF6\",\"gridcolor\":\"white\",\"linecolor\":\"white\",\"showbackground\":true,\"ticks\":\"\",\"zerolinecolor\":\"white\",\"gridwidth\":2},\"zaxis\":{\"backgroundcolor\":\"#E5ECF6\",\"gridcolor\":\"white\",\"linecolor\":\"white\",\"showbackground\":true,\"ticks\":\"\",\"zerolinecolor\":\"white\",\"gridwidth\":2}},\"shapedefaults\":{\"line\":{\"color\":\"#2a3f5f\"}},\"annotationdefaults\":{\"arrowcolor\":\"#2a3f5f\",\"arrowhead\":0,\"arrowwidth\":1},\"geo\":{\"bgcolor\":\"white\",\"landcolor\":\"#E5ECF6\",\"subunitcolor\":\"white\",\"showland\":true,\"showlakes\":true,\"lakecolor\":\"white\"},\"title\":{\"x\":0.05},\"mapbox\":{\"style\":\"light\"}}},\"scene\":{\"domain\":{\"x\":[0.0,1.0],\"y\":[0.0,1.0]},\"xaxis\":{\"title\":{\"text\":\"x\"}},\"yaxis\":{\"title\":{\"text\":\"y\"}},\"zaxis\":{\"title\":{\"text\":\"z\"}}},\"legend\":{\"title\":{\"text\":\"category\"},\"tracegroupgap\":0},\"title\":{\"text\":\"3D Scatter Plot\"}},                        {\"responsive\": true}                    ).then(function(){\n",
              "                            \n",
              "var gd = document.getElementById('b144a5c7-6242-4d54-8876-1f483871e81c');\n",
              "var x = new MutationObserver(function (mutations, observer) {{\n",
              "        var display = window.getComputedStyle(gd).display;\n",
              "        if (!display || display === 'none') {{\n",
              "            console.log([gd, 'removed!']);\n",
              "            Plotly.purge(gd);\n",
              "            observer.disconnect();\n",
              "        }}\n",
              "}});\n",
              "\n",
              "// Listen for the removal of the full notebook cells\n",
              "var notebookContainer = gd.closest('#notebook-container');\n",
              "if (notebookContainer) {{\n",
              "    x.observe(notebookContainer, {childList: true});\n",
              "}}\n",
              "\n",
              "// Listen for the clearing of the current output cell\n",
              "var outputEl = gd.closest('.output');\n",
              "if (outputEl) {{\n",
              "    x.observe(outputEl, {childList: true});\n",
              "}}\n",
              "\n",
              "                        })                };                            </script>        </div>\n",
              "</body>\n",
              "</html>"
            ]
          },
          "metadata": {}
        }
      ]
    }
  ]
}