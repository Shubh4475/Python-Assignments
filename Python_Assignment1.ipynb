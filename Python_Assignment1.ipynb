{
  "nbformat": 4,
  "nbformat_minor": 0,
  "metadata": {
    "colab": {
      "provenance": []
    },
    "kernelspec": {
      "name": "python3",
      "display_name": "Python 3"
    },
    "language_info": {
      "name": "python"
    }
  },
  "cells": [
    {
      "cell_type": "markdown",
      "source": [
        "                                           Name: Shubham Srivastava\n",
        "                                           E-mail: shubham447516@gmail.com\n",
        "                                           Course: Data Science with Generative AI\n",
        "                                           Python Basics Assignment(Assignment 1)\n",
        "                                           Date of Submission: 06-11-2024"
      ],
      "metadata": {
        "id": "gpe_RzZn9-4P"
      }
    },
    {
      "cell_type": "markdown",
      "source": [
        "**Q1. Explain the key features of Python that make it a popular choice for programming.**"
      ],
      "metadata": {
        "id": "CMI4JR3uH0yY"
      }
    },
    {
      "cell_type": "markdown",
      "source": [
        "**Ans:** Python has become one of the most popular programming languages primarily due to a few significant characteristics that enhance its ease of use, functionality, and ability to perform a variety of applications that make it highly accessible, powerful, and versatile.\n",
        "Some of the main reasons why Python is so widely used:\n",
        "\n",
        "* **Easy of use:**\n",
        "\n",
        "1. ***Very simple and un-technical syntax:*** Python’s syntax is designed to be readable and straightforward, which makes it easier for beginners to learn and use.It focuses on clean, readable code, so that the same code is easy to revise and soft maintenance afterwards.\n",
        "2. ***Code Blocks without Curly Brackets:***  In defining the code blocks, python relies on white spaces **indentation** and not the typical brackets, which introduces neat and orderly manner of coding. This also ensures that errors brought about by over or under programming of the brackets are eliminated.\n",
        "\n",
        "* **Wide Range Of Applications:**\n",
        "\n",
        "1. ***Not Limited to Any Function: A General Purpose Language:*** Python can be employed in a variety of activities ranging from homepage creation and scripting to handling data, robotics, and machine learning.\n",
        "2. ***Designed for Any Operating System:*** Python is cross-operating system in a way that different operating systems (windows, macos and linux) can run python codes without a hassle and major changes.\n",
        "\n",
        "*  **Large Standard Library:**\n",
        "\n",
        "1. ***All-inclusive/Comprehensive Built-in Libraries:***  Python has a lot of functionality in its standard library, which includes things like file I/O, networking, databases, and more. So, users do not need to write any low level code and can focus on high level problems.\n",
        "2.  ***External/Additional Libraries and Frameworks:*** In addition to the standard ones, Python has also a rich collection of additional libraries and frameworks that include, for example NumPy, pandas, Flask, Django, TensorFlow among others.\n",
        "\n",
        "* **Strong Community Support:**\n",
        "\n",
        "1. Python has one of the largest programming communities, which means abundant support, documentation, tutorials, and open-source libraries.  \n",
        "2. The availability of these resources makes it easier for new learners to get started and for experienced developers to find solutions to complex problems.\n",
        "\n",
        "* **Object-Oriented and Functional Programming Support:**  \n",
        "\n",
        "1.  Python is an Object Oriented Programming (OOP) language which allows code to be structured into classes and objects.  \n",
        "2. It is also a multi paradigm programming language, which allows functional programming constructs such as first class functions, higher order functions and list comprehensions, making it adaptable for various programming patterns.\n",
        "\n",
        "\n",
        "* **Dynamic Typing**\n",
        "\n",
        "1. Python, it is said that the language is dynamically typed. This means that the type of a variable is established during execution (i.e. at runtime) rather than at the compilation stage of a program. This is more convenient when writing code as the programmer need not declare the type of the variables used in the code.  \n",
        "2. Also, such dynamic development and deployment may also lead to some constraints which cause potential errors during the runtime of the program, and that is a calculable cost for every developer to bear.\n",
        "\n",
        "* **Strong Support for Data Science and Machine Learning:**\n",
        "\n",
        "1. Of late most of the time when someone uses Python programming what is in their mind is data science, due to frameworks such as NumPy (Numerical Processing), Pandas (Data Processing), Matplotlib (Data Plotting), Scikit-learn (Data Mining), Tensorflow/Keras (Deep Learning). All of these make working in Code incredibly easy for the data analytics or artificial intelligence aspirants.   \n",
        "\n",
        "As a conclusion, the appeal of Python to the majority of programmers also stems from how easy it is to read and write the syntax, the paradigm diversity and the number of available libraries, the amount of help from the user base, portability, ability to connect with and use other languages, the strong available frameworks/tools for different activities – web development in this case, and particularly, its supremacy in data science.\n",
        "\n",
        "\n",
        "\n",
        "\n",
        "\n",
        "\n",
        "\n",
        "\n",
        "\n",
        "\n",
        "\n",
        "\n",
        "\n",
        "\n",
        "\n",
        "\n",
        "\n"
      ],
      "metadata": {
        "id": "xduIGN2fIXVA"
      }
    },
    {
      "cell_type": "markdown",
      "source": [
        "**Q2. Describe the role of predefined keywords in Python and provide examples of how they are used in a program.**"
      ],
      "metadata": {
        "id": "Ujz2Wu6PRu5x"
      }
    },
    {
      "cell_type": "markdown",
      "source": [
        "**Ans:** In Python, some special words are defined meanings within the language syntax. Such words are generally referred to as keywords and have a rigid and core structure of python programming and as such cannot be employed as the names of variables or even functions and classes. All the keywords have different function all determined to provide some assistance in controlling the flow or even creating functions or managing exceptions.\n",
        "\n",
        "Key Characteristics of Keywords:\n",
        "\n",
        "1. **Reserved:** Keywords cannot be redefined or used as names for variables, functions, or classes.\n",
        "2. **Built-in functions and operations:** Some keywords are used to perform common programming tasks such as looping, defining conditions, and managing exceptions.\n",
        "3. **Fixed:** Python keywords cannot be changed or reassigned.\n",
        "\n",
        "List of Common Python Keywords:\n",
        "1. if, else, elif — for conditional statements\n",
        "2. for, while — for loops\n",
        "3. in, not — for membership and logical operations\n",
        "4. True, False, None — for boolean values and null\n",
        "5. and, or — for logical conjunctions\n",
        "6. break, continue — for controlling loop execution\n",
        "\n",
        "**Here are examples of how some of these keywords are used within Python code:**           "
      ],
      "metadata": {
        "id": "Poph7WGrVGnI"
      }
    },
    {
      "cell_type": "code",
      "source": [
        "# Conditional Statements (if, else, elif): Keywords like if, else, and elif are used to control the flow of a program by executing certain blocks of code based on conditions.\n",
        "\n",
        "x = 15\n",
        "if x > 10:\n",
        "    print(\"x is greater than 10\")\n",
        "elif x == 10:\n",
        "    print(\"x is equal to 10\")\n",
        "else:\n",
        "    print(\"x is less than 10\")\n",
        "\n",
        "'''\n",
        "1.if checks if the condition x > 10 is true and executes the corresponding block if true.\n",
        "2.elif is used to specify an alternative condition.\n",
        "3.else is executed if none of the previous conditions were true.\n",
        "'''"
      ],
      "metadata": {
        "colab": {
          "base_uri": "https://localhost:8080/",
          "height": 70
        },
        "collapsed": true,
        "id": "8NKumIJvX9hM",
        "outputId": "d3196248-7cfe-4055-e96d-ae2d7e7f7ab9"
      },
      "execution_count": 48,
      "outputs": [
        {
          "output_type": "stream",
          "name": "stdout",
          "text": [
            "x is greater than 10\n"
          ]
        },
        {
          "output_type": "execute_result",
          "data": {
            "text/plain": [
              "'\\n1.if checks if the condition x > 10 is true and executes the corresponding block if true.\\n2.elif is used to specify an alternative condition.\\n3.else is executed if none of the previous conditions were true.\\n'"
            ],
            "application/vnd.google.colaboratory.intrinsic+json": {
              "type": "string"
            }
          },
          "metadata": {},
          "execution_count": 48
        }
      ]
    },
    {
      "cell_type": "code",
      "source": [
        "# Loops (for, while): for and while are used for looping through a sequence (like a list or range) or executing a block of code repeatedly while a condition is true.\n",
        "\n",
        "# Using 'for' to iterate through a range\n",
        "print(\"For Loop Outpout:\")\n",
        "for i in range(0,10):\n",
        "  print(i)\n",
        "  i +=1\n",
        "\n",
        "# Using 'while' to loop while a condition is true\n",
        "print(\"While loop output:\")\n",
        "count = 0\n",
        "while count < 5:\n",
        "    print(count)\n",
        "    count += 1\n",
        "\n",
        "'''\n",
        "1. The for loop iterates over each element in the range and executes the print(i) statement for each number.\n",
        "2. The while loop executes the block as long as the condition count < 5 is true, incrementing count after each iteration.\n",
        "'''"
      ],
      "metadata": {
        "colab": {
          "base_uri": "https://localhost:8080/",
          "height": 348
        },
        "collapsed": true,
        "id": "BK0yc0v1coUg",
        "outputId": "3e28e30d-ed47-4cad-8af6-a13f549c6197"
      },
      "execution_count": 49,
      "outputs": [
        {
          "output_type": "stream",
          "name": "stdout",
          "text": [
            "For Loop Outpout:\n",
            "0\n",
            "1\n",
            "2\n",
            "3\n",
            "4\n",
            "5\n",
            "6\n",
            "7\n",
            "8\n",
            "9\n",
            "While loop output:\n",
            "0\n",
            "1\n",
            "2\n",
            "3\n",
            "4\n"
          ]
        },
        {
          "output_type": "execute_result",
          "data": {
            "text/plain": [
              "'\\n1. The for loop iterates over each element in the range and executes the print(i) statement for each number.\\n2. The while loop executes the block as long as the condition count < 5 is true, incrementing count after each iteration.\\n'"
            ],
            "application/vnd.google.colaboratory.intrinsic+json": {
              "type": "string"
            }
          },
          "metadata": {},
          "execution_count": 49
        }
      ]
    },
    {
      "cell_type": "code",
      "source": [
        "# Logical Operations (and, or, not): Keywords like and, or, and not are used to perform logical operations.\n",
        "\n",
        "a = True\n",
        "b = False\n",
        "\n",
        "print(a and b)  # False, both conditions must be True for 'and'\n",
        "print(a or b)   # True, only one condition needs to be True for 'or'\n",
        "print(not a)    # False, negates the value of 'a'\n",
        "\n",
        "'''\n",
        "1. and returns True only if both conditions are True.\n",
        "2. or returns True if at least one of the conditions is True.\n",
        "3. not negates a boolean value, converting True to False and vice versa.\n",
        "'''"
      ],
      "metadata": {
        "colab": {
          "base_uri": "https://localhost:8080/",
          "height": 105
        },
        "collapsed": true,
        "id": "XGk9Pf1igTZY",
        "outputId": "87998f0c-c45a-44da-e54f-d3f29c2e86f1"
      },
      "execution_count": 50,
      "outputs": [
        {
          "output_type": "stream",
          "name": "stdout",
          "text": [
            "False\n",
            "True\n",
            "False\n"
          ]
        },
        {
          "output_type": "execute_result",
          "data": {
            "text/plain": [
              "'\\n1. and returns True only if both conditions are True.\\n2. or returns True if at least one of the conditions is True.\\n3. not negates a boolean value, converting True to False and vice versa.\\n'"
            ],
            "application/vnd.google.colaboratory.intrinsic+json": {
              "type": "string"
            }
          },
          "metadata": {},
          "execution_count": 50
        }
      ]
    },
    {
      "cell_type": "code",
      "source": [
        "# None, True, False: None, True, and False are special constant keywords in Python\n",
        "\n",
        "x = None\n",
        "if x is None:\n",
        "    print(\"x is None\")\n",
        "\n",
        "y = True\n",
        "if y:\n",
        "    print(\"y is True\")\n",
        "\n",
        "'''\n",
        "1. None is a special value that represents the absence of a value or a null value.\n",
        "2. True and False are the boolean constants representing logical truth and falsehood.\n",
        "'''"
      ],
      "metadata": {
        "colab": {
          "base_uri": "https://localhost:8080/",
          "height": 70
        },
        "collapsed": true,
        "id": "c1BKnNZdgymv",
        "outputId": "7c97cc4e-d4c3-4a11-e82a-f4f4f1e511d3"
      },
      "execution_count": 51,
      "outputs": [
        {
          "output_type": "stream",
          "name": "stdout",
          "text": [
            "x is None\n",
            "y is True\n"
          ]
        },
        {
          "output_type": "execute_result",
          "data": {
            "text/plain": [
              "'\\n1. None is a special value that represents the absence of a value or a null value.\\n2. True and False are the boolean constants representing logical truth and falsehood.\\n'"
            ],
            "application/vnd.google.colaboratory.intrinsic+json": {
              "type": "string"
            }
          },
          "metadata": {},
          "execution_count": 51
        }
      ]
    },
    {
      "cell_type": "markdown",
      "source": [
        "**Q3. Compare and contrast mutable and immutable objects in Python with examples.**"
      ],
      "metadata": {
        "id": "9y6jvVtJkGY8"
      }
    },
    {
      "cell_type": "markdown",
      "source": [
        "**Ans:** Python provides the aspect of mutability and immutability to its objects concerning whether the object would be modified after its creation or not. It is very important to know their differences as that will determine internally how they will function in your programs especially when they are given to functions, stored in variables or placed in data structures.\n",
        "\n",
        "* **Mutable Objects:**\n",
        " Mutable objects are objects whose state (data) can be modified after they are created. This means, one is free to modify the content or the value of the object. There is no need of creating a new object instance.\n",
        "\n",
        "**Examples of Mutable Objects:**\n",
        "1. List\n",
        "2.  Dictionary\n",
        "3.  Set\n",
        "\n",
        "**Key Characteristics of Mutable Objects:**\n",
        "\n",
        "\n",
        "*   The contents of the mutable object can be modified even after it has been created.\n",
        "* For example, if one variable is assigned the mutable object and copied into another variable, it does not create a new object in memory. Both variables point to the same object in memory.\n",
        "* Any update made by one reference to the object will be seen by all other references that point to that object.\n"
      ],
      "metadata": {
        "id": "4wjxyjYXkhqg"
      }
    },
    {
      "cell_type": "code",
      "source": [
        "# Example of Mutable Object:\n",
        "\n",
        "# Lists are mutable\n",
        "list1 = [12, 16, 19]\n",
        "\n",
        "# Modifying the list\n",
        "list1.append(14)\n",
        "print(list1)  # Output: [12, 16, 19, 14]\n",
        "print(\"Memory address before change:\")\n",
        "print(id(list1))  #  (same as before)\n",
        "\n",
        "# Modifying an element\n",
        "list1[0] = 10\n",
        "print(list1)  # Output: [10, 16, 19, 14]\n",
        "print(\"Memory address after change:\")\n",
        "print(id(list1))\n",
        "\n",
        "print(\"Memory adress is same!\")\n",
        "\n",
        "#In this example, we modified the list list1 in place by appending a value and changing an element. Notice that the memory address of list1 didn’t change, indicating that the object itself was modified\n",
        "\n"
      ],
      "metadata": {
        "colab": {
          "base_uri": "https://localhost:8080/",
          "height": 0
        },
        "collapsed": true,
        "id": "sDjk73FQr1Uj",
        "outputId": "5765006b-0c11-47c1-95cd-b892cb1d28ee"
      },
      "execution_count": 52,
      "outputs": [
        {
          "output_type": "stream",
          "name": "stdout",
          "text": [
            "[12, 16, 19, 14]\n",
            "Memory address before change:\n",
            "140002048781248\n",
            "[10, 16, 19, 14]\n",
            "Memory address after change:\n",
            "140002048781248\n",
            "Memory adress is same!\n"
          ]
        }
      ]
    },
    {
      "cell_type": "markdown",
      "source": [
        "\n",
        "\n",
        "*   **Immutable Objects:** An immutable object is an object that is designed in such a way that once it is made, the state (data) of it can never be altered. In other words, any operation that tries to alter the state of an immutable object will result in the return of a new object and not in the modification of the original object.\n",
        "\n",
        "**Examples of Immutable Objects:**\n",
        "\n",
        "\n",
        "1.   Strings\n",
        "2.   Tuples\n",
        "3. Integers\n",
        "4. Floats\n",
        "5. Booleans\n",
        "\n",
        "**Key Characteristics of Immutable Objects:**\n",
        "\n",
        "\n",
        "*   Its contents are permanent and cannot be altered once they have been created.\n",
        "*   When one creates an immutable object and assigns it to a new variable, the same object is being pointed to but the object cannot be changed.\n",
        "* If you do “change” an immutable object, the original one will still remain as it is and rather a fresh new one will be created instead.\n"
      ],
      "metadata": {
        "id": "nmi0qS2lvpFw"
      }
    },
    {
      "cell_type": "code",
      "source": [
        "# Example of Immutable Objects:\n",
        "\n",
        "# Integers are immutable\n",
        "a = 5\n",
        "print(\"Memory address before change:\")\n",
        "print(id(a))\n",
        "a += 7\n",
        "print(a)\n",
        "print(\"Memory address after change:\")\n",
        "print(id(a))\n",
        "\n",
        "print(\"\\n\")\n",
        "\n",
        "#Floats are immutable\n",
        "b = 4.5\n",
        "print(\"Memory address before change:\")\n",
        "print(id(b))\n",
        "b += 6\n",
        "print(b)\n",
        "print(\"Memory address after change:\")\n",
        "print(id(b))\n",
        "\n",
        "print(\"Memory address are different\")\n",
        "\n",
        "#In this example, we modified the integer object 'a' and float object 'b' by increasing their values. Notice that the memory address of both the objects changed, indicating that a new object is created and original object remains unchanged.\n"
      ],
      "metadata": {
        "colab": {
          "base_uri": "https://localhost:8080/",
          "height": 0
        },
        "collapsed": true,
        "id": "PYSm28lIyKyb",
        "outputId": "752ea1b7-e867-4311-b168-d310a32f633e"
      },
      "execution_count": 53,
      "outputs": [
        {
          "output_type": "stream",
          "name": "stdout",
          "text": [
            "Memory address before change:\n",
            "140003382542704\n",
            "12\n",
            "Memory address after change:\n",
            "140003382542928\n",
            "\n",
            "\n",
            "Memory address before change:\n",
            "140002052099120\n",
            "10.5\n",
            "Memory address after change:\n",
            "140002052102032\n",
            "Memory address are different\n"
          ]
        }
      ]
    },
    {
      "cell_type": "markdown",
      "source": [
        "**Key Differences between Mutable and Immutable Objects:**\n",
        "\n",
        "***Capacity of Modification:***\n",
        "*  Mutable objects include things such as lists that are modified post-creation.\n",
        "*  Immutable objects, which cannot be altered, limit any alteration to the creation of a new entity, such as a string.\n",
        "\n",
        "***Performance Considerations:***\n",
        "*   Mutable objects tend to be quicker in retrieval as the object is not copied whenever it is changed.\n",
        "* Performance concern arises when changes are made to immutable types as copies have to be made.\n",
        "\n",
        "***Use Cases:***\n",
        "\n",
        "\n",
        "*   Mutable objects are preferred when frequent changes to data are expected (e.g., maintaining dynamic lists).\n",
        "*   Immutable objects are useful for fixed collections or when data integrity is critical (e.g., using tuples as keys in dictionaries).\n",
        "\n",
        "***Memory Management:***\n",
        "*   In the case of mutable objects, even if the contents change, they do not lose their identity.\n",
        "*  In the case of Immutable objects, there is no such loss of identity. Any change leads to the formation of another object with a different identity.\n",
        "\n",
        "***Examples of Errors:***\n",
        "*   Trying to modify an immutable object raises errors (as shown with strings and tuples).\n",
        "*   Modifications on mutable types do not raise errors but change the original object directly.\n",
        "\n",
        "The selection of mutable or immutable objects relies on the context of the situation. To illustrate, if there is a need to make changes to a collection of items more than once, it is ideal to use changeable objects such as lists or dictionaries. Also, in case there is a need to restrict the change of the value of the object, or when the object is in a multi-threaded environment, fixed objects are much more preferable."
      ],
      "metadata": {
        "id": "51XUQ0iw1zDY"
      }
    },
    {
      "cell_type": "markdown",
      "source": [
        "**Q4. Discuss the different types of operators in Python and provide examples of how they are used**."
      ],
      "metadata": {
        "id": "MN3gGTsu5gtZ"
      }
    },
    {
      "cell_type": "markdown",
      "source": [
        "In Python, an operator can be defined as a special symbol or a keyword used in order to carry out various operations on variables and values. They can also be said to fall into different types depending on the kind of operation they execute.\n",
        "\n",
        "**Different types of operators in Python are:**\n",
        "\n",
        "1.   Arithmetic operators:  Perform basic mathematical operations (+, -, *, /, //, %, **).\n",
        "2.  Relational operators:  Used for comparisons (==, !=, >, <, >=, <=).\n",
        "3. Logical operators: Combine boolean expressions (and, or, not).\n",
        "4. Assignment operators: Assign values to variables (=, +=, -=, etc.).\n",
        "5. Bitwise operators: Operate on binary representations of numbers (&, |, ^, ~, <<, >>).\n",
        "6. Identity operators: Check if two variables point to the same object in memory (is, is not).\n",
        "7. Membership operators: Check if a value is present in a sequence (in, not in).\n",
        "8. Ternary operator: Conditional expressions (cond1 if cond else cond2).\n",
        "\n",
        "**Given below are the examples of how these operators are used:**"
      ],
      "metadata": {
        "id": "SbVGNG-p7bew"
      }
    },
    {
      "cell_type": "code",
      "source": [
        "# Example of Arithmetic operators:\n",
        "\n",
        "a = 20\n",
        "b = 10\n",
        "\n",
        "print(a + b)  # Addition\n",
        "print(a - b)  # Subtraction\n",
        "print(a * b)  # Multiplication\n",
        "print(a / b)  # Division(returns float vlaue)\n",
        "print(a % b)  # Modulus(returns remainder of division)\n",
        "print(a ** b) # Exponentiation(power)\n",
        "\n",
        "# Arithmetic operators are used to perform basic mathematical operations like addition, subtraction, multiplication, division, etc."
      ],
      "metadata": {
        "colab": {
          "base_uri": "https://localhost:8080/",
          "height": 0
        },
        "collapsed": true,
        "id": "8V0iqYne-Cj3",
        "outputId": "1ef421b9-60fc-42f0-b73a-7faf916ebf6c"
      },
      "execution_count": 54,
      "outputs": [
        {
          "output_type": "stream",
          "name": "stdout",
          "text": [
            "30\n",
            "10\n",
            "200\n",
            "2.0\n",
            "0\n",
            "10240000000000\n"
          ]
        }
      ]
    },
    {
      "cell_type": "code",
      "source": [
        "# Example of Relational(Comparison) operators:\n",
        "\n",
        "a = 14\n",
        "b = 9\n",
        "\n",
        "print(a == b)  # Equal to\n",
        "print(a != b)  # Not Equal to\n",
        "print(a > b)   # Greter than\n",
        "print(a < b)   # Less than\n",
        "print(a >= b)  # Greater than or equal to\n",
        "print(a <= b)  # Less than or equal to\n",
        "\n",
        "# Comparison operators are used to compare two values or expressions. They return True or False depending on the comparison result."
      ],
      "metadata": {
        "colab": {
          "base_uri": "https://localhost:8080/",
          "height": 0
        },
        "collapsed": true,
        "id": "wgc6Snol_ViK",
        "outputId": "c3d0c9c5-958a-4ac8-c73a-090d40f0afa8"
      },
      "execution_count": 55,
      "outputs": [
        {
          "output_type": "stream",
          "name": "stdout",
          "text": [
            "False\n",
            "True\n",
            "True\n",
            "False\n",
            "True\n",
            "False\n"
          ]
        }
      ]
    },
    {
      "cell_type": "code",
      "source": [
        "#  Example of Logical (Boolean) Operators:\n",
        "\n",
        "a = True\n",
        "b = False\n",
        "\n",
        "print(a and b)  # Output: False (because b is False)\n",
        "print(a or b)   # Output: True (because a is True)\n",
        "print(not a)    # Output: False (negation of True)\n",
        "\n",
        "# Logical operators are used to combine conditional statements and are often used in control flow."
      ],
      "metadata": {
        "colab": {
          "base_uri": "https://localhost:8080/",
          "height": 0
        },
        "collapsed": true,
        "id": "5xLCTX6WAgGh",
        "outputId": "a656754a-d8da-4f21-84bb-770e3365de2f"
      },
      "execution_count": 56,
      "outputs": [
        {
          "output_type": "stream",
          "name": "stdout",
          "text": [
            "False\n",
            "True\n",
            "False\n"
          ]
        }
      ]
    },
    {
      "cell_type": "code",
      "source": [
        "# Example of Assignment Operators:\n",
        "\n",
        "a = 13\n",
        "a += 5   # Equivalent to a = a + 5\n",
        "print(a)\n",
        "\n",
        "a *= 6   # Equivalent to a = a * 6\n",
        "print(a)\n",
        "\n",
        "a /= 4   # Equivalent to a = a / 4\n",
        "print(a)\n",
        "\n",
        "# Assignment operators are used to assign values to variables. Python supports shorthand assignments to make the code more concise."
      ],
      "metadata": {
        "colab": {
          "base_uri": "https://localhost:8080/",
          "height": 0
        },
        "collapsed": true,
        "id": "cYyaIFeGBA2q",
        "outputId": "3a025852-e73e-4e50-f700-5bb617a5db18"
      },
      "execution_count": 57,
      "outputs": [
        {
          "output_type": "stream",
          "name": "stdout",
          "text": [
            "18\n",
            "108\n",
            "27.0\n"
          ]
        }
      ]
    },
    {
      "cell_type": "code",
      "source": [
        "# Example of Bitwise Operators:\n",
        "\n",
        "a = 5  # 0101 in binary\n",
        "b = 3  # 0011 in binary\n",
        "\n",
        "print(a & b)  # Output: 1 (0001 in binary)\n",
        "print(a | b)  # Output: 7 (0111 in binary)\n",
        "print(a ^ b)  # Output: 6 (0110 in binary)\n",
        "print(~a)     # Output: -6 (inverts the bits of 0101)\n",
        "print(a << 1) # Output: 10 (shifts left by 1, 1010 in binary)\n",
        "print(a >> 1) # Output: 2  (shifts right by 1, 0010 in binary)\n",
        "\n",
        "# Bitwise operators are used to perform operations on bits (binary representation) of integers."
      ],
      "metadata": {
        "colab": {
          "base_uri": "https://localhost:8080/",
          "height": 0
        },
        "collapsed": true,
        "id": "nsmG_9_GBjxS",
        "outputId": "76c532fb-4e63-430a-d5d9-eb23646bfc34"
      },
      "execution_count": 58,
      "outputs": [
        {
          "output_type": "stream",
          "name": "stdout",
          "text": [
            "1\n",
            "7\n",
            "6\n",
            "-6\n",
            "10\n",
            "2\n"
          ]
        }
      ]
    },
    {
      "cell_type": "code",
      "source": [
        "# Example of Identity Operators:\n",
        "\n",
        "a = [4, 6, 8]\n",
        "b = a\n",
        "c = [4, 6, 8]\n",
        "\n",
        "print(a is b)    # Output: True (b and a refer to the same object)\n",
        "print(a is c)    # Output: False (a and c are different objects)\n",
        "print(a == c)    # Output: True (a and c have the same content)\n",
        "\n",
        "# Identity operators are used to compare the memory locations of two objects, i.e., whether two variables refer to the same object in memory."
      ],
      "metadata": {
        "colab": {
          "base_uri": "https://localhost:8080/",
          "height": 0
        },
        "collapsed": true,
        "id": "SjGBP_KzB9-i",
        "outputId": "17c63614-8a0f-4e37-e7fe-f010318e406b"
      },
      "execution_count": 59,
      "outputs": [
        {
          "output_type": "stream",
          "name": "stdout",
          "text": [
            "True\n",
            "False\n",
            "True\n"
          ]
        }
      ]
    },
    {
      "cell_type": "code",
      "source": [
        "# Example of Membership Operators:\n",
        "\n",
        "a = [1, 2, 3, 4, 5]\n",
        "\n",
        "print(3 in a)\n",
        "print(6 in a)\n",
        "print(6 not in a)\n",
        "\n",
        "# Membership operators are used to check if a value is present in a sequence (like a list, tuple, or string).\n",
        "#in: Returns True if the value is found in the sequence.\n",
        "#not in: Returns True if the value is not found in the sequence."
      ],
      "metadata": {
        "colab": {
          "base_uri": "https://localhost:8080/",
          "height": 0
        },
        "id": "KCkINP3rCtR6",
        "outputId": "b1377e44-59c5-4c8e-8d8b-e4e79133d24e"
      },
      "execution_count": 60,
      "outputs": [
        {
          "output_type": "stream",
          "name": "stdout",
          "text": [
            "True\n",
            "False\n",
            "True\n"
          ]
        }
      ]
    },
    {
      "cell_type": "code",
      "source": [
        "# Example of Ternary (Conditional) Operator:\n",
        "\n",
        "a = 15\n",
        "b = 10\n",
        "max_value = a if a > b else b\n",
        "print(max_value)  # Output: 15 as a is greater than b\n",
        "\n",
        "# The ternary operator is used to evaluate conditions in a more concise form, effectively acting as an inline if-else."
      ],
      "metadata": {
        "colab": {
          "base_uri": "https://localhost:8080/",
          "height": 0
        },
        "id": "WUQC7oP3DX1a",
        "outputId": "7ce3c4b5-2aa9-4bdf-9009-75de837c2a57"
      },
      "execution_count": 61,
      "outputs": [
        {
          "output_type": "stream",
          "name": "stdout",
          "text": [
            "15\n"
          ]
        }
      ]
    },
    {
      "cell_type": "markdown",
      "source": [
        "**Q5. Explain the concept of type casting in Python with examples.**"
      ],
      "metadata": {
        "id": "fMGd8aLt5saf"
      }
    },
    {
      "cell_type": "markdown",
      "source": [
        "**Ans:** **Type Casting in Python**\n",
        "\n",
        "Type casting in Python refers to the modification of a variable from one data type to another. This is important in cases where an operation is to be performed that has a specific data type requirement. It can be done in two main ways which are **implicit** type conversion and **explicit** type conversion.\n",
        "\n",
        "**Implicit Type Conversion:**\n",
        "\n",
        " Implicit type conversion takes place whenever Python decides to switch one data type to another without being prompted to do so by the user. This usually occurs for instance when dealing with calculation of figures of different data types. For instance, if an int is added to a float, in order not to lose any information, Python will convert the int into a float.\n",
        "\n",
        "***Example of Implicit Type Conversion:***"
      ],
      "metadata": {
        "id": "O6yKCII4ECxy"
      }
    },
    {
      "cell_type": "code",
      "source": [
        "# Example of implicit type conversion:\n",
        "\n",
        "a = 6\n",
        "b = 1.2\n",
        "result = a + b\n",
        "print(result) # Implicit conversion\n",
        "print(type(result))   # final result in float\n",
        "\n",
        "# In this example, a(an integer) is added to b(a float). Python automatically converts 'a' to a float before performing the addition, resulting in a float output."
      ],
      "metadata": {
        "colab": {
          "base_uri": "https://localhost:8080/",
          "height": 0
        },
        "id": "zCkQZnLJJdRb",
        "outputId": "34cc4eb0-71b8-4f24-abfa-88cc9a7f9105"
      },
      "execution_count": 28,
      "outputs": [
        {
          "output_type": "stream",
          "name": "stdout",
          "text": [
            "7.2\n",
            "<class 'float'>\n"
          ]
        }
      ]
    },
    {
      "cell_type": "markdown",
      "source": [
        "**Explicit Type Conversion:**\n",
        "\n",
        "Explicit type conversion requires the programmer’s intervention to convert a variable from one data type to another using built-in functions such as int(), float(), and str(). This method allows for more control over how data types are converted.\n",
        "\n",
        "***Examples of Explicit Type Conversion:***"
      ],
      "metadata": {
        "id": "k5A2kWtSLFad"
      }
    },
    {
      "cell_type": "code",
      "source": [
        "# Converting Float to Int:\n",
        "a = 5.9\n",
        "n = int(a) # Explicit conversion to integer\n",
        "print(n)\n",
        "print(type(n))"
      ],
      "metadata": {
        "colab": {
          "base_uri": "https://localhost:8080/",
          "height": 0
        },
        "collapsed": true,
        "id": "UDiVwPVOLldq",
        "outputId": "a0330ac3-c8d5-4c11-82ca-f48b31c73922"
      },
      "execution_count": 62,
      "outputs": [
        {
          "output_type": "stream",
          "name": "stdout",
          "text": [
            "5\n",
            "<class 'int'>\n"
          ]
        }
      ]
    },
    {
      "cell_type": "code",
      "source": [
        "# Converting Int to Float:\n",
        "a = 5\n",
        "n = float(a) # Explicit conversion to float\n",
        "print(n)\n",
        "print(type(n))"
      ],
      "metadata": {
        "colab": {
          "base_uri": "https://localhost:8080/",
          "height": 0
        },
        "collapsed": true,
        "id": "ur8epgDOMBy7",
        "outputId": "bf11bd1e-123f-46bc-89f7-a9876a11399f"
      },
      "execution_count": 63,
      "outputs": [
        {
          "output_type": "stream",
          "name": "stdout",
          "text": [
            "5.0\n",
            "<class 'float'>\n"
          ]
        }
      ]
    },
    {
      "cell_type": "code",
      "source": [
        "# Converting String to Int:\n",
        "a = \"10\"\n",
        "n = int(a) # Explicit conversion to string to integer\n",
        "print(n)\n",
        "print(type(n))"
      ],
      "metadata": {
        "colab": {
          "base_uri": "https://localhost:8080/",
          "height": 0
        },
        "collapsed": true,
        "id": "hykw77shMUZ8",
        "outputId": "9d761ca5-2faa-4525-fd63-ee35fcbc8d36"
      },
      "execution_count": 64,
      "outputs": [
        {
          "output_type": "stream",
          "name": "stdout",
          "text": [
            "10\n",
            "<class 'int'>\n"
          ]
        }
      ]
    },
    {
      "cell_type": "code",
      "source": [
        "# Converting String to Float:\n",
        "a = \"5.9\"\n",
        "n = float(a) # Explicit conversion of string to float\n",
        "print(n)\n",
        "print(type(n))"
      ],
      "metadata": {
        "colab": {
          "base_uri": "https://localhost:8080/",
          "height": 0
        },
        "collapsed": true,
        "id": "YvOLnhdEMy-0",
        "outputId": "7d4cdcde-637c-4ba1-98b8-f3d20156b0c3"
      },
      "execution_count": 65,
      "outputs": [
        {
          "output_type": "stream",
          "name": "stdout",
          "text": [
            "5.9\n",
            "<class 'float'>\n"
          ]
        }
      ]
    },
    {
      "cell_type": "code",
      "source": [
        "# Converting various types to bool:\n",
        "print(bool(0))      # Output: False (0 is False)\n",
        "print(bool(1))      # Output: True (non-zero number is True)\n",
        "print(bool(\"\"))     # Output: False (empty string is False)\n",
        "print(bool(\"hello\"))# Output: True (non-empty string is True)\n",
        "print(bool([]))     # Output: False (empty list is False)\n",
        "print(bool([1, 2])) # Output: True (non-empty list is True)"
      ],
      "metadata": {
        "colab": {
          "base_uri": "https://localhost:8080/",
          "height": 0
        },
        "id": "Ow7rjzxTPbRe",
        "outputId": "a6700166-b689-45c2-ae88-3a5cd9133234"
      },
      "execution_count": 66,
      "outputs": [
        {
          "output_type": "stream",
          "name": "stdout",
          "text": [
            "False\n",
            "True\n",
            "False\n",
            "True\n",
            "False\n",
            "True\n"
          ]
        }
      ]
    },
    {
      "cell_type": "markdown",
      "source": [
        "**Key Points about Type Casting in Python:**\n",
        "\n",
        "\n",
        "*   Implicit type conversion is performed by Python automatically and helps prevent data loss.\n",
        "*   Explicit type conversion requires user-defined functions and may lead to loss of information if not handled carefully.\n",
        "*  Understanding both methods of type casting is crucial for effective programming in Python, especially when dealing with different data types in calculations or function arguments."
      ],
      "metadata": {
        "id": "Elm8swJ9NKqA"
      }
    },
    {
      "cell_type": "markdown",
      "source": [
        "**Q6. How do conditional statements work in Python? Illustrate with examples.**"
      ],
      "metadata": {
        "id": "e2-6nD4259l4"
      }
    },
    {
      "cell_type": "markdown",
      "source": [
        "**Ans:** **How Conditional Statements work in Python:**\n",
        "\n",
        "Some python programming principles are referred to as conditional statements. These are helpful since they help to determine which section of the code implements which function depending on true or false evaluation of certain conditions. Such a feature is vital for a program since it helps in controlling the flow of the program enforcing some decisions in the code.\n",
        "\n",
        "**Types of Conditional Statements:**\n",
        "\n",
        "1.***If Statement:***\n",
        "An if statement is implemented to perform a task whenever a certain condition is found to be True. A condition being False means that the content under the if statement is ignored.\n",
        "\n",
        "**Syntax:**\n",
        "\n",
        "if **condition**:\n",
        "    # Code to execute if condition is true\n"
      ],
      "metadata": {
        "id": "HAd5T1YINoSk"
      }
    },
    {
      "cell_type": "code",
      "source": [
        "# Example of if statement:\n",
        "num = 10\n",
        "if num > 5: #True\n",
        "    print(\"Number is greater than 5\")"
      ],
      "metadata": {
        "colab": {
          "base_uri": "https://localhost:8080/",
          "height": 0
        },
        "collapsed": true,
        "id": "_KCyNFwaU9Uw",
        "outputId": "73e4209d-4346-4f3c-ef79-9c875187caff"
      },
      "execution_count": 67,
      "outputs": [
        {
          "output_type": "stream",
          "name": "stdout",
          "text": [
            "Number is greater than 5\n"
          ]
        }
      ]
    },
    {
      "cell_type": "markdown",
      "source": [
        "2.***If-Else Statement:***\n",
        "If-else control statements make it easier to execute an alternative block of code when the condition becomes false.\n",
        "\n",
        "**Syntax:**\n",
        "\n",
        "if **condition**:\n",
        "    # Code to execute if condition is true\n",
        "**else**:\n",
        "    # Code to execute if condition is false\n",
        "  "
      ],
      "metadata": {
        "id": "lxPqCnykVPy8"
      }
    },
    {
      "cell_type": "code",
      "source": [
        "# Example of if else statement:\n",
        "num = -7\n",
        "if num > 0: #False\n",
        "    print(\"The number is positive.\")\n",
        "else:  #True\n",
        "    print(\"The number is negative.\")"
      ],
      "metadata": {
        "colab": {
          "base_uri": "https://localhost:8080/",
          "height": 0
        },
        "id": "N1wnZYEBWkuO",
        "outputId": "022786a3-1fe2-4d79-93fa-5ad89b554558"
      },
      "execution_count": 68,
      "outputs": [
        {
          "output_type": "stream",
          "name": "stdout",
          "text": [
            "The number is negative.\n"
          ]
        }
      ]
    },
    {
      "cell_type": "markdown",
      "source": [
        "3.***The Elif Statement:***\n",
        " When dealing with more than two conditions, 'else if' a shortened form of which is 'elif' statement can be used. The correct block will be executed if one of the condition finds TRUE.\n",
        "\n",
        "**Syntax:**\n",
        "\n",
        "if **condition1**:\n",
        "    # Code for condition1 being true\n",
        "**elif** **condition2**:\n",
        "    # Code for condition2 being true\n",
        "else:\n",
        "    # Code if none of the above conditions are true"
      ],
      "metadata": {
        "id": "TZOO5yWmXQAE"
      }
    },
    {
      "cell_type": "code",
      "source": [
        "num = 0\n",
        "if num > 0: #False\n",
        "    print(\"The number is positive.\")\n",
        "elif num < 0: #False\n",
        "    print(\"The number is negative.\")\n",
        "else: #True\n",
        "    print(\"The number is zero.\")"
      ],
      "metadata": {
        "colab": {
          "base_uri": "https://localhost:8080/",
          "height": 0
        },
        "collapsed": true,
        "id": "2Fe8JK44X7bz",
        "outputId": "8b9ccaf3-9fd9-49ad-d1b9-d63a9321babb"
      },
      "execution_count": 69,
      "outputs": [
        {
          "output_type": "stream",
          "name": "stdout",
          "text": [
            "The number is zero.\n"
          ]
        }
      ]
    },
    {
      "cell_type": "markdown",
      "source": [
        " 4.***Nested If Statement:***\n",
        "If Statments within if statements can be made and this helps in checking more than one level of conditions."
      ],
      "metadata": {
        "id": "xR49lzViYSa7"
      }
    },
    {
      "cell_type": "code",
      "source": [
        "# Example of Nested if statement\n",
        "x = 15\n",
        "y = 10\n",
        "\n",
        "if x > 10: #True\n",
        "    if y > 5: #True, program ends\n",
        "        print(\"x is greater than 10 and y is greater than 5\")\n",
        "    else: #Not be checked\n",
        "        print(\"x is greater than 10 but y is not greater than 5\")\n",
        "else:  #Not be checked\n",
        "    print(\"x is not greater than 10\")"
      ],
      "metadata": {
        "colab": {
          "base_uri": "https://localhost:8080/",
          "height": 0
        },
        "collapsed": true,
        "id": "sY99NlvjZXeM",
        "outputId": "42778e00-4a8f-4655-c123-c98d5f9bcf58"
      },
      "execution_count": 70,
      "outputs": [
        {
          "output_type": "stream",
          "name": "stdout",
          "text": [
            "x is greater than 10 and y is greater than 5\n"
          ]
        }
      ]
    },
    {
      "cell_type": "markdown",
      "source": [
        "5.***Ternary Operator:***\n",
        "Python also supports a shorthand way of writing conditional expressions using a ternary operator. This allows you to assign values based on a condition in a single line.\n",
        "\n",
        "**Syntax:**\n",
        "\n",
        "value_if_true if **condition** else value_if_false"
      ],
      "metadata": {
        "id": "9D5zKzW7b4iO"
      }
    },
    {
      "cell_type": "code",
      "source": [
        "# Example of Ternar operator:\n",
        "a = 5\n",
        "b = 10\n",
        "\n",
        "result = \"a is greater\" if a > b  else \"b is greater\"\n",
        "print(result)"
      ],
      "metadata": {
        "colab": {
          "base_uri": "https://localhost:8080/",
          "height": 0
        },
        "id": "eq1fu2dOcrEE",
        "outputId": "92b1ba98-6444-4db5-8fed-84cfc1a1981f"
      },
      "execution_count": 71,
      "outputs": [
        {
          "output_type": "stream",
          "name": "stdout",
          "text": [
            "b is greater\n"
          ]
        }
      ]
    },
    {
      "cell_type": "markdown",
      "source": [
        "6. ***if with Logical Operators (and, or, not):***\n",
        "You can combine multiple conditions using logical operators like and, or, and not.\n",
        "\n",
        "\n",
        "*  and: Returns True if both conditions are True.\n",
        "*  or: Returns True if at least one condition is True.\n",
        "*  not: Reverses the boolean value of the condition."
      ],
      "metadata": {
        "id": "iYtrsvDSeCSW"
      }
    },
    {
      "cell_type": "code",
      "source": [
        "x = 10\n",
        "y = 20\n",
        "\n",
        "if x > 5 and y > 10:  #True\n",
        "    print(\"Both conditions are true\")\n",
        "if not x < 5:         #True\n",
        "    print(\"x is not greater than 5\")\n",
        "if x > 5 or y > 20:   #True\n",
        "  print(\"At least one condition is true\")"
      ],
      "metadata": {
        "colab": {
          "base_uri": "https://localhost:8080/",
          "height": 0
        },
        "collapsed": true,
        "id": "7WZnlT07fKsD",
        "outputId": "7571fa72-b041-41d4-dea8-75b983072bdf"
      },
      "execution_count": 72,
      "outputs": [
        {
          "output_type": "stream",
          "name": "stdout",
          "text": [
            "Both conditions are true\n",
            "x is not greater than 5\n",
            "At least one condition is true\n"
          ]
        }
      ]
    },
    {
      "cell_type": "markdown",
      "source": [
        "The use of **conditional statements** in python is an interesting approach of changing the flow of a program depending on the different situations or the dynamic conditions. There are different types such as simple if, if else, more complicated ones like nested statements and even the ternary operator which enables the developers to create more interactive and more intuitive applications."
      ],
      "metadata": {
        "id": "21xjvxeTg40H"
      }
    },
    {
      "cell_type": "markdown",
      "source": [
        "**Q7. Describe the different types of loops in Python and their use cases with examples.**"
      ],
      "metadata": {
        "id": "jpJRjd4d6BVP"
      }
    },
    {
      "cell_type": "markdown",
      "source": [
        "**Loops in Python:**\n",
        "\n",
        "Loops come in handy where a piece of code has to be executed several times. Included in this are two main categories of loops that are provided by Python:\n",
        "\n",
        "\n",
        "*   for loop\n",
        "*   while loop\n",
        "\n",
        "These two categories of loops perform different purposes and hence behave differently.\n",
        "\n",
        "1. **for Loop:**\n",
        "The for loop in Python is the one to use whenever you want to go through data iterables and perform a certain action for every item in the data sequence (list, tuples, range, string, etc.). It is also used when one already know how many times one would repeat a certain action.\n",
        "\n",
        "Use Case for **for** Loop:\n",
        "*   Going through a finite number of sequences e.g. lists, tuples, and even strings\n",
        "*   Doing something for a certain amount of time, prescribed by (range()).\n",
        "*  Going through a collection’s items one after another.\n",
        "\n",
        "**Syntax:**\n",
        "\n",
        "for **variable** in sequence:\n",
        "    # code block to execute for each item in the sequence\n",
        "\n",
        "Here, **variable** takes the value of each item in the **sequence**, one at a time, and executes the code block for each value .   \n"
      ],
      "metadata": {
        "id": "b8GUMqwVheK5"
      }
    },
    {
      "cell_type": "code",
      "source": [
        "# Use of for loop in iterating over a list:\n",
        "fruits = ['apple', 'banana', 'cherry']\n",
        "\n",
        "for fruit in fruits:\n",
        "    print(fruit)"
      ],
      "metadata": {
        "colab": {
          "base_uri": "https://localhost:8080/",
          "height": 0
        },
        "collapsed": true,
        "id": "03pYWhAEmZyy",
        "outputId": "063202d2-2c5d-4c17-ef4a-40d18e7120d5"
      },
      "execution_count": 73,
      "outputs": [
        {
          "output_type": "stream",
          "name": "stdout",
          "text": [
            "apple\n",
            "banana\n",
            "cherry\n"
          ]
        }
      ]
    },
    {
      "cell_type": "code",
      "source": [
        "# Using range() with for\n",
        "for i in range(5):\n",
        "    print(i)\n",
        "\n",
        "# The range() function is often used with a for loop when you need to repeat a block of code a specific number of times."
      ],
      "metadata": {
        "colab": {
          "base_uri": "https://localhost:8080/",
          "height": 0
        },
        "collapsed": true,
        "id": "g8RdLgyrmBhD",
        "outputId": "04d6f3b7-f2a7-4a2b-a09c-93186ae3c781"
      },
      "execution_count": 74,
      "outputs": [
        {
          "output_type": "stream",
          "name": "stdout",
          "text": [
            "0\n",
            "1\n",
            "2\n",
            "3\n",
            "4\n"
          ]
        }
      ]
    },
    {
      "cell_type": "code",
      "source": [
        "# Iterating over a String\n",
        "word = \"Python\"\n",
        "for letter in word:\n",
        "    print(letter)\n",
        "\n",
        "# You can also use a for loop to iterate over a string (each character in the string)."
      ],
      "metadata": {
        "colab": {
          "base_uri": "https://localhost:8080/",
          "height": 0
        },
        "collapsed": true,
        "id": "wl8aHtuooEt4",
        "outputId": "0fc99a22-102a-47aa-b983-2480d52cc2ec"
      },
      "execution_count": 75,
      "outputs": [
        {
          "output_type": "stream",
          "name": "stdout",
          "text": [
            "P\n",
            "y\n",
            "t\n",
            "h\n",
            "o\n",
            "n\n"
          ]
        }
      ]
    },
    {
      "cell_type": "markdown",
      "source": [
        "2. **while Loop:**\n",
        "Although there are other types of loops that can solve repetitive tasks as well, the while loop is distinct in that it is generally applied when the user wishes to repeat an action, or a block of code, provided a certain condition remains True. Most times, this is suitable in cases where the limits of iterations, if any, cannot be established beforehand but rather will be based on some other condition which will eventually be made false.\n",
        "\n",
        "Use case for **while** Loop:\n",
        "\n",
        "\n",
        "*   The iteration number is not fixed and depends on some criteria (e.g. user input or cycle of processes).\n",
        "*   You want to keep looping while there is no particular condition being met (e.g. an input or a signal being waited for).\n",
        "\n",
        "**Syntax:**\n",
        "\n",
        "while **condition**:\n",
        "    # code block to execute while the condition is True\n",
        "The while loop evaluates the condition before each iteration. If the condition is True, the block of code inside the loop will execute; if False, the loop will terminate.\n",
        "\n"
      ],
      "metadata": {
        "id": "QF9wdN5GpFv3"
      }
    },
    {
      "cell_type": "code",
      "source": [
        "# Counting with while:\n",
        "print(\"Counting with while:\")\n",
        "x = 0\n",
        "while x < 5:\n",
        "    print(x)\n",
        "    x += 1\n",
        "\n",
        "    # Here, the while loop continues to run as long as x < 5. After each iteration, x is incremented by 1.\n",
        "\n",
        "print(\"\\n\")\n",
        "\n",
        "# Infinite loop:\n",
        "print(\"Infinite Loop:\")\n",
        "while True:\n",
        "    print(\"This loop will run forever!\")\n",
        "    break  # Adding a break to stop the loop\n",
        "\n",
        "# Without the break statement, this loop would run infinitely, printing the message forever."
      ],
      "metadata": {
        "colab": {
          "base_uri": "https://localhost:8080/",
          "height": 0
        },
        "id": "PnyqzD7IqQTa",
        "outputId": "2f9304dc-2bf5-4950-8597-fd386da07940"
      },
      "execution_count": 76,
      "outputs": [
        {
          "output_type": "stream",
          "name": "stdout",
          "text": [
            "Counting with while:\n",
            "0\n",
            "1\n",
            "2\n",
            "3\n",
            "4\n",
            "\n",
            "\n",
            "Infinite Loop:\n",
            "This loop will run forever!\n"
          ]
        }
      ]
    },
    {
      "cell_type": "markdown",
      "source": [
        "3. **Loop Control Statements:**\n",
        "There are various control statements that allow one to regulate the flow of control of loops. These include:\n",
        "\n",
        "- **break** - Exits out of the loop.\n",
        "- **continue** - Omits the remaining code for the current iteration and jumps to the subsequent iteration of the loop.\n",
        "- **pass** - a null operation; a statement that will do nothing. Usually a placeholder\n",
        "\n",
        "**Use cases:**\n",
        "\n",
        "1. **break:**\n",
        "Used to exit a loop early when a specific condition is met.\n",
        "\n",
        "2. **continue:** Skips an iteration and moves to the next iteration of the loop when a certain condition is met.\n",
        "\n",
        "3. **pass:**\n",
        "Acts as a placeholder where code is syntactically required but is left unimplemented."
      ],
      "metadata": {
        "id": "6AkMs2GArOuc"
      }
    },
    {
      "cell_type": "code",
      "source": [
        "# Using break:\n",
        "print(\"break example:\")\n",
        "for i in range(10):\n",
        "    if i == 5:\n",
        "        break  # Exit the loop when i equals 5\n",
        "    print(i)\n",
        "\n",
        "print(\"\\n\")\n",
        "\n",
        "# Using continue:\n",
        "print(\"contine example:\")\n",
        "for i in range(5):\n",
        "    if i == 3:\n",
        "        continue  # Skip the iteration when i equals 3\n",
        "    print(i)\n",
        "\n",
        "print(\"\\n\")\n",
        "\n",
        "# Using pass:\n",
        "print(\"pass example:\")\n",
        "for i in range(5):\n",
        "    if i == 3:\n",
        "        pass  # Do nothing for this iteration\n",
        "    else:\n",
        "        print(i)\n"
      ],
      "metadata": {
        "colab": {
          "base_uri": "https://localhost:8080/",
          "height": 0
        },
        "collapsed": true,
        "id": "kFSKqrnPtys_",
        "outputId": "9f065e00-cb72-42c8-bd98-87e395cc431a"
      },
      "execution_count": 77,
      "outputs": [
        {
          "output_type": "stream",
          "name": "stdout",
          "text": [
            "break example:\n",
            "0\n",
            "1\n",
            "2\n",
            "3\n",
            "4\n",
            "\n",
            "\n",
            "contine example:\n",
            "0\n",
            "1\n",
            "2\n",
            "4\n",
            "\n",
            "\n",
            "pass example:\n",
            "0\n",
            "1\n",
            "2\n",
            "4\n"
          ]
        }
      ]
    },
    {
      "cell_type": "markdown",
      "source": [
        "4. **Nested Loops:**\n",
        "You can run one loop inside the other. This is usually required when dealing with more than one-dimensional data structures (e.g., a nested list of elements).\n",
        "\n",
        "**Use case:**\n",
        "Nested loops are great for working with multiple dimensional structures or iterating in complex processes."
      ],
      "metadata": {
        "id": "qsTj97TIvdUT"
      }
    },
    {
      "cell_type": "code",
      "source": [
        "# Nested for loop\n",
        "for i in range(3):\n",
        "    for j in range(3):\n",
        "        print(f\"i={i}, j={j}\")\n",
        "\n",
        "#In this example, the outer loop runs 3 times, and for each iteration of the outer loop, the inner loop runs 3 times. This results in 9 total iterations"
      ],
      "metadata": {
        "colab": {
          "base_uri": "https://localhost:8080/",
          "height": 0
        },
        "collapsed": true,
        "id": "1458xnv5vwLD",
        "outputId": "14c60cc0-de5b-4662-e487-43648994e9d9"
      },
      "execution_count": 78,
      "outputs": [
        {
          "output_type": "stream",
          "name": "stdout",
          "text": [
            "i=0, j=0\n",
            "i=0, j=1\n",
            "i=0, j=2\n",
            "i=1, j=0\n",
            "i=1, j=1\n",
            "i=1, j=2\n",
            "i=2, j=0\n",
            "i=2, j=1\n",
            "i=2, j=2\n"
          ]
        }
      ]
    }
  ]
}