{
  "nbformat": 4,
  "nbformat_minor": 0,
  "metadata": {
    "colab": {
      "provenance": []
    },
    "kernelspec": {
      "name": "python3",
      "display_name": "Python 3"
    },
    "language_info": {
      "name": "python"
    }
  },
  "cells": [
    {
      "cell_type": "markdown",
      "source": [
        "###**THEORETICAL**"
      ],
      "metadata": {
        "id": "V1Z7XJ8umWcb"
      }
    },
    {
      "cell_type": "markdown",
      "source": [
        "**Q1. What is a Decision Tree, and how does it work?**"
      ],
      "metadata": {
        "id": "q5kX3yfEmeD0"
      }
    },
    {
      "cell_type": "markdown",
      "source": [
        "**Ans:** A Decision Tree is a popular machine learning algorithm used for classification and regression tasks. It works like a flowchart, where each internal node represents a decision based on a specific feature, branches represent possible outcomes, and leaf nodes represent final predictions or classifications.\n",
        "\n",
        "### **How It Works**\n",
        "1. **Splitting the Data** – The algorithm selects the best feature to split the dataset based on a criterion like **Gini impurity** or **entropy** (for classification) and **Mean Squared Error (MSE)** (for regression).\n",
        "2. **Recursive Partitioning** – The dataset is divided into subsets based on the selected feature, and the process continues recursively, forming a tree structure.\n",
        "3. **Stopping Criteria** – The tree stops growing when a predefined condition is met (e.g., maximum depth reached, minimum number of samples per node, or when further splitting does not improve the model).\n",
        "4. **Prediction** – When making a prediction, the input follows the tree's paths from the root to a leaf node, determining the final decision.\n",
        "\n",
        "### **Advantages**\n",
        "- Easy to interpret and visualize.\n",
        "- Handles both numerical and categorical data.\n",
        "- Requires minimal data preprocessing.\n",
        "\n",
        "### **Disadvantages**\n",
        "- Prone to overfitting, especially with deep trees.\n",
        "- Sensitive to noisy data.\n",
        "\n"
      ],
      "metadata": {
        "id": "91UsH69poHuX"
      }
    },
    {
      "cell_type": "markdown",
      "source": [
        "**Q2. What are impurity measures in Decision Trees?**"
      ],
      "metadata": {
        "id": "x7VonJW0mnET"
      }
    },
    {
      "cell_type": "markdown",
      "source": [
        "**Ans:** In Decision Trees, **impurity measures** are metrics used to determine how \"mixed\" or \"impure\" a node is in terms of the class labels of the samples it contains. They guide the **splitting process** of the tree—helping decide which feature and threshold to use at each step to best separate the classes.\n",
        "\n",
        "The goal is to **reduce impurity** with each split, ideally ending up with pure (or nearly pure) nodes that contain samples of only one class.\n",
        "\n",
        "### Common Impurity Measures:\n",
        "\n",
        "#### 1. **Gini Impurity**\n",
        "\n",
        "* **Formula:**\n",
        "\n",
        "  $$\n",
        "  Gini = 1 - \\sum_{i=1}^{C} p_i^2\n",
        "  $$\n",
        "\n",
        "  where $p_i$ is the proportion of instances of class $i$ in the node, and $C$ is the number of classes.\n",
        "\n",
        "* **Range:** 0 (pure) to \\~0.5 (most impure in binary classification)\n",
        "\n",
        "* **Used in:** CART (Classification and Regression Trees)\n",
        "\n",
        "#### 2. **Entropy (Information Gain)**\n",
        "\n",
        "* **Formula:**\n",
        "\n",
        "  $$\n",
        "  Entropy = -\\sum_{i=1}^{C} p_i \\log_2(p_i)\n",
        "  $$\n",
        "\n",
        "* **Information Gain** is the decrease in entropy after a split.\n",
        "\n",
        "  $$\n",
        "  IG = Entropy(parent) - \\text{Weighted Average of Entropy(children)}\n",
        "  $$\n",
        "\n",
        "* **Range:** 0 (pure) to 1 (most impure in binary classification)\n",
        "\n",
        "* **Used in:** ID3, C4.5 algorithms\n",
        "\n",
        "#### 3. **Classification Error (Misclassification Rate)**\n",
        "\n",
        "* **Formula:**\n",
        "\n",
        "  $$\n",
        "  Error = 1 - \\max(p_i)\n",
        "  $$\n",
        "\n",
        "  where $\\max(p_i)$ is the proportion of the majority class in the node.\n",
        "\n",
        "* **Range:** 0 (pure) to 0.5 (impure in binary classification)\n",
        "\n",
        "* **Less sensitive** to changes in node class distribution, so less often used for splits but sometimes used for pruning.\n",
        "\n",
        "---\n",
        "\n",
        "### Summary Comparison\n",
        "\n",
        "| Measure              | Sensitive to Class Distribution? | Used For Splitting? |\n",
        "| -------------------- | -------------------------------- | ------------------- |\n",
        "| Gini Impurity        | Yes                              | Yes                 |\n",
        "| Entropy              | Yes                              | Yes                 |\n",
        "| Classification Error | Less so                          | Rarely              |\n",
        "\n",
        "Each measure quantifies impurity differently, but the general principle is the same: choose splits that **reduce impurity** the most.\n"
      ],
      "metadata": {
        "id": "1ZtTmZ3moVRo"
      }
    },
    {
      "cell_type": "markdown",
      "source": [
        "**Q3. What is the mathematical formula for Gini Impurity?**"
      ],
      "metadata": {
        "id": "WVel_6Tnmsld"
      }
    },
    {
      "cell_type": "markdown",
      "source": [
        "**Ans:** The **mathematical formula for Gini Impurity** at a node is:\n",
        "\n",
        "$$\n",
        "Gini = 1 - \\sum_{i=1}^{C} p_i^2\n",
        "$$\n",
        "\n",
        "### Where:\n",
        "\n",
        "* $C$ is the number of classes,\n",
        "* $p_i$ is the proportion (probability) of samples belonging to class $i$ at that node.\n",
        "\n",
        "---\n",
        "\n",
        "### Example (Binary Classification):\n",
        "\n",
        "If a node contains:\n",
        "\n",
        "* 4 samples of class A\n",
        "* 6 samples of class B\n",
        "\n",
        "Then:\n",
        "\n",
        "* $p_A = \\frac{4}{10} = 0.4$\n",
        "* $p_B = \\frac{6}{10} = 0.6$\n",
        "\n",
        "$$\n",
        "Gini = 1 - (0.4^2 + 0.6^2) = 1 - (0.16 + 0.36) = 1 - 0.52 = 0.48\n",
        "$$\n",
        "\n",
        "A **Gini Impurity of 0** means the node is **pure** (only one class is present). The closer it is to 0, the better the split.\n"
      ],
      "metadata": {
        "id": "xmKTXFGCrIAU"
      }
    },
    {
      "cell_type": "markdown",
      "source": [
        "**Q4. What is the mathematical formula for Entropy?**"
      ],
      "metadata": {
        "id": "waPRw3KVm5Im"
      }
    },
    {
      "cell_type": "markdown",
      "source": [
        "**Ans**: The **mathematical formula for Entropy** at a node (used in Decision Trees) is:\n",
        "\n",
        "$$\n",
        "Entropy = -\\sum_{i=1}^{C} p_i \\log_2(p_i)\n",
        "$$\n",
        "\n",
        "### Where:\n",
        "\n",
        "* $C$ is the number of classes,\n",
        "* $p_i$ is the proportion (probability) of samples belonging to class $i$ at that node,\n",
        "* The logarithm is base 2 (to measure entropy in bits).\n",
        "\n",
        "---\n",
        "\n",
        "### Important Notes:\n",
        "\n",
        "* If $p_i = 0$ for any class, the term $p_i \\log_2(p_i)$ is defined as 0 (since $\\lim_{p \\to 0} p \\log_2(p) = 0$).\n",
        "* **Entropy = 0** when the node is pure (i.e., all samples belong to one class).\n",
        "* The **maximum entropy** occurs when the classes are equally likely.\n",
        "\n",
        "---\n",
        "\n",
        "### Example (Binary Classification):\n",
        "\n",
        "If a node has:\n",
        "\n",
        "* 50% class A → $p_A = 0.5$\n",
        "* 50% class B → $p_B = 0.5$\n",
        "\n",
        "Then:\n",
        "\n",
        "$$\n",
        "Entropy = -(0.5 \\log_2 0.5 + 0.5 \\log_2 0.5) = -2 \\times 0.5 \\times (-1) = 1\n",
        "$$\n",
        "\n",
        "This represents the **maximum entropy** for a binary classification, indicating maximum impurity (complete uncertainty).\n"
      ],
      "metadata": {
        "id": "uvSDoUSirVf4"
      }
    },
    {
      "cell_type": "markdown",
      "source": [
        "**Q5 What is Information Gain, and how is it used in Decision Trees?**"
      ],
      "metadata": {
        "id": "yzfHcs6lnBQC"
      }
    },
    {
      "cell_type": "markdown",
      "source": [
        "**Ans:** **Information Gain (IG)** is a metric used in **Decision Trees** to quantify the **reduction in entropy (uncertainty or impurity)** achieved by splitting a dataset based on a particular feature.\n",
        "\n",
        "It helps in selecting the **best feature to split** the data at each node in the tree.\n",
        "\n",
        "---\n",
        "\n",
        "### 🔢 **Mathematical Definition**\n",
        "\n",
        "$$\n",
        "\\text{Information Gain} = Entropy(\\text{parent}) - \\sum_{k=1}^{K} \\frac{N_k}{N} \\cdot Entropy(\\text{child}_k)\n",
        "$$\n",
        "\n",
        "### Where:\n",
        "\n",
        "* $Entropy(\\text{parent})$: Entropy before the split.\n",
        "* $K$: Number of child nodes after the split.\n",
        "* $N$: Total number of samples in the parent node.\n",
        "* $N_k$: Number of samples in child node $k$.\n",
        "* $Entropy(\\text{child}_k)$: Entropy of child node $k$.\n",
        "\n",
        "---\n",
        "\n",
        "### ✅ **How It’s Used in Decision Trees:**\n",
        "\n",
        "1. For each feature, try all possible splits.\n",
        "2. For each split, compute the **Information Gain**.\n",
        "3. Select the **split with the highest Information Gain**.\n",
        "4. Repeat recursively on resulting child nodes.\n",
        "\n",
        "This process continues until a stopping condition is met (e.g., pure nodes, max depth, minimum samples).\n",
        "\n",
        "---\n",
        "\n",
        "### 📌 Example:\n",
        "\n",
        "Suppose a parent node has:\n",
        "\n",
        "* 10 samples: 5 of class A and 5 of class B\n",
        "* $Entropy = 1$ (maximum uncertainty)\n",
        "\n",
        "You split into:\n",
        "\n",
        "* Left node: 4 of class A, 1 of class B → $Entropy \\approx 0.72$\n",
        "* Right node: 1 of class A, 4 of class B → $Entropy \\approx 0.72$\n",
        "\n",
        "Weighted child entropy:\n",
        "\n",
        "$$\n",
        "\\frac{5}{10} \\cdot 0.72 + \\frac{5}{10} \\cdot 0.72 = 0.72\n",
        "$$\n",
        "\n",
        "Information Gain:\n",
        "\n",
        "$$\n",
        "1 - 0.72 = 0.28\n",
        "$$\n",
        "\n",
        "This means the split **reduces uncertainty** by 0.28.\n",
        "\n",
        "---\n",
        "\n",
        "### 📘 Summary:\n",
        "\n",
        "* **Information Gain** helps build decision trees by choosing the most informative splits.\n",
        "* It is based on **Entropy**, so it's commonly used in algorithms like **ID3** and **C4.5**.\n",
        "* A higher Information Gain means a **more effective split**.\n"
      ],
      "metadata": {
        "id": "tLSf26M7re1K"
      }
    },
    {
      "cell_type": "markdown",
      "source": [
        "**Q6. What is the difference between Gini Impurity and Entropy?**"
      ],
      "metadata": {
        "id": "EYmCNGT4nGGe"
      }
    },
    {
      "cell_type": "markdown",
      "source": [
        "**Ans:** The **main difference between Gini Impurity and Entropy** lies in how they measure the impurity of a node in a Decision Tree and how they respond to class distributions. Both are used to decide the best feature for splitting the data, but they have **different formulas and properties**.\n",
        "\n",
        "---\n",
        "\n",
        "### 🔢 **1. Mathematical Formulas**\n",
        "\n",
        "**Gini Impurity:**\n",
        "\n",
        "$$\n",
        "Gini = 1 - \\sum_{i=1}^{C} p_i^2\n",
        "$$\n",
        "\n",
        "**Entropy:**\n",
        "\n",
        "$$\n",
        "Entropy = -\\sum_{i=1}^{C} p_i \\log_2(p_i)\n",
        "$$\n",
        "\n",
        "Where:\n",
        "\n",
        "* $C$ is the number of classes,\n",
        "* $p_i$ is the proportion of class $i$ at the node.\n",
        "\n",
        "---\n",
        "\n",
        "### ⚖️ **2. Range of Values**\n",
        "\n",
        "| Measure       | Minimum (Pure Node) | Maximum (Binary Classes) |\n",
        "| ------------- | ------------------- | ------------------------ |\n",
        "| Gini Impurity | 0                   | 0.5                      |\n",
        "| Entropy       | 0                   | 1                        |\n",
        "\n",
        "---\n",
        "\n",
        "### 📊 **3. Sensitivity to Class Distribution**\n",
        "\n",
        "* **Entropy** is **more sensitive** to changes in class probabilities, especially when the classes are closer in frequency.\n",
        "* **Gini Impurity** tends to be **less sensitive**, often favoring the most frequent class more strongly.\n",
        "\n",
        "---\n",
        "\n",
        "### 🧠 **4. Interpretation**\n",
        "\n",
        "* **Entropy** comes from information theory and measures the amount of **information (or surprise)** in a distribution.\n",
        "* **Gini** is more of a **probability-based measure**, representing the chance of incorrect classification.\n",
        "\n",
        "---\n",
        "\n",
        "### 🧪 **5. Practical Differences**\n",
        "\n",
        "| Aspect                   | Gini Impurity         | Entropy                |\n",
        "| ------------------------ | --------------------- | ---------------------- |\n",
        "| Faster to compute        | ✅ Yes (no logs)       | ❌ No (uses log base 2) |\n",
        "| Used in                  | CART algorithm        | ID3, C4.5 algorithms   |\n",
        "| Bias toward larger class | Slightly higher       | More balanced          |\n",
        "| Typical performance      | Similar in most cases | Similar in most cases  |\n",
        "\n",
        "---\n",
        "\n",
        "### ✅ **Summary**\n",
        "\n",
        "| Feature     | Gini Impurity    | Entropy                         |\n",
        "| ----------- | ---------------- | ------------------------------- |\n",
        "| Formula     | $1 - \\sum p_i^2$ | $-\\sum p_i \\log_2 p_i$          |\n",
        "| Used In     | CART             | ID3, C4.5                       |\n",
        "| Computation | Faster           | Slightly slower (uses log)      |\n",
        "| Sensitivity | Less sensitive   | More sensitive to class balance |\n",
        "\n",
        "Both are valid and often yield **similar trees** in practice, but Gini is commonly preferred in performance-critical applications like **scikit-learn**'s implementation of CART.\n"
      ],
      "metadata": {
        "id": "1kby-94mryHe"
      }
    },
    {
      "cell_type": "markdown",
      "source": [
        "**Q7. What is the mathematical explanation behind Decision Trees?**"
      ],
      "metadata": {
        "id": "4wxJRgAunP3E"
      }
    },
    {
      "cell_type": "markdown",
      "source": [
        "**Ans:** The **mathematical explanation behind Decision Trees** is grounded in **recursive partitioning of the feature space** to reduce a measure of impurity (e.g., Gini, Entropy, or variance for regression). Here's a breakdown of how Decision Trees work mathematically:\n",
        "\n",
        "---\n",
        "\n",
        "## 🔢 1. **Dataset and Problem Setup**\n",
        "\n",
        "Let the training data be:\n",
        "\n",
        "$$\n",
        "D = \\{(x^{(i)}, y^{(i)})\\}_{i=1}^{N}\n",
        "$$\n",
        "\n",
        "* $x^{(i)} \\in \\mathbb{R}^d$: Feature vector of the $i$-th sample.\n",
        "* $y^{(i)}$: Target value (class label for classification or numeric value for regression).\n",
        "\n",
        "The goal is to partition the data **recursively** into subsets that are as **pure** as possible.\n",
        "\n",
        "---\n",
        "\n",
        "## 🔁 2. **Recursive Splitting**\n",
        "\n",
        "At each node:\n",
        "\n",
        "* Consider all features $x_j$ and possible split points $s$.\n",
        "* For each candidate split, partition $D$ into:\n",
        "\n",
        "  * $D_{\\text{left}} = \\{x \\in D \\mid x_j \\le s\\}$\n",
        "  * $D_{\\text{right}} = \\{x \\in D \\mid x_j > s\\}$\n",
        "\n",
        "Compute the **impurity before and after** the split.\n",
        "\n",
        "---\n",
        "\n",
        "## 📉 3. **Impurity Measures**\n",
        "\n",
        "### For **classification**, typical impurity measures:\n",
        "\n",
        "* **Gini Impurity:**\n",
        "\n",
        "  $$\n",
        "  Gini(D) = 1 - \\sum_{k=1}^{C} p_k^2\n",
        "  $$\n",
        "* **Entropy:**\n",
        "\n",
        "  $$\n",
        "  Entropy(D) = -\\sum_{k=1}^{C} p_k \\log_2(p_k)\n",
        "  $$\n",
        "\n",
        "Where $p_k$ is the proportion of class $k$ in node $D$.\n",
        "\n",
        "### For **regression**, use **variance** or **mean squared error**:\n",
        "\n",
        "$$\n",
        "Var(D) = \\frac{1}{|D|} \\sum_{i=1}^{|D|} (y^{(i)} - \\bar{y})^2\n",
        "$$\n",
        "\n",
        "---\n",
        "\n",
        "## ➕ 4. **Split Evaluation**\n",
        "\n",
        "For a candidate split:\n",
        "\n",
        "$$\n",
        "\\text{Impurity}_{\\text{split}} = \\frac{|D_{\\text{left}}|}{|D|} \\cdot I(D_{\\text{left}}) + \\frac{|D_{\\text{right}}|}{|D|} \\cdot I(D_{\\text{right}})\n",
        "$$\n",
        "\n",
        "Where $I(\\cdot)$ is the impurity function (e.g., Gini, Entropy).\n",
        "\n",
        "### Choose the split that **minimizes** this weighted impurity:\n",
        "\n",
        "$$\n",
        "\\text{Best split} = \\arg\\min_{j,s} \\text{Impurity}_{\\text{split}}(j, s)\n",
        "$$\n",
        "\n",
        "---\n",
        "\n",
        "## 🌳 5. **Tree Construction Algorithm (Simplified)**\n",
        "\n",
        "1. Start with all data at the root node.\n",
        "2. For each node:\n",
        "\n",
        "   * If the node is pure or stopping criteria is met (e.g., depth, min samples), stop.\n",
        "   * Else, find the best split by minimizing impurity.\n",
        "   * Partition the data and repeat recursively on child nodes.\n",
        "3. Assign a prediction to each **leaf node**:\n",
        "\n",
        "   * Classification: majority class.\n",
        "   * Regression: average target value.\n",
        "\n",
        "---\n",
        "\n",
        "## 📘 Summary (Mathematical Workflow)\n",
        "\n",
        "| Step                   | Mathematics                           |\n",
        "| ---------------------- | ------------------------------------- |\n",
        "| Candidate splits       | $(x_j \\le s)$                         |\n",
        "| Impurity calculation   | Gini, Entropy, or Variance            |\n",
        "| Split evaluation       | Weighted impurity after split         |\n",
        "| Optimization objective | $\\min \\text{Impurity}_{\\text{split}}$ |\n",
        "| Recursion              | Repeat until stopping condition       |\n",
        "\n",
        "---\n",
        "\n",
        "This process forms a **piecewise decision function** over the input space that segments it into regions with similar target values or labels.\n"
      ],
      "metadata": {
        "id": "KpHcfIKRsE9R"
      }
    },
    {
      "cell_type": "markdown",
      "source": [
        "**Q8. What is Pre-Pruning in Decision Tree?**"
      ],
      "metadata": {
        "id": "7bHQZnW1nWli"
      }
    },
    {
      "cell_type": "markdown",
      "source": [
        "**Ans:** **Pre-pruning** (also known as **early stopping**) is a technique used in **Decision Trees** to **halt the tree growth early**, before it becomes overly complex and overfits the training data.\n",
        "\n",
        "---\n",
        "\n",
        "## 🌱 **What is Pre-Pruning?**\n",
        "\n",
        "In pre-pruning, the algorithm **stops splitting a node during tree construction** if certain conditions are met, **even if the node is not pure**.\n",
        "\n",
        "---\n",
        "\n",
        "## 🧠 **Why Pre-Pruning?**\n",
        "\n",
        "* To **prevent overfitting** by controlling the tree's size and complexity.\n",
        "* To improve **generalization** on unseen data.\n",
        "* To **reduce training time** and computational cost.\n",
        "\n",
        "---\n",
        "\n",
        "## ⚙️ **Common Pre-Pruning Criteria**\n",
        "\n",
        "The tree stops growing when any of these conditions are met:\n",
        "\n",
        "| Criterion                              | Description                                                                                                              |\n",
        "| -------------------------------------- | ------------------------------------------------------------------------------------------------------------------------ |\n",
        "| **Max Depth**                          | Limit the maximum depth of the tree.                                                                                     |\n",
        "| **Min Samples per Node**               | Stop splitting if a node has fewer than a specified number of samples (e.g., `min_samples_split` or `min_samples_leaf`). |\n",
        "| **Max Number of Nodes**                | Set a limit on the total number of nodes in the tree.                                                                    |\n",
        "| **Minimum Information Gain**           | Stop if the best split doesn't reduce impurity enough (e.g., `min_impurity_decrease`).                                   |\n",
        "| **Max Features**                       | Restrict the number of features to consider at each split.                                                               |\n",
        "| **Chi-squared test (in ID3 variants)** | Stop if a statistical test shows no significant gain.                                                                    |\n",
        "\n",
        "---\n",
        "\n",
        "## 📌 **Example (Min Samples Split)**\n",
        "\n",
        "If you set:\n",
        "\n",
        "```python\n",
        "min_samples_split = 10\n",
        "```\n",
        "\n",
        "Then the tree will **not split** a node if it has **fewer than 10 samples**, even if the split would improve purity.\n",
        "\n",
        "---\n",
        "\n",
        "## 🔄 **Pre-Pruning vs Post-Pruning**\n",
        "\n",
        "| Aspect       | Pre-Pruning                       | Post-Pruning                    |\n",
        "| ------------ | --------------------------------- | ------------------------------- |\n",
        "| When applied | During tree construction          | After full tree is built        |\n",
        "| Purpose      | Prevent overfitting early         | Simplify a fully grown tree     |\n",
        "| Risk         | May stop too early (underfitting) | May be more accurate but slower |\n",
        "\n",
        "---\n",
        "\n",
        "## ✅ Summary\n",
        "\n",
        "**Pre-Pruning** is an efficient strategy to **limit tree growth during training** using predefined constraints (like depth or sample count). It strikes a balance between model complexity and performance, helping avoid overfitting and improving generalization.\n"
      ],
      "metadata": {
        "id": "ZViMZ0WPsW0i"
      }
    },
    {
      "cell_type": "markdown",
      "source": [
        "**Q9. What is Post-Pruning in Decision Trees?**"
      ],
      "metadata": {
        "id": "yDM1HxJOnbRk"
      }
    },
    {
      "cell_type": "markdown",
      "source": [
        "**Ans:** **Post-pruning** (also known as **cost-complexity pruning** or **error-based pruning**) is a technique used in **Decision Trees** to simplify a **fully grown tree** by **removing branches that have little importance**, aiming to improve generalization and reduce overfitting.\n",
        "\n",
        "---\n",
        "\n",
        "## 🌳 What Is Post-Pruning?\n",
        "\n",
        "* After growing a **complete tree** (often to pure leaves or maximum allowed size), post-pruning **examines each subtree** from the bottom up.\n",
        "* It **replaces subtrees with leaf nodes** if doing so **improves or maintains prediction accuracy** on a validation set or based on a complexity penalty.\n",
        "\n",
        "---\n",
        "\n",
        "## 📉 Why Use Post-Pruning?\n",
        "\n",
        "* Fully grown trees tend to **overfit** by modeling noise or outliers.\n",
        "* Post-pruning helps create a **simpler, more robust model** that performs better on unseen data.\n",
        "\n",
        "---\n",
        "\n",
        "## 🔢 Common Post-Pruning Methods\n",
        "\n",
        "### 1. **Reduced Error Pruning**\n",
        "\n",
        "* Evaluate the tree on a **validation set**.\n",
        "* For each non-leaf node, consider **replacing it with a leaf** (majority class).\n",
        "* Keep the change **if it doesn't increase error** on the validation set.\n",
        "* Repeat recursively.\n",
        "\n",
        "### 2. **Cost-Complexity Pruning (used in CART)**\n",
        "\n",
        "* Introduce a **penalty term** for tree complexity:\n",
        "\n",
        "  $$\n",
        "  R_\\alpha(T) = R(T) + \\alpha \\cdot |T|\n",
        "  $$\n",
        "\n",
        "  * $R(T)$: Error rate (e.g., misclassification or MSE).\n",
        "  * $|T|$: Number of leaves (complexity).\n",
        "  * $\\alpha$: Complexity parameter.\n",
        "* Prune subtrees to minimize $R_\\alpha(T)$.\n",
        "* This produces a **sequence of simpler trees**, and cross-validation is used to choose the best one.\n",
        "\n",
        "---\n",
        "\n",
        "## 🔄 Pre-Pruning vs Post-Pruning\n",
        "\n",
        "| Feature      | Pre-Pruning                         | Post-Pruning                     |\n",
        "| ------------ | ----------------------------------- | -------------------------------- |\n",
        "| When applied | During tree building                | After tree is fully built        |\n",
        "| Risk         | May stop too early (underfitting)   | Can overfit first, then correct  |\n",
        "| Evaluation   | Uses fixed thresholds (e.g., depth) | Uses validation or penalty score |\n",
        "| Flexibility  | Less flexible                       | More flexible                    |\n",
        "\n",
        "---\n",
        "\n",
        "## ✅ Summary\n",
        "\n",
        "**Post-pruning** simplifies an overfitted decision tree **after it's fully grown** by removing branches that do not improve generalization. It is a powerful method to reduce model complexity while preserving or improving predictive accuracy. It's widely used in algorithms like **CART** and provides a **more data-driven, systematic approach** than pre-pruning.\n"
      ],
      "metadata": {
        "id": "NFYmTU5Hsnmx"
      }
    },
    {
      "cell_type": "markdown",
      "source": [
        "**Q10. What is the difference between Pre-Pruning and Post-Pruning?**"
      ],
      "metadata": {
        "id": "6VhoJ6rangCk"
      }
    },
    {
      "cell_type": "markdown",
      "source": [
        "**Ans:** The difference between **Pre-Pruning** and **Post-Pruning** in Decision Trees lies in **when** and **how** the tree is simplified to avoid overfitting.\n",
        "\n",
        "---\n",
        "\n",
        "## 🔄 **Pre-Pruning vs Post-Pruning: Side-by-Side Comparison**\n",
        "\n",
        "| Feature                | **Pre-Pruning** (Early Stopping)                          | **Post-Pruning** (Simplification after Full Growth)           |\n",
        "| ---------------------- | --------------------------------------------------------- | ------------------------------------------------------------- |\n",
        "| **When applied**       | During tree construction                                  | After the full tree is built                                  |\n",
        "| **Stopping criterion** | Uses predefined thresholds (e.g., max depth, min samples) | Evaluates performance on validation set or complexity penalty |\n",
        "| **Risk**               | Can **underfit** by stopping too early                    | Can **overfit first**, then correct by pruning                |\n",
        "| **Flexibility**        | Less flexible (hard-coded constraints)                    | More flexible (evaluates real tree performance)               |\n",
        "| **Evaluation method**  | Heuristic thresholds                                      | Empirical evaluation or cost-complexity pruning               |\n",
        "| **Efficiency**         | Faster, since it avoids building full tree                | Slower, builds full tree first, then prunes                   |\n",
        "| **Used in**            | Often in fast, large-scale systems                        | Common in algorithms like CART, C4.5                          |\n",
        "\n",
        "---\n",
        "\n",
        "## 🧠 **Analogy**\n",
        "\n",
        "* **Pre-Pruning** is like **stopping a sculptor early** before they finish the statue.\n",
        "* **Post-Pruning** is like **finishing the statue fully, then chipping away unnecessary details**.\n",
        "\n",
        "---\n",
        "\n",
        "## ✅ **Summary**\n",
        "\n",
        "| Term     | Pre-Pruning               | Post-Pruning                         |\n",
        "| -------- | ------------------------- | ------------------------------------ |\n",
        "| Goal     | Prevent overfitting early | Remove overfitting after full growth |\n",
        "| Strength | Simple, fast              | Data-driven, effective               |\n",
        "| Weakness | May underfit              | May be computationally heavier       |\n",
        "\n",
        "In practice, **post-pruning is often more accurate** but **pre-pruning is faster** and easier to control. Some tree algorithms (like `CART` in scikit-learn) support both via parameters like `max_depth` (pre-pruning) and `ccp_alpha` (post-pruning).\n"
      ],
      "metadata": {
        "id": "mhMhl6c_s1h4"
      }
    },
    {
      "cell_type": "markdown",
      "source": [
        "**Q11. What is a Decision Tree Regressor?**"
      ],
      "metadata": {
        "id": "wWzDoj4cnln6"
      }
    },
    {
      "cell_type": "markdown",
      "source": [
        "**Ans:** A **Decision Tree Regressor** is a type of decision tree used for **regression tasks**, where the goal is to **predict a continuous (numeric) value** rather than a class label.\n",
        "\n",
        "---\n",
        "\n",
        "## 🌳 **What Is a Decision Tree Regressor?**\n",
        "\n",
        "It builds a **tree structure** that recursively splits the input space into regions, and at each **leaf node**, it outputs a **numeric prediction**, typically the **mean** of the target values in that region.\n",
        "\n",
        "---\n",
        "\n",
        "## 🔢 **How It Works (Mathematically)**\n",
        "\n",
        "At each split:\n",
        "\n",
        "* Choose the feature $x_j$ and threshold $s$ that minimizes the **Mean Squared Error (MSE)**:\n",
        "\n",
        "$$\n",
        "\\text{MSE} = \\frac{1}{N} \\sum_{i=1}^{N} (y^{(i)} - \\hat{y})^2\n",
        "$$\n",
        "\n",
        "* For a split:\n",
        "\n",
        "  * Left node: $x_j \\leq s$\n",
        "  * Right node: $x_j > s$\n",
        "\n",
        "The split is chosen to minimize the **weighted average MSE** of the child nodes:\n",
        "\n",
        "$$\n",
        "\\text{Split MSE} = \\frac{N_L}{N} \\cdot MSE_L + \\frac{N_R}{N} \\cdot MSE_R\n",
        "$$\n",
        "\n",
        "Where:\n",
        "\n",
        "* $N_L, N_R$: Number of samples in left and right nodes.\n",
        "* $MSE_L, MSE_R$: MSE in each child.\n",
        "\n",
        "---\n",
        "\n",
        "## ✅ **Prediction Rule**\n",
        "\n",
        "Once the tree is trained:\n",
        "\n",
        "* For a new input $x$, follow the decision rules down the tree.\n",
        "* The prediction is the **mean target value** of the samples in the reached leaf.\n",
        "\n",
        "---\n",
        "\n",
        "## 📌 **Key Features**\n",
        "\n",
        "| Feature                 | Description                            |\n",
        "| ----------------------- | -------------------------------------- |\n",
        "| **Output**              | Continuous value (e.g., price, age)    |\n",
        "| **Splitting criterion** | Minimizes variance or MSE              |\n",
        "| **Prediction**          | Mean of values in a leaf node          |\n",
        "| **Non-linear**          | Can model complex, non-linear patterns |\n",
        "| **Interpretability**    | Easy to visualize and interpret        |\n",
        "\n",
        "---\n",
        "\n",
        "## 🧠 **Example**\n",
        "\n",
        "Predicting house prices based on features like:\n",
        "\n",
        "* Size\n",
        "* Location\n",
        "* Number of bedrooms\n",
        "\n",
        "The tree will partition the data into regions (e.g., houses with size > 1500 sqft and location = urban) and assign each region an average price based on training data.\n",
        "\n",
        "---\n",
        "\n",
        "## 🧪 **In Code (scikit-learn)**\n",
        "\n",
        "```python\n",
        "from sklearn.tree import DecisionTreeRegressor\n",
        "\n",
        "model = DecisionTreeRegressor(max_depth=3)\n",
        "model.fit(X_train, y_train)\n",
        "\n",
        "prediction = model.predict(X_test)\n",
        "```\n",
        "\n",
        "---\n",
        "\n",
        "## 📘 Summary\n",
        "\n",
        "A **Decision Tree Regressor** is a tree-based model that predicts **continuous values** by **recursively partitioning** the input space and averaging the outcomes in each region. It's intuitive, handles non-linearity well, and forms the basis for powerful ensemble methods like **Random Forests** and **Gradient Boosting Machines (GBMs)**.\n"
      ],
      "metadata": {
        "id": "9y3vMl_ltDG9"
      }
    },
    {
      "cell_type": "markdown",
      "source": [
        "**Q12. What are the advantages and disadvantages of Decision Trees?**"
      ],
      "metadata": {
        "id": "CDdgioV0nqZ_"
      }
    },
    {
      "cell_type": "markdown",
      "source": [
        "**Ans:** Here’s a comprehensive overview of the **advantages and disadvantages** of **Decision Trees**:\n",
        "\n",
        "---\n",
        "\n",
        "## ✅ **Advantages of Decision Trees**\n",
        "\n",
        "| Advantage                      | Description                                                                  |\n",
        "| ------------------------------ | ---------------------------------------------------------------------------- |\n",
        "| **Easy to understand**         | Intuitive model; can be visualized as a flowchart/tree structure.            |\n",
        "| **No feature scaling needed**  | No need to normalize or standardize data (unlike SVM, KNN, etc.).            |\n",
        "| **Handles both types of data** | Can handle numerical and categorical features.                               |\n",
        "| **Non-linear relationships**   | Can model complex, non-linear patterns without transformation.               |\n",
        "| **Feature selection built-in** | Automatically selects important features by splitting.                       |\n",
        "| **Little data preparation**    | Doesn’t require dummy encoding (for tree algorithms that handle categories). |\n",
        "| **Fast to train and predict**  | Especially with small to medium datasets.                                    |\n",
        "| **Can handle missing values**  | Some implementations can work with incomplete data.                          |\n",
        "\n",
        "---\n",
        "\n",
        "## ❌ **Disadvantages of Decision Trees**\n",
        "\n",
        "| Disadvantage                         | Description                                                                        |\n",
        "| ------------------------------------ | ---------------------------------------------------------------------------------- |\n",
        "| **Overfitting**                      | Prone to creating overly complex trees that fit noise in the training data.        |\n",
        "| **Unstable**                         | Small changes in data can lead to different trees (high variance).                 |\n",
        "| **Biased splits**                    | Can favor features with more levels (especially with categorical features).        |\n",
        "| **Greedy splitting**                 | Uses a local, greedy strategy at each node—may miss globally optimal trees.        |\n",
        "| **Poor generalization (deep trees)** | Deep trees may generalize poorly unless pruned.                                    |\n",
        "| **Not smooth**                       | Creates piecewise constant approximations (no smooth curves).                      |\n",
        "| **Limited extrapolation**            | Doesn’t predict well beyond the range of training data (especially in regression). |\n",
        "\n",
        "---\n",
        "\n",
        "## 🧠 **When to Use Decision Trees**\n",
        "\n",
        "* When interpretability and **visual explanation** are important.\n",
        "* As a **baseline model** before trying more complex methods.\n",
        "* In **ensembles** like Random Forests or Gradient Boosting to mitigate weaknesses.\n",
        "\n",
        "---\n",
        "\n",
        "## 📌 **Summary**\n",
        "\n",
        "| Decision Trees                                |\n",
        "| --------------------------------------------- |\n",
        "| ✅ Easy to use and interpret                   |\n",
        "| ✅ Handles both data types                     |\n",
        "| ❌ Can overfit and be unstable                 |\n",
        "| ❌ Not ideal alone for large, complex datasets |\n",
        "\n",
        "Used wisely, especially with pruning or in ensembles, **Decision Trees** can be **powerful and flexible tools** for both classification and regression.\n"
      ],
      "metadata": {
        "id": "S56gwK-AtRnF"
      }
    },
    {
      "cell_type": "markdown",
      "source": [
        "**Q13. How does a Decision Tree handle missing values?**"
      ],
      "metadata": {
        "id": "qjtmrI7LnvJ7"
      }
    },
    {
      "cell_type": "markdown",
      "source": [
        "**Ans:** Decision Trees can handle **missing values** using several techniques, depending on the algorithm and implementation. Here's how they manage it:\n",
        "\n",
        "---\n",
        "\n",
        "## 🌳 **1. Ignoring Missing Values During Splitting (Surrogate Splits)**\n",
        "\n",
        "* If a feature value is missing at a node during training or prediction, the tree can use a **surrogate split**.\n",
        "* A **surrogate split** is an alternative feature that **mimics the behavior** of the primary split.\n",
        "\n",
        "### Example:\n",
        "\n",
        "* If the best split is `Feature A ≤ 5`, but A is missing for some samples,\n",
        "* The tree may use `Feature B ≤ 2` **as a proxy** if it closely approximates the same division.\n",
        "\n",
        "**Used in:** CART (Classification and Regression Trees), C5.0\n",
        "\n",
        "---\n",
        "\n",
        "## 🔀 **2. Splitting Based on Available Features Only**\n",
        "\n",
        "* During training, the split is made **only using samples where the feature is present**.\n",
        "* Samples with missing values are either:\n",
        "\n",
        "  * **Ignored** for that specific split.\n",
        "  * Or assigned **proportionally** to branches based on training distribution.\n",
        "\n",
        "---\n",
        "\n",
        "## 🎯 **3. Imputing Missing Values**\n",
        "\n",
        "Before feeding data into the tree, **missing values can be filled** using:\n",
        "\n",
        "* **Mean/Median** (for numerical features)\n",
        "* **Mode** (for categorical features)\n",
        "* **More advanced techniques** like KNN imputation or regression imputation.\n",
        "\n",
        "**Note:** This is a **preprocessing step**, not handled by the tree itself.\n",
        "\n",
        "---\n",
        "\n",
        "## 🛠️ **4. Treating “Missing” as a Separate Category**\n",
        "\n",
        "For categorical features, some algorithms treat \"missing\" as its **own category**.\n",
        "\n",
        "* For example: \\[Red, Green, Missing] is handled like any other category.\n",
        "\n",
        "This works best if the missingness itself is **informative**.\n",
        "\n",
        "---\n",
        "\n",
        "## 📦 **Handling in Popular Libraries**\n",
        "\n",
        "| Library                           | Handling of Missing Values                                          |\n",
        "| --------------------------------- | ------------------------------------------------------------------- |\n",
        "| `scikit-learn`                    | Requires **manual imputation** (no native handling)                 |\n",
        "| `XGBoost`, `LightGBM`, `CatBoost` | Handle missing values **natively** using learned default directions |\n",
        "| `rpart` (R)                       | Uses **surrogate splits**                                           |\n",
        "\n",
        "---\n",
        "\n",
        "## ✅ **Summary**\n",
        "\n",
        "| Strategy                | Description                                                   |\n",
        "| ----------------------- | ------------------------------------------------------------- |\n",
        "| Surrogate Splits        | Use alternative features for routing missing data             |\n",
        "| Proportional Assignment | Send missing samples down all branches based on probabilities |\n",
        "| Imputation              | Fill in missing values before training                        |\n",
        "| Treat as Category       | Treat missing as a distinct category (categorical only)       |\n",
        "\n",
        "👉 Some decision tree implementations handle missing values **elegantly and automatically**, while others (like scikit-learn) require **explicit preprocessing**.\n"
      ],
      "metadata": {
        "id": "vYlTGIbXthAD"
      }
    },
    {
      "cell_type": "markdown",
      "source": [
        "**Q14.  How does a Decision Tree handle categorical features?**"
      ],
      "metadata": {
        "id": "vqEaPQhvn0cG"
      }
    },
    {
      "cell_type": "markdown",
      "source": [
        "**Ans:** Decision Trees can handle **categorical features** in various ways depending on the algorithm and implementation. Here's a breakdown of how they do it:\n",
        "\n",
        "---\n",
        "\n",
        "## 🌳 **How Decision Trees Handle Categorical Features**\n",
        "\n",
        "### 1. **Native Support (Some Algorithms)**\n",
        "\n",
        "Certain decision tree algorithms **natively handle categorical variables** without needing encoding.\n",
        "\n",
        "* They treat each category as a discrete branch or consider subsets of categories to split on.\n",
        "\n",
        "**Examples of algorithms with native support:**\n",
        "\n",
        "* `C4.5`, `C5.0`\n",
        "* `CART` (in some implementations like `rpart` in R)\n",
        "* `CatBoost` (optimized for categorical features)\n",
        "* `LightGBM` (if you specify categorical features)\n",
        "\n",
        "---\n",
        "\n",
        "## 🔀 **2. Manual Encoding (Required in Some Libraries)**\n",
        "\n",
        "### In libraries like **scikit-learn**, you must **manually convert** categorical features to numeric:\n",
        "\n",
        "#### a. **One-Hot Encoding**\n",
        "\n",
        "* Each category becomes a separate binary feature.\n",
        "* Example: `\"Color\" = [Red, Green, Blue]` becomes three features: `[is_red, is_green, is_blue]`.\n",
        "* Decision trees handle this well since they naturally select the most informative binary splits.\n",
        "\n",
        "#### b. **Ordinal Encoding (Integer Encoding)**\n",
        "\n",
        "* Categories are replaced by integer codes: `[Red, Green, Blue] → [0, 1, 2]`\n",
        "* ⚠️ Use **only if the categories have meaningful order** — otherwise, it can mislead the model.\n",
        "\n",
        "---\n",
        "\n",
        "## 🧠 **How Trees Split on Categorical Features**\n",
        "\n",
        "For a categorical feature with values $\\{A, B, C\\}$, a decision tree may split like:\n",
        "\n",
        "$$\n",
        "\\text{Is feature in } \\{A, C\\}?\n",
        "$$\n",
        "\n",
        "* If **yes**, go left.\n",
        "* If **no** (i.e., it's B), go right.\n",
        "\n",
        "This is known as **subset splitting** and works for both classification and regression tasks.\n",
        "\n",
        "---\n",
        "\n",
        "## 📦 **Handling in Popular Libraries**\n",
        "\n",
        "| Library          | Categorical Support          | Notes                                                |\n",
        "| ---------------- | ---------------------------- | ---------------------------------------------------- |\n",
        "| **scikit-learn** | ❌ (requires encoding)        | Use One-Hot or Ordinal Encoding                      |\n",
        "| **LightGBM**     | ✅ Native support             | Specify `categorical_feature` parameter              |\n",
        "| **CatBoost**     | ✅ Strong native support      | Automatically detects and processes categorical data |\n",
        "| **XGBoost**      | ⚠️ Partial (recent versions) | Some native support, but encoding often still needed |\n",
        "\n",
        "---\n",
        "\n",
        "## ✅ **Summary**\n",
        "\n",
        "| Method           | Description                                                  |\n",
        "| ---------------- | ------------------------------------------------------------ |\n",
        "| Native Handling  | Directly splits on categories or category subsets            |\n",
        "| One-Hot Encoding | Converts categories to binary features (common + robust)     |\n",
        "| Ordinal Encoding | Assigns integers to categories (only if order matters)       |\n",
        "| Subset Splits    | Splits on groups of categories (e.g., `Color ∈ {Red, Blue}`) |\n",
        "\n",
        "> 🎯 **Best Practice:** If your tree implementation **doesn't support categoricals**, use **one-hot encoding** for safe, interpretable splits. If it **does**, take advantage of native handling for better performance and simplicity.\n"
      ],
      "metadata": {
        "id": "wQOosB47txnd"
      }
    },
    {
      "cell_type": "markdown",
      "source": [
        "**Q15. What are some real-world applications of Decision Trees?**"
      ],
      "metadata": {
        "id": "Kg7RYVPQn5yG"
      }
    },
    {
      "cell_type": "markdown",
      "source": [
        "**Ans:** Decision Trees are widely used in the real world due to their simplicity, interpretability, and flexibility. Below are several **real-world applications** across various domains:\n",
        "\n",
        "---\n",
        "\n",
        "## 🏥 1. **Healthcare and Medical Diagnosis**\n",
        "\n",
        "* **Use Case:** Predicting whether a patient has a certain disease based on symptoms, test results, or history.\n",
        "* **Example:** Classifying patients into “low risk” and “high risk” for heart disease.\n",
        "* **Why Trees?** Easy to explain decisions to medical professionals.\n",
        "\n",
        "---\n",
        "\n",
        "## 💳 2. **Finance and Credit Scoring**\n",
        "\n",
        "* **Use Case:** Approving or denying credit card or loan applications.\n",
        "* **Example:** Predicting loan default risk based on income, credit history, etc.\n",
        "* **Why Trees?** Interpretability is essential for regulatory compliance.\n",
        "\n",
        "---\n",
        "\n",
        "## 🛒 3. **Retail and Customer Behavior**\n",
        "\n",
        "* **Use Case:** Recommending products or predicting customer churn.\n",
        "* **Example:** Classifying customers likely to cancel subscriptions.\n",
        "* **Why Trees?** Can easily model non-linear customer behavior.\n",
        "\n",
        "---\n",
        "\n",
        "## 🧠 4. **Education and Student Performance**\n",
        "\n",
        "* **Use Case:** Predicting student drop-out or academic success.\n",
        "* **Example:** Using attendance, GPA, and socioeconomic background to forecast graduation likelihood.\n",
        "* **Why Trees?** Easy to communicate with educators and policymakers.\n",
        "\n",
        "---\n",
        "\n",
        "## 🚗 5. **Manufacturing and Quality Control**\n",
        "\n",
        "* **Use Case:** Detecting defects or predicting machine failure.\n",
        "* **Example:** Classifying parts as defective based on measurements.\n",
        "* **Why Trees?** Real-time decision rules based on sensor data.\n",
        "\n",
        "---\n",
        "\n",
        "## 🏦 6. **Fraud Detection**\n",
        "\n",
        "* **Use Case:** Identifying potentially fraudulent transactions.\n",
        "* **Example:** Decision Trees or ensembles flag unusual transaction patterns.\n",
        "* **Why Trees?** Fast inference and explainable decisions.\n",
        "\n",
        "---\n",
        "\n",
        "## 🌍 7. **Environmental Science**\n",
        "\n",
        "* **Use Case:** Predicting weather patterns or pollution levels.\n",
        "* **Example:** Using temperature, humidity, and wind to forecast air quality.\n",
        "* **Why Trees?** Can model complex interactions between features.\n",
        "\n",
        "---\n",
        "\n",
        "## 🧾 8. **Marketing and Lead Scoring**\n",
        "\n",
        "* **Use Case:** Ranking leads by likelihood to convert.\n",
        "* **Example:** Decision Trees used to classify users who are likely to click or purchase.\n",
        "* **Why Trees?** Helps prioritize sales efforts efficiently.\n",
        "\n",
        "---\n",
        "\n",
        "## 📷 9. **Image Recognition (with Decision Tree Ensembles)**\n",
        "\n",
        "* **Use Case:** Used in models like Random Forests for classifying images.\n",
        "* **Example:** Recognizing handwritten digits (e.g., MNIST).\n",
        "* **Why Trees?** Often used as a base learner in ensemble methods for vision tasks.\n",
        "\n",
        "---\n",
        "\n",
        "## 🧠 Summary Table\n",
        "\n",
        "| Domain        | Example Application                               |\n",
        "| ------------- | ------------------------------------------------- |\n",
        "| Healthcare    | Disease prediction, patient risk scoring          |\n",
        "| Finance       | Credit scoring, loan approval, fraud detection    |\n",
        "| Retail        | Customer churn, product recommendations           |\n",
        "| Education     | Dropout prediction, performance forecasting       |\n",
        "| Manufacturing | Defect detection, maintenance prediction          |\n",
        "| Marketing     | Lead scoring, campaign targeting                  |\n",
        "| Environment   | Air quality or weather prediction                 |\n",
        "| AI/Vision     | Part of ensemble methods for image classification |\n",
        "\n",
        "---\n",
        "\n",
        "> 🧩 **Note:** While Decision Trees are powerful alone, they become even more effective when used in **ensemble methods** like **Random Forests**, **Gradient Boosting**, and **XGBoost**—which are widely used in **industry and competitions (e.g., Kaggle)**.\n"
      ],
      "metadata": {
        "id": "xgfC9_p6t4-Y"
      }
    },
    {
      "cell_type": "markdown",
      "source": [
        "###**PRACTICAL**"
      ],
      "metadata": {
        "id": "-gvQrnSwuL6t"
      }
    },
    {
      "cell_type": "markdown",
      "source": [
        "**Q16. Write a Python program to train a Decision Tree Classifier on the Iris dataset and print the model accuracy.**"
      ],
      "metadata": {
        "id": "c2fPEhQtuPyd"
      }
    },
    {
      "cell_type": "code",
      "source": [
        "from sklearn.datasets import load_iris\n",
        "from sklearn.model_selection import train_test_split\n",
        "from sklearn.tree import DecisionTreeClassifier\n",
        "from sklearn.metrics import accuracy_score\n",
        "\n",
        "# Step 1: Load the Iris dataset\n",
        "iris = load_iris()\n",
        "X = iris.data      # Features\n",
        "y = iris.target    # Labels\n",
        "\n",
        "# Step 2: Split into training and test sets (80% train, 20% test)\n",
        "X_train, X_test, y_train, y_test = train_test_split(X, y, test_size=0.2, random_state=42)\n",
        "\n",
        "# Step 3: Initialize and train the Decision Tree Classifier\n",
        "model = DecisionTreeClassifier(random_state=42)\n",
        "model.fit(X_train, y_train)\n",
        "\n",
        "# Step 4: Predict on the test set\n",
        "y_pred = model.predict(X_test)\n",
        "\n",
        "# Step 5: Evaluate and print the accuracy\n",
        "accuracy = accuracy_score(y_test, y_pred)\n",
        "print(f\"Decision Tree Classifier Accuracy: {accuracy:.2f}\")"
      ],
      "metadata": {
        "colab": {
          "base_uri": "https://localhost:8080/"
        },
        "id": "7fdIifByvmHG",
        "outputId": "6f0d0ce0-e12b-448f-f5b5-e081c0863575"
      },
      "execution_count": 1,
      "outputs": [
        {
          "output_type": "stream",
          "name": "stdout",
          "text": [
            "Decision Tree Classifier Accuracy: 1.00\n"
          ]
        }
      ]
    },
    {
      "cell_type": "markdown",
      "source": [
        "**Q17. Write a Python program to train a Decision Tree Classifier using Gini Impurity as the criterion and print the**\n",
        "**feature importances.**"
      ],
      "metadata": {
        "id": "IC1wVYX_uWre"
      }
    },
    {
      "cell_type": "code",
      "source": [
        "from sklearn.datasets import load_iris\n",
        "from sklearn.model_selection import train_test_split\n",
        "from sklearn.tree import DecisionTreeClassifier\n",
        "\n",
        "# Step 1: Load the Iris dataset\n",
        "iris = load_iris()\n",
        "X = iris.data\n",
        "y = iris.target\n",
        "feature_names = iris.feature_names\n",
        "\n",
        "# Step 2: Split the data into train and test sets\n",
        "X_train, X_test, y_train, y_test = train_test_split(\n",
        "    X, y, test_size=0.2, random_state=42\n",
        ")\n",
        "\n",
        "# Step 3: Create and train the Decision Tree using Gini Impurity\n",
        "clf = DecisionTreeClassifier(criterion='gini', random_state=42)\n",
        "clf.fit(X_train, y_train)\n",
        "\n",
        "# Step 4: Print feature importances\n",
        "print(\"Feature Importances:\")\n",
        "for name, importance in zip(feature_names, clf.feature_importances_):\n",
        "    print(f\"{name}: {importance:.4f}\")"
      ],
      "metadata": {
        "colab": {
          "base_uri": "https://localhost:8080/"
        },
        "id": "jVtVZh97v8fl",
        "outputId": "dcf241a9-7468-4e22-8527-edc6e335faad"
      },
      "execution_count": 2,
      "outputs": [
        {
          "output_type": "stream",
          "name": "stdout",
          "text": [
            "Feature Importances:\n",
            "sepal length (cm): 0.0000\n",
            "sepal width (cm): 0.0167\n",
            "petal length (cm): 0.9061\n",
            "petal width (cm): 0.0772\n"
          ]
        }
      ]
    },
    {
      "cell_type": "markdown",
      "source": [
        "**Q18. Write a Python program to train a Decision Tree Classifier using Entropy as the splitting criterion and print the**\n",
        "**model accuracy.**"
      ],
      "metadata": {
        "id": "Stce95kWubTT"
      }
    },
    {
      "cell_type": "code",
      "source": [
        "from sklearn.datasets import load_iris\n",
        "from sklearn.model_selection import train_test_split\n",
        "from sklearn.tree import DecisionTreeClassifier\n",
        "from sklearn.metrics import accuracy_score\n",
        "\n",
        "# Step 1: Load the Iris dataset\n",
        "iris = load_iris()\n",
        "X = iris.data\n",
        "y = iris.target\n",
        "\n",
        "# Step 2: Split the data into training and testing sets\n",
        "X_train, X_test, y_train, y_test = train_test_split(\n",
        "    X, y, test_size=0.2, random_state=42\n",
        ")\n",
        "\n",
        "# Step 3: Initialize the Decision Tree Classifier using 'entropy'\n",
        "clf = DecisionTreeClassifier(criterion='entropy', random_state=42)\n",
        "clf.fit(X_train, y_train)\n",
        "\n",
        "# Step 4: Make predictions\n",
        "y_pred = clf.predict(X_test)\n",
        "\n",
        "# Step 5: Calculate and print the accuracy\n",
        "accuracy = accuracy_score(y_test, y_pred)\n",
        "print(f\"Decision Tree Classifier Accuracy (Entropy): {accuracy:.2f}\")"
      ],
      "metadata": {
        "colab": {
          "base_uri": "https://localhost:8080/"
        },
        "id": "w3n487-hwDts",
        "outputId": "8441d733-65e9-4c36-dd76-ed6a2aecc0a7"
      },
      "execution_count": 3,
      "outputs": [
        {
          "output_type": "stream",
          "name": "stdout",
          "text": [
            "Decision Tree Classifier Accuracy (Entropy): 1.00\n"
          ]
        }
      ]
    },
    {
      "cell_type": "markdown",
      "source": [
        "**Q19.Write a Python program to train a Decision Tree Regressor on a housing dataset and evaluate using Mean**\n",
        "**Squared Error (MSE).**"
      ],
      "metadata": {
        "id": "mEK_fug6uhki"
      }
    },
    {
      "cell_type": "code",
      "source": [
        "from sklearn.datasets import fetch_california_housing\n",
        "from sklearn.model_selection import train_test_split\n",
        "from sklearn.tree import DecisionTreeRegressor\n",
        "from sklearn.metrics import mean_squared_error\n",
        "\n",
        "# Step 1: Load the California Housing dataset\n",
        "housing = fetch_california_housing()\n",
        "X = housing.data\n",
        "y = housing.target\n",
        "\n",
        "# Step 2: Split into training and testing sets\n",
        "X_train, X_test, y_train, y_test = train_test_split(\n",
        "    X, y, test_size=0.2, random_state=42\n",
        ")\n",
        "\n",
        "# Step 3: Train a Decision Tree Regressor\n",
        "regressor = DecisionTreeRegressor(random_state=42)\n",
        "regressor.fit(X_train, y_train)\n",
        "\n",
        "# Step 4: Make predictions\n",
        "y_pred = regressor.predict(X_test)\n",
        "\n",
        "# Step 5: Evaluate using Mean Squared Error (MSE)\n",
        "mse = mean_squared_error(y_test, y_pred)\n",
        "print(f\"Mean Squared Error (Decision Tree Regressor): {mse:.4f}\")"
      ],
      "metadata": {
        "colab": {
          "base_uri": "https://localhost:8080/"
        },
        "id": "fjwAc-bowMey",
        "outputId": "522f6c71-06c5-4b1e-c013-e4eff7e7e2e9"
      },
      "execution_count": 4,
      "outputs": [
        {
          "output_type": "stream",
          "name": "stdout",
          "text": [
            "Mean Squared Error (Decision Tree Regressor): 0.4952\n"
          ]
        }
      ]
    },
    {
      "cell_type": "markdown",
      "source": [
        "**Q20. Write a Python program to train a Decision Tree Classifier and visualize the tree using graphviz.**"
      ],
      "metadata": {
        "id": "kt85uqCSuoz-"
      }
    },
    {
      "cell_type": "code",
      "source": [
        "!apt-get install -y graphviz\n",
        "!pip install graphviz"
      ],
      "metadata": {
        "colab": {
          "base_uri": "https://localhost:8080/"
        },
        "id": "_1zg2tiGw_vz",
        "outputId": "d9a2d556-2b83-42b8-d8c7-4b241b8aefb9"
      },
      "execution_count": 12,
      "outputs": [
        {
          "output_type": "stream",
          "name": "stdout",
          "text": [
            "Reading package lists... Done\n",
            "Building dependency tree... Done\n",
            "Reading state information... Done\n",
            "graphviz is already the newest version (2.42.2-6ubuntu0.1).\n",
            "0 upgraded, 0 newly installed, 0 to remove and 34 not upgraded.\n",
            "Requirement already satisfied: graphviz in /usr/local/lib/python3.11/dist-packages (0.20.3)\n"
          ]
        }
      ]
    },
    {
      "cell_type": "code",
      "source": [
        "from sklearn.datasets import load_iris\n",
        "from sklearn.tree import DecisionTreeClassifier, export_graphviz\n",
        "import graphviz\n",
        "\n",
        "# Load Iris dataset\n",
        "iris = load_iris()\n",
        "X = iris.data\n",
        "y = iris.target\n",
        "\n",
        "# Train a Decision Tree\n",
        "clf = DecisionTreeClassifier()\n",
        "clf.fit(X, y)\n",
        "\n",
        "# Export the tree to DOT format\n",
        "dot_data = export_graphviz(\n",
        "    clf,\n",
        "    out_file=None,\n",
        "    feature_names=iris.feature_names,\n",
        "    class_names=iris.target_names,\n",
        "    filled=True,\n",
        "    rounded=True,\n",
        "    special_characters=True\n",
        ")\n",
        "\n",
        "# Visualize in Colab using graphviz\n",
        "graph = graphviz.Source(dot_data)\n",
        "graph.render(\"iris_decision_tree\", format=\"png\")  # Saves to file\n",
        "graph  # Displays in Colab"
      ],
      "metadata": {
        "colab": {
          "base_uri": "https://localhost:8080/",
          "height": 916
        },
        "id": "mbYwZkK0xD2V",
        "outputId": "1f587ecf-c8ac-4cbc-f0dd-77914f8b1de3"
      },
      "execution_count": 13,
      "outputs": [
        {
          "output_type": "execute_result",
          "data": {
            "image/svg+xml": "<?xml version=\"1.0\" encoding=\"UTF-8\" standalone=\"no\"?>\n<!DOCTYPE svg PUBLIC \"-//W3C//DTD SVG 1.1//EN\"\n \"http://www.w3.org/Graphics/SVG/1.1/DTD/svg11.dtd\">\n<!-- Generated by graphviz version 2.43.0 (0)\n -->\n<!-- Title: Tree Pages: 1 -->\n<svg width=\"863pt\" height=\"671pt\"\n viewBox=\"0.00 0.00 863.00 671.00\" xmlns=\"http://www.w3.org/2000/svg\" xmlns:xlink=\"http://www.w3.org/1999/xlink\">\n<g id=\"graph0\" class=\"graph\" transform=\"scale(1 1) rotate(0) translate(4 667)\">\n<title>Tree</title>\n<polygon fill=\"white\" stroke=\"transparent\" points=\"-4,4 -4,-667 859,-667 859,4 -4,4\"/>\n<!-- 0 -->\n<g id=\"node1\" class=\"node\">\n<title>0</title>\n<path fill=\"#ffffff\" stroke=\"black\" d=\"M517,-663C517,-663 382,-663 382,-663 376,-663 370,-657 370,-651 370,-651 370,-592 370,-592 370,-586 376,-580 382,-580 382,-580 517,-580 517,-580 523,-580 529,-586 529,-592 529,-592 529,-651 529,-651 529,-657 523,-663 517,-663\"/>\n<text text-anchor=\"start\" x=\"378\" y=\"-647.8\" font-family=\"Helvetica,sans-Serif\" font-size=\"14.00\">petal length (cm) ≤ 2.45</text>\n<text text-anchor=\"start\" x=\"414\" y=\"-632.8\" font-family=\"Helvetica,sans-Serif\" font-size=\"14.00\">gini = 0.667</text>\n<text text-anchor=\"start\" x=\"404.5\" y=\"-617.8\" font-family=\"Helvetica,sans-Serif\" font-size=\"14.00\">samples = 150</text>\n<text text-anchor=\"start\" x=\"391.5\" y=\"-602.8\" font-family=\"Helvetica,sans-Serif\" font-size=\"14.00\">value = [50, 50, 50]</text>\n<text text-anchor=\"start\" x=\"406\" y=\"-587.8\" font-family=\"Helvetica,sans-Serif\" font-size=\"14.00\">class = setosa</text>\n</g>\n<!-- 1 -->\n<g id=\"node2\" class=\"node\">\n<title>1</title>\n<path fill=\"#e58139\" stroke=\"black\" d=\"M419,-536.5C419,-536.5 326,-536.5 326,-536.5 320,-536.5 314,-530.5 314,-524.5 314,-524.5 314,-480.5 314,-480.5 314,-474.5 320,-468.5 326,-468.5 326,-468.5 419,-468.5 419,-468.5 425,-468.5 431,-474.5 431,-480.5 431,-480.5 431,-524.5 431,-524.5 431,-530.5 425,-536.5 419,-536.5\"/>\n<text text-anchor=\"start\" x=\"344.5\" y=\"-521.3\" font-family=\"Helvetica,sans-Serif\" font-size=\"14.00\">gini = 0.0</text>\n<text text-anchor=\"start\" x=\"331.5\" y=\"-506.3\" font-family=\"Helvetica,sans-Serif\" font-size=\"14.00\">samples = 50</text>\n<text text-anchor=\"start\" x=\"322\" y=\"-491.3\" font-family=\"Helvetica,sans-Serif\" font-size=\"14.00\">value = [50, 0, 0]</text>\n<text text-anchor=\"start\" x=\"329\" y=\"-476.3\" font-family=\"Helvetica,sans-Serif\" font-size=\"14.00\">class = setosa</text>\n</g>\n<!-- 0&#45;&gt;1 -->\n<g id=\"edge1\" class=\"edge\">\n<title>0&#45;&gt;1</title>\n<path fill=\"none\" stroke=\"black\" d=\"M422.79,-579.91C415.38,-568.65 407.33,-556.42 399.88,-545.11\"/>\n<polygon fill=\"black\" stroke=\"black\" points=\"402.75,-543.1 394.33,-536.67 396.9,-546.94 402.75,-543.1\"/>\n<text text-anchor=\"middle\" x=\"389.28\" y=\"-557.45\" font-family=\"Helvetica,sans-Serif\" font-size=\"14.00\">True</text>\n</g>\n<!-- 2 -->\n<g id=\"node3\" class=\"node\">\n<title>2</title>\n<path fill=\"#ffffff\" stroke=\"black\" d=\"M591.5,-544C591.5,-544 461.5,-544 461.5,-544 455.5,-544 449.5,-538 449.5,-532 449.5,-532 449.5,-473 449.5,-473 449.5,-467 455.5,-461 461.5,-461 461.5,-461 591.5,-461 591.5,-461 597.5,-461 603.5,-467 603.5,-473 603.5,-473 603.5,-532 603.5,-532 603.5,-538 597.5,-544 591.5,-544\"/>\n<text text-anchor=\"start\" x=\"457.5\" y=\"-528.8\" font-family=\"Helvetica,sans-Serif\" font-size=\"14.00\">petal width (cm) ≤ 1.75</text>\n<text text-anchor=\"start\" x=\"498.5\" y=\"-513.8\" font-family=\"Helvetica,sans-Serif\" font-size=\"14.00\">gini = 0.5</text>\n<text text-anchor=\"start\" x=\"481.5\" y=\"-498.8\" font-family=\"Helvetica,sans-Serif\" font-size=\"14.00\">samples = 100</text>\n<text text-anchor=\"start\" x=\"472\" y=\"-483.8\" font-family=\"Helvetica,sans-Serif\" font-size=\"14.00\">value = [0, 50, 50]</text>\n<text text-anchor=\"start\" x=\"474\" y=\"-468.8\" font-family=\"Helvetica,sans-Serif\" font-size=\"14.00\">class = versicolor</text>\n</g>\n<!-- 0&#45;&gt;2 -->\n<g id=\"edge2\" class=\"edge\">\n<title>0&#45;&gt;2</title>\n<path fill=\"none\" stroke=\"black\" d=\"M476.21,-579.91C482.01,-571.1 488.2,-561.7 494.18,-552.61\"/>\n<polygon fill=\"black\" stroke=\"black\" points=\"497.26,-554.3 499.83,-544.02 491.41,-550.45 497.26,-554.3\"/>\n<text text-anchor=\"middle\" x=\"504.88\" y=\"-564.81\" font-family=\"Helvetica,sans-Serif\" font-size=\"14.00\">False</text>\n</g>\n<!-- 3 -->\n<g id=\"node4\" class=\"node\">\n<title>3</title>\n<path fill=\"#4de88e\" stroke=\"black\" d=\"M482,-425C482,-425 347,-425 347,-425 341,-425 335,-419 335,-413 335,-413 335,-354 335,-354 335,-348 341,-342 347,-342 347,-342 482,-342 482,-342 488,-342 494,-348 494,-354 494,-354 494,-413 494,-413 494,-419 488,-425 482,-425\"/>\n<text text-anchor=\"start\" x=\"343\" y=\"-409.8\" font-family=\"Helvetica,sans-Serif\" font-size=\"14.00\">petal length (cm) ≤ 4.95</text>\n<text text-anchor=\"start\" x=\"379\" y=\"-394.8\" font-family=\"Helvetica,sans-Serif\" font-size=\"14.00\">gini = 0.168</text>\n<text text-anchor=\"start\" x=\"373.5\" y=\"-379.8\" font-family=\"Helvetica,sans-Serif\" font-size=\"14.00\">samples = 54</text>\n<text text-anchor=\"start\" x=\"364\" y=\"-364.8\" font-family=\"Helvetica,sans-Serif\" font-size=\"14.00\">value = [0, 49, 5]</text>\n<text text-anchor=\"start\" x=\"362\" y=\"-349.8\" font-family=\"Helvetica,sans-Serif\" font-size=\"14.00\">class = versicolor</text>\n</g>\n<!-- 2&#45;&gt;3 -->\n<g id=\"edge3\" class=\"edge\">\n<title>2&#45;&gt;3</title>\n<path fill=\"none\" stroke=\"black\" d=\"M487.64,-460.91C478.87,-451.74 469.47,-441.93 460.44,-432.49\"/>\n<polygon fill=\"black\" stroke=\"black\" points=\"462.73,-429.82 453.29,-425.02 457.68,-434.66 462.73,-429.82\"/>\n</g>\n<!-- 12 -->\n<g id=\"node13\" class=\"node\">\n<title>12</title>\n<path fill=\"#843de6\" stroke=\"black\" d=\"M706,-425C706,-425 571,-425 571,-425 565,-425 559,-419 559,-413 559,-413 559,-354 559,-354 559,-348 565,-342 571,-342 571,-342 706,-342 706,-342 712,-342 718,-348 718,-354 718,-354 718,-413 718,-413 718,-419 712,-425 706,-425\"/>\n<text text-anchor=\"start\" x=\"567\" y=\"-409.8\" font-family=\"Helvetica,sans-Serif\" font-size=\"14.00\">petal length (cm) ≤ 4.85</text>\n<text text-anchor=\"start\" x=\"603\" y=\"-394.8\" font-family=\"Helvetica,sans-Serif\" font-size=\"14.00\">gini = 0.043</text>\n<text text-anchor=\"start\" x=\"597.5\" y=\"-379.8\" font-family=\"Helvetica,sans-Serif\" font-size=\"14.00\">samples = 46</text>\n<text text-anchor=\"start\" x=\"588\" y=\"-364.8\" font-family=\"Helvetica,sans-Serif\" font-size=\"14.00\">value = [0, 1, 45]</text>\n<text text-anchor=\"start\" x=\"590\" y=\"-349.8\" font-family=\"Helvetica,sans-Serif\" font-size=\"14.00\">class = virginica</text>\n</g>\n<!-- 2&#45;&gt;12 -->\n<g id=\"edge12\" class=\"edge\">\n<title>2&#45;&gt;12</title>\n<path fill=\"none\" stroke=\"black\" d=\"M565.36,-460.91C574.13,-451.74 583.53,-441.93 592.56,-432.49\"/>\n<polygon fill=\"black\" stroke=\"black\" points=\"595.32,-434.66 599.71,-425.02 590.27,-429.82 595.32,-434.66\"/>\n</g>\n<!-- 4 -->\n<g id=\"node5\" class=\"node\">\n<title>4</title>\n<path fill=\"#3de684\" stroke=\"black\" d=\"M260.5,-306C260.5,-306 130.5,-306 130.5,-306 124.5,-306 118.5,-300 118.5,-294 118.5,-294 118.5,-235 118.5,-235 118.5,-229 124.5,-223 130.5,-223 130.5,-223 260.5,-223 260.5,-223 266.5,-223 272.5,-229 272.5,-235 272.5,-235 272.5,-294 272.5,-294 272.5,-300 266.5,-306 260.5,-306\"/>\n<text text-anchor=\"start\" x=\"126.5\" y=\"-290.8\" font-family=\"Helvetica,sans-Serif\" font-size=\"14.00\">petal width (cm) ≤ 1.65</text>\n<text text-anchor=\"start\" x=\"160\" y=\"-275.8\" font-family=\"Helvetica,sans-Serif\" font-size=\"14.00\">gini = 0.041</text>\n<text text-anchor=\"start\" x=\"154.5\" y=\"-260.8\" font-family=\"Helvetica,sans-Serif\" font-size=\"14.00\">samples = 48</text>\n<text text-anchor=\"start\" x=\"145\" y=\"-245.8\" font-family=\"Helvetica,sans-Serif\" font-size=\"14.00\">value = [0, 47, 1]</text>\n<text text-anchor=\"start\" x=\"143\" y=\"-230.8\" font-family=\"Helvetica,sans-Serif\" font-size=\"14.00\">class = versicolor</text>\n</g>\n<!-- 3&#45;&gt;4 -->\n<g id=\"edge4\" class=\"edge\">\n<title>3&#45;&gt;4</title>\n<path fill=\"none\" stroke=\"black\" d=\"M338.52,-341.91C319.75,-331.88 299.52,-321.07 280.36,-310.84\"/>\n<polygon fill=\"black\" stroke=\"black\" points=\"281.82,-307.65 271.35,-306.02 278.52,-313.82 281.82,-307.65\"/>\n</g>\n<!-- 7 -->\n<g id=\"node8\" class=\"node\">\n<title>7</title>\n<path fill=\"#c09cf2\" stroke=\"black\" d=\"M479.5,-306C479.5,-306 349.5,-306 349.5,-306 343.5,-306 337.5,-300 337.5,-294 337.5,-294 337.5,-235 337.5,-235 337.5,-229 343.5,-223 349.5,-223 349.5,-223 479.5,-223 479.5,-223 485.5,-223 491.5,-229 491.5,-235 491.5,-235 491.5,-294 491.5,-294 491.5,-300 485.5,-306 479.5,-306\"/>\n<text text-anchor=\"start\" x=\"345.5\" y=\"-290.8\" font-family=\"Helvetica,sans-Serif\" font-size=\"14.00\">petal width (cm) ≤ 1.55</text>\n<text text-anchor=\"start\" x=\"379\" y=\"-275.8\" font-family=\"Helvetica,sans-Serif\" font-size=\"14.00\">gini = 0.444</text>\n<text text-anchor=\"start\" x=\"377\" y=\"-260.8\" font-family=\"Helvetica,sans-Serif\" font-size=\"14.00\">samples = 6</text>\n<text text-anchor=\"start\" x=\"367.5\" y=\"-245.8\" font-family=\"Helvetica,sans-Serif\" font-size=\"14.00\">value = [0, 2, 4]</text>\n<text text-anchor=\"start\" x=\"366\" y=\"-230.8\" font-family=\"Helvetica,sans-Serif\" font-size=\"14.00\">class = virginica</text>\n</g>\n<!-- 3&#45;&gt;7 -->\n<g id=\"edge7\" class=\"edge\">\n<title>3&#45;&gt;7</title>\n<path fill=\"none\" stroke=\"black\" d=\"M414.5,-341.91C414.5,-333.65 414.5,-324.86 414.5,-316.3\"/>\n<polygon fill=\"black\" stroke=\"black\" points=\"418,-316.02 414.5,-306.02 411,-316.02 418,-316.02\"/>\n</g>\n<!-- 5 -->\n<g id=\"node6\" class=\"node\">\n<title>5</title>\n<path fill=\"#39e581\" stroke=\"black\" d=\"M109,-179.5C109,-179.5 12,-179.5 12,-179.5 6,-179.5 0,-173.5 0,-167.5 0,-167.5 0,-123.5 0,-123.5 0,-117.5 6,-111.5 12,-111.5 12,-111.5 109,-111.5 109,-111.5 115,-111.5 121,-117.5 121,-123.5 121,-123.5 121,-167.5 121,-167.5 121,-173.5 115,-179.5 109,-179.5\"/>\n<text text-anchor=\"start\" x=\"32.5\" y=\"-164.3\" font-family=\"Helvetica,sans-Serif\" font-size=\"14.00\">gini = 0.0</text>\n<text text-anchor=\"start\" x=\"19.5\" y=\"-149.3\" font-family=\"Helvetica,sans-Serif\" font-size=\"14.00\">samples = 47</text>\n<text text-anchor=\"start\" x=\"10\" y=\"-134.3\" font-family=\"Helvetica,sans-Serif\" font-size=\"14.00\">value = [0, 47, 0]</text>\n<text text-anchor=\"start\" x=\"8\" y=\"-119.3\" font-family=\"Helvetica,sans-Serif\" font-size=\"14.00\">class = versicolor</text>\n</g>\n<!-- 4&#45;&gt;5 -->\n<g id=\"edge5\" class=\"edge\">\n<title>4&#45;&gt;5</title>\n<path fill=\"none\" stroke=\"black\" d=\"M148.66,-222.91C135.04,-211.1 120.17,-198.22 106.6,-186.45\"/>\n<polygon fill=\"black\" stroke=\"black\" points=\"108.62,-183.57 98.77,-179.67 104.03,-188.86 108.62,-183.57\"/>\n</g>\n<!-- 6 -->\n<g id=\"node7\" class=\"node\">\n<title>6</title>\n<path fill=\"#8139e5\" stroke=\"black\" d=\"M240,-179.5C240,-179.5 151,-179.5 151,-179.5 145,-179.5 139,-173.5 139,-167.5 139,-167.5 139,-123.5 139,-123.5 139,-117.5 145,-111.5 151,-111.5 151,-111.5 240,-111.5 240,-111.5 246,-111.5 252,-117.5 252,-123.5 252,-123.5 252,-167.5 252,-167.5 252,-173.5 246,-179.5 240,-179.5\"/>\n<text text-anchor=\"start\" x=\"167.5\" y=\"-164.3\" font-family=\"Helvetica,sans-Serif\" font-size=\"14.00\">gini = 0.0</text>\n<text text-anchor=\"start\" x=\"158\" y=\"-149.3\" font-family=\"Helvetica,sans-Serif\" font-size=\"14.00\">samples = 1</text>\n<text text-anchor=\"start\" x=\"148.5\" y=\"-134.3\" font-family=\"Helvetica,sans-Serif\" font-size=\"14.00\">value = [0, 0, 1]</text>\n<text text-anchor=\"start\" x=\"147\" y=\"-119.3\" font-family=\"Helvetica,sans-Serif\" font-size=\"14.00\">class = virginica</text>\n</g>\n<!-- 4&#45;&gt;6 -->\n<g id=\"edge6\" class=\"edge\">\n<title>4&#45;&gt;6</title>\n<path fill=\"none\" stroke=\"black\" d=\"M195.5,-222.91C195.5,-212.2 195.5,-200.62 195.5,-189.78\"/>\n<polygon fill=\"black\" stroke=\"black\" points=\"199,-189.67 195.5,-179.67 192,-189.67 199,-189.67\"/>\n</g>\n<!-- 8 -->\n<g id=\"node9\" class=\"node\">\n<title>8</title>\n<path fill=\"#8139e5\" stroke=\"black\" d=\"M371,-179.5C371,-179.5 282,-179.5 282,-179.5 276,-179.5 270,-173.5 270,-167.5 270,-167.5 270,-123.5 270,-123.5 270,-117.5 276,-111.5 282,-111.5 282,-111.5 371,-111.5 371,-111.5 377,-111.5 383,-117.5 383,-123.5 383,-123.5 383,-167.5 383,-167.5 383,-173.5 377,-179.5 371,-179.5\"/>\n<text text-anchor=\"start\" x=\"298.5\" y=\"-164.3\" font-family=\"Helvetica,sans-Serif\" font-size=\"14.00\">gini = 0.0</text>\n<text text-anchor=\"start\" x=\"289\" y=\"-149.3\" font-family=\"Helvetica,sans-Serif\" font-size=\"14.00\">samples = 3</text>\n<text text-anchor=\"start\" x=\"279.5\" y=\"-134.3\" font-family=\"Helvetica,sans-Serif\" font-size=\"14.00\">value = [0, 0, 3]</text>\n<text text-anchor=\"start\" x=\"278\" y=\"-119.3\" font-family=\"Helvetica,sans-Serif\" font-size=\"14.00\">class = virginica</text>\n</g>\n<!-- 7&#45;&gt;8 -->\n<g id=\"edge8\" class=\"edge\">\n<title>7&#45;&gt;8</title>\n<path fill=\"none\" stroke=\"black\" d=\"M383.97,-222.91C375.42,-211.54 366.12,-199.18 357.54,-187.77\"/>\n<polygon fill=\"black\" stroke=\"black\" points=\"360.25,-185.55 351.45,-179.67 354.66,-189.76 360.25,-185.55\"/>\n</g>\n<!-- 9 -->\n<g id=\"node10\" class=\"node\">\n<title>9</title>\n<path fill=\"#9cf2c0\" stroke=\"black\" d=\"M548,-187C548,-187 413,-187 413,-187 407,-187 401,-181 401,-175 401,-175 401,-116 401,-116 401,-110 407,-104 413,-104 413,-104 548,-104 548,-104 554,-104 560,-110 560,-116 560,-116 560,-175 560,-175 560,-181 554,-187 548,-187\"/>\n<text text-anchor=\"start\" x=\"409\" y=\"-171.8\" font-family=\"Helvetica,sans-Serif\" font-size=\"14.00\">petal length (cm) ≤ 5.45</text>\n<text text-anchor=\"start\" x=\"445\" y=\"-156.8\" font-family=\"Helvetica,sans-Serif\" font-size=\"14.00\">gini = 0.444</text>\n<text text-anchor=\"start\" x=\"443\" y=\"-141.8\" font-family=\"Helvetica,sans-Serif\" font-size=\"14.00\">samples = 3</text>\n<text text-anchor=\"start\" x=\"433.5\" y=\"-126.8\" font-family=\"Helvetica,sans-Serif\" font-size=\"14.00\">value = [0, 2, 1]</text>\n<text text-anchor=\"start\" x=\"428\" y=\"-111.8\" font-family=\"Helvetica,sans-Serif\" font-size=\"14.00\">class = versicolor</text>\n</g>\n<!-- 7&#45;&gt;9 -->\n<g id=\"edge9\" class=\"edge\">\n<title>7&#45;&gt;9</title>\n<path fill=\"none\" stroke=\"black\" d=\"M437.4,-222.91C442.31,-214.2 447.56,-204.9 452.64,-195.89\"/>\n<polygon fill=\"black\" stroke=\"black\" points=\"455.78,-197.45 457.64,-187.02 449.68,-194.01 455.78,-197.45\"/>\n</g>\n<!-- 10 -->\n<g id=\"node11\" class=\"node\">\n<title>10</title>\n<path fill=\"#39e581\" stroke=\"black\" d=\"M461,-68C461,-68 364,-68 364,-68 358,-68 352,-62 352,-56 352,-56 352,-12 352,-12 352,-6 358,0 364,0 364,0 461,0 461,0 467,0 473,-6 473,-12 473,-12 473,-56 473,-56 473,-62 467,-68 461,-68\"/>\n<text text-anchor=\"start\" x=\"384.5\" y=\"-52.8\" font-family=\"Helvetica,sans-Serif\" font-size=\"14.00\">gini = 0.0</text>\n<text text-anchor=\"start\" x=\"375\" y=\"-37.8\" font-family=\"Helvetica,sans-Serif\" font-size=\"14.00\">samples = 2</text>\n<text text-anchor=\"start\" x=\"365.5\" y=\"-22.8\" font-family=\"Helvetica,sans-Serif\" font-size=\"14.00\">value = [0, 2, 0]</text>\n<text text-anchor=\"start\" x=\"360\" y=\"-7.8\" font-family=\"Helvetica,sans-Serif\" font-size=\"14.00\">class = versicolor</text>\n</g>\n<!-- 9&#45;&gt;10 -->\n<g id=\"edge10\" class=\"edge\">\n<title>9&#45;&gt;10</title>\n<path fill=\"none\" stroke=\"black\" d=\"M455.18,-103.73C449.74,-94.97 443.99,-85.7 438.52,-76.91\"/>\n<polygon fill=\"black\" stroke=\"black\" points=\"441.43,-74.95 433.18,-68.3 435.48,-78.64 441.43,-74.95\"/>\n</g>\n<!-- 11 -->\n<g id=\"node12\" class=\"node\">\n<title>11</title>\n<path fill=\"#8139e5\" stroke=\"black\" d=\"M592,-68C592,-68 503,-68 503,-68 497,-68 491,-62 491,-56 491,-56 491,-12 491,-12 491,-6 497,0 503,0 503,0 592,0 592,0 598,0 604,-6 604,-12 604,-12 604,-56 604,-56 604,-62 598,-68 592,-68\"/>\n<text text-anchor=\"start\" x=\"519.5\" y=\"-52.8\" font-family=\"Helvetica,sans-Serif\" font-size=\"14.00\">gini = 0.0</text>\n<text text-anchor=\"start\" x=\"510\" y=\"-37.8\" font-family=\"Helvetica,sans-Serif\" font-size=\"14.00\">samples = 1</text>\n<text text-anchor=\"start\" x=\"500.5\" y=\"-22.8\" font-family=\"Helvetica,sans-Serif\" font-size=\"14.00\">value = [0, 0, 1]</text>\n<text text-anchor=\"start\" x=\"499\" y=\"-7.8\" font-family=\"Helvetica,sans-Serif\" font-size=\"14.00\">class = virginica</text>\n</g>\n<!-- 9&#45;&gt;11 -->\n<g id=\"edge11\" class=\"edge\">\n<title>9&#45;&gt;11</title>\n<path fill=\"none\" stroke=\"black\" d=\"M505.45,-103.73C510.81,-94.97 516.48,-85.7 521.86,-76.91\"/>\n<polygon fill=\"black\" stroke=\"black\" points=\"524.89,-78.66 527.12,-68.3 518.92,-75 524.89,-78.66\"/>\n</g>\n<!-- 13 -->\n<g id=\"node14\" class=\"node\">\n<title>13</title>\n<path fill=\"#c09cf2\" stroke=\"black\" d=\"M707.5,-306C707.5,-306 569.5,-306 569.5,-306 563.5,-306 557.5,-300 557.5,-294 557.5,-294 557.5,-235 557.5,-235 557.5,-229 563.5,-223 569.5,-223 569.5,-223 707.5,-223 707.5,-223 713.5,-223 719.5,-229 719.5,-235 719.5,-235 719.5,-294 719.5,-294 719.5,-300 713.5,-306 707.5,-306\"/>\n<text text-anchor=\"start\" x=\"565.5\" y=\"-290.8\" font-family=\"Helvetica,sans-Serif\" font-size=\"14.00\">sepal length (cm) ≤ 5.95</text>\n<text text-anchor=\"start\" x=\"603\" y=\"-275.8\" font-family=\"Helvetica,sans-Serif\" font-size=\"14.00\">gini = 0.444</text>\n<text text-anchor=\"start\" x=\"601\" y=\"-260.8\" font-family=\"Helvetica,sans-Serif\" font-size=\"14.00\">samples = 3</text>\n<text text-anchor=\"start\" x=\"591.5\" y=\"-245.8\" font-family=\"Helvetica,sans-Serif\" font-size=\"14.00\">value = [0, 1, 2]</text>\n<text text-anchor=\"start\" x=\"590\" y=\"-230.8\" font-family=\"Helvetica,sans-Serif\" font-size=\"14.00\">class = virginica</text>\n</g>\n<!-- 12&#45;&gt;13 -->\n<g id=\"edge13\" class=\"edge\">\n<title>12&#45;&gt;13</title>\n<path fill=\"none\" stroke=\"black\" d=\"M638.5,-341.91C638.5,-333.65 638.5,-324.86 638.5,-316.3\"/>\n<polygon fill=\"black\" stroke=\"black\" points=\"642,-316.02 638.5,-306.02 635,-316.02 642,-316.02\"/>\n</g>\n<!-- 16 -->\n<g id=\"node17\" class=\"node\">\n<title>16</title>\n<path fill=\"#8139e5\" stroke=\"black\" d=\"M843,-298.5C843,-298.5 750,-298.5 750,-298.5 744,-298.5 738,-292.5 738,-286.5 738,-286.5 738,-242.5 738,-242.5 738,-236.5 744,-230.5 750,-230.5 750,-230.5 843,-230.5 843,-230.5 849,-230.5 855,-236.5 855,-242.5 855,-242.5 855,-286.5 855,-286.5 855,-292.5 849,-298.5 843,-298.5\"/>\n<text text-anchor=\"start\" x=\"768.5\" y=\"-283.3\" font-family=\"Helvetica,sans-Serif\" font-size=\"14.00\">gini = 0.0</text>\n<text text-anchor=\"start\" x=\"755.5\" y=\"-268.3\" font-family=\"Helvetica,sans-Serif\" font-size=\"14.00\">samples = 43</text>\n<text text-anchor=\"start\" x=\"746\" y=\"-253.3\" font-family=\"Helvetica,sans-Serif\" font-size=\"14.00\">value = [0, 0, 43]</text>\n<text text-anchor=\"start\" x=\"748\" y=\"-238.3\" font-family=\"Helvetica,sans-Serif\" font-size=\"14.00\">class = virginica</text>\n</g>\n<!-- 12&#45;&gt;16 -->\n<g id=\"edge16\" class=\"edge\">\n<title>12&#45;&gt;16</title>\n<path fill=\"none\" stroke=\"black\" d=\"M693.32,-341.91C709.56,-329.88 727.31,-316.73 743.44,-304.79\"/>\n<polygon fill=\"black\" stroke=\"black\" points=\"745.76,-307.43 751.71,-298.67 741.59,-301.81 745.76,-307.43\"/>\n</g>\n<!-- 14 -->\n<g id=\"node15\" class=\"node\">\n<title>14</title>\n<path fill=\"#39e581\" stroke=\"black\" d=\"M687,-179.5C687,-179.5 590,-179.5 590,-179.5 584,-179.5 578,-173.5 578,-167.5 578,-167.5 578,-123.5 578,-123.5 578,-117.5 584,-111.5 590,-111.5 590,-111.5 687,-111.5 687,-111.5 693,-111.5 699,-117.5 699,-123.5 699,-123.5 699,-167.5 699,-167.5 699,-173.5 693,-179.5 687,-179.5\"/>\n<text text-anchor=\"start\" x=\"610.5\" y=\"-164.3\" font-family=\"Helvetica,sans-Serif\" font-size=\"14.00\">gini = 0.0</text>\n<text text-anchor=\"start\" x=\"601\" y=\"-149.3\" font-family=\"Helvetica,sans-Serif\" font-size=\"14.00\">samples = 1</text>\n<text text-anchor=\"start\" x=\"591.5\" y=\"-134.3\" font-family=\"Helvetica,sans-Serif\" font-size=\"14.00\">value = [0, 1, 0]</text>\n<text text-anchor=\"start\" x=\"586\" y=\"-119.3\" font-family=\"Helvetica,sans-Serif\" font-size=\"14.00\">class = versicolor</text>\n</g>\n<!-- 13&#45;&gt;14 -->\n<g id=\"edge14\" class=\"edge\">\n<title>13&#45;&gt;14</title>\n<path fill=\"none\" stroke=\"black\" d=\"M638.5,-222.91C638.5,-212.2 638.5,-200.62 638.5,-189.78\"/>\n<polygon fill=\"black\" stroke=\"black\" points=\"642,-189.67 638.5,-179.67 635,-189.67 642,-189.67\"/>\n</g>\n<!-- 15 -->\n<g id=\"node16\" class=\"node\">\n<title>15</title>\n<path fill=\"#8139e5\" stroke=\"black\" d=\"M818,-179.5C818,-179.5 729,-179.5 729,-179.5 723,-179.5 717,-173.5 717,-167.5 717,-167.5 717,-123.5 717,-123.5 717,-117.5 723,-111.5 729,-111.5 729,-111.5 818,-111.5 818,-111.5 824,-111.5 830,-117.5 830,-123.5 830,-123.5 830,-167.5 830,-167.5 830,-173.5 824,-179.5 818,-179.5\"/>\n<text text-anchor=\"start\" x=\"745.5\" y=\"-164.3\" font-family=\"Helvetica,sans-Serif\" font-size=\"14.00\">gini = 0.0</text>\n<text text-anchor=\"start\" x=\"736\" y=\"-149.3\" font-family=\"Helvetica,sans-Serif\" font-size=\"14.00\">samples = 2</text>\n<text text-anchor=\"start\" x=\"726.5\" y=\"-134.3\" font-family=\"Helvetica,sans-Serif\" font-size=\"14.00\">value = [0, 0, 2]</text>\n<text text-anchor=\"start\" x=\"725\" y=\"-119.3\" font-family=\"Helvetica,sans-Serif\" font-size=\"14.00\">class = virginica</text>\n</g>\n<!-- 13&#45;&gt;15 -->\n<g id=\"edge15\" class=\"edge\">\n<title>13&#45;&gt;15</title>\n<path fill=\"none\" stroke=\"black\" d=\"M685.34,-222.91C698.96,-211.1 713.83,-198.22 727.4,-186.45\"/>\n<polygon fill=\"black\" stroke=\"black\" points=\"729.97,-188.86 735.23,-179.67 725.38,-183.57 729.97,-188.86\"/>\n</g>\n</g>\n</svg>\n",
            "text/plain": [
              "<graphviz.sources.Source at 0x7b4b27c71b10>"
            ]
          },
          "metadata": {},
          "execution_count": 13
        }
      ]
    },
    {
      "cell_type": "markdown",
      "source": [
        "**Q21. Write a Python program to train a Decision Tree Classifier with a maximum depth of 3 and compare its**\n",
        "**accuracy with a fully grown tree.**"
      ],
      "metadata": {
        "id": "4xOHq4HDuvsS"
      }
    },
    {
      "cell_type": "code",
      "source": [
        "from sklearn.datasets import load_iris\n",
        "from sklearn.model_selection import train_test_split\n",
        "from sklearn.tree import DecisionTreeClassifier\n",
        "from sklearn.metrics import accuracy_score\n",
        "\n",
        "# Step 1: Load the Iris dataset\n",
        "iris = load_iris()\n",
        "X = iris.data\n",
        "y = iris.target\n",
        "\n",
        "# Step 2: Split the dataset into training and testing sets\n",
        "X_train, X_test, y_train, y_test = train_test_split(\n",
        "    X, y, test_size=0.2, random_state=42\n",
        ")\n",
        "\n",
        "# Step 3: Train Decision Tree with max depth of 3 (pruned)\n",
        "pruned_tree = DecisionTreeClassifier(max_depth=3, random_state=42)\n",
        "pruned_tree.fit(X_train, y_train)\n",
        "y_pred_pruned = pruned_tree.predict(X_test)\n",
        "accuracy_pruned = accuracy_score(y_test, y_pred_pruned)\n",
        "\n",
        "# Step 4: Train fully grown Decision Tree\n",
        "full_tree = DecisionTreeClassifier(random_state=42)\n",
        "full_tree.fit(X_train, y_train)\n",
        "y_pred_full = full_tree.predict(X_test)\n",
        "accuracy_full = accuracy_score(y_test, y_pred_full)\n",
        "\n",
        "# Step 5: Print the comparison\n",
        "print(f\"Pruned Tree Accuracy (max_depth=3): {accuracy_pruned:.2f}\")\n",
        "print(f\"Full Tree Accuracy (no max depth): {accuracy_full:.2f}\")"
      ],
      "metadata": {
        "colab": {
          "base_uri": "https://localhost:8080/"
        },
        "id": "iH_qsulIzS1b",
        "outputId": "873429b6-26ce-467a-efdf-316e326f5122"
      },
      "execution_count": 14,
      "outputs": [
        {
          "output_type": "stream",
          "name": "stdout",
          "text": [
            "Pruned Tree Accuracy (max_depth=3): 1.00\n",
            "Full Tree Accuracy (no max depth): 1.00\n"
          ]
        }
      ]
    },
    {
      "cell_type": "markdown",
      "source": [
        "**Q22. Write a Python program to train a Decision Tree Classifier using min_samples_split=5 and compare its**\n",
        "**accuracy with a default tree.**"
      ],
      "metadata": {
        "id": "3Ql_Cww1u0jn"
      }
    },
    {
      "cell_type": "code",
      "source": [
        "from sklearn.datasets import load_iris\n",
        "from sklearn.model_selection import train_test_split\n",
        "from sklearn.tree import DecisionTreeClassifier\n",
        "from sklearn.metrics import accuracy_score\n",
        "\n",
        "# Step 1: Load the Iris dataset\n",
        "iris = load_iris()\n",
        "X = iris.data\n",
        "y = iris.target\n",
        "\n",
        "# Step 2: Split the dataset into training and testing sets\n",
        "X_train, X_test, y_train, y_test = train_test_split(\n",
        "    X, y, test_size=0.2, random_state=42\n",
        ")\n",
        "\n",
        "# Step 3: Train Decision Tree with min_samples_split=5\n",
        "tree_split_5 = DecisionTreeClassifier(min_samples_split=5, random_state=42)\n",
        "tree_split_5.fit(X_train, y_train)\n",
        "y_pred_split_5 = tree_split_5.predict(X_test)\n",
        "accuracy_split_5 = accuracy_score(y_test, y_pred_split_5)\n",
        "\n",
        "# Step 4: Train default Decision Tree\n",
        "default_tree = DecisionTreeClassifier(random_state=42)\n",
        "default_tree.fit(X_train, y_train)\n",
        "y_pred_default = default_tree.predict(X_test)\n",
        "accuracy_default = accuracy_score(y_test, y_pred_default)\n",
        "\n",
        "# Step 5: Print the comparison\n",
        "print(f\"Tree with min_samples_split=5 Accuracy: {accuracy_split_5:.2f}\")\n",
        "print(f\"Default Tree Accuracy: {accuracy_default:.2f}\")"
      ],
      "metadata": {
        "colab": {
          "base_uri": "https://localhost:8080/"
        },
        "id": "RB29vSAHzi88",
        "outputId": "65cfada9-228d-45e3-e5ee-c7dc1f35ce26"
      },
      "execution_count": 15,
      "outputs": [
        {
          "output_type": "stream",
          "name": "stdout",
          "text": [
            "Tree with min_samples_split=5 Accuracy: 1.00\n",
            "Default Tree Accuracy: 1.00\n"
          ]
        }
      ]
    },
    {
      "cell_type": "markdown",
      "source": [
        "**Q23. Write a Python program to apply feature scaling before training a Decision Tree Classifier and compare its**\n",
        "**accuracy with unscaled data.**"
      ],
      "metadata": {
        "id": "5o3XSmHbu66C"
      }
    },
    {
      "cell_type": "code",
      "source": [
        "from sklearn.datasets import load_iris\n",
        "from sklearn.model_selection import train_test_split\n",
        "from sklearn.tree import DecisionTreeClassifier\n",
        "from sklearn.preprocessing import StandardScaler\n",
        "from sklearn.metrics import accuracy_score\n",
        "\n",
        "# Step 1: Load the dataset\n",
        "iris = load_iris()\n",
        "X = iris.data\n",
        "y = iris.target\n",
        "\n",
        "# Step 2: Train-test split\n",
        "X_train, X_test, y_train, y_test = train_test_split(\n",
        "    X, y, test_size=0.2, random_state=42\n",
        ")\n",
        "\n",
        "# Step 3: Train a Decision Tree WITHOUT scaling\n",
        "clf_unscaled = DecisionTreeClassifier(random_state=42)\n",
        "clf_unscaled.fit(X_train, y_train)\n",
        "y_pred_unscaled = clf_unscaled.predict(X_test)\n",
        "accuracy_unscaled = accuracy_score(y_test, y_pred_unscaled)\n",
        "\n",
        "# Step 4: Apply feature scaling\n",
        "scaler = StandardScaler()\n",
        "X_train_scaled = scaler.fit_transform(X_train)\n",
        "X_test_scaled = scaler.transform(X_test)\n",
        "\n",
        "# Step 5: Train a Decision Tree WITH scaled data\n",
        "clf_scaled = DecisionTreeClassifier(random_state=42)\n",
        "clf_scaled.fit(X_train_scaled, y_train)\n",
        "y_pred_scaled = clf_scaled.predict(X_test_scaled)\n",
        "accuracy_scaled = accuracy_score(y_test, y_pred_scaled)\n",
        "\n",
        "# Step 6: Compare results\n",
        "print(f\"Accuracy WITHOUT Scaling: {accuracy_unscaled:.2f}\")\n",
        "print(f\"Accuracy WITH Scaling   : {accuracy_scaled:.2f}\")"
      ],
      "metadata": {
        "colab": {
          "base_uri": "https://localhost:8080/"
        },
        "id": "l5sjn5BSzwym",
        "outputId": "92aa6699-cf5c-43c1-a278-e1b4d5e55db6"
      },
      "execution_count": 16,
      "outputs": [
        {
          "output_type": "stream",
          "name": "stdout",
          "text": [
            "Accuracy WITHOUT Scaling: 1.00\n",
            "Accuracy WITH Scaling   : 1.00\n"
          ]
        }
      ]
    },
    {
      "cell_type": "markdown",
      "source": [
        "**Q24.Write a Python program to train a Decision Tree Classifier using One-vs-Rest (OvR) strategy for multiclass**\n",
        "**classification.**"
      ],
      "metadata": {
        "id": "mI2-evzqu_5S"
      }
    },
    {
      "cell_type": "code",
      "source": [
        "from sklearn.datasets import load_iris\n",
        "from sklearn.model_selection import train_test_split\n",
        "from sklearn.tree import DecisionTreeClassifier\n",
        "from sklearn.multiclass import OneVsRestClassifier\n",
        "from sklearn.metrics import accuracy_score\n",
        "\n",
        "# Step 1: Load the Iris dataset\n",
        "iris = load_iris()\n",
        "X = iris.data\n",
        "y = iris.target\n",
        "\n",
        "# Step 2: Split the data\n",
        "X_train, X_test, y_train, y_test = train_test_split(\n",
        "    X, y, test_size=0.2, random_state=42\n",
        ")\n",
        "\n",
        "# Step 3: Wrap DecisionTreeClassifier with One-vs-Rest strategy\n",
        "ovr_classifier = OneVsRestClassifier(DecisionTreeClassifier(random_state=42))\n",
        "ovr_classifier.fit(X_train, y_train)\n",
        "\n",
        "# Step 4: Predict and evaluate\n",
        "y_pred = ovr_classifier.predict(X_test)\n",
        "accuracy = accuracy_score(y_test, y_pred)\n",
        "\n",
        "print(f\"Decision Tree Classifier with One-vs-Rest Accuracy: {accuracy:.2f}\")"
      ],
      "metadata": {
        "colab": {
          "base_uri": "https://localhost:8080/"
        },
        "id": "6PVQdSRQz7h9",
        "outputId": "18f63876-4300-41ae-a7de-54c2cd2ab5ff"
      },
      "execution_count": 17,
      "outputs": [
        {
          "output_type": "stream",
          "name": "stdout",
          "text": [
            "Decision Tree Classifier with One-vs-Rest Accuracy: 1.00\n"
          ]
        }
      ]
    },
    {
      "cell_type": "markdown",
      "source": [
        "**Q25. Write a Python program to train a Decision Tree Classifier and display the feature importance scores.**"
      ],
      "metadata": {
        "id": "v8dyU_qevEb-"
      }
    },
    {
      "cell_type": "code",
      "source": [
        "from sklearn.datasets import load_iris\n",
        "from sklearn.tree import DecisionTreeClassifier\n",
        "from sklearn.model_selection import train_test_split\n",
        "import pandas as pd\n",
        "\n",
        "# Step 1: Load the Iris dataset\n",
        "iris = load_iris()\n",
        "X = iris.data\n",
        "y = iris.target\n",
        "feature_names = iris.feature_names\n",
        "\n",
        "# Step 2: Split into training and test sets\n",
        "X_train, X_test, y_train, y_test = train_test_split(\n",
        "    X, y, test_size=0.2, random_state=42\n",
        ")\n",
        "\n",
        "# Step 3: Train the Decision Tree Classifier\n",
        "clf = DecisionTreeClassifier(random_state=42)\n",
        "clf.fit(X_train, y_train)\n",
        "\n",
        "# Step 4: Get feature importance scores\n",
        "importances = clf.feature_importances_\n",
        "\n",
        "# Step 5: Display feature importances\n",
        "importance_df = pd.DataFrame({\n",
        "    \"Feature\": feature_names,\n",
        "    \"Importance Score\": importances\n",
        "}).sort_values(by=\"Importance Score\", ascending=False)\n",
        "\n",
        "print(\"Feature Importance Scores:\")\n",
        "print(importance_df)"
      ],
      "metadata": {
        "colab": {
          "base_uri": "https://localhost:8080/"
        },
        "id": "kP3PvprJ0O64",
        "outputId": "f5df68f0-c464-4099-c607-f6075f509bed"
      },
      "execution_count": 18,
      "outputs": [
        {
          "output_type": "stream",
          "name": "stdout",
          "text": [
            "Feature Importance Scores:\n",
            "             Feature  Importance Score\n",
            "2  petal length (cm)          0.906143\n",
            "3   petal width (cm)          0.077186\n",
            "1   sepal width (cm)          0.016670\n",
            "0  sepal length (cm)          0.000000\n"
          ]
        }
      ]
    },
    {
      "cell_type": "markdown",
      "source": [
        "**Q26.Write a Python program to train a Decision Tree Regressor with max_depth=5 and compare its performance**\n",
        "**with an unrestricted tree.**"
      ],
      "metadata": {
        "id": "KLKJvgalvI-V"
      }
    },
    {
      "cell_type": "code",
      "source": [
        "from sklearn.datasets import fetch_california_housing\n",
        "from sklearn.model_selection import train_test_split\n",
        "from sklearn.tree import DecisionTreeRegressor\n",
        "from sklearn.metrics import mean_squared_error\n",
        "\n",
        "# Step 1: Load the California Housing dataset\n",
        "data = fetch_california_housing()\n",
        "X = data.data\n",
        "y = data.target\n",
        "\n",
        "# Step 2: Split the dataset\n",
        "X_train, X_test, y_train, y_test = train_test_split(\n",
        "    X, y, test_size=0.2, random_state=42\n",
        ")\n",
        "\n",
        "# Step 3: Train Decision Tree Regressor with max_depth=5\n",
        "regressor_pruned = DecisionTreeRegressor(max_depth=5, random_state=42)\n",
        "regressor_pruned.fit(X_train, y_train)\n",
        "y_pred_pruned = regressor_pruned.predict(X_test)\n",
        "mse_pruned = mean_squared_error(y_test, y_pred_pruned)\n",
        "\n",
        "# Step 4: Train unrestricted Decision Tree Regressor\n",
        "regressor_full = DecisionTreeRegressor(random_state=42)\n",
        "regressor_full.fit(X_train, y_train)\n",
        "y_pred_full = regressor_full.predict(X_test)\n",
        "mse_full = mean_squared_error(y_test, y_pred_full)\n",
        "\n",
        "# Step 5: Display the results\n",
        "print(f\"Decision Tree Regressor with max_depth=5 MSE: {mse_pruned:.4f}\")\n",
        "print(f\"Unrestricted Decision Tree Regressor MSE  : {mse_full:.4f}\")"
      ],
      "metadata": {
        "colab": {
          "base_uri": "https://localhost:8080/"
        },
        "id": "qllHqTS20YhT",
        "outputId": "bc38bd12-d4f2-4c67-a7c8-37374d659fd3"
      },
      "execution_count": 19,
      "outputs": [
        {
          "output_type": "stream",
          "name": "stdout",
          "text": [
            "Decision Tree Regressor with max_depth=5 MSE: 0.5245\n",
            "Unrestricted Decision Tree Regressor MSE  : 0.4952\n"
          ]
        }
      ]
    },
    {
      "cell_type": "markdown",
      "source": [
        "**Q27. Write a Python program to train a Decision Tree Classifier, apply Cost Complexity Pruning (CCP), and**\n",
        "**visualize its effect on accuracy.**"
      ],
      "metadata": {
        "id": "pDbzRXO3vON6"
      }
    },
    {
      "cell_type": "code",
      "source": [
        "import numpy as np\n",
        "import matplotlib.pyplot as plt\n",
        "from sklearn.datasets import load_iris\n",
        "from sklearn.model_selection import train_test_split\n",
        "from sklearn.tree import DecisionTreeClassifier\n",
        "from sklearn.metrics import accuracy_score\n",
        "\n",
        "# Step 1: Load dataset\n",
        "iris = load_iris()\n",
        "X = iris.data\n",
        "y = iris.target\n",
        "\n",
        "# Step 2: Split into training and test sets\n",
        "X_train, X_test, y_train, y_test = train_test_split(\n",
        "    X, y, test_size=0.2, random_state=42\n",
        ")\n",
        "\n",
        "# Step 3: Train initial tree to obtain effective alphas\n",
        "clf = DecisionTreeClassifier(random_state=0)\n",
        "path = clf.cost_complexity_pruning_path(X_train, y_train)\n",
        "ccp_alphas = path.ccp_alphas\n",
        "\n",
        "# Step 4: Train trees for each ccp_alpha\n",
        "clfs = []\n",
        "for ccp_alpha in ccp_alphas:\n",
        "    clf = DecisionTreeClassifier(random_state=0, ccp_alpha=ccp_alpha)\n",
        "    clf.fit(X_train, y_train)\n",
        "    clfs.append(clf)\n",
        "\n",
        "# Step 5: Remove last tree if it's trivial\n",
        "clfs = clfs[:-1]\n",
        "ccp_alphas = ccp_alphas[:-1]\n",
        "\n",
        "# Step 6: Compute train and test accuracy\n",
        "train_accuracies = [accuracy_score(y_train, clf.predict(X_train)) for clf in clfs]\n",
        "test_accuracies = [accuracy_score(y_test, clf.predict(X_test)) for clf in clfs]\n",
        "\n",
        "# Step 7: Plot accuracy vs. ccp_alpha\n",
        "plt.figure(figsize=(10, 6))\n",
        "plt.plot(ccp_alphas, train_accuracies, marker='o', label=\"Train Accuracy\", drawstyle=\"steps-post\")\n",
        "plt.plot(ccp_alphas, test_accuracies, marker='o', label=\"Test Accuracy\", drawstyle=\"steps-post\")\n",
        "plt.xlabel(\"ccp_alpha (complexity)\")\n",
        "plt.ylabel(\"Accuracy\")\n",
        "plt.title(\"Effect of Cost Complexity Pruning on Accuracy\")\n",
        "plt.legend()\n",
        "plt.grid(True)\n",
        "plt.show()"
      ],
      "metadata": {
        "colab": {
          "base_uri": "https://localhost:8080/",
          "height": 564
        },
        "id": "fmYszBt40hbv",
        "outputId": "08c36e45-578f-4b8d-f690-ad2a30ffa1b8"
      },
      "execution_count": 20,
      "outputs": [
        {
          "output_type": "display_data",
          "data": {
            "text/plain": [
              "<Figure size 1000x600 with 1 Axes>"
            ],
            "image/png": "[encoded data removed]"
          },
          "metadata": {}
        }
      ]
    },
    {
      "cell_type": "markdown",
      "source": [
        "**Q28. Write a Python program to train a Decision Tree Classifier and evaluate its performance using Precision,**\n",
        "**Recall, and F1-Score.**"
      ],
      "metadata": {
        "id": "SmPRinFOvS0r"
      }
    },
    {
      "cell_type": "code",
      "source": [
        "from sklearn.datasets import load_iris\n",
        "from sklearn.tree import DecisionTreeClassifier\n",
        "from sklearn.model_selection import train_test_split\n",
        "from sklearn.metrics import classification_report\n",
        "\n",
        "# Step 1: Load the dataset\n",
        "iris = load_iris()\n",
        "X = iris.data\n",
        "y = iris.target\n",
        "\n",
        "# Step 2: Train-test split\n",
        "X_train, X_test, y_train, y_test = train_test_split(\n",
        "    X, y, test_size=0.2, random_state=42\n",
        ")\n",
        "\n",
        "# Step 3: Train the Decision Tree Classifier\n",
        "clf = DecisionTreeClassifier(random_state=42)\n",
        "clf.fit(X_train, y_train)\n",
        "\n",
        "# Step 4: Predict on test data\n",
        "y_pred = clf.predict(X_test)\n",
        "\n",
        "# Step 5: Evaluate using classification report\n",
        "report = classification_report(y_test, y_pred, target_names=iris.target_names)\n",
        "print(\"Classification Report:\\n\")\n",
        "print(report)"
      ],
      "metadata": {
        "colab": {
          "base_uri": "https://localhost:8080/"
        },
        "id": "8ETFoYBA0pP-",
        "outputId": "51624d2c-2265-442d-ed64-18ed8bea205b"
      },
      "execution_count": 21,
      "outputs": [
        {
          "output_type": "stream",
          "name": "stdout",
          "text": [
            "Classification Report:\n",
            "\n",
            "              precision    recall  f1-score   support\n",
            "\n",
            "      setosa       1.00      1.00      1.00        10\n",
            "  versicolor       1.00      1.00      1.00         9\n",
            "   virginica       1.00      1.00      1.00        11\n",
            "\n",
            "    accuracy                           1.00        30\n",
            "   macro avg       1.00      1.00      1.00        30\n",
            "weighted avg       1.00      1.00      1.00        30\n",
            "\n"
          ]
        }
      ]
    },
    {
      "cell_type": "markdown",
      "source": [
        "**Q29.Write a Python program to train a Decision Tree Classifier and visualize the confusion matrix using seaborn.**"
      ],
      "metadata": {
        "id": "9W62ZJjtvYgE"
      }
    },
    {
      "cell_type": "code",
      "source": [
        "import seaborn as sns\n",
        "import matplotlib.pyplot as plt\n",
        "from sklearn.datasets import load_iris\n",
        "from sklearn.model_selection import train_test_split\n",
        "from sklearn.tree import DecisionTreeClassifier\n",
        "from sklearn.metrics import confusion_matrix, ConfusionMatrixDisplay\n",
        "\n",
        "# Step 1: Load dataset\n",
        "iris = load_iris()\n",
        "X = iris.data\n",
        "y = iris.target\n",
        "class_names = iris.target_names\n",
        "\n",
        "# Step 2: Train-test split\n",
        "X_train, X_test, y_train, y_test = train_test_split(\n",
        "    X, y, test_size=0.2, random_state=42\n",
        ")\n",
        "\n",
        "# Step 3: Train Decision Tree\n",
        "clf = DecisionTreeClassifier(random_state=42)\n",
        "clf.fit(X_train, y_train)\n",
        "\n",
        "# Step 4: Predict\n",
        "y_pred = clf.predict(X_test)\n",
        "\n",
        "# Step 5: Compute confusion matrix\n",
        "cm = confusion_matrix(y_test, y_pred)\n",
        "\n",
        "# Step 6: Visualize using Seaborn heatmap\n",
        "plt.figure(figsize=(6, 5))\n",
        "sns.heatmap(cm, annot=True, fmt=\"d\", cmap=\"Blues\",\n",
        "            xticklabels=class_names, yticklabels=class_names)\n",
        "plt.xlabel(\"Predicted\")\n",
        "plt.ylabel(\"Actual\")\n",
        "plt.title(\"Confusion Matrix\")\n",
        "plt.tight_layout()\n",
        "plt.show()"
      ],
      "metadata": {
        "colab": {
          "base_uri": "https://localhost:8080/",
          "height": 507
        },
        "id": "ByGPlgBp0_VJ",
        "outputId": "4ace690e-ac96-4900-8164-96ff6c384afa"
      },
      "execution_count": 22,
      "outputs": [
        {
          "output_type": "display_data",
          "data": {
            "text/plain": [
              "<Figure size 600x500 with 2 Axes>"
            ],
            "image/png": "[encoded data removed]"
          },
          "metadata": {}
        }
      ]
    },
    {
      "cell_type": "markdown",
      "source": [
        "**Q30. Write a Python program to train a Decision Tree Classifier and use GridSearchCV to find the optimal values**\n",
        "**for max_depth and min_samples_split.**"
      ],
      "metadata": {
        "id": "10ZfGtFMvfyh"
      }
    },
    {
      "cell_type": "code",
      "source": [
        "from sklearn.datasets import load_iris\n",
        "from sklearn.tree import DecisionTreeClassifier\n",
        "from sklearn.model_selection import train_test_split, GridSearchCV\n",
        "from sklearn.metrics import accuracy_score\n",
        "\n",
        "# Step 1: Load the dataset\n",
        "iris = load_iris()\n",
        "X = iris.data\n",
        "y = iris.target\n",
        "\n",
        "# Step 2: Split into train and test sets\n",
        "X_train, X_test, y_train, y_test = train_test_split(\n",
        "    X, y, test_size=0.2, random_state=42\n",
        ")\n",
        "\n",
        "# Step 3: Set up the parameter grid\n",
        "param_grid = {\n",
        "    'max_depth': [2, 3, 4, 5, None],\n",
        "    'min_samples_split': [2, 5, 10]\n",
        "}\n",
        "\n",
        "# Step 4: Initialize the Decision Tree and GridSearchCV\n",
        "clf = DecisionTreeClassifier(random_state=42)\n",
        "grid_search = GridSearchCV(clf, param_grid, cv=5, scoring='accuracy')\n",
        "\n",
        "# Step 5: Fit the model\n",
        "grid_search.fit(X_train, y_train)\n",
        "\n",
        "# Step 6: Predict and evaluate\n",
        "best_model = grid_search.best_estimator_\n",
        "y_pred = best_model.predict(X_test)\n",
        "accuracy = accuracy_score(y_test, y_pred)\n",
        "\n",
        "# Step 7: Display results\n",
        "print(\"Best Parameters:\", grid_search.best_params_)\n",
        "print(f\"Test Set Accuracy: {accuracy:.2f}\")"
      ],
      "metadata": {
        "colab": {
          "base_uri": "https://localhost:8080/"
        },
        "id": "_VK_o_GM1H2O",
        "outputId": "7f58c3f9-a4a0-4172-fa16-ca4a701b4913"
      },
      "execution_count": 23,
      "outputs": [
        {
          "output_type": "stream",
          "name": "stdout",
          "text": [
            "Best Parameters: {'max_depth': 4, 'min_samples_split': 2}\n",
            "Test Set Accuracy: 1.00\n"
          ]
        }
      ]
    }
  ]
}