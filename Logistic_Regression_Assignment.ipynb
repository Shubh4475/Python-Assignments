{
  "nbformat": 4,
  "nbformat_minor": 0,
  "metadata": {
    "colab": {
      "provenance": []
    },
    "kernelspec": {
      "name": "python3",
      "display_name": "Python 3"
    },
    "language_info": {
      "name": "python"
    }
  },
  "cells": [
    {
      "cell_type": "markdown",
      "source": [
        "### **THEORETICAL QUESTIONS:**"
      ],
      "metadata": {
        "id": "NCGokY6_tZ3A"
      }
    },
    {
      "cell_type": "markdown",
      "source": [
        "**Q1. What is Logistic Regression, and how does it differ from Linear Regression.**"
      ],
      "metadata": {
        "id": "COhvE1kRtvYm"
      }
    },
    {
      "cell_type": "markdown",
      "source": [
        "**Ans:**  \n",
        "### **Logistic Regression**\n",
        "Logistic Regression is a statistical technique used for **binary classification** problems—where the outcome is either 0 or 1, Yes or No, Spam or Not Spam, etc. Unlike Linear Regression, which predicts continuous values, Logistic Regression predicts the **probability** that a given input belongs to a particular category.\n",
        "\n",
        "Mathematically, it uses the **sigmoid function** to map predictions into a probability range (0 to 1):\n",
        "$$\\[\n",
        "\\sigma(z) = \\frac{1}{1 + e^{-z}}\n",
        "]$$\n",
        "where \\( z \\) is a linear combination of input features.\n",
        "\n",
        "### **Linear Regression vs. Logistic Regression**\n",
        "| Feature | Linear Regression | Logistic Regression |\n",
        "|---------|-----------------|---------------------|\n",
        "| **Output Type** | Continuous values (e.g., house prices) | Probabilities for classification (e.g., spam detection) |\n",
        "| **Function Used** | Straight-line equation: \\( Y = mX + b \\) | Sigmoid function for probability mapping |\n",
        "| **Goal** | Predict exact numeric values | Classify data into discrete categories |\n",
        "| **Use Cases** | Stock price prediction, weather forecasting | Fraud detection, sentiment analysis |\n",
        "\n",
        "### **Example**\n",
        "- **Linear Regression**: Predicting a house price based on square footage.\n",
        "- **Logistic Regression**: Predicting whether an email is spam or not.\n",
        "\n"
      ],
      "metadata": {
        "id": "0HEbLDzRt1ip"
      }
    },
    {
      "cell_type": "markdown",
      "source": [
        "**Q2. What is the mathematical equation of Logistic Regression?**"
      ],
      "metadata": {
        "id": "l2ssjCHmvz1B"
      }
    },
    {
      "cell_type": "markdown",
      "source": [
        "**Ans:** The mathematical equation for **Logistic Regression** is based on the **sigmoid function**, which maps any real-valued number into a probability range (0 to 1). Here's how it works:\n",
        "\n",
        "### **Equation for Logistic Regression**\n",
        "$$[\n",
        "\\sigma(z) = \\frac{1}{1 + e^{-z}}\n",
        "]$$\n",
        "where:\n",
        "- \\( sigma(z) \\) is the predicted probability (between 0 and 1),\n",
        "- \\( z \\) is the linear combination of input features,\n",
        "- \\( e \\) is Euler's number (≈ 2.718).\n",
        "\n",
        "Now, if we express \\( z \\) as a linear combination of features:\n",
        "\n",
        "$$[\n",
        "z = w_0 + w_1 x_1 + w_2 x_2 + \\dots + w_n x_n\n",
        "]$$\n",
        "\n",
        "Then the final **logistic regression model** becomes:\n",
        "\n",
        "$$[\n",
        "p = \\frac{1}{1 + e^{-(w_0 + w_1x_1 + w_2x_2 + \\dots + w_nx_n)}}\n",
        "]$$\n",
        "\n",
        "where:\n",
        "- \\( w_0 \\) is the bias (intercept),\n",
        "- \\( w_1, w_2, \\dots, w_n \\) are the model's learned weights,\n",
        "- \\( x_1, x_2, \\dots, x_n \\) are the input features.\n",
        "\n",
        "This equation helps predict the **probability of belonging to class 1** (e.g., \"Spam\" in an email classifier). If \\( p \\) is greater than a threshold (usually 0.5), the model predicts **class 1**, otherwise, it predicts **class 0**.\n",
        "\n"
      ],
      "metadata": {
        "id": "a2c9ALSdv5ze"
      }
    },
    {
      "cell_type": "markdown",
      "source": [
        "**Q3.Why do we use the Sigmoid function in Logistic Regression?**"
      ],
      "metadata": {
        "id": "_6ZfhMGxxGA4"
      }
    },
    {
      "cell_type": "markdown",
      "source": [
        "**Ans:** The **sigmoid function** plays a crucial role in **Logistic Regression**, primarily because it helps convert linear outputs into probabilities. Here’s why it's used:\n",
        "\n",
        "### **1. Converts Values into Probability Range (0 to 1)**\n",
        "- Logistic Regression needs to classify data into categories (e.g., spam or not spam).\n",
        "- A linear equation produces outputs that can range from negative to positive infinity.\n",
        "- The **sigmoid function** ensures that every output is transformed into a probability **between 0 and 1**, making it useful for classification.\n",
        "\n",
        "### **2. Decision Boundary for Classification**\n",
        "- The sigmoid function outputs values **close to 1 or 0** based on the input.\n",
        "- A common threshold (like **0.5**) is used to classify a sample into either **class 1 (positive)** or **class 0 (negative)**.\n",
        "  \n",
        "### **3. Continuous and Differentiable (Useful for Optimization)**\n",
        "- Since the sigmoid function is **smooth and differentiable**, it helps in gradient-based optimization methods like **Gradient Descent**.\n",
        "- The gradient of the sigmoid function allows the model to **adjust weights efficiently** and improve prediction accuracy.\n",
        "\n",
        "### **Mathematical Representation**\n",
        "$$[\n",
        "\\sigma(z) = \\frac{1}{1 + e^{-z}}\n",
        "]$$\n",
        "where:\n",
        "- \\( z \\) is a linear combination of inputs and weights.\n",
        "- \\( \\sigma(z) \\) gives the probability of belonging to class 1.\n",
        "\n",
        "### **Visualization**\n",
        "If you plot the sigmoid function, it creates an **S-shaped curve**, meaning:\n",
        "- **Inputs far greater than 0** approach **1** (high probability for class 1).\n",
        "- **Inputs far less than 0** approach **0** (high probability for class 0).\n",
        "- **Inputs around 0** hover near **0.5**, where classification is uncertain.\n",
        "\n"
      ],
      "metadata": {
        "id": "gIWmCc_JxM9_"
      }
    },
    {
      "cell_type": "markdown",
      "source": [
        "**Q4. What is the cost function of Logistic Regression?**"
      ],
      "metadata": {
        "id": "H3tPc6NHxtq-"
      }
    },
    {
      "cell_type": "markdown",
      "source": [
        "**Ans:** The **cost function** in **Logistic Regression** is used to measure how well the model’s predictions match the actual labels. Unlike Linear Regression, which uses Mean Squared Error (MSE), Logistic Regression uses the **Log Loss (Cross-Entropy Loss)** as its cost function.\n",
        "\n",
        "### **Mathematical Formula**\n",
        "The **logistic regression cost function** is derived from the **likelihood function** for a Bernoulli distribution. It is given by:\n",
        "\n",
        "$$[\n",
        "J(\\theta) = - \\frac{1}{m} \\sum_{i=1}^{m} \\left[ y_i \\log(h_\\theta(x_i)) + (1 - y_i) \\log(1 - h_\\theta(x_i)) \\right]\n",
        "]$$\n",
        "\n",
        "where:\n",
        "- \\( J(θ) \\) is the cost function.\n",
        "- \\( m \\) is the number of training examples.\n",
        "- $( y_i$) is the actual class label (either 0 or 1).\n",
        "- $( h_\\theta(x_i) $\\) is the predicted probability from the **sigmoid function**.\n",
        "- $log(h_\\theta(x_i)) $ ensures penalties when predicting incorrect probabilities.\n",
        "\n",
        "### **Why Logarithmic Loss?**\n",
        "- **If \\( y = 1 \\) and $h_\\theta(x) $ is close to 1**, the loss is **small** (good prediction).\n",
        "- **If \\( y = 1 \\) but $h_\\theta(x)$ is close to 0**, the loss is **large** (bad prediction).\n",
        "- **Logarithmically penalizes confident wrong predictions**, making the model more cautious.\n",
        "\n",
        "### **Gradient Descent Optimization**\n",
        "To minimize the cost function, **Gradient Descent** iteratively adjusts the weights \\( \\theta \\) based on the partial derivatives of $ J(\\theta)$. This helps the model improve classification accuracy.\n"
      ],
      "metadata": {
        "id": "y4bLYZrJxyjn"
      }
    },
    {
      "cell_type": "markdown",
      "source": [
        "**Q5. What is Regularization in Logistic Regression? Why is it needed?**"
      ],
      "metadata": {
        "id": "zcW_vSrOzJNk"
      }
    },
    {
      "cell_type": "markdown",
      "source": [
        "**Ans:** Regularization in **Logistic Regression** is a technique used to **prevent overfitting** by penalizing excessively large coefficients in the model. When a model becomes too complex, it may perform well on training data but poorly on unseen data—this is where regularization helps.\n",
        "\n",
        "### **Why is Regularization Needed?**\n",
        "- **Overfitting Prevention:** When a model memorizes the training data instead of generalizing patterns, it leads to poor performance on new data.\n",
        "- **Feature Scaling Control:** Some features might dominate the model if they have large weights, leading to biased predictions.\n",
        "- **Stability in Predictions:** Regularization ensures smoother, more robust predictions by discouraging extreme coefficient values.\n",
        "\n",
        "### **Types of Regularization in Logistic Regression**\n",
        "#### **1. L1 Regularization (Lasso Regression)**\n",
        "- Adds a **penalty** equal to the sum of the absolute values of coefficients.\n",
        "- Encourages **sparse models** (some weights become exactly 0).\n",
        "- Formula:\n",
        "  $[\n",
        "  J(\\theta) = -\\frac{1}{m} \\sum \\left[ y \\log h_\\theta(x) + (1 - y) \\log (1 - h_\\theta(x) ) \\right] + \\lambda \\sum |w_i|\n",
        "  ]$\n",
        "- **Used for** feature selection because it eliminates irrelevant features.\n",
        "\n",
        "#### **2. L2 Regularization (Ridge Regression)**\n",
        "- Adds a **penalty** equal to the sum of squared coefficients.\n",
        "- Shrinks weights gradually instead of eliminating them.\n",
        "- Formula:\n",
        "  $[\n",
        "  J(\\theta) = -\\frac{1}{m} \\sum \\left[ y \\log h_\\theta(x) + (1 - y) \\log (1 - h_\\theta(x) ) \\right] + \\lambda \\sum w_i^2\n",
        "  ]$\n",
        "- **Used for** preventing overfitting while keeping all features.\n",
        "\n",
        "### **Which Regularization to Use?**\n",
        "- If you want **feature selection**, L1 Regularization is better.\n",
        "- If you want **to avoid overfitting without eliminating features**, L2 Regularization is ideal.\n",
        "- Some models use **Elastic Net**, a combination of L1 and L2.\n"
      ],
      "metadata": {
        "id": "MmldSomQzVx6"
      }
    },
    {
      "cell_type": "markdown",
      "source": [
        "**Q6. Explain the difference between Lasso, Ridge, and Elastic Net regression.**"
      ],
      "metadata": {
        "id": "RBuIIPOGzmCO"
      }
    },
    {
      "cell_type": "markdown",
      "source": [
        "**Ans:** These three regression techniques—**Lasso, Ridge, and Elastic Net**—are used to **prevent overfitting** and improve model generalization by applying regularization. Here’s how they differ:\n",
        "\n",
        "### **1. Lasso Regression (L1 Regularization)**\n",
        "- **Penalty:** Adds the **absolute values** of the coefficients.\n",
        "- **Effect:** Shrinks some coefficients to exactly **zero**, effectively removing irrelevant features.\n",
        "- **Best For:** **Feature selection**—helps identify the most important features.\n",
        "- **Formula:**\n",
        "  $[\n",
        "  J(\\theta) = \\text{Loss} + \\lambda \\sum |w_i|\n",
        "  ]$\n",
        "- **Key Point:** If you want **sparse models** with fewer features, use **Lasso**!\n",
        "\n",
        "### **2. Ridge Regression (L2 Regularization)**\n",
        "- **Penalty:** Adds the **squared values** of the coefficients.\n",
        "- **Effect:** Shrinks all coefficients **but does not set any to zero**.\n",
        "- **Best For:** When **all features are important**, but you want to reduce extreme coefficients.\n",
        "- **Formula:**\n",
        "  $[\n",
        "  J(\\theta) = \\text{Loss} + \\lambda \\sum w_i^2\n",
        "  ]$\n",
        "- **Key Point:** If you want to **keep all features but prevent overfitting**, use **Ridge**!\n",
        "\n",
        "### **3. Elastic Net (Combination of L1 & L2)**\n",
        "- **Penalty:** Uses a mix of **both L1 and L2 regularization**.\n",
        "- **Effect:** **Selects important features (Lasso) while shrinking coefficients (Ridge)**.\n",
        "- **Best For:** When **features are correlated** (high multicollinearity).\n",
        "- **Formula:**\n",
        "  $[\n",
        "  J(\\theta) = \\text{Loss} + \\lambda_1 \\sum |w_i| + \\lambda_2 \\sum w_i^2\n",
        "  ]$\n",
        "- **Key Point:** If you need **feature selection AND coefficient shrinkage**, use **Elastic Net**!\n",
        "\n",
        "### **Comparison Table**\n",
        "| Method | Regularization Type | Effect on Coefficients | Feature Selection? |\n",
        "|--------|----------------------|----------------------|--------------------|\n",
        "| **Lasso** | L1 (Absolute values) | Some coefficients set to **zero** | ✅ Yes |\n",
        "| **Ridge** | L2 (Squared values) | Shrinks coefficients but **keeps all** | ❌ No |\n",
        "| **Elastic Net** | L1 + L2 | Shrinks and selects features | ✅ Yes (but not sparse like Lasso) |\n",
        "\n",
        "### **Which One Should You Use?**\n",
        "- **Lasso** → When you want feature selection.\n",
        "- **Ridge** → When all features are relevant but need regularization.\n",
        "- **Elastic Net** → When features are correlated or Lasso is too aggressive.\n"
      ],
      "metadata": {
        "id": "4UD8DYOszrnL"
      }
    },
    {
      "cell_type": "markdown",
      "source": [
        "**Q7.  When should we use Elastic Net instead of Lasso or Ridge?**"
      ],
      "metadata": {
        "id": "EO7cPBu90AEc"
      }
    },
    {
      "cell_type": "markdown",
      "source": [
        "**Ans:** Elastic Net is a great choice when **Lasso and Ridge individually have limitations** in handling certain data characteristics. Here’s when to use it:\n",
        "\n",
        "### **1. When Features Are Highly Correlated**\n",
        "- **Lasso (L1 regularization)** tends to randomly drop one correlated feature while keeping another, which can lead to unstable feature selection.\n",
        "- **Elastic Net combines L1 and L2** to **keep correlated features**, instead of discarding one arbitrarily.\n",
        "\n",
        "### **2. When Lasso is Too Aggressive in Shrinking Coefficients**\n",
        "- Lasso can push coefficients **exactly to zero**, which might **oversimplify** the model and remove too many important features.\n",
        "- Elastic Net **balances feature selection** while still keeping some variables slightly weighted.\n",
        "\n",
        "### **3. When Ridge Retains All Features Unnecessarily**\n",
        "- Ridge regularization only shrinks coefficients but **never eliminates features**, which might be unnecessary if some features are unimportant.\n",
        "- Elastic Net **ensures important features are kept** while reducing the influence of weak ones.\n",
        "\n",
        "### **Best Case for Elastic Net?**\n",
        "- When the dataset has **strong multicollinearity** (features are interrelated).\n",
        "- When you want **some level of feature selection**, but don’t want Lasso’s extreme behavior.\n",
        "- When Ridge is keeping too many irrelevant features.\n"
      ],
      "metadata": {
        "id": "td5ChAVb0Fwt"
      }
    },
    {
      "cell_type": "markdown",
      "source": [
        "**Q8.  What is the impact of the regularization parameter (λ) in Logistic Regression?**"
      ],
      "metadata": {
        "id": "FTBE2kjY0be8"
      }
    },
    {
      "cell_type": "markdown",
      "source": [
        "**Ans:** The regularization parameter **λ (lambda)** in Logistic Regression controls the **strength** of regularization. Its impact varies based on its value:\n",
        "\n",
        "### **1. Low λ (Minimal Regularization)**\n",
        "- When **λ is close to 0**, regularization is weak.\n",
        "- The model behaves like **standard Logistic Regression**, relying solely on fitting the data.\n",
        "- It may **overfit** by learning high-magnitude weights, capturing noise rather than general trends.\n",
        "\n",
        "### **2. High λ (Strong Regularization)**\n",
        "- Large **λ heavily penalizes** large coefficients.\n",
        "- Forces the model to learn **simpler, more generalized** patterns by shrinking weights.\n",
        "- Prevents overfitting but may lead to **underfitting**, where the model fails to capture relationships in the data.\n",
        "\n",
        "### **3. Impact on Lasso (L1) and Ridge (L2) Regularization**\n",
        "- **L1 (Lasso)**: With high **λ**, some coefficients shrink **to zero**, effectively removing features.\n",
        "- **L2 (Ridge)**: With high **λ**, coefficients shrink **but never reach zero**, keeping all features.\n",
        "\n",
        "### **Choosing the Right λ**\n",
        "- **Small λ** → If your model is underfitting, reduce regularization.\n",
        "- **Large λ** → If your model is overfitting, increase regularization.\n",
        "- **Cross-validation** helps find the optimal λ value for best performance.\n",
        "\n",
        "\n"
      ],
      "metadata": {
        "id": "u-y04zjt0fwL"
      }
    },
    {
      "cell_type": "markdown",
      "source": [
        "**Q9. What are the key assumptions of Logistic Regression?**"
      ],
      "metadata": {
        "id": "v9Nn3xXP0q3a"
      }
    },
    {
      "cell_type": "markdown",
      "source": [
        "**Ans:** Logistic Regression, like any machine learning algorithm, operates under certain **assumptions** to ensure its effectiveness. While it is more flexible than Linear Regression, it still has key assumptions:\n",
        "\n",
        "### **1. Independent Variables are Linearly Related to Log-Odds**\n",
        "- Logistic Regression assumes a **linear relationship** between the independent variables (**features**) and the **log of odds** of the dependent variable.\n",
        "- It doesn’t assume a direct linear relationship between features and the outcome but between features and the **logit function**.\n",
        "\n",
        "### **2. No Multicollinearity Among Independent Variables**\n",
        "- Highly correlated features can cause instability in coefficient estimates.\n",
        "- Regularization techniques like **Ridge (L2) or Elastic Net** can help mitigate this issue.\n",
        "\n",
        "### **3. Independence of Observations**\n",
        "- Each observation should be **independent**, meaning there should be no autocorrelation (e.g., repeated measures from the same individual).\n",
        "- If observations are dependent, techniques like **Generalized Estimating Equations (GEE)** or mixed models should be used.\n",
        "\n",
        "### **4. The Dependent Variable is Binary or Multiclass (Categorical)**\n",
        "- **Binary Logistic Regression** assumes the target variable is **strictly 0 or 1**.\n",
        "- For **multiclass classification**, **Softmax regression** (or multinomial logistic regression) is used.\n",
        "\n",
        "### **5. Large Sample Size**\n",
        "- Logistic Regression performs best with **a sufficient number of observations** to estimate probabilities accurately.\n",
        "- Small datasets may lead to unstable parameter estimates.\n",
        "\n",
        "### **6. No Extreme Outliers**\n",
        "- Outliers can distort probability estimates and decision boundaries.\n",
        "- Standardization techniques or robust models help minimize their effect.\n",
        "\n",
        "### **7. Appropriately Distributed Errors (Homoscedasticity is Not Required)**\n",
        "- Unlike Linear Regression, Logistic Regression does **not** assume **constant variance** in errors (homoscedasticity).\n",
        "- Instead, it assumes that errors are **randomly distributed**.\n",
        "\n"
      ],
      "metadata": {
        "id": "gDfsxpVD05-j"
      }
    },
    {
      "cell_type": "markdown",
      "source": [
        "**Q10. What are some alternatives to Logistic Regression for classification tasks?**"
      ],
      "metadata": {
        "id": "EV-Z97h50-aN"
      }
    },
    {
      "cell_type": "markdown",
      "source": [
        "**Ans:** There are several alternatives to **Logistic Regression** for classification tasks, each offering unique strengths depending on the dataset and problem complexity. Here are some commonly used alternatives:\n",
        "\n",
        "### **1. Decision Trees**\n",
        "- Based on splitting data using **if-else conditions**.\n",
        "- Can handle **non-linear relationships**.\n",
        "- Works well for **interpretability** but prone to **overfitting**.\n",
        "\n",
        "### **2. Random Forest**\n",
        "- An ensemble of multiple **Decision Trees**.\n",
        "- **Reduces overfitting** and improves accuracy.\n",
        "- Works well for **both classification and regression**.\n",
        "\n",
        "### **3. Support Vector Machines (SVM)**\n",
        "- Finds the **optimal hyperplane** that separates classes.\n",
        "- Effective for **high-dimensional** data.\n",
        "- Supports **non-linear classification** using kernels.\n",
        "\n",
        "### **4. K-Nearest Neighbors (KNN)**\n",
        "- Classifies based on the **majority vote** of nearest neighbors.\n",
        "- Simple, intuitive but **computationally expensive** with large datasets.\n",
        "\n",
        "### **5. Naïve Bayes**\n",
        "- Based on **Bayesian probability**.\n",
        "- Assumes **independence** between features.\n",
        "- Works well for **text classification (spam detection, sentiment analysis).**\n",
        "\n",
        "### **6. Gradient Boosting Models (GBM)**\n",
        "- Uses **boosted decision trees** for better accuracy.\n",
        "- Examples: **XGBoost, LightGBM, CatBoost**.\n",
        "- Strong performance in **structured data tasks**.\n",
        "\n",
        "### **7. Artificial Neural Networks (Deep Learning)**\n",
        "- Uses **multiple layers** to learn complex features.\n",
        "- Requires **large datasets** for effective learning.\n",
        "- Used in **image recognition, NLP**, and complex data patterns.\n",
        "\n",
        "### **Choosing the Right Alternative**\n",
        "- **If interpretability is important → Use Decision Trees or Naïve Bayes.**\n",
        "- **For large datasets with complex relationships → Try Gradient Boosting or Neural Networks.**\n",
        "- **If you need a simple but effective model → Use Random Forest or SVM.**\n",
        "\n"
      ],
      "metadata": {
        "id": "5sJgyTl41DQF"
      }
    },
    {
      "cell_type": "markdown",
      "source": [
        "**Q11. What are Classification Evaluation Metrics?**"
      ],
      "metadata": {
        "id": "NSi_yAJt1PVf"
      }
    },
    {
      "cell_type": "markdown",
      "source": [
        "**Ans:** Classification evaluation metrics help assess the performance of classification models, ensuring they make accurate predictions. Here are the key metrics used:\n",
        "\n",
        "### **1. Accuracy**\n",
        "- Measures the percentage of correctly predicted instances.\n",
        "- Formula:\n",
        "  $[\n",
        "  Accuracy = \\frac{TP + TN}{TP + TN + FP + FN}\n",
        "  ]$\n",
        "- **Limitation**: Can be misleading if the dataset is imbalanced.\n",
        "\n",
        "### **2. Precision**\n",
        "- Measures how many of the predicted **positive** instances are actually **positive**.\n",
        "- Formula:\n",
        "  $[\n",
        "  Precision = \\frac{TP}{TP + FP}\n",
        "  ]$\n",
        "- **Useful when false positives are costly**, like in medical diagnosis or fraud detection.\n",
        "\n",
        "### **3. Recall (Sensitivity)**\n",
        "- Measures how well the model **identifies actual positives**.\n",
        "- Formula:\n",
        "  $[\n",
        "  Recall = \\frac{TP}{TP + FN}\n",
        "  ]$\n",
        "- **Critical for imbalanced datasets**, where missing positive cases is more serious.\n",
        "\n",
        "### **4. F1 Score**\n",
        "- The harmonic mean of **Precision** and **Recall**.\n",
        "- Formula:\n",
        "  $[\n",
        "  F1 = 2 \\times \\frac{Precision \\times Recall}{Precision + Recall}\n",
        "  ]$\n",
        "- **Best for balancing false positives and false negatives**.\n",
        "\n",
        "### **5. ROC Curve & AUC Score**\n",
        "- **ROC Curve**: Plots **True Positive Rate (Recall)** vs. **False Positive Rate**.\n",
        "- **AUC (Area Under Curve)**: Measures the ability to distinguish between classes.\n",
        "- **Higher AUC = Better classification performance**.\n",
        "\n",
        "### **6. Confusion Matrix**\n",
        "- Shows the breakdown of **True Positives (TP)**, **True Negatives (TN)**, **False Positives (FP)**, and **False Negatives (FN)**.\n",
        "- Helps analyze **where the model makes errors**.\n"
      ],
      "metadata": {
        "id": "gzwPEMIB1SJl"
      }
    },
    {
      "cell_type": "markdown",
      "source": [
        "**Q12.  How does class imbalance affect Logistic Regression?**"
      ],
      "metadata": {
        "id": "dwiQdbIi1my5"
      }
    },
    {
      "cell_type": "markdown",
      "source": [
        "**Ans:** Class imbalance can **significantly affect Logistic Regression**, leading to biased predictions. Here’s how:\n",
        "\n",
        "### **1. Bias Toward the Majority Class**\n",
        "- Logistic Regression **learns to minimize the cost function**, and when the dataset is imbalanced (e.g., 95% of samples belong to one class), the model **favors the majority class**.\n",
        "- It might classify **almost everything as the dominant class**, resulting in **high accuracy but poor recall for the minority class**.\n",
        "\n",
        "### **2. Misleading Accuracy Metric**\n",
        "- If 95% of samples are \"Class 0\" and only 5% are \"Class 1,\" a model predicting **everything as \"Class 0\"** would have **95% accuracy** but fail completely at detecting \"Class 1.\"\n",
        "- **Accuracy alone isn’t a good metric** in imbalanced datasets; metrics like **Precision, Recall, and F1 Score** are more reliable.\n",
        "\n",
        "### **3. Poor Decision Boundary Learning**\n",
        "- With imbalance, the model struggles to find an optimal **decision boundary**, often making **incorrect classifications** for the minority class.\n",
        "\n",
        "### **4. Lower Model Confidence for Minority Class Predictions**\n",
        "- Since Logistic Regression **learns from data distribution**, an underrepresented class gets fewer samples, making the model uncertain when predicting it.\n",
        "\n",
        "### **How to Handle Class Imbalance in Logistic Regression**\n",
        "✔ **Resampling Methods**:\n",
        "  - **Oversampling**: Increase minority class samples (e.g., **SMOTE** technique).\n",
        "  - **Undersampling**: Reduce majority class samples.\n",
        "\n",
        "✔ **Use Alternative Evaluation Metrics**:\n",
        "  - **Precision, Recall, F1 Score, and AUC-ROC**.\n",
        "\n",
        "✔ **Adjust Class Weights**:\n",
        "  - Assign **higher penalties** to the minority class using `class_weight='balanced'` in **Scikit-learn**.\n",
        "\n",
        "✔ **Use More Advanced Models**:\n",
        "  - Try **Tree-based models (Random Forest, XGBoost)** or ensemble techniques.\n",
        "\n"
      ],
      "metadata": {
        "id": "Zprws6BM1rdL"
      }
    },
    {
      "cell_type": "markdown",
      "source": [
        "**Q13. What is Hyperparameter Tuning in Logistic Regression?**"
      ],
      "metadata": {
        "id": "1MxVkouD10aw"
      }
    },
    {
      "cell_type": "markdown",
      "source": [
        "**Ans:** Hyperparameter tuning in **Logistic Regression** refers to the process of **optimizing model parameters** that are **not learned** during training but instead set **before** the learning process begins. These hyperparameters directly influence model performance.\n",
        "\n",
        "### **Key Hyperparameters in Logistic Regression**\n",
        "1. **Regularization Strength (C)**\n",
        "   - Controls the **inverse** of the regularization parameter \\( \\lambda \\).\n",
        "   - **Higher C** → Less regularization (risk of overfitting).\n",
        "   - **Lower C** → Stronger regularization (helps prevent overfitting).\n",
        "   - Example:\n",
        "     ```python\n",
        "     from sklearn.linear_model import LogisticRegression\n",
        "     model = LogisticRegression(C=0.1)  # Strong regularization\n",
        "     ```\n",
        "\n",
        "2. **Penalty Type (Regularization)**\n",
        "   - **L1 (Lasso)** → Feature selection (some coefficients become zero).\n",
        "   - **L2 (Ridge)** → Shrinks all coefficients but keeps all features.\n",
        "   - **Elastic Net** → Mix of L1 and L2 regularization.\n",
        "   - Example:\n",
        "     ```python\n",
        "     model = LogisticRegression(penalty='l1', solver='liblinear')\n",
        "     ```\n",
        "\n",
        "3. **Solver (Optimization Algorithm)**\n",
        "   - Defines how the model optimizes weights.\n",
        "   - Options:\n",
        "     - `'lbfgs'` → Default solver, works well for most cases.\n",
        "     - `'liblinear'` → Supports L1 regularization.\n",
        "     - `'saga'` → Good for large datasets and Elastic Net.\n",
        "   - Example:\n",
        "     ```python\n",
        "     model = LogisticRegression(solver='saga')\n",
        "     ```\n",
        "\n",
        "### **How to Tune Hyperparameters?**\n",
        "✔ **Grid Search** (`GridSearchCV`)\n",
        "   - Tries multiple hyperparameter values and finds the best combination.\n",
        "   ```python\n",
        "   from sklearn.model_selection import GridSearchCV\n",
        "   param_grid = {'C': [0.01, 0.1, 1, 10], 'penalty': ['l1', 'l2']}\n",
        "   grid = GridSearchCV(LogisticRegression(solver='liblinear'), param_grid, cv=5)\n",
        "   grid.fit(X_train, y_train)\n",
        "   print(\"Best Parameters:\", grid.best_params_)\n",
        "   ```\n",
        "\n",
        "✔ **Random Search** (`RandomizedSearchCV`)\n",
        "   - Randomly samples hyperparameters instead of an exhaustive search.\n",
        "   ```python\n",
        "   from sklearn.model_selection import RandomizedSearchCV\n",
        "   random_search = RandomizedSearchCV(LogisticRegression(solver='liblinear'), param_grid, n_iter=10, cv=5)\n",
        "   ```\n",
        "\n",
        "✔ **Bayesian Optimization**\n",
        "   - More efficient tuning using probabilistic models.\n",
        "\n",
        "### **Why Hyperparameter Tuning is Important?**\n",
        "- **Prevents overfitting** by selecting the right regularization.\n",
        "- **Improves accuracy** by optimizing weight learning.\n",
        "- **Boosts model efficiency** by choosing the best solver.\n",
        "\n"
      ],
      "metadata": {
        "id": "y3mAIBFM144b"
      }
    },
    {
      "cell_type": "markdown",
      "source": [
        "**Q14. What are different solvers in Logistic Regression? Which one should be used?**"
      ],
      "metadata": {
        "id": "6HbKnHFn2H3K"
      }
    },
    {
      "cell_type": "markdown",
      "source": [
        "**Ans:** Logistic Regression in **Scikit-learn** offers multiple solvers, each with different optimization techniques for learning model parameters. The choice of solver depends on the dataset size, regularization type, and computational efficiency.\n",
        "\n",
        "### **Different Solvers in Logistic Regression**\n",
        "#### **1. liblinear**\n",
        "- Uses **Coordinate Descent** optimization.\n",
        "- Supports **L1 (Lasso) and L2 (Ridge) regularization**.\n",
        "- Works best for **small datasets**.\n",
        "- Example:\n",
        "  ```python\n",
        "  model = LogisticRegression(solver='liblinear', penalty='l1')\n",
        "  ```\n",
        "\n",
        "#### **2. lbfgs**\n",
        "- Uses **Limited-memory Broyden-Fletcher-Goldfarb-Shanno (LBFGS)**.\n",
        "- Default solver in Scikit-learn.\n",
        "- Supports **L2 regularization** but **not L1**.\n",
        "- Suitable for **medium-sized datasets**.\n",
        "- Example:\n",
        "  ```python\n",
        "  model = LogisticRegression(solver='lbfgs', penalty='l2')\n",
        "  ```\n",
        "\n",
        "#### **3. saga**\n",
        "- Uses **Stochastic Average Gradient Descent**.\n",
        "- Supports **L1, L2, and Elastic Net regularization**.\n",
        "- Ideal for **large datasets** and sparse data.\n",
        "- Example:\n",
        "  ```python\n",
        "  model = LogisticRegression(solver='saga', penalty='elasticnet', l1_ratio=0.5)\n",
        "  ```\n",
        "\n",
        "#### **4. newton-cg**\n",
        "- Uses **Newton’s Conjugate Gradient Method**.\n",
        "- Suitable for **L2 regularization**.\n",
        "- Performs well with **high-dimensional data**.\n",
        "- Example:\n",
        "  ```python\n",
        "  model = LogisticRegression(solver='newton-cg')\n",
        "  ```\n",
        "\n",
        "#### **5. sag**\n",
        "- **Stochastic Gradient Descent Approximation**.\n",
        "- Works best for **large datasets**.\n",
        "- Supports only **L2 regularization**.\n",
        "- Example:\n",
        "  ```python\n",
        "  model = LogisticRegression(solver='sag', penalty='l2')\n",
        "  ```\n",
        "\n",
        "### **Which Solver Should You Use?**\n",
        "| Solver | Best For | Regularization Support | Dataset Size |\n",
        "|--------|---------|----------------------|--------------|\n",
        "| **liblinear** | Small datasets | L1, L2 | 🔹 Small |\n",
        "| **lbfgs** | Default choice | L2 | 🔸 Medium |\n",
        "| **saga** | Large datasets, sparse features | L1, L2, Elastic Net | 🔶 Large |\n",
        "| **newton-cg** | High-dimensional data | L2 | 🔸 Medium to Large |\n",
        "| **sag** | Large datasets | L2 | 🔶 Large |\n",
        "\n",
        "### **Choosing the Best Solver**\n",
        "✔ If you have a **small dataset**, use **liblinear**.  \n",
        "✔ If you need **L1 regularization**, **saga** or **liblinear** are best.  \n",
        "✔ If you need **Elastic Net regularization**, use **saga**.  \n",
        "✔ If your dataset is **large**, use **saga** or **sag** for faster computation.  \n",
        "\n"
      ],
      "metadata": {
        "id": "Ftol-ycR2MpY"
      }
    },
    {
      "cell_type": "markdown",
      "source": [
        "**Q15.  How is Logistic Regression extended for multiclass classification?**"
      ],
      "metadata": {
        "id": "pNT8LYKo2bwn"
      }
    },
    {
      "cell_type": "markdown",
      "source": [
        "**Ans:** Logistic Regression is naturally suited for **binary classification**, but when handling **multiclass classification**, it must be extended using specific approaches. The two main techniques are:\n",
        "\n",
        "### **1. One-vs-Rest (OvR) / One-vs-All (OvA) Approach**\n",
        "- **How it Works**:\n",
        "  - The model creates **multiple binary classifiers**, one for each class.\n",
        "  - For a dataset with **3 classes (A, B, C)**:\n",
        "    - Model 1: A vs. (B & C)\n",
        "    - Model 2: B vs. (A & C)\n",
        "    - Model 3: C vs. (A & B)\n",
        "  - The class with the **highest probability** is selected.\n",
        "  \n",
        "- **Advantages**:\n",
        "  - Simple and interpretable.\n",
        "  - Works well for most problems.\n",
        "\n",
        "- **Disadvantages**:\n",
        "  - Multiple models must be trained, increasing computation.\n",
        "\n",
        "- **Python Example**:\n",
        "  ```python\n",
        "  from sklearn.linear_model import LogisticRegression\n",
        "  model = LogisticRegression(multi_class='ovr', solver='liblinear')\n",
        "  model.fit(X_train, y_train)\n",
        "  ```\n",
        "\n",
        "---\n",
        "\n",
        "### **2. Softmax (Multinomial Logistic Regression)**\n",
        "- **How it Works**:\n",
        "  - Uses a single model with the **Softmax function** to predict probabilities for all classes at once.\n",
        "  - The Softmax formula ensures that probability values sum to **1**, allowing the model to pick the most likely class:\n",
        "  \n",
        "    \\[\n",
        "    P(y_i) = \\frac{e^{z_i}}{\\sum_{j=1}^{n} e^{z_j}}\n",
        "    \\]\n",
        "\n",
        "- **Advantages**:\n",
        "  - More efficient than OvR since only **one model** is trained.\n",
        "  - Works better when classes have **strong interdependencies**.\n",
        "\n",
        "- **Disadvantages**:\n",
        "  - Slightly more complex than OvR.\n",
        "\n",
        "- **Python Example**:\n",
        "  ```python\n",
        "  model = LogisticRegression(multi_class='multinomial', solver='lbfgs')\n",
        "  model.fit(X_train, y_train)\n",
        "  ```\n",
        "\n",
        "---\n",
        "\n",
        "### **Which Approach Should We Use?**\n",
        "✔ Use **OvR** when you have **many classes** and want a simple, interpretable approach.  \n",
        "✔ Use **Softmax (Multinomial)** when classes are **strongly related** or when you need **probability-based decisions**.\n",
        "\n"
      ],
      "metadata": {
        "id": "y017Y0Jn2qmk"
      }
    },
    {
      "cell_type": "markdown",
      "source": [
        "**Q16. What are the advantages and disadvantages of Logistic Regression?**"
      ],
      "metadata": {
        "id": "dbx1IhlA2yoI"
      }
    },
    {
      "cell_type": "markdown",
      "source": [
        "**Ans:** Logistic Regression is a widely used classification algorithm with several strengths and limitations. Here’s a breakdown:\n",
        "\n",
        "### **Advantages of Logistic Regression**\n",
        "✔ **Simple & Interpretable**  \n",
        "   - Easy to understand and implement.  \n",
        "   - Provides clear insight into feature importance via coefficients.\n",
        "\n",
        "✔ **Works Well for Linearly Separable Data**  \n",
        "   - Effective when there’s a **linear relationship** between features and the log odds of the target variable.\n",
        "\n",
        "✔ **Probability-Based Predictions**  \n",
        "   - Outputs probabilities, making it useful for applications requiring confidence estimation.\n",
        "\n",
        "✔ **Efficient for Large Datasets**  \n",
        "   - Computationally efficient compared to complex models like Decision Trees or Neural Networks.\n",
        "\n",
        "✔ **Regularization Support (L1 & L2)**  \n",
        "   - Helps prevent **overfitting**, ensuring better generalization.\n",
        "\n",
        "✔ **Handles Binary & Multiclass Classification**  \n",
        "   - Supports **One-vs-Rest (OvR) and Softmax** extensions for multiclass problems.\n",
        "\n",
        "---\n",
        "\n",
        "### **Disadvantages of Logistic Regression**\n",
        "❌ **Struggles with Non-Linear Relationships**  \n",
        "   - Doesn’t perform well if data is **highly non-linear** (Decision Trees or Neural Networks may work better).\n",
        "\n",
        "❌ **Requires Feature Engineering**  \n",
        "   - Works best when features are **properly scaled** (Standardization or Normalization needed).  \n",
        "   - **Multicollinearity can be problematic**, requiring techniques like PCA or regularization.\n",
        "\n",
        "❌ **Sensitive to Class Imbalance**  \n",
        "   - May **favor the majority class**, leading to poor predictions for rare events (e.g., fraud detection).  \n",
        "   - **Solutions**: Use **class weighting or resampling**.\n",
        "\n",
        "❌ **Assumes Independence of Features**  \n",
        "   - If features are highly correlated, it may **produce unstable coefficients**.  \n",
        "   - **Solutions**: Use **Ridge Regularization (L2) or Elastic Net**.\n",
        "\n",
        "---\n",
        "\n",
        "### **When to Use Logistic Regression?**\n",
        "✔ When the relationship between **features and the log-odds of the target is linear**.  \n",
        "✔ When **interpretability is important** and you need probability-based decisions.  \n",
        "✔ When you have a **simple dataset with structured features**.  \n",
        "✔ When computational efficiency is a priority.\n",
        "\n",
        "  \n"
      ],
      "metadata": {
        "id": "owC4gdWM3R4o"
      }
    },
    {
      "cell_type": "markdown",
      "source": [
        "**Q17. What are some use cases of Logistic Regression?**"
      ],
      "metadata": {
        "id": "eMuvrUjF3ea4"
      }
    },
    {
      "cell_type": "markdown",
      "source": [
        "**Ans:** Logistic Regression is widely used in various fields where binary or multiclass classification is required. Here are some key use cases:\n",
        "\n",
        "### **1. Medical Diagnosis**\n",
        "✔ Predicting diseases based on symptoms (e.g., **diabetes detection**, heart disease prediction).  \n",
        "✔ Used in **tumor classification** (benign vs. malignant).\n",
        "\n",
        "### **2. Fraud Detection**\n",
        "✔ Detecting **credit card fraud** based on transaction patterns.  \n",
        "✔ Identifying fraudulent insurance claims.\n",
        "\n",
        "### **3. Spam Email Filtering**\n",
        "✔ Classifies emails as **spam or not spam** using text-based features.  \n",
        "✔ Helps improve cybersecurity in email systems.\n",
        "\n",
        "### **4. Customer Churn Prediction**\n",
        "✔ Determines whether customers are likely to **leave a service**.  \n",
        "✔ Helps businesses retain customers through targeted strategies.\n",
        "\n",
        "### **5. Sentiment Analysis**\n",
        "✔ Used to **classify text** as positive, negative, or neutral (e.g., product reviews, social media analysis).  \n",
        "✔ Helps brands understand customer feedback.\n",
        "\n",
        "### **6. Credit Scoring & Loan Default Prediction**\n",
        "✔ Predicts whether a person will **repay a loan or default** based on financial history.  \n",
        "✔ Commonly used in banking and finance.\n",
        "\n",
        "### **7. Employee Attrition Prediction**\n",
        "✔ Determines whether employees are **likely to leave** based on work environment, salary, and job satisfaction.\n",
        "\n",
        "### **8. Image Recognition**\n",
        "✔ Applied in **character recognition** (e.g., handwritten digit classification like MNIST dataset).  \n",
        "✔ Used in facial recognition systems.\n",
        "\n",
        "### **9. Marketing & Advertising**\n",
        "✔ Predicts whether customers will **click on ads or buy a product** based on historical behavior.  \n",
        "✔ Helps optimize ad targeting.\n",
        "\n",
        "### **10. Political Polling & Elections**\n",
        "✔ Forecasts voting preferences based on demographic data and past voting trends.\n",
        "\n",
        "  \n"
      ],
      "metadata": {
        "id": "m6T-fDLT3jPk"
      }
    },
    {
      "cell_type": "markdown",
      "source": [
        "**Q18.  What is the difference between Softmax Regression and Logistic Regression?**"
      ],
      "metadata": {
        "id": "pFf4mZYH3t1t"
      }
    },
    {
      "cell_type": "markdown",
      "source": [
        "**Ans:** Softmax Regression and Logistic Regression are closely related, but they serve different purposes in classification tasks. Here’s how they differ:\n",
        "\n",
        "### **1. Purpose and Application**\n",
        "- **Logistic Regression**: Used for **binary classification** (e.g., spam vs. not spam, disease present vs. absent).\n",
        "- **Softmax Regression**: Used for **multiclass classification** (e.g., classifying images into categories like cat, dog, and bird).\n",
        "\n",
        "### **2. Mathematical Function**\n",
        "- **Logistic Regression**: Uses the **sigmoid function** to convert predictions into probabilities between **0 and 1**:\n",
        "  $[\n",
        "  \\sigma(z) = \\frac{1}{1 + e^{-z}}\n",
        "  ]$\n",
        "- **Softmax Regression**: Uses the **softmax function** to convert predictions into probabilities across **multiple classes**, ensuring they sum to 1:\n",
        "  $[\n",
        "  P(y_i) = \\frac{e^{z_i}}{\\sum_{j=1}^{n} e^{z_j}}\n",
        "  ]$\n",
        "  - Each class gets a probability score, and the highest one determines the final classification.\n",
        "\n",
        "### **3. Output Interpretation**\n",
        "- **Logistic Regression**: Outputs a single probability score; if **\\( p > 0.5 \\)**, it predicts class **1**, otherwise class **0**.\n",
        "- **Softmax Regression**: Outputs probabilities for **all classes** simultaneously; the class with the **highest probability** is chosen.\n",
        "\n",
        "### **4. Decision Boundary**\n",
        "- **Logistic Regression**: Finds a **linear boundary** between two classes.\n",
        "- **Softmax Regression**: Finds **multiple boundaries** to separate multiple classes.\n",
        "\n",
        "### **5. Implementation in Python**\n",
        "✔ Logistic Regression for binary classification:\n",
        "```python\n",
        "from sklearn.linear_model import LogisticRegression\n",
        "\n",
        "model = LogisticRegression()\n",
        "model.fit(X_train, y_train)\n",
        "```\n",
        "\n",
        "✔ Softmax Regression for multiclass classification:\n",
        "```python\n",
        "model = LogisticRegression(multi_class='multinomial', solver='lbfgs')\n",
        "model.fit(X_train, y_train)\n",
        "```\n",
        "\n",
        "### **Which One Should You Use?**\n",
        "- If the task is **binary classification** → Use **Logistic Regression**.\n",
        "- If the task involves **three or more classes** → Use **Softmax Regression**.\n",
        "\n"
      ],
      "metadata": {
        "id": "mdZT6wMW398f"
      }
    },
    {
      "cell_type": "markdown",
      "source": [
        "**Q19. How do we choose between One-vs-Rest (OvR) and Softmax for multiclass classification?**"
      ],
      "metadata": {
        "id": "JWt2X_BL4Pgf"
      }
    },
    {
      "cell_type": "markdown",
      "source": [
        "**Ans:** Choosing between **One-vs-Rest (OvR)** and **Softmax (Multinomial Logistic Regression)** depends on the **dataset structure, number of classes, and computational efficiency**. Here’s how to decide:\n",
        "\n",
        "### **1. When to Use One-vs-Rest (OvR)**\n",
        "✔ **Few classes with independent characteristics**  \n",
        "   - OvR trains **multiple binary classifiers**, which works well when classes don’t overlap much.  \n",
        "\n",
        "✔ **Efficient for smaller datasets**  \n",
        "   - Computationally simpler for **low-dimensional data**.  \n",
        "\n",
        "✔ **Easy to implement & interpret**  \n",
        "   - Each classifier predicts a binary decision (e.g., \"Is it Class A or not?\").  \n",
        "\n",
        "✔ **Works well when class distribution is uneven**  \n",
        "   - Helps when some classes have significantly fewer examples than others.  \n",
        "\n",
        "#### **Python Example**\n",
        "```python\n",
        "from sklearn.linear_model import LogisticRegression\n",
        "\n",
        "model = LogisticRegression(multi_class='ovr', solver='liblinear')\n",
        "model.fit(X_train, y_train)\n",
        "```\n",
        "\n",
        "---\n",
        "\n",
        "### **2. When to Use Softmax (Multinomial Logistic Regression)**\n",
        "✔ **When classes are closely related**  \n",
        "   - Softmax calculates probabilities for all classes at once, making it better for **interdependent categories** (e.g., classifying animals as cat, dog, or fox).  \n",
        "\n",
        "✔ **Better for larger datasets & high-dimensional features**  \n",
        "   - Works efficiently with **deep learning models** and structured data.  \n",
        "\n",
        "✔ **More accurate probability estimation**  \n",
        "   - Provides a probability **distribution across all classes**, ensuring better ranking.  \n",
        "\n",
        "✔ **Computationally efficient for many classes**  \n",
        "   - Instead of multiple classifiers, **one model predicts all classes at once**.  \n",
        "\n",
        "#### **Python Example**\n",
        "```python\n",
        "model = LogisticRegression(multi_class='multinomial', solver='lbfgs')\n",
        "model.fit(X_train, y_train)\n",
        "```\n",
        "\n",
        "---\n",
        "\n",
        "### **Which One Should You Choose?**\n",
        "| Criteria | **One-vs-Rest (OvR)** | **Softmax (Multinomial)** |\n",
        "|----------|----------------------|---------------------------|\n",
        "| **Number of Classes** | Few classes | Many classes |\n",
        "| **Class Independence** | Works well when classes are distinct | Works better when classes are interrelated |\n",
        "| **Computational Complexity** | Lower | Higher (but more efficient for large datasets) |\n",
        "| **Probability Interpretation** | Each binary classifier predicts class membership separately | Generates probabilities for all classes at once |\n",
        "| **Best Use Case** | Simple problems, imbalanced data | Complex classification tasks, deep learning |\n",
        "\n",
        "✔ **Use OvR** if your classes are independent and you prefer interpretability.  \n",
        "✔ **Use Softmax** if your classes are closely related and you need probability distribution across all labels.  \n",
        "\n"
      ],
      "metadata": {
        "id": "slVb7WWS4T9R"
      }
    },
    {
      "cell_type": "markdown",
      "source": [
        "**Q20. How do we interpret coefficients in Logistic Regression?**"
      ],
      "metadata": {
        "id": "I3HXfU0x4eCQ"
      }
    },
    {
      "cell_type": "markdown",
      "source": [
        "**Ans:** Interpreting **coefficients in Logistic Regression** helps us understand the relationship between **input features** and the probability of an outcome. Since Logistic Regression predicts probabilities rather than continuous values, the coefficients must be interpreted differently than in Linear Regression.\n",
        "\n",
        "### **How to Interpret Coefficients in Logistic Regression**\n",
        "Each coefficient (\\( w_i \\)) represents the **log-odds** of the outcome changing based on an increase in the corresponding feature \\( x_i \\).\n",
        "\n",
        "#### **1. Log-Odds Interpretation**\n",
        "- The Logistic Regression model uses the equation:\n",
        "  $[\n",
        "  \\log\\left(\\frac{p}{1-p}\\right) = w_0 + w_1x_1 + w_2x_2 + \\dots + w_nx_n\n",
        "  ]$\n",
        "  - $( p )$ = probability of the positive class.\n",
        "  - $( w_i )$ = coefficient for feature \\( x_i \\).\n",
        "\n",
        "- If $( w_i > 0 )$, **the feature increases the probability of the positive class**.\n",
        "- If $( w_i < 0 )$, **the feature decreases the probability** of the positive class.\n",
        "\n",
        "---\n",
        "\n",
        "#### **2. Odds Ratio Interpretation**\n",
        "Instead of interpreting raw coefficients, we often use the **odds ratio**, which is **exponentiated**:\n",
        "  $[\n",
        "  e^{w_i}\n",
        "  ]$\n",
        "- If $( e^{w_i} > 1 )$, increasing $( x_i )$ **increases** the odds of the positive class.\n",
        "- If $( e^{w_i} < 1 )$, increasing $( x_i )$ **decreases** the odds of the positive class.\n",
        "- If $( e^{w_i} \\approx 1 )$, $( x_i )$ has **little effect** on classification.\n",
        "\n",
        "---\n",
        "\n",
        "### **Example in Python**\n",
        "To compute and interpret coefficients in **Scikit-learn**:\n",
        "```python\n",
        "import numpy as np\n",
        "import pandas as pd\n",
        "from sklearn.linear_model import LogisticRegression\n",
        "\n",
        "# Sample dataset\n",
        "X = np.array([[2, 1], [3, 0], [5, 1], [6, 0], [7, 1]])\n",
        "y = np.array([0, 0, 1, 1, 1])\n",
        "\n",
        "# Train model\n",
        "model = LogisticRegression()\n",
        "model.fit(X, y)\n",
        "\n",
        "# Extract coefficients\n",
        "coefficients = model.coef_[0]\n",
        "odds_ratios = np.exp(coefficients)\n",
        "\n",
        "# Display results\n",
        "df = pd.DataFrame({'Feature': ['X1', 'X2'], 'Coefficient': coefficients, 'Odds Ratio': odds_ratios})\n",
        "print(df)\n",
        "```\n",
        "\n",
        "This will show:\n",
        "✔ The **coefficients** that influence classification.  \n",
        "✔ Their **odds ratio interpretation** to better understand the impact.\n",
        "\n"
      ],
      "metadata": {
        "id": "X3t1VFCF4nIL"
      }
    },
    {
      "cell_type": "markdown",
      "source": [
        "### **PRACTICAL QUESTIONS:**"
      ],
      "metadata": {
        "id": "WpQHTDEg5LVU"
      }
    },
    {
      "cell_type": "markdown",
      "source": [
        "**Q1. Write a Python program that loads a dataset, splits it into training and testing sets, applies Logistic**\n",
        "**Regression, and prints the model accuracy.**"
      ],
      "metadata": {
        "id": "fL6x0wF55R1b"
      }
    },
    {
      "cell_type": "code",
      "source": [
        "from sklearn.datasets import load_iris\n",
        "from sklearn.model_selection import train_test_split\n",
        "from sklearn.linear_model import LogisticRegression\n",
        "from sklearn.metrics import accuracy_score\n",
        "\n",
        "# Load the Iris dataset\n",
        "iris = load_iris()\n",
        "X = iris.data  # Features\n",
        "y = iris.target  # Labels\n",
        "\n",
        "# Split into training and testing sets (80% training, 20% testing)\n",
        "X_train, X_test, y_train, y_test = train_test_split(X, y, test_size=0.2, random_state=42)\n",
        "\n",
        "# Create and train the Logistic Regression model\n",
        "model = LogisticRegression(max_iter=200)  # Increase max_iter to ensure convergence\n",
        "model.fit(X_train, y_train)\n",
        "\n",
        "# Make predictions on the test set\n",
        "y_pred = model.predict(X_test)\n",
        "\n",
        "# Calculate and print the accuracy\n",
        "accuracy = accuracy_score(y_test, y_pred)\n",
        "print(f\"Model Accuracy: {accuracy:.2f}\")"
      ],
      "metadata": {
        "colab": {
          "base_uri": "https://localhost:8080/"
        },
        "id": "oc_okLHw8NYY",
        "outputId": "48a19e82-862c-4523-f37e-4fb5a6af55bb"
      },
      "execution_count": 1,
      "outputs": [
        {
          "output_type": "stream",
          "name": "stdout",
          "text": [
            "Model Accuracy: 1.00\n"
          ]
        }
      ]
    },
    {
      "cell_type": "markdown",
      "source": [
        "**Q2. Write a Python program to apply L1 regularization (Lasso) on a dataset using LogisticRegression(penalty='l1')**\n",
        "**and print the model accuracy.**"
      ],
      "metadata": {
        "id": "h7OYJyf85aXT"
      }
    },
    {
      "cell_type": "code",
      "source": [
        "from sklearn.datasets import load_iris\n",
        "from sklearn.model_selection import train_test_split\n",
        "from sklearn.linear_model import LogisticRegression\n",
        "from sklearn.metrics import accuracy_score\n",
        "from sklearn.preprocessing import StandardScaler\n",
        "\n",
        "# Load the Iris dataset\n",
        "iris = load_iris()\n",
        "X = iris.data\n",
        "y = iris.target\n",
        "\n",
        "# For binary classification (L1 performs better in binary), pick two classes\n",
        "X = X[y != 2]\n",
        "y = y[y != 2]\n",
        "\n",
        "# Standardize the features (important for regularization)\n",
        "scaler = StandardScaler()\n",
        "X = scaler.fit_transform(X)\n",
        "\n",
        "# Split the dataset\n",
        "X_train, X_test, y_train, y_test = train_test_split(X, y, test_size=0.2, random_state=42)\n",
        "\n",
        "# Create and train a Logistic Regression model with L1 regularization\n",
        "model = LogisticRegression(penalty='l1', solver='liblinear', max_iter=200)\n",
        "model.fit(X_train, y_train)\n",
        "\n",
        "# Predict and evaluate\n",
        "y_pred = model.predict(X_test)\n",
        "accuracy = accuracy_score(y_test, y_pred)\n",
        "print(f\"L1-Regularized Logistic Regression Accuracy: {accuracy:.2f}\")"
      ],
      "metadata": {
        "colab": {
          "base_uri": "https://localhost:8080/"
        },
        "id": "7n4jw8Wf8ZxG",
        "outputId": "d62a33e8-fbfb-42f6-a3bc-ba8957dcaba2"
      },
      "execution_count": 3,
      "outputs": [
        {
          "output_type": "stream",
          "name": "stdout",
          "text": [
            "L1-Regularized Logistic Regression Accuracy: 1.00\n"
          ]
        }
      ]
    },
    {
      "cell_type": "markdown",
      "source": [
        "**Q3. Write a Python program to train Logistic Regression with L2 regularization (Ridge) using**\n",
        "**LogisticRegression(penalty='l2'). Print model accuracy and coefficients.**"
      ],
      "metadata": {
        "id": "lsBnCiIx5ixx"
      }
    },
    {
      "cell_type": "code",
      "source": [
        "from sklearn.datasets import load_iris\n",
        "from sklearn.model_selection import train_test_split\n",
        "from sklearn.linear_model import LogisticRegression\n",
        "from sklearn.preprocessing import StandardScaler\n",
        "from sklearn.metrics import accuracy_score\n",
        "import numpy as np\n",
        "\n",
        "# Load the Iris dataset\n",
        "iris = load_iris()\n",
        "X = iris.data\n",
        "y = iris.target\n",
        "\n",
        "# Standardize the features (important for regularization)\n",
        "scaler = StandardScaler()\n",
        "X_scaled = scaler.fit_transform(X)\n",
        "\n",
        "# Split into training and test sets\n",
        "X_train, X_test, y_train, y_test = train_test_split(\n",
        "    X_scaled, y, test_size=0.2, random_state=42\n",
        ")\n",
        "\n",
        "# Train logistic regression with L2 regularization\n",
        "model = LogisticRegression(penalty='l2', solver='lbfgs', max_iter=200, multi_class='multinomial')\n",
        "model.fit(X_train, y_train)\n",
        "\n",
        "# Predict and evaluate\n",
        "y_pred = model.predict(X_test)\n",
        "accuracy = accuracy_score(y_test, y_pred)\n",
        "\n",
        "# Print accuracy and coefficients\n",
        "print(f\"L2-Regularized Logistic Regression Accuracy: {accuracy:.2f}\")\n",
        "print(\"Model Coefficients (one row per class):\")\n",
        "print(model.coef_)\n",
        "print(\"Intercepts:\")\n",
        "print(model.intercept_)"
      ],
      "metadata": {
        "colab": {
          "base_uri": "https://localhost:8080/"
        },
        "id": "CFJLT_4w8t0V",
        "outputId": "9e38583c-2de4-4028-a4a8-427a237657b6"
      },
      "execution_count": 4,
      "outputs": [
        {
          "output_type": "stream",
          "name": "stdout",
          "text": [
            "L2-Regularized Logistic Regression Accuracy: 1.00\n",
            "Model Coefficients (one row per class):\n",
            "[[-1.02102589  1.1315509  -1.81471682 -1.68763103]\n",
            " [ 0.53439559 -0.28357112 -0.34273213 -0.73103351]\n",
            " [ 0.4866303  -0.84797979  2.15744895  2.41866455]]\n",
            "Intercepts:\n",
            "[-0.24853241  1.97284408 -1.72431167]\n"
          ]
        },
        {
          "output_type": "stream",
          "name": "stderr",
          "text": [
            "/usr/local/lib/python3.11/dist-packages/sklearn/linear_model/_logistic.py:1247: FutureWarning: 'multi_class' was deprecated in version 1.5 and will be removed in 1.7. From then on, it will always use 'multinomial'. Leave it to its default value to avoid this warning.\n",
            "  warnings.warn(\n"
          ]
        }
      ]
    },
    {
      "cell_type": "markdown",
      "source": [
        "**Q4. Write a Python program to train Logistic Regression with Elastic Net Regularization (penalty='elasticnet').**"
      ],
      "metadata": {
        "id": "RIG6Ro1W5p9Z"
      }
    },
    {
      "cell_type": "code",
      "source": [
        "from sklearn.datasets import load_iris\n",
        "from sklearn.model_selection import train_test_split\n",
        "from sklearn.linear_model import LogisticRegression\n",
        "from sklearn.preprocessing import StandardScaler\n",
        "from sklearn.metrics import accuracy_score\n",
        "import warnings\n",
        "\n",
        "# Suppress convergence warnings for demonstration\n",
        "warnings.filterwarnings(\"ignore\", category=UserWarning)\n",
        "\n",
        "# Load the Iris dataset\n",
        "iris = load_iris()\n",
        "X = iris.data\n",
        "y = iris.target\n",
        "\n",
        "# For simplicity, reduce to a binary classification problem\n",
        "X = X[y != 2]\n",
        "y = y[y != 2]\n",
        "\n",
        "# Standardize features (important for regularization)\n",
        "scaler = StandardScaler()\n",
        "X_scaled = scaler.fit_transform(X)\n",
        "\n",
        "# Split dataset\n",
        "X_train, X_test, y_train, y_test = train_test_split(\n",
        "    X_scaled, y, test_size=0.2, random_state=42\n",
        ")\n",
        "\n",
        "# Train Logistic Regression with Elastic Net regularization\n",
        "model = LogisticRegression(\n",
        "    penalty='elasticnet',\n",
        "    solver='saga',\n",
        "    l1_ratio=0.5,          # Balance between L1 and L2 (0.5 = equal mix)\n",
        "    max_iter=1000\n",
        ")\n",
        "model.fit(X_train, y_train)\n",
        "\n",
        "# Evaluate model\n",
        "y_pred = model.predict(X_test)\n",
        "accuracy = accuracy_score(y_test, y_pred)\n",
        "\n",
        "# Output\n",
        "print(f\"Elastic Net Logistic Regression Accuracy: {accuracy:.2f}\")\n",
        "print(\"Model Coefficients:\")\n",
        "print(model.coef_)\n",
        "print(\"Intercept:\")\n",
        "print(model.intercept_)"
      ],
      "metadata": {
        "colab": {
          "base_uri": "https://localhost:8080/"
        },
        "id": "_t6aswAB82hG",
        "outputId": "9b93766f-c85c-4c24-9d65-89f73ac73673"
      },
      "execution_count": 5,
      "outputs": [
        {
          "output_type": "stream",
          "name": "stdout",
          "text": [
            "Elastic Net Logistic Regression Accuracy: 1.00\n",
            "Model Coefficients:\n",
            "[[ 0.5858585  -0.99447532  1.64489004  1.64361989]]\n",
            "Intercept:\n",
            "[0.25376283]\n"
          ]
        }
      ]
    },
    {
      "cell_type": "markdown",
      "source": [
        "**Q5. Write a Python program to train a Logistic Regression model for multiclass classification using**\n",
        "**multi_class='ovr'.**"
      ],
      "metadata": {
        "id": "u3We_ZPu5v1a"
      }
    },
    {
      "cell_type": "code",
      "source": [
        "from sklearn.datasets import load_iris\n",
        "from sklearn.model_selection import train_test_split\n",
        "from sklearn.linear_model import LogisticRegression\n",
        "from sklearn.preprocessing import StandardScaler\n",
        "from sklearn.metrics import accuracy_score\n",
        "\n",
        "# Load the Iris dataset (3-class classification)\n",
        "iris = load_iris()\n",
        "X = iris.data\n",
        "y = iris.target\n",
        "\n",
        "# Standardize the features\n",
        "scaler = StandardScaler()\n",
        "X_scaled = scaler.fit_transform(X)\n",
        "\n",
        "# Split into training and test sets\n",
        "X_train, X_test, y_train, y_test = train_test_split(\n",
        "    X_scaled, y, test_size=0.2, random_state=42\n",
        ")\n",
        "\n",
        "# Train Logistic Regression with One-vs-Rest multiclass strategy\n",
        "model = LogisticRegression(\n",
        "    penalty='l2',\n",
        "    solver='lbfgs',        # 'lbfgs' supports OvR and is efficient for multiclass\n",
        "    multi_class='ovr',\n",
        "    max_iter=200\n",
        ")\n",
        "model.fit(X_train, y_train)\n",
        "\n",
        "# Make predictions\n",
        "y_pred = model.predict(X_test)\n",
        "\n",
        "# Evaluate accuracy\n",
        "accuracy = accuracy_score(y_test, y_pred)\n",
        "print(f\"One-vs-Rest Logistic Regression Accuracy: {accuracy:.2f}\")\n",
        "\n",
        "# Print coefficients\n",
        "print(\"Model Coefficients (one row per class):\")\n",
        "print(model.coef_)\n",
        "print(\"Intercepts:\")\n",
        "print(model.intercept_)"
      ],
      "metadata": {
        "colab": {
          "base_uri": "https://localhost:8080/"
        },
        "id": "HvhHD_Bv9Dd7",
        "outputId": "e58cea0b-8559-48aa-e1ac-57a16e925c2b"
      },
      "execution_count": 6,
      "outputs": [
        {
          "output_type": "stream",
          "name": "stdout",
          "text": [
            "One-vs-Rest Logistic Regression Accuracy: 0.97\n",
            "Model Coefficients (one row per class):\n",
            "[[-1.01833481  1.17250378 -1.67528697 -1.53588846]\n",
            " [ 0.25903156 -1.25541048  0.54726533 -0.74253705]\n",
            " [ 0.1819854  -0.64013075  2.3344866   2.86191958]]\n",
            "Intercepts:\n",
            "[-2.41957815 -0.87535907 -3.57467368]\n"
          ]
        },
        {
          "output_type": "stream",
          "name": "stderr",
          "text": [
            "/usr/local/lib/python3.11/dist-packages/sklearn/linear_model/_logistic.py:1256: FutureWarning: 'multi_class' was deprecated in version 1.5 and will be removed in 1.7. Use OneVsRestClassifier(LogisticRegression(..)) instead. Leave it to its default value to avoid this warning.\n",
            "  warnings.warn(\n"
          ]
        }
      ]
    },
    {
      "cell_type": "markdown",
      "source": [
        "**Q6. Write a Python program to apply GridSearchCV to tune the hyperparameters (C and penalty) of Logistic**\n",
        "**Regression. Print the best parameters and accuracy.**"
      ],
      "metadata": {
        "id": "PfEwkwSw51Ih"
      }
    },
    {
      "cell_type": "code",
      "source": [
        "import numpy as np\n",
        "import pandas as pd\n",
        "from sklearn.model_selection import GridSearchCV, train_test_split\n",
        "from sklearn.linear_model import LogisticRegression\n",
        "from sklearn.metrics import accuracy_score\n",
        "\n",
        "# Sample dataset (Replace with your own dataset)\n",
        "X = np.random.rand(500, 5)  # 500 samples, 5 features\n",
        "y = np.random.randint(0, 2, 500)  # Binary labels (0 or 1)\n",
        "\n",
        "# Split dataset into training and testing sets\n",
        "X_train, X_test, y_train, y_test = train_test_split(X, y, test_size=0.2, random_state=42)\n",
        "\n",
        "# Define model and hyperparameter grid\n",
        "model = LogisticRegression(solver='liblinear')  # 'liblinear' supports L1 and L2 regularization\n",
        "\n",
        "param_grid = {\n",
        "    'C': [0.01, 0.1, 1, 10],   # Regularization strength\n",
        "    'penalty': ['l1', 'l2']    # Type of regularization\n",
        "}\n",
        "\n",
        "# Apply GridSearchCV\n",
        "grid_search = GridSearchCV(model, param_grid, cv=5, scoring='accuracy', n_jobs=-1)\n",
        "grid_search.fit(X_train, y_train)\n",
        "\n",
        "# Get best parameters and accuracy\n",
        "best_params = grid_search.best_params_\n",
        "best_model = grid_search.best_estimator_\n",
        "y_pred = best_model.predict(X_test)\n",
        "accuracy = accuracy_score(y_test, y_pred)\n",
        "\n",
        "# Print results\n",
        "print(f\"Best Parameters: {best_params}\")\n",
        "print(f\"Test Set Accuracy: {accuracy:.4f}\")"
      ],
      "metadata": {
        "colab": {
          "base_uri": "https://localhost:8080/"
        },
        "id": "7tilDwHD9LdZ",
        "outputId": "6ea744b6-e6a5-45af-c39f-fff4e0601945"
      },
      "execution_count": 9,
      "outputs": [
        {
          "output_type": "stream",
          "name": "stdout",
          "text": [
            "Best Parameters: {'C': 0.01, 'penalty': 'l1'}\n",
            "Test Set Accuracy: 0.4300\n"
          ]
        }
      ]
    },
    {
      "cell_type": "markdown",
      "source": [
        "**Q7. Write a Python program to evaluate Logistic Regression using Stratified K-Fold Cross-Validation. Print the**\n",
        "**average accuracy.**"
      ],
      "metadata": {
        "id": "HHlYm3y157tr"
      }
    },
    {
      "cell_type": "code",
      "source": [
        "from sklearn.datasets import load_iris\n",
        "from sklearn.linear_model import LogisticRegression\n",
        "from sklearn.model_selection import StratifiedKFold, cross_val_score\n",
        "from sklearn.preprocessing import StandardScaler\n",
        "import numpy as np\n",
        "\n",
        "# Load the Iris dataset\n",
        "iris = load_iris()\n",
        "X = iris.data\n",
        "y = iris.target\n",
        "\n",
        "# Standardize features\n",
        "scaler = StandardScaler()\n",
        "X_scaled = scaler.fit_transform(X)\n",
        "\n",
        "# Define Logistic Regression model\n",
        "model = LogisticRegression(penalty='l2', solver='lbfgs', max_iter=200, multi_class='ovr')\n",
        "\n",
        "# Set up Stratified K-Fold cross-validation\n",
        "skf = StratifiedKFold(n_splits=5, shuffle=True, random_state=42)\n",
        "\n",
        "# Perform cross-validation and compute accuracy for each fold\n",
        "scores = cross_val_score(model, X_scaled, y, cv=skf, scoring='accuracy')\n",
        "\n",
        "# Output results\n",
        "print(\"Accuracy for each fold:\", scores)\n",
        "print(f\"Average Accuracy: {np.mean(scores):.2f}\")"
      ],
      "metadata": {
        "colab": {
          "base_uri": "https://localhost:8080/"
        },
        "id": "9zbmcCFb-GZk",
        "outputId": "3a9e9859-552c-4510-c1b0-708edcdc1c37"
      },
      "execution_count": 10,
      "outputs": [
        {
          "output_type": "stream",
          "name": "stdout",
          "text": [
            "Accuracy for each fold: [0.93333333 0.96666667 0.86666667 0.96666667 0.86666667]\n",
            "Average Accuracy: 0.92\n"
          ]
        },
        {
          "output_type": "stream",
          "name": "stderr",
          "text": [
            "/usr/local/lib/python3.11/dist-packages/sklearn/linear_model/_logistic.py:1256: FutureWarning: 'multi_class' was deprecated in version 1.5 and will be removed in 1.7. Use OneVsRestClassifier(LogisticRegression(..)) instead. Leave it to its default value to avoid this warning.\n",
            "  warnings.warn(\n",
            "/usr/local/lib/python3.11/dist-packages/sklearn/linear_model/_logistic.py:1256: FutureWarning: 'multi_class' was deprecated in version 1.5 and will be removed in 1.7. Use OneVsRestClassifier(LogisticRegression(..)) instead. Leave it to its default value to avoid this warning.\n",
            "  warnings.warn(\n",
            "/usr/local/lib/python3.11/dist-packages/sklearn/linear_model/_logistic.py:1256: FutureWarning: 'multi_class' was deprecated in version 1.5 and will be removed in 1.7. Use OneVsRestClassifier(LogisticRegression(..)) instead. Leave it to its default value to avoid this warning.\n",
            "  warnings.warn(\n",
            "/usr/local/lib/python3.11/dist-packages/sklearn/linear_model/_logistic.py:1256: FutureWarning: 'multi_class' was deprecated in version 1.5 and will be removed in 1.7. Use OneVsRestClassifier(LogisticRegression(..)) instead. Leave it to its default value to avoid this warning.\n",
            "  warnings.warn(\n",
            "/usr/local/lib/python3.11/dist-packages/sklearn/linear_model/_logistic.py:1256: FutureWarning: 'multi_class' was deprecated in version 1.5 and will be removed in 1.7. Use OneVsRestClassifier(LogisticRegression(..)) instead. Leave it to its default value to avoid this warning.\n",
            "  warnings.warn(\n"
          ]
        }
      ]
    },
    {
      "cell_type": "markdown",
      "source": [
        "**Q8. Write a Python program to load a dataset from a CSV file, apply Logistic Regression, and evaluate its**\n",
        "**accuracy.**"
      ],
      "metadata": {
        "id": "aeujc-ep6BvP"
      }
    },
    {
      "cell_type": "code",
      "source": [
        "import pandas as pd\n",
        "from sklearn.model_selection import train_test_split\n",
        "from sklearn.linear_model import LogisticRegression\n",
        "from sklearn.preprocessing import StandardScaler\n",
        "from sklearn.metrics import accuracy_score\n",
        "\n",
        "# Load dataset from CSV file\n",
        "# Replace 'your_dataset.csv' with your actual CSV file path\n",
        "df = pd.read_csv('your_dataset.csv')\n",
        "\n",
        "# Separate features and target (assumes target column is named 'target')\n",
        "X = df.drop('target', axis=1)\n",
        "y = df['target']\n",
        "\n",
        "# Standardize features\n",
        "scaler = StandardScaler()\n",
        "X_scaled = scaler.fit_transform(X)\n",
        "\n",
        "# Train/test split\n",
        "X_train, X_test, y_train, y_test = train_test_split(\n",
        "    X_scaled, y, test_size=0.2, random_state=42\n",
        ")\n",
        "\n",
        "# Train Logistic Regression model\n",
        "model = LogisticRegression(max_iter=200)\n",
        "model.fit(X_train, y_train)\n",
        "\n",
        "# Predict and evaluate\n",
        "y_pred = model.predict(X_test)\n",
        "accuracy = accuracy_score(y_test, y_pred)\n",
        "\n",
        "# Output\n",
        "print(f\"Logistic Regression Accuracy: {accuracy:.2f}\")"
      ],
      "metadata": {
        "id": "Y2oBZeuV-UNm"
      },
      "execution_count": null,
      "outputs": []
    },
    {
      "cell_type": "markdown",
      "source": [
        "**Q9. Write a Python program to apply RandomizedSearchCV for tuning hyperparameters (C, penalty, solver) in**\n",
        "**Logistic Regression. Print the best parameters and accuracy.**"
      ],
      "metadata": {
        "id": "hsfdgbW-6GyC"
      }
    },
    {
      "cell_type": "code",
      "source": [
        "import numpy as np\n",
        "import pandas as pd\n",
        "from sklearn.model_selection import RandomizedSearchCV, train_test_split\n",
        "from sklearn.linear_model import LogisticRegression\n",
        "from sklearn.metrics import accuracy_score\n",
        "\n",
        "# Sample dataset (Replace with your own dataset)\n",
        "X = np.random.rand(500, 5)  # 500 samples, 5 features\n",
        "y = np.random.randint(0, 2, 500)  # Binary labels (0 or 1)\n",
        "\n",
        "# Split dataset into training and testing sets\n",
        "X_train, X_test, y_train, y_test = train_test_split(X, y, test_size=0.2, random_state=42)\n",
        "\n",
        "# Define logistic regression model\n",
        "model = LogisticRegression()\n",
        "\n",
        "# Define hyperparameter search space\n",
        "param_dist = {\n",
        "    'C': np.logspace(-2, 2, 10),  # Range of regularization strengths\n",
        "    'penalty': ['l1', 'l2'],  # Type of regularization\n",
        "    'solver': ['liblinear', 'saga', 'lbfgs']  # Solvers that support the penalties\n",
        "}\n",
        "\n",
        "# Apply RandomizedSearchCV\n",
        "random_search = RandomizedSearchCV(model, param_dist, n_iter=10, cv=5, scoring='accuracy', n_jobs=-1, random_state=42)\n",
        "random_search.fit(X_train, y_train)\n",
        "\n",
        "# Get best parameters and accuracy\n",
        "best_params = random_search.best_params_\n",
        "best_model = random_search.best_estimator_\n",
        "y_pred = best_model.predict(X_test)\n",
        "accuracy = accuracy_score(y_test, y_pred)\n",
        "\n",
        "# Print results\n",
        "print(f\"Best Parameters: {best_params}\")\n",
        "print(f\"Test Set Accuracy: {accuracy:.4f}\")"
      ],
      "metadata": {
        "colab": {
          "base_uri": "https://localhost:8080/"
        },
        "id": "Brf6oAKxFcER",
        "outputId": "b72e02f1-9632-4286-b47d-fbbefcd17de5"
      },
      "execution_count": 14,
      "outputs": [
        {
          "output_type": "stream",
          "name": "stdout",
          "text": [
            "Best Parameters: {'solver': 'liblinear', 'penalty': 'l1', 'C': np.float64(100.0)}\n",
            "Test Set Accuracy: 0.5700\n"
          ]
        }
      ]
    },
    {
      "cell_type": "markdown",
      "source": [
        "**Q10. Write a Python program to implement One-vs-One (OvO) Multiclass Logistic Regression and print accuracy.**"
      ],
      "metadata": {
        "id": "xOpp3ktT6NGx"
      }
    },
    {
      "cell_type": "code",
      "source": [
        "import numpy as np\n",
        "import pandas as pd\n",
        "from sklearn.model_selection import train_test_split\n",
        "from sklearn.linear_model import LogisticRegression\n",
        "from sklearn.multiclass import OneVsOneClassifier\n",
        "from sklearn.metrics import accuracy_score\n",
        "\n",
        "# Sample dataset (Replace with real dataset)\n",
        "X = np.random.rand(500, 5)  # 500 samples, 5 features\n",
        "y = np.random.randint(0, 3, 500)  # 3 classes (0, 1, 2)\n",
        "\n",
        "# Split dataset into training and testing sets\n",
        "X_train, X_test, y_train, y_test = train_test_split(X, y, test_size=0.2, random_state=42)\n",
        "\n",
        "# Apply One-vs-One (OvO) Logistic Regression\n",
        "model = OneVsOneClassifier(LogisticRegression(solver='lbfgs', multi_class='auto'))\n",
        "model.fit(X_train, y_train)\n",
        "\n",
        "# Predictions and accuracy\n",
        "y_pred = model.predict(X_test)\n",
        "accuracy = accuracy_score(y_test, y_pred)\n",
        "\n",
        "# Print accuracy\n",
        "print(f\"Test Set Accuracy: {accuracy:.4f}\")"
      ],
      "metadata": {
        "colab": {
          "base_uri": "https://localhost:8080/"
        },
        "id": "lH_wZz5-Gem4",
        "outputId": "13855171-5120-4748-da83-8fb30e113388"
      },
      "execution_count": 15,
      "outputs": [
        {
          "output_type": "stream",
          "name": "stderr",
          "text": [
            "/usr/local/lib/python3.11/dist-packages/sklearn/linear_model/_logistic.py:1247: FutureWarning: 'multi_class' was deprecated in version 1.5 and will be removed in 1.7. From then on, it will always use 'multinomial'. Leave it to its default value to avoid this warning.\n",
            "  warnings.warn(\n",
            "/usr/local/lib/python3.11/dist-packages/sklearn/linear_model/_logistic.py:1247: FutureWarning: 'multi_class' was deprecated in version 1.5 and will be removed in 1.7. From then on, it will always use 'multinomial'. Leave it to its default value to avoid this warning.\n",
            "  warnings.warn(\n",
            "/usr/local/lib/python3.11/dist-packages/sklearn/linear_model/_logistic.py:1247: FutureWarning: 'multi_class' was deprecated in version 1.5 and will be removed in 1.7. From then on, it will always use 'multinomial'. Leave it to its default value to avoid this warning.\n",
            "  warnings.warn(\n"
          ]
        },
        {
          "output_type": "stream",
          "name": "stdout",
          "text": [
            "Test Set Accuracy: 0.3600\n"
          ]
        }
      ]
    },
    {
      "cell_type": "markdown",
      "source": [
        "**Q11. Write a Python program to train a Logistic Regression model and visualize the confusion matrix for binary**\n",
        "**classification.**"
      ],
      "metadata": {
        "id": "bl_UMst36SNS"
      }
    },
    {
      "cell_type": "code",
      "source": [
        "import numpy as np\n",
        "import matplotlib.pyplot as plt\n",
        "import seaborn as sns\n",
        "from sklearn.datasets import load_breast_cancer\n",
        "from sklearn.model_selection import train_test_split\n",
        "from sklearn.linear_model import LogisticRegression\n",
        "from sklearn.preprocessing import StandardScaler\n",
        "from sklearn.metrics import confusion_matrix, ConfusionMatrixDisplay, accuracy_score\n",
        "\n",
        "# Load binary classification dataset\n",
        "data = load_breast_cancer()\n",
        "X = data.data\n",
        "y = data.target\n",
        "class_names = data.target_names\n",
        "\n",
        "# Standardize features\n",
        "scaler = StandardScaler()\n",
        "X_scaled = scaler.fit_transform(X)\n",
        "\n",
        "# Split into train/test sets\n",
        "X_train, X_test, y_train, y_test = train_test_split(\n",
        "    X_scaled, y, test_size=0.2, random_state=42\n",
        ")\n",
        "\n",
        "# Train logistic regression model\n",
        "model = LogisticRegression(max_iter=1000)\n",
        "model.fit(X_train, y_train)\n",
        "\n",
        "# Predict\n",
        "y_pred = model.predict(X_test)\n",
        "\n",
        "# Accuracy\n",
        "accuracy = accuracy_score(y_test, y_pred)\n",
        "print(f\"Logistic Regression Accuracy: {accuracy:.2f}\")\n",
        "\n",
        "# Compute confusion matrix\n",
        "cm = confusion_matrix(y_test, y_pred)\n",
        "\n",
        "# Plot confusion matrix\n",
        "plt.figure(figsize=(6, 4))\n",
        "sns.heatmap(cm, annot=True, fmt='d', cmap='Blues',\n",
        "            xticklabels=class_names, yticklabels=class_names)\n",
        "plt.xlabel('Predicted Label')\n",
        "plt.ylabel('True Label')\n",
        "plt.title('Confusion Matrix')\n",
        "plt.tight_layout()\n",
        "plt.show()"
      ],
      "metadata": {
        "colab": {
          "base_uri": "https://localhost:8080/",
          "height": 424
        },
        "id": "pTvmJUpvGwPf",
        "outputId": "027b2a52-9674-49b1-bc9f-e74150b22bc1"
      },
      "execution_count": 16,
      "outputs": [
        {
          "output_type": "stream",
          "name": "stdout",
          "text": [
            "Logistic Regression Accuracy: 0.97\n"
          ]
        },
        {
          "output_type": "display_data",
          "data": {
            "text/plain": [
              "<Figure size 600x400 with 2 Axes>"
            ],
            "image/png": "[encoded data removed]"
          },
          "metadata": {}
        }
      ]
    },
    {
      "cell_type": "markdown",
      "source": [
        "**Q12. Write a Python program to train a Logistic Regression model and evaluate its performance using Precision,**\n",
        "**Recall, and F1-Score.**"
      ],
      "metadata": {
        "id": "3jioRLyz6ZPZ"
      }
    },
    {
      "cell_type": "code",
      "source": [
        "from sklearn.datasets import load_breast_cancer\n",
        "from sklearn.model_selection import train_test_split\n",
        "from sklearn.linear_model import LogisticRegression\n",
        "from sklearn.preprocessing import StandardScaler\n",
        "from sklearn.metrics import precision_score, recall_score, f1_score, classification_report\n",
        "\n",
        "# Load binary classification dataset\n",
        "data = load_breast_cancer()\n",
        "X = data.data\n",
        "y = data.target\n",
        "\n",
        "# Standardize features\n",
        "scaler = StandardScaler()\n",
        "X_scaled = scaler.fit_transform(X)\n",
        "\n",
        "# Train-test split\n",
        "X_train, X_test, y_train, y_test = train_test_split(\n",
        "    X_scaled, y, test_size=0.2, random_state=42\n",
        ")\n",
        "\n",
        "# Train Logistic Regression model\n",
        "model = LogisticRegression(max_iter=1000)\n",
        "model.fit(X_train, y_train)\n",
        "\n",
        "# Predict\n",
        "y_pred = model.predict(X_test)\n",
        "\n",
        "# Evaluate performance\n",
        "precision = precision_score(y_test, y_pred)\n",
        "recall = recall_score(y_test, y_pred)\n",
        "f1 = f1_score(y_test, y_pred)\n",
        "\n",
        "print(f\"Precision: {precision:.2f}\")\n",
        "print(f\"Recall:    {recall:.2f}\")\n",
        "print(f\"F1-Score:  {f1:.2f}\")\n",
        "\n",
        "# Optionally, print full classification report\n",
        "print(\"\\nClassification Report:\")\n",
        "print(classification_report(y_test, y_pred, target_names=data.target_names))"
      ],
      "metadata": {
        "colab": {
          "base_uri": "https://localhost:8080/"
        },
        "id": "HjLK02hKG-ni",
        "outputId": "804fe365-50a5-4c13-b517-2f8b6ee2e0ec"
      },
      "execution_count": 17,
      "outputs": [
        {
          "output_type": "stream",
          "name": "stdout",
          "text": [
            "Precision: 0.97\n",
            "Recall:    0.99\n",
            "F1-Score:  0.98\n",
            "\n",
            "Classification Report:\n",
            "              precision    recall  f1-score   support\n",
            "\n",
            "   malignant       0.98      0.95      0.96        43\n",
            "      benign       0.97      0.99      0.98        71\n",
            "\n",
            "    accuracy                           0.97       114\n",
            "   macro avg       0.97      0.97      0.97       114\n",
            "weighted avg       0.97      0.97      0.97       114\n",
            "\n"
          ]
        }
      ]
    },
    {
      "cell_type": "markdown",
      "source": [
        "**Q13. Write a Python program to train a Logistic Regression model on imbalanced data and apply class weights to**\n",
        "**improve model performance.**"
      ],
      "metadata": {
        "id": "QLHc-wgI6ho-"
      }
    },
    {
      "cell_type": "code",
      "source": [
        "from sklearn.datasets import make_classification\n",
        "from sklearn.linear_model import LogisticRegression\n",
        "from sklearn.model_selection import train_test_split\n",
        "from sklearn.preprocessing import StandardScaler\n",
        "from sklearn.metrics import classification_report, confusion_matrix\n",
        "import seaborn as sns\n",
        "import matplotlib.pyplot as plt\n",
        "\n",
        "# Create an imbalanced dataset\n",
        "X, y = make_classification(n_samples=1000, n_features=10, n_classes=2,\n",
        "                           weights=[0.9, 0.1], flip_y=0, random_state=42)\n",
        "\n",
        "# Standardize features\n",
        "scaler = StandardScaler()\n",
        "X_scaled = scaler.fit_transform(X)\n",
        "\n",
        "# Split into training and test sets\n",
        "X_train, X_test, y_train, y_test = train_test_split(\n",
        "    X_scaled, y, test_size=0.2, random_state=42, stratify=y\n",
        ")\n",
        "\n",
        "# Train Logistic Regression with class_weight='balanced'\n",
        "model = LogisticRegression(class_weight='balanced', max_iter=1000)\n",
        "model.fit(X_train, y_train)\n",
        "\n",
        "# Predict\n",
        "y_pred = model.predict(X_test)\n",
        "\n",
        "# Print classification report\n",
        "print(\"Classification Report:\")\n",
        "print(classification_report(y_test, y_pred))\n",
        "\n",
        "# Plot confusion matrix\n",
        "cm = confusion_matrix(y_test, y_pred)\n",
        "plt.figure(figsize=(6, 4))\n",
        "sns.heatmap(cm, annot=True, fmt='d', cmap='Blues',\n",
        "            xticklabels=['Class 0', 'Class 1'],\n",
        "            yticklabels=['Class 0', 'Class 1'])\n",
        "plt.xlabel('Predicted Label')\n",
        "plt.ylabel('True Label')\n",
        "plt.title('Confusion Matrix')\n",
        "plt.tight_layout()\n",
        "plt.show()"
      ],
      "metadata": {
        "colab": {
          "base_uri": "https://localhost:8080/",
          "height": 581
        },
        "id": "Zd3UTr5lHKNB",
        "outputId": "dd8208ec-69d2-45c1-e5f9-f24cea3363b4"
      },
      "execution_count": 18,
      "outputs": [
        {
          "output_type": "stream",
          "name": "stdout",
          "text": [
            "Classification Report:\n",
            "              precision    recall  f1-score   support\n",
            "\n",
            "           0       0.98      0.90      0.94       180\n",
            "           1       0.47      0.80      0.59        20\n",
            "\n",
            "    accuracy                           0.89       200\n",
            "   macro avg       0.72      0.85      0.76       200\n",
            "weighted avg       0.93      0.89      0.90       200\n",
            "\n"
          ]
        },
        {
          "output_type": "display_data",
          "data": {
            "text/plain": [
              "<Figure size 600x400 with 2 Axes>"
            ],
            "image/png": "[encoded data removed]"
          },
          "metadata": {}
        }
      ]
    },
    {
      "cell_type": "markdown",
      "source": [
        "**Q14. Write a Python program to train Logistic Regression on the Titanic dataset, handle missing values, and**\n",
        "**evaluate performance.**"
      ],
      "metadata": {
        "id": "qb0F8mbP6n07"
      }
    },
    {
      "cell_type": "code",
      "source": [
        "import seaborn as sns\n",
        "import pandas as pd\n",
        "from sklearn.model_selection import train_test_split\n",
        "from sklearn.linear_model import LogisticRegression\n",
        "from sklearn.preprocessing import StandardScaler\n",
        "from sklearn.metrics import classification_report\n",
        "\n",
        "# Load Titanic dataset\n",
        "df = sns.load_dataset('titanic')\n",
        "\n",
        "# Select relevant features and target\n",
        "features = ['pclass', 'sex', 'age', 'sibsp', 'parch', 'fare', 'embarked']\n",
        "df = df[features + ['survived']]\n",
        "\n",
        "# Drop rows with missing target\n",
        "df = df.dropna(subset=['survived'])\n",
        "\n",
        "# Handle missing values\n",
        "df['age'].fillna(df['age'].median(), inplace=True)\n",
        "df['embarked'].fillna(df['embarked'].mode()[0], inplace=True)\n",
        "\n",
        "# Convert categorical variables to numeric\n",
        "df = pd.get_dummies(df, columns=['sex', 'embarked'], drop_first=True)\n",
        "\n",
        "# Features and target\n",
        "X = df.drop('survived', axis=1)\n",
        "y = df['survived']\n",
        "\n",
        "# Standardize features\n",
        "scaler = StandardScaler()\n",
        "X_scaled = scaler.fit_transform(X)\n",
        "\n",
        "# Split into train and test sets\n",
        "X_train, X_test, y_train, y_test = train_test_split(\n",
        "    X_scaled, y, test_size=0.2, random_state=42, stratify=y\n",
        ")\n",
        "\n",
        "# Train logistic regression model\n",
        "model = LogisticRegression(max_iter=1000)\n",
        "model.fit(X_train, y_train)\n",
        "\n",
        "# Predict and evaluate\n",
        "y_pred = model.predict(X_test)\n",
        "\n",
        "# Print performance metrics\n",
        "print(\"Classification Report:\")\n",
        "print(classification_report(y_test, y_pred))"
      ],
      "metadata": {
        "colab": {
          "base_uri": "https://localhost:8080/"
        },
        "id": "PbNi2WOQHWVM",
        "outputId": "a7eaf2aa-aa8f-4d53-8d8d-50c1fad6149c"
      },
      "execution_count": 19,
      "outputs": [
        {
          "output_type": "stream",
          "name": "stdout",
          "text": [
            "Classification Report:\n",
            "              precision    recall  f1-score   support\n",
            "\n",
            "           0       0.81      0.89      0.85       110\n",
            "           1       0.79      0.67      0.72        69\n",
            "\n",
            "    accuracy                           0.80       179\n",
            "   macro avg       0.80      0.78      0.79       179\n",
            "weighted avg       0.80      0.80      0.80       179\n",
            "\n"
          ]
        },
        {
          "output_type": "stream",
          "name": "stderr",
          "text": [
            "<ipython-input-19-09d3932ec6a0>:19: FutureWarning: A value is trying to be set on a copy of a DataFrame or Series through chained assignment using an inplace method.\n",
            "The behavior will change in pandas 3.0. This inplace method will never work because the intermediate object on which we are setting values always behaves as a copy.\n",
            "\n",
            "For example, when doing 'df[col].method(value, inplace=True)', try using 'df.method({col: value}, inplace=True)' or df[col] = df[col].method(value) instead, to perform the operation inplace on the original object.\n",
            "\n",
            "\n",
            "  df['age'].fillna(df['age'].median(), inplace=True)\n",
            "<ipython-input-19-09d3932ec6a0>:20: FutureWarning: A value is trying to be set on a copy of a DataFrame or Series through chained assignment using an inplace method.\n",
            "The behavior will change in pandas 3.0. This inplace method will never work because the intermediate object on which we are setting values always behaves as a copy.\n",
            "\n",
            "For example, when doing 'df[col].method(value, inplace=True)', try using 'df.method({col: value}, inplace=True)' or df[col] = df[col].method(value) instead, to perform the operation inplace on the original object.\n",
            "\n",
            "\n",
            "  df['embarked'].fillna(df['embarked'].mode()[0], inplace=True)\n"
          ]
        }
      ]
    },
    {
      "cell_type": "markdown",
      "source": [
        "**Q15. Write a Python program to apply feature scaling (Standardization) before training a Logistic Regression**\n",
        "**model. Evaluate its accuracy and compare results with and without scaling.**"
      ],
      "metadata": {
        "id": "CNKvRIGz6uL4"
      }
    },
    {
      "cell_type": "code",
      "source": [
        "from sklearn.datasets import load_breast_cancer\n",
        "from sklearn.model_selection import train_test_split\n",
        "from sklearn.linear_model import LogisticRegression\n",
        "from sklearn.preprocessing import StandardScaler\n",
        "from sklearn.metrics import accuracy_score\n",
        "\n",
        "# Load dataset\n",
        "data = load_breast_cancer()\n",
        "X = data.data\n",
        "y = data.target\n",
        "\n",
        "# Split into train/test sets\n",
        "X_train, X_test, y_train, y_test = train_test_split(\n",
        "    X, y, test_size=0.2, random_state=42\n",
        ")\n",
        "\n",
        "# ----------- Model WITHOUT Scaling -----------\n",
        "model_no_scaling = LogisticRegression(max_iter=1000)\n",
        "model_no_scaling.fit(X_train, y_train)\n",
        "y_pred_no_scaling = model_no_scaling.predict(X_test)\n",
        "accuracy_no_scaling = accuracy_score(y_test, y_pred_no_scaling)\n",
        "\n",
        "# ----------- Model WITH Standardization -----------\n",
        "scaler = StandardScaler()\n",
        "X_train_scaled = scaler.fit_transform(X_train)\n",
        "X_test_scaled = scaler.transform(X_test)\n",
        "\n",
        "model_scaled = LogisticRegression(max_iter=1000)\n",
        "model_scaled.fit(X_train_scaled, y_train)\n",
        "y_pred_scaled = model_scaled.predict(X_test_scaled)\n",
        "accuracy_scaled = accuracy_score(y_test, y_pred_scaled)\n",
        "\n",
        "# ----------- Results -----------\n",
        "print(f\"Accuracy without scaling: {accuracy_no_scaling:.2f}\")\n",
        "print(f\"Accuracy with standardization: {accuracy_scaled:.2f}\")"
      ],
      "metadata": {
        "colab": {
          "base_uri": "https://localhost:8080/"
        },
        "id": "oljaCfOlHlWZ",
        "outputId": "67eef7d2-076b-46c8-c910-9662134bf1ce"
      },
      "execution_count": 20,
      "outputs": [
        {
          "output_type": "stream",
          "name": "stdout",
          "text": [
            "Accuracy without scaling: 0.96\n",
            "Accuracy with standardization: 0.97\n"
          ]
        }
      ]
    },
    {
      "cell_type": "markdown",
      "source": [
        "**Q16. Write a Python program to train Logistic Regression and evaluate its performance using ROC-AUC score.**"
      ],
      "metadata": {
        "id": "GqZBbwFW61EB"
      }
    },
    {
      "cell_type": "code",
      "source": [
        "import numpy as np\n",
        "import matplotlib.pyplot as plt\n",
        "from sklearn.datasets import load_breast_cancer\n",
        "from sklearn.model_selection import train_test_split\n",
        "from sklearn.linear_model import LogisticRegression\n",
        "from sklearn.preprocessing import StandardScaler\n",
        "from sklearn.metrics import roc_auc_score, roc_curve, auc\n",
        "\n",
        "# Load dataset\n",
        "data = load_breast_cancer()\n",
        "X = data.data\n",
        "y = data.target\n",
        "\n",
        "# Train/test split\n",
        "X_train, X_test, y_train, y_test = train_test_split(\n",
        "    X, y, test_size=0.2, random_state=42, stratify=y\n",
        ")\n",
        "\n",
        "# Standardize features\n",
        "scaler = StandardScaler()\n",
        "X_train_scaled = scaler.fit_transform(X_train)\n",
        "X_test_scaled = scaler.transform(X_test)\n",
        "\n",
        "# Train logistic regression model\n",
        "model = LogisticRegression(max_iter=1000)\n",
        "model.fit(X_train_scaled, y_train)\n",
        "\n",
        "# Predict probabilities\n",
        "y_scores = model.predict_proba(X_test_scaled)[:, 1]\n",
        "\n",
        "# Calculate ROC-AUC score\n",
        "roc_auc = roc_auc_score(y_test, y_scores)\n",
        "print(f\"ROC-AUC Score: {roc_auc:.2f}\")\n",
        "\n",
        "# Plot ROC curve\n",
        "fpr, tpr, thresholds = roc_curve(y_test, y_scores)\n",
        "plt.figure(figsize=(6, 5))\n",
        "plt.plot(fpr, tpr, color='blue', label=f'ROC curve (AUC = {roc_auc:.2f})')\n",
        "plt.plot([0, 1], [0, 1], color='gray', linestyle='--')\n",
        "plt.xlabel('False Positive Rate')\n",
        "plt.ylabel('True Positive Rate')\n",
        "plt.title('Receiver Operating Characteristic (ROC) Curve')\n",
        "plt.legend(loc='lower right')\n",
        "plt.grid(True)\n",
        "plt.tight_layout()\n",
        "plt.show()"
      ],
      "metadata": {
        "colab": {
          "base_uri": "https://localhost:8080/",
          "height": 524
        },
        "id": "MMcfGNduHyOh",
        "outputId": "8c638d71-84c6-4e8a-c91c-35f6aa3a4b86"
      },
      "execution_count": 21,
      "outputs": [
        {
          "output_type": "stream",
          "name": "stdout",
          "text": [
            "ROC-AUC Score: 1.00\n"
          ]
        },
        {
          "output_type": "display_data",
          "data": {
            "text/plain": [
              "<Figure size 600x500 with 1 Axes>"
            ],
            "image/png": "[encoded data removed]"
          },
          "metadata": {}
        }
      ]
    },
    {
      "cell_type": "markdown",
      "source": [
        "**Q17.  Write a Python program to train Logistic Regression using a custom learning rate (C=0.5) and evaluate**\n",
        "**accuracy.**"
      ],
      "metadata": {
        "id": "fHRy8noX67Jj"
      }
    },
    {
      "cell_type": "code",
      "source": [
        "from sklearn.datasets import load_breast_cancer\n",
        "from sklearn.linear_model import LogisticRegression\n",
        "from sklearn.model_selection import train_test_split\n",
        "from sklearn.preprocessing import StandardScaler\n",
        "from sklearn.metrics import accuracy_score\n",
        "\n",
        "# Load dataset\n",
        "data = load_breast_cancer()\n",
        "X = data.data\n",
        "y = data.target\n",
        "\n",
        "# Split data into train and test sets\n",
        "X_train, X_test, y_train, y_test = train_test_split(\n",
        "    X, y, test_size=0.2, random_state=42, stratify=y\n",
        ")\n",
        "\n",
        "# Standardize features\n",
        "scaler = StandardScaler()\n",
        "X_train_scaled = scaler.fit_transform(X_train)\n",
        "X_test_scaled = scaler.transform(X_test)\n",
        "\n",
        "# Train logistic regression with C=0.5\n",
        "model = LogisticRegression(C=0.5, max_iter=1000)\n",
        "model.fit(X_train_scaled, y_train)\n",
        "\n",
        "# Predict and evaluate\n",
        "y_pred = model.predict(X_test_scaled)\n",
        "accuracy = accuracy_score(y_test, y_pred)\n",
        "\n",
        "print(f\"Accuracy with C=0.5: {accuracy:.2f}\")"
      ],
      "metadata": {
        "colab": {
          "base_uri": "https://localhost:8080/"
        },
        "id": "A2ZtzsA8H-DC",
        "outputId": "491b26d7-63a9-4135-ca76-e45c62c2f0ff"
      },
      "execution_count": 22,
      "outputs": [
        {
          "output_type": "stream",
          "name": "stdout",
          "text": [
            "Accuracy with C=0.5: 0.98\n"
          ]
        }
      ]
    },
    {
      "cell_type": "markdown",
      "source": [
        "**Q18. Write a Python program to train Logistic Regression and identify important features based on model**\n",
        "**coefficients.**"
      ],
      "metadata": {
        "id": "iS3g7nAy7Brf"
      }
    },
    {
      "cell_type": "code",
      "source": [
        "import numpy as np\n",
        "import pandas as pd\n",
        "from sklearn.datasets import load_breast_cancer\n",
        "from sklearn.linear_model import LogisticRegression\n",
        "from sklearn.model_selection import train_test_split\n",
        "from sklearn.preprocessing import StandardScaler\n",
        "\n",
        "# Load dataset\n",
        "data = load_breast_cancer()\n",
        "X = data.data\n",
        "y = data.target\n",
        "feature_names = data.feature_names\n",
        "\n",
        "# Train/test split\n",
        "X_train, X_test, y_train, y_test = train_test_split(\n",
        "    X, y, test_size=0.2, random_state=42, stratify=y\n",
        ")\n",
        "\n",
        "# Standardize features\n",
        "scaler = StandardScaler()\n",
        "X_train_scaled = scaler.fit_transform(X_train)\n",
        "X_test_scaled = scaler.transform(X_test)\n",
        "\n",
        "# Train logistic regression model\n",
        "model = LogisticRegression(max_iter=1000)\n",
        "model.fit(X_train_scaled, y_train)\n",
        "\n",
        "# Get feature importance from coefficients\n",
        "coefficients = model.coef_[0]\n",
        "feature_importance = pd.DataFrame({\n",
        "    'Feature': feature_names,\n",
        "    'Coefficient': coefficients,\n",
        "    'Importance (abs)': np.abs(coefficients)\n",
        "})\n",
        "\n",
        "# Sort features by absolute coefficient value\n",
        "important_features = feature_importance.sort_values(by='Importance (abs)', ascending=False)\n",
        "\n",
        "# Display top features\n",
        "print(\"Top 10 Important Features Based on Logistic Regression Coefficients:\\n\")\n",
        "print(important_features.head(10).to_string(index=False))"
      ],
      "metadata": {
        "colab": {
          "base_uri": "https://localhost:8080/"
        },
        "id": "pkbn9qSVIL-K",
        "outputId": "c6dd8dea-a282-4824-f0b1-8b794dc0f2c5"
      },
      "execution_count": 23,
      "outputs": [
        {
          "output_type": "stream",
          "name": "stdout",
          "text": [
            "Top 10 Important Features Based on Logistic Regression Coefficients:\n",
            "\n",
            "             Feature  Coefficient  Importance (abs)\n",
            "       worst texture    -1.255088          1.255088\n",
            "        radius error    -1.082965          1.082965\n",
            "worst concave points    -0.953686          0.953686\n",
            "          worst area    -0.947756          0.947756\n",
            "        worst radius    -0.947616          0.947616\n",
            "      worst symmetry    -0.939181          0.939181\n",
            "          area error    -0.929104          0.929104\n",
            "     worst concavity    -0.823151          0.823151\n",
            "     worst perimeter    -0.763220          0.763220\n",
            "    worst smoothness    -0.746625          0.746625\n"
          ]
        }
      ]
    },
    {
      "cell_type": "markdown",
      "source": [
        "**Q19. Write a Python program to train Logistic Regression and evaluate its performance using Cohen’s Kappa**\n",
        "**Score.**"
      ],
      "metadata": {
        "id": "IjpuHnXa7MVF"
      }
    },
    {
      "cell_type": "code",
      "source": [
        "from sklearn.datasets import load_breast_cancer\n",
        "from sklearn.linear_model import LogisticRegression\n",
        "from sklearn.model_selection import train_test_split\n",
        "from sklearn.preprocessing import StandardScaler\n",
        "from sklearn.metrics import cohen_kappa_score\n",
        "\n",
        "# Load dataset\n",
        "data = load_breast_cancer()\n",
        "X = data.data\n",
        "y = data.target\n",
        "\n",
        "# Split data into training and testing sets\n",
        "X_train, X_test, y_train, y_test = train_test_split(\n",
        "    X, y, test_size=0.2, random_state=42, stratify=y\n",
        ")\n",
        "\n",
        "# Standardize features\n",
        "scaler = StandardScaler()\n",
        "X_train_scaled = scaler.fit_transform(X_train)\n",
        "X_test_scaled = scaler.transform(X_test)\n",
        "\n",
        "# Train logistic regression model\n",
        "model = LogisticRegression(max_iter=1000)\n",
        "model.fit(X_train_scaled, y_train)\n",
        "\n",
        "# Predict on test data\n",
        "y_pred = model.predict(X_test_scaled)\n",
        "\n",
        "# Evaluate using Cohen's Kappa Score\n",
        "kappa = cohen_kappa_score(y_test, y_pred)\n",
        "\n",
        "print(f\"Cohen's Kappa Score: {kappa:.2f}\")"
      ],
      "metadata": {
        "colab": {
          "base_uri": "https://localhost:8080/"
        },
        "id": "sws3Rm23IYcD",
        "outputId": "f8e8343d-f406-44a6-b3ec-9f385f622499"
      },
      "execution_count": 24,
      "outputs": [
        {
          "output_type": "stream",
          "name": "stdout",
          "text": [
            "Cohen's Kappa Score: 0.96\n"
          ]
        }
      ]
    },
    {
      "cell_type": "markdown",
      "source": [
        "**Q20. Write a Python program to train Logistic Regression and visualize the Precision-Recall Curve for binary**\n",
        "**classification.**"
      ],
      "metadata": {
        "id": "GeYB7DP17Sz5"
      }
    },
    {
      "cell_type": "code",
      "source": [
        "import matplotlib.pyplot as plt\n",
        "from sklearn.datasets import load_breast_cancer\n",
        "from sklearn.model_selection import train_test_split\n",
        "from sklearn.linear_model import LogisticRegression\n",
        "from sklearn.preprocessing import StandardScaler\n",
        "from sklearn.metrics import precision_recall_curve, average_precision_score\n",
        "\n",
        "# Load dataset\n",
        "data = load_breast_cancer()\n",
        "X = data.data\n",
        "y = data.target\n",
        "\n",
        "# Split data\n",
        "X_train, X_test, y_train, y_test = train_test_split(\n",
        "    X, y, test_size=0.2, random_state=42, stratify=y\n",
        ")\n",
        "\n",
        "# Standardize features\n",
        "scaler = StandardScaler()\n",
        "X_train_scaled = scaler.fit_transform(X_train)\n",
        "X_test_scaled = scaler.transform(X_test)\n",
        "\n",
        "# Train Logistic Regression model\n",
        "model = LogisticRegression(max_iter=1000)\n",
        "model.fit(X_train_scaled, y_train)\n",
        "\n",
        "# Predict probabilities\n",
        "y_scores = model.predict_proba(X_test_scaled)[:, 1]\n",
        "\n",
        "# Compute precision-recall curve\n",
        "precision, recall, _ = precision_recall_curve(y_test, y_scores)\n",
        "average_precision = average_precision_score(y_test, y_scores)\n",
        "\n",
        "# Plot Precision-Recall curve\n",
        "plt.figure(figsize=(6, 5))\n",
        "plt.plot(recall, precision, label=f'AP = {average_precision:.2f}')\n",
        "plt.xlabel('Recall')\n",
        "plt.ylabel('Precision')\n",
        "plt.title('Precision-Recall Curve')\n",
        "plt.legend()\n",
        "plt.grid(True)\n",
        "plt.tight_layout()\n",
        "plt.show()"
      ],
      "metadata": {
        "colab": {
          "base_uri": "https://localhost:8080/",
          "height": 507
        },
        "id": "1HrOu3ukIkBK",
        "outputId": "768b6bfa-a840-4b9b-c6fa-a302ccbf6a70"
      },
      "execution_count": 25,
      "outputs": [
        {
          "output_type": "display_data",
          "data": {
            "text/plain": [
              "<Figure size 600x500 with 1 Axes>"
            ],
            "image/png": "[encoded data removed]"
          },
          "metadata": {}
        }
      ]
    },
    {
      "cell_type": "markdown",
      "source": [
        "**Q21. Write a Python program to train Logistic Regression with different solvers (liblinear, saga, lbfgs) and compare**\n",
        "**their accuracy.**"
      ],
      "metadata": {
        "id": "_vhXPrNF7cIW"
      }
    },
    {
      "cell_type": "code",
      "source": [
        "from sklearn.datasets import load_breast_cancer\n",
        "from sklearn.linear_model import LogisticRegression\n",
        "from sklearn.model_selection import train_test_split\n",
        "from sklearn.preprocessing import StandardScaler\n",
        "from sklearn.metrics import accuracy_score\n",
        "\n",
        "# Load dataset\n",
        "data = load_breast_cancer()\n",
        "X = data.data\n",
        "y = data.target\n",
        "\n",
        "# Train/test split\n",
        "X_train, X_test, y_train, y_test = train_test_split(\n",
        "    X, y, test_size=0.2, random_state=42, stratify=y\n",
        ")\n",
        "\n",
        "# Standardize features\n",
        "scaler = StandardScaler()\n",
        "X_train_scaled = scaler.fit_transform(X_train)\n",
        "X_test_scaled = scaler.transform(X_test)\n",
        "\n",
        "# Solvers to compare\n",
        "solvers = ['liblinear', 'saga', 'lbfgs']\n",
        "\n",
        "print(\"Accuracy comparison of Logistic Regression solvers:\\n\")\n",
        "for solver in solvers:\n",
        "    try:\n",
        "        model = LogisticRegression(solver=solver, max_iter=1000)\n",
        "        model.fit(X_train_scaled, y_train)\n",
        "        y_pred = model.predict(X_test_scaled)\n",
        "        accuracy = accuracy_score(y_test, y_pred)\n",
        "        print(f\"Solver: {solver:9s} -> Accuracy: {accuracy:.4f}\")\n",
        "    except Exception as e:\n",
        "        print(f\"Solver: {solver:9s} -> Failed: {e}\")"
      ],
      "metadata": {
        "colab": {
          "base_uri": "https://localhost:8080/"
        },
        "id": "1_0b25r9Iur_",
        "outputId": "7c3ad969-39c1-48e8-9e82-7945c2f43fbb"
      },
      "execution_count": 26,
      "outputs": [
        {
          "output_type": "stream",
          "name": "stdout",
          "text": [
            "Accuracy comparison of Logistic Regression solvers:\n",
            "\n",
            "Solver: liblinear -> Accuracy: 0.9825\n",
            "Solver: saga      -> Accuracy: 0.9825\n",
            "Solver: lbfgs     -> Accuracy: 0.9825\n"
          ]
        }
      ]
    },
    {
      "cell_type": "markdown",
      "source": [
        "**Q22. Write a Python program to train Logistic Regression and evaluate its performance using Matthews**\n",
        "**Correlation Coefficient (MCC).**"
      ],
      "metadata": {
        "id": "xUjmS5z-7kK0"
      }
    },
    {
      "cell_type": "code",
      "source": [
        "from sklearn.datasets import load_breast_cancer\n",
        "from sklearn.linear_model import LogisticRegression\n",
        "from sklearn.model_selection import train_test_split\n",
        "from sklearn.preprocessing import StandardScaler\n",
        "from sklearn.metrics import matthews_corrcoef\n",
        "\n",
        "# Load dataset\n",
        "data = load_breast_cancer()\n",
        "X = data.data\n",
        "y = data.target\n",
        "\n",
        "# Train/test split\n",
        "X_train, X_test, y_train, y_test = train_test_split(\n",
        "    X, y, test_size=0.2, random_state=42, stratify=y\n",
        ")\n",
        "\n",
        "# Feature scaling\n",
        "scaler = StandardScaler()\n",
        "X_train_scaled = scaler.fit_transform(X_train)\n",
        "X_test_scaled = scaler.transform(X_test)\n",
        "\n",
        "# Train Logistic Regression\n",
        "model = LogisticRegression(max_iter=1000)\n",
        "model.fit(X_train_scaled, y_train)\n",
        "\n",
        "# Predict on test set\n",
        "y_pred = model.predict(X_test_scaled)\n",
        "\n",
        "# Evaluate using Matthews Correlation Coefficient\n",
        "mcc = matthews_corrcoef(y_test, y_pred)\n",
        "\n",
        "print(f\"Matthews Correlation Coefficient (MCC): {mcc:.4f}\")"
      ],
      "metadata": {
        "colab": {
          "base_uri": "https://localhost:8080/"
        },
        "id": "q87tyRXhI6CT",
        "outputId": "57cfa7b8-e1a4-4be7-e42f-295143d9b250"
      },
      "execution_count": 27,
      "outputs": [
        {
          "output_type": "stream",
          "name": "stdout",
          "text": [
            "Matthews Correlation Coefficient (MCC): 0.9623\n"
          ]
        }
      ]
    },
    {
      "cell_type": "markdown",
      "source": [
        "**Q23. Write a Python program to train Logistic Regression on both raw and standardized data. Compare their**\n",
        "**accuracy to see the impact of feature scaling.**"
      ],
      "metadata": {
        "id": "EAhdktXO7qZK"
      }
    },
    {
      "cell_type": "code",
      "source": [
        "from sklearn.datasets import load_breast_cancer\n",
        "from sklearn.linear_model import LogisticRegression\n",
        "from sklearn.model_selection import train_test_split\n",
        "from sklearn.preprocessing import StandardScaler\n",
        "from sklearn.metrics import accuracy_score\n",
        "\n",
        "# Load dataset\n",
        "data = load_breast_cancer()\n",
        "X = data.data\n",
        "y = data.target\n",
        "\n",
        "# Split into train and test sets\n",
        "X_train, X_test, y_train, y_test = train_test_split(\n",
        "    X, y, test_size=0.2, random_state=42, stratify=y\n",
        ")\n",
        "\n",
        "# -------- Train on Raw (Unscaled) Data --------\n",
        "model_raw = LogisticRegression(max_iter=1000)\n",
        "model_raw.fit(X_train, y_train)\n",
        "y_pred_raw = model_raw.predict(X_test)\n",
        "accuracy_raw = accuracy_score(y_test, y_pred_raw)\n",
        "\n",
        "# -------- Train on Standardized (Scaled) Data --------\n",
        "scaler = StandardScaler()\n",
        "X_train_scaled = scaler.fit_transform(X_train)\n",
        "X_test_scaled = scaler.transform(X_test)\n",
        "\n",
        "model_scaled = LogisticRegression(max_iter=1000)\n",
        "model_scaled.fit(X_train_scaled, y_train)\n",
        "y_pred_scaled = model_scaled.predict(X_test_scaled)\n",
        "accuracy_scaled = accuracy_score(y_test, y_pred_scaled)\n",
        "\n",
        "# -------- Results --------\n",
        "print(\"Logistic Regression Accuracy Comparison:\")\n",
        "print(f\"- Without Scaling:  {accuracy_raw:.4f}\")\n",
        "print(f\"- With Scaling:     {accuracy_scaled:.4f}\")"
      ],
      "metadata": {
        "colab": {
          "base_uri": "https://localhost:8080/"
        },
        "id": "ZiNrPZgpJGgK",
        "outputId": "ee159f03-f701-4da8-e770-c3f5cc2fbbd0"
      },
      "execution_count": 28,
      "outputs": [
        {
          "output_type": "stream",
          "name": "stdout",
          "text": [
            "Logistic Regression Accuracy Comparison:\n",
            "- Without Scaling:  0.9649\n",
            "- With Scaling:     0.9825\n"
          ]
        }
      ]
    },
    {
      "cell_type": "markdown",
      "source": [
        "**Q24. Write a Python program to train Logistic Regression and find the optimal C (regularization strength) using**\n",
        "**cross-validation.**"
      ],
      "metadata": {
        "id": "zBZc9Py77xLt"
      }
    },
    {
      "cell_type": "code",
      "source": [
        "import numpy as np\n",
        "from sklearn.datasets import load_breast_cancer\n",
        "from sklearn.linear_model import LogisticRegression\n",
        "from sklearn.model_selection import GridSearchCV, train_test_split\n",
        "from sklearn.preprocessing import StandardScaler\n",
        "\n",
        "# Load dataset\n",
        "data = load_breast_cancer()\n",
        "X = data.data\n",
        "y = data.target\n",
        "\n",
        "# Split dataset\n",
        "X_train, X_test, y_train, y_test = train_test_split(\n",
        "    X, y, test_size=0.2, random_state=42, stratify=y\n",
        ")\n",
        "\n",
        "# Feature scaling\n",
        "scaler = StandardScaler()\n",
        "X_train_scaled = scaler.fit_transform(X_train)\n",
        "X_test_scaled = scaler.transform(X_test)\n",
        "\n",
        "# Define model and hyperparameter grid\n",
        "model = LogisticRegression(max_iter=1000)\n",
        "param_grid = {\n",
        "    'C': np.logspace(-4, 4, 10)  # Try values of C from 1e-4 to 1e4\n",
        "}\n",
        "\n",
        "# Perform cross-validation\n",
        "grid_search = GridSearchCV(model, param_grid, cv=5, scoring='accuracy')\n",
        "grid_search.fit(X_train_scaled, y_train)\n",
        "\n",
        "# Get best results\n",
        "best_C = grid_search.best_params_['C']\n",
        "best_score = grid_search.best_score_\n",
        "\n",
        "print(f\"Best C (Regularization Strength): {best_C}\")\n",
        "print(f\"Cross-Validated Accuracy: {best_score:.4f}\")"
      ],
      "metadata": {
        "colab": {
          "base_uri": "https://localhost:8080/"
        },
        "id": "qxp9C8hYJSJK",
        "outputId": "18cda26d-dcf5-4657-d3d6-3888c75f7bd3"
      },
      "execution_count": 29,
      "outputs": [
        {
          "output_type": "stream",
          "name": "stdout",
          "text": [
            "Best C (Regularization Strength): 0.3593813663804626\n",
            "Cross-Validated Accuracy: 0.9780\n"
          ]
        }
      ]
    },
    {
      "cell_type": "markdown",
      "source": [
        "**Q25. Write a Python program to train Logistic Regression, save the trained model using joblib, and load it again to**\n",
        "**make predictions.**"
      ],
      "metadata": {
        "id": "0NWcyokY73PK"
      }
    },
    {
      "cell_type": "code",
      "source": [
        "import joblib\n",
        "from sklearn.datasets import load_breast_cancer\n",
        "from sklearn.linear_model import LogisticRegression\n",
        "from sklearn.model_selection import train_test_split\n",
        "from sklearn.preprocessing import StandardScaler\n",
        "from sklearn.metrics import accuracy_score\n",
        "\n",
        "# Load dataset\n",
        "data = load_breast_cancer()\n",
        "X = data.data\n",
        "y = data.target\n",
        "\n",
        "# Split into train and test sets\n",
        "X_train, X_test, y_train, y_test = train_test_split(\n",
        "    X, y, test_size=0.2, random_state=42, stratify=y\n",
        ")\n",
        "\n",
        "# Standardize features\n",
        "scaler = StandardScaler()\n",
        "X_train_scaled = scaler.fit_transform(X_train)\n",
        "X_test_scaled = scaler.transform(X_test)\n",
        "\n",
        "# Train Logistic Regression\n",
        "model = LogisticRegression(max_iter=1000)\n",
        "model.fit(X_train_scaled, y_train)\n",
        "\n",
        "# Save the model and scaler\n",
        "joblib.dump(model, \"logistic_model.joblib\")\n",
        "joblib.dump(scaler, \"scaler.joblib\")\n",
        "\n",
        "print(\"Model and scaler saved successfully.\")\n",
        "\n",
        "# Load the model and scaler\n",
        "loaded_model = joblib.load(\"logistic_model.joblib\")\n",
        "loaded_scaler = joblib.load(\"scaler.joblib\")\n",
        "\n",
        "# Scale the test data again using the loaded scaler\n",
        "X_test_scaled_loaded = loaded_scaler.transform(X_test)\n",
        "\n",
        "# Make predictions with the loaded model\n",
        "y_pred = loaded_model.predict(X_test_scaled_loaded)\n",
        "\n",
        "# Evaluate accuracy\n",
        "accuracy = accuracy_score(y_test, y_pred)\n",
        "print(f\"Accuracy of loaded model: {accuracy:.4f}\")"
      ],
      "metadata": {
        "colab": {
          "base_uri": "https://localhost:8080/"
        },
        "id": "INbaaAHRJdZ7",
        "outputId": "2848de40-cf8b-454d-9c5b-544857a0209b"
      },
      "execution_count": 30,
      "outputs": [
        {
          "output_type": "stream",
          "name": "stdout",
          "text": [
            "Model and scaler saved successfully.\n",
            "Accuracy of loaded model: 0.9825\n"
          ]
        }
      ]
    }
  ]
}