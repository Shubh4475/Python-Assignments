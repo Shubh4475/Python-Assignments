{
  "nbformat": 4,
  "nbformat_minor": 0,
  "metadata": {
    "colab": {
      "provenance": []
    },
    "kernelspec": {
      "name": "python3",
      "display_name": "Python 3"
    },
    "language_info": {
      "name": "python"
    }
  },
  "cells": [
    {
      "cell_type": "markdown",
      "source": [
        "### **THEORETICAL QUESTIONS:**"
      ],
      "metadata": {
        "id": "OjJ5sPp03G9l"
      }
    },
    {
      "cell_type": "markdown",
      "source": [
        "**Q1. What is a Support Vector Machine (SVM)?**"
      ],
      "metadata": {
        "id": "moHuCnL53PpH"
      }
    },
    {
      "cell_type": "markdown",
      "source": [
        "**Ans:** A **Support Vector Machine (SVM)** is a powerful supervised machine learning algorithm used for **classification**, **regression**, and **outlier detection** tasks. It works especially well for **binary classification** problems and high-dimensional spaces.\n",
        "\n",
        "---\n",
        "\n",
        "### ✅ **Key Concept:**\n",
        "\n",
        "SVM tries to find the **optimal hyperplane** that **best separates** data points of different classes with the **maximum margin**.\n",
        "\n",
        "---\n",
        "\n",
        "### 🔍 **How It Works (Classification):**\n",
        "\n",
        "* Imagine data points plotted in space.\n",
        "* SVM finds a **hyperplane** (line in 2D, plane in 3D, etc.) that:\n",
        "\n",
        "  * Maximally separates the classes.\n",
        "  * Leaves the **widest margin** between the nearest data points from each class (called **support vectors**).\n",
        "\n",
        "---\n",
        "\n",
        "### 📐 **Mathematical Objective:**\n",
        "\n",
        "* Maximize the **margin** = distance between hyperplane and nearest points of both classes.\n",
        "* Subject to constraints that all points are correctly classified (for linear separable case).\n",
        "\n",
        "---\n",
        "\n",
        "### 🧠 **Key Features:**\n",
        "\n",
        "| Feature                | Description                                                                  |\n",
        "| ---------------------- | ---------------------------------------------------------------------------- |\n",
        "| **Support Vectors**    | Data points closest to the hyperplane; they “support” the decision boundary  |\n",
        "| **Kernel Trick**       | Allows SVM to work in high-dimensional feature spaces using kernel functions |\n",
        "| **Regularization (C)** | Controls trade-off between margin size and classification error              |\n",
        "\n",
        "---\n",
        "\n",
        "### 🧰 **Common Kernels:**\n",
        "\n",
        "* **Linear** – When data is linearly separable.\n",
        "* **RBF (Gaussian)** – For complex, non-linear data.\n",
        "* **Polynomial** – For curved boundaries.\n",
        "\n",
        "---\n",
        "\n",
        "### 📈 **SVM is Good For:**\n",
        "\n",
        "* High-dimensional data (e.g., text classification)\n",
        "* Margin-based classification\n",
        "* Small to medium-sized datasets\n",
        "\n",
        "---\n",
        "\n",
        "### ❌ **Limitations:**\n",
        "\n",
        "* Slower with very large datasets\n",
        "* Sensitive to choice of kernel and hyperparameters\n",
        "* Doesn't perform well with overlapping classes (noisy data)\n",
        "\n",
        "---\n",
        "\n"
      ],
      "metadata": {
        "id": "jBGwSkkr7JsZ"
      }
    },
    {
      "cell_type": "markdown",
      "source": [
        "**Q2. What is the difference between Hard Margin and Soft Margin SVM?**"
      ],
      "metadata": {
        "id": "CjZAEfoP3XIG"
      }
    },
    {
      "cell_type": "markdown",
      "source": [
        "**Ans:** The **difference between Hard Margin and Soft Margin SVM** lies in how strictly the algorithm enforces separation between classes and handles misclassified or overlapping data points.\n",
        "\n",
        "---\n",
        "\n",
        "### 🧱 **1. Hard Margin SVM**\n",
        "\n",
        "#### 🔍 Definition:\n",
        "\n",
        "* Tries to find a hyperplane that **perfectly separates** the classes **without any misclassification**.\n",
        "* Assumes the data is **linearly separable**.\n",
        "\n",
        "#### ✅ Pros:\n",
        "\n",
        "* Simpler and works well with **clean, linearly separable** data.\n",
        "\n",
        "#### ❌ Cons:\n",
        "\n",
        "* **Not robust to noise** or **overlapping** classes.\n",
        "* Will fail or overfit when classes are not perfectly separable.\n",
        "\n",
        "#### 📐 Constraint:\n",
        "\n",
        "All training points must satisfy:\n",
        "\n",
        "$$\n",
        "y_i(w \\cdot x_i + b) \\geq 1\n",
        "$$\n",
        "\n",
        "---\n",
        "\n",
        "### 🌾 **2. Soft Margin SVM**\n",
        "\n",
        "#### 🔍 Definition:\n",
        "\n",
        "* Allows **some misclassification** or overlap of data by introducing **slack variables**.\n",
        "* Adds a **penalty** for violating the margin, controlled by a parameter **C**.\n",
        "\n",
        "#### ✅ Pros:\n",
        "\n",
        "* Handles **noisy** or **non-linearly separable** data better.\n",
        "* **More flexible and practical** for real-world problems.\n",
        "\n",
        "#### ❌ Cons:\n",
        "\n",
        "* Requires **tuning** of the regularization parameter `C`.\n",
        "\n",
        "#### 📐 Optimization:\n",
        "\n",
        "Minimizes:\n",
        "\n",
        "$$\n",
        "\\frac{1}{2} \\|w\\|^2 + C \\sum \\xi_i\n",
        "$$\n",
        "\n",
        "Subject to:\n",
        "\n",
        "$$\n",
        "y_i(w \\cdot x_i + b) \\geq 1 - \\xi_i, \\quad \\xi_i \\geq 0\n",
        "$$\n",
        "\n",
        "Where:\n",
        "\n",
        "* $\\xi_i$ are slack variables (allow margin violations)\n",
        "* $C$ controls the trade-off between margin size and misclassification\n",
        "\n",
        "---\n",
        "\n",
        "### ⚖️ Summary Comparison:\n",
        "\n",
        "| Feature           | Hard Margin SVM     | Soft Margin SVM                             |\n",
        "| ----------------- | ------------------- | ------------------------------------------- |\n",
        "| Misclassification | Not allowed         | Allowed (penalized with slack variables)    |\n",
        "| Noise Tolerance   | Low                 | High                                        |\n",
        "| Data Requirements | Perfectly separable | Works with overlapping or noisy data        |\n",
        "| Flexibility       | Rigid               | Flexible via `C` (regularization parameter) |\n",
        "\n",
        "---\n",
        "\n"
      ],
      "metadata": {
        "id": "vk63Fqy27YNf"
      }
    },
    {
      "cell_type": "markdown",
      "source": [
        "**Q3. What is the mathematical intuition behind SVM?**"
      ],
      "metadata": {
        "id": "I-PTXaOS3a7Q"
      }
    },
    {
      "cell_type": "markdown",
      "source": [
        "**Ans:** The **mathematical intuition behind Support Vector Machines (SVM)** revolves around finding the **best decision boundary** (a hyperplane) that **maximally separates** different classes with the **widest margin**. Let’s break this down:\n",
        "\n",
        "---\n",
        "\n",
        "### 🔧 1. **Objective: Maximize the Margin**\n",
        "\n",
        "* For a binary classification problem:\n",
        "\n",
        "  * Each data point is a vector $\\mathbf{x}_i \\in \\mathbb{R}^n$\n",
        "  * It has a label $y_i \\in \\{-1, +1\\}$\n",
        "  * The decision boundary is defined by a **hyperplane**:\n",
        "\n",
        "    $$\n",
        "    \\mathbf{w} \\cdot \\mathbf{x} + b = 0\n",
        "    $$\n",
        "\n",
        "* The margin is the distance between the hyperplane and the **closest data points** (support vectors). The goal is to **maximize this margin**.\n",
        "\n",
        "---\n",
        "\n",
        "### 📐 2. **Margin Formulation**\n",
        "\n",
        "* The distance of a point $\\mathbf{x}_i$ from the hyperplane is:\n",
        "\n",
        "  $$\n",
        "  \\text{Distance} = \\frac{|\\mathbf{w} \\cdot \\mathbf{x}_i + b|}{\\|\\mathbf{w}\\|}\n",
        "  $$\n",
        "\n",
        "* To maximize the margin, we minimize $\\|\\mathbf{w}\\|$, while ensuring:\n",
        "\n",
        "  $$\n",
        "  y_i (\\mathbf{w} \\cdot \\mathbf{x}_i + b) \\geq 1\n",
        "  $$\n",
        "\n",
        "---\n",
        "\n",
        "### 🧮 3. **Hard Margin Optimization Problem**\n",
        "\n",
        "For linearly separable data:\n",
        "\n",
        "$$\n",
        "\\begin{aligned}\n",
        "\\text{Minimize:} \\quad & \\frac{1}{2} \\|\\mathbf{w}\\|^2 \\\\\n",
        "\\text{Subject to:} \\quad & y_i (\\mathbf{w} \\cdot \\mathbf{x}_i + b) \\geq 1, \\quad \\forall i\n",
        "\\end{aligned}\n",
        "$$\n",
        "\n",
        "This is a **convex quadratic optimization** problem.\n",
        "\n",
        "---\n",
        "\n",
        "### 🌾 4. **Soft Margin SVM (with Slack Variables)**\n",
        "\n",
        "For noisy or overlapping data, introduce **slack variables** $\\xi_i \\geq 0$:\n",
        "\n",
        "$$\n",
        "\\begin{aligned}\n",
        "\\text{Minimize:} \\quad & \\frac{1}{2} \\|\\mathbf{w}\\|^2 + C \\sum \\xi_i \\\\\n",
        "\\text{Subject to:} \\quad & y_i (\\mathbf{w} \\cdot \\mathbf{x}_i + b) \\geq 1 - \\xi_i\n",
        "\\end{aligned}\n",
        "$$\n",
        "\n",
        "* $C$ is a **regularization parameter** balancing margin size and classification error.\n",
        "\n",
        "---\n",
        "\n",
        "### 🎯 5. **The Dual Problem and the Kernel Trick**\n",
        "\n",
        "Instead of solving the problem in **primal space**, we can solve the **dual form**, which depends only on **dot products** of input vectors:\n",
        "\n",
        "$$\n",
        "\\text{Maximize:} \\quad L_D(\\alpha) = \\sum_i \\alpha_i - \\frac{1}{2} \\sum_i \\sum_j \\alpha_i \\alpha_j y_i y_j \\langle \\mathbf{x}_i, \\mathbf{x}_j \\rangle\n",
        "$$\n",
        "\n",
        "Subject to:\n",
        "\n",
        "$$\n",
        "\\sum_i \\alpha_i y_i = 0, \\quad 0 \\leq \\alpha_i \\leq C\n",
        "$$\n",
        "\n",
        "This lets us use **kernels** like:\n",
        "\n",
        "* Linear: $K(x_i, x_j) = x_i \\cdot x_j$\n",
        "* Polynomial: $K(x_i, x_j) = (x_i \\cdot x_j + 1)^d$\n",
        "* RBF (Gaussian): $K(x_i, x_j) = \\exp\\left(-\\gamma \\|x_i - x_j\\|^2\\right)$\n",
        "\n",
        "---\n",
        "\n",
        "### 🧠 Intuition Summary\n",
        "\n",
        "* **SVM chooses the hyperplane that maximizes the margin** between classes.\n",
        "* **Only support vectors matter** in determining the hyperplane.\n",
        "* **Slack variables** allow soft margins for better generalization.\n",
        "* **Kernels** let SVM model non-linear decision boundaries.\n",
        "\n",
        "---\n",
        "\n",
        "\n"
      ],
      "metadata": {
        "id": "0MiHUNYj7o4j"
      }
    },
    {
      "cell_type": "markdown",
      "source": [
        "**Q4. What is the role of Lagrange Multipliers in SVM?**"
      ],
      "metadata": {
        "id": "5QktNmls3fZ-"
      }
    },
    {
      "cell_type": "markdown",
      "source": [
        "**Ans:** The **Lagrange multipliers** play a crucial role in the mathematical formulation and solution of the **Support Vector Machine (SVM)** optimization problem — especially when using the **dual form** of the SVM.\n",
        "\n",
        "---\n",
        "\n",
        "### 🎯 Goal Recap:\n",
        "\n",
        "In **hard-margin SVM**, we want to:\n",
        "\n",
        "$$\n",
        "\\min_{\\mathbf{w}, b} \\frac{1}{2} \\|\\mathbf{w}\\|^2\n",
        "$$\n",
        "\n",
        "subject to:\n",
        "\n",
        "$$\n",
        "y_i(\\mathbf{w} \\cdot \\mathbf{x}_i + b) \\geq 1 \\quad \\forall i\n",
        "$$\n",
        "\n",
        "This is a **constrained optimization problem**, and that’s where **Lagrange multipliers** come in.\n",
        "\n",
        "---\n",
        "\n",
        "## 🔧 The Role of Lagrange Multipliers\n",
        "\n",
        "To solve the constrained problem, we use the **Lagrangian formulation**:\n",
        "\n",
        "$$\n",
        "\\mathcal{L}(\\mathbf{w}, b, \\boldsymbol{\\alpha}) = \\frac{1}{2} \\|\\mathbf{w}\\|^2 - \\sum_{i=1}^{n} \\alpha_i [y_i (\\mathbf{w} \\cdot \\mathbf{x}_i + b) - 1]\n",
        "$$\n",
        "\n",
        "Here:\n",
        "\n",
        "* $\\alpha_i \\geq 0$ are the **Lagrange multipliers** (one for each constraint).\n",
        "* We aim to **minimize** $\\mathcal{L}$ w\\.r.t. $\\mathbf{w}$ and $b$, and **maximize** w\\.r.t. $\\alpha_i$.\n",
        "\n",
        "---\n",
        "\n",
        "## 🔁 Switch to the Dual Problem\n",
        "\n",
        "Solving the primal Lagrangian directly is inefficient. Instead, we:\n",
        "\n",
        "1. Derive the **dual problem** by differentiating $\\mathcal{L}$ with respect to $\\mathbf{w}$ and $b$.\n",
        "2. Substitute back into $\\mathcal{L}$ to express it purely in terms of $\\alpha_i$.\n",
        "\n",
        "The **dual optimization problem** becomes:\n",
        "\n",
        "$$\n",
        "\\max_{\\boldsymbol{\\alpha}} \\sum_{i=1}^{n} \\alpha_i - \\frac{1}{2} \\sum_{i=1}^{n} \\sum_{j=1}^{n} \\alpha_i \\alpha_j y_i y_j \\langle \\mathbf{x}_i, \\mathbf{x}_j \\rangle\n",
        "$$\n",
        "\n",
        "subject to:\n",
        "\n",
        "$$\n",
        "\\sum_{i=1}^{n} \\alpha_i y_i = 0, \\quad \\alpha_i \\geq 0\n",
        "$$\n",
        "\n",
        "---\n",
        "\n",
        "## 🧠 Interpretation of Lagrange Multipliers $\\alpha_i$\n",
        "\n",
        "* If $\\alpha_i = 0$: Point is **not** a support vector (it doesn't affect the boundary).\n",
        "* If $\\alpha_i > 0$: Point **lies on the margin** → **Support Vector**.\n",
        "* Lagrange multipliers help **select the critical data points** (support vectors) that define the optimal hyperplane.\n",
        "\n",
        "---\n",
        "\n",
        "## 🧩 Summary\n",
        "\n",
        "| Concept                     | Role of Lagrange Multipliers $\\alpha_i$    |\n",
        "| --------------------------- | ------------------------------------------ |\n",
        "| Handle constraints          | Enforce margin conditions via optimization |\n",
        "| Formulate dual problem      | Enable kernel trick and efficient solution |\n",
        "| Identify support vectors    | Only points with $\\alpha_i > 0$ matter     |\n",
        "| Allow non-linear separation | Dual form uses kernels on $x_i \\cdot x_j$  |\n",
        "\n",
        "---\n",
        "\n",
        "\n"
      ],
      "metadata": {
        "id": "3Kuj1ryg73Ug"
      }
    },
    {
      "cell_type": "markdown",
      "source": [
        "**Q5. What are Support Vectors in SVM?**"
      ],
      "metadata": {
        "id": "lFT-IqQ73jD6"
      }
    },
    {
      "cell_type": "markdown",
      "source": [
        "**Ans:** Support Vectors are the **key data points** in a **Support Vector Machine (SVM)** model that define the decision boundary. They are the closest points to the **separating hyperplane** and play a crucial role in determining the margin that separates different classes.\n",
        "\n",
        "### **Understanding Support Vectors**\n",
        "1. **Defining the Decision Boundary**  \n",
        "   - In **SVM**, the algorithm finds the hyperplane that best divides the dataset into classes.\n",
        "   - The optimal hyperplane maximizes the margin between the classes.\n",
        "   - **Support Vectors** are the **critical points** near the margin that help shape this boundary.\n",
        "\n",
        "2. **Mathematical Role**\n",
        "   - SVM constructs the hyperplane using only the Support Vectors, making it highly **robust**.\n",
        "   - Even if other points change, the hyperplane remains largely **unchanged** as long as the Support Vectors stay fixed.\n",
        "   - This is why SVM is **effective for high-dimensional spaces**.\n",
        "\n",
        "3. **Impact on Model Performance**\n",
        "   - Fewer Support Vectors can lead to **simpler models** but may **generalize poorly**.\n",
        "   - More Support Vectors can lead to **better generalization** but might slow down computation.\n",
        "\n",
        "### **Visualization**\n",
        "Imagine a dataset with two classes separated by a line. Support Vectors are **the closest points to this line**—the ones that define the margin. If you **remove or alter** them, the decision boundary may shift significantly.\n"
      ],
      "metadata": {
        "id": "zIh5Tmrv8KQh"
      }
    },
    {
      "cell_type": "markdown",
      "source": [
        "**Q6. What is a Support Vector Classifier (SVC)?**"
      ],
      "metadata": {
        "id": "7fkIFWjQ3m75"
      }
    },
    {
      "cell_type": "markdown",
      "source": [
        "**Ans:** A **Support Vector Classifier (SVC)** is a type of **Support Vector Machine (SVM)** specifically designed for classification tasks. It works by finding the optimal **hyperplane** that separates data points belonging to different classes while maximizing the margin between them.\n",
        "\n",
        "### **How SVC Works**\n",
        "1. **Finding the Optimal Hyperplane**  \n",
        "   - SVC aims to separate classes by constructing the widest possible margin.\n",
        "   - The **margin** is determined by the **Support Vectors**—the closest data points to the hyperplane.\n",
        "\n",
        "2. **Linear vs. Non-Linear Classification**  \n",
        "   - If the data is **linearly separable**, SVC finds a straight hyperplane.\n",
        "   - If the data is **non-linearly separable**, **Kernel functions** (e.g., polynomial, radial basis function) transform the data into a higher-dimensional space where a linear boundary can be created.\n",
        "\n",
        "3. **Mathematical Formulation**  \n",
        "   - SVC minimizes a loss function that balances maximizing the margin and handling misclassified points using a **regularization parameter (C)**.\n",
        "   - A larger **C** prioritizes correctly classifying all points but may lead to overfitting.\n",
        "   - A smaller **C** allows some misclassifications to improve generalization.\n",
        "\n",
        "### **Advantages of SVC**\n",
        "- Works well for **high-dimensional** data.\n",
        "- Can handle **non-linearly separable** data using **Kernels**.\n",
        "- Robust to outliers due to the reliance on **Support Vectors**.\n",
        "\n",
        "\n"
      ],
      "metadata": {
        "id": "E_ifKPUS8XCI"
      }
    },
    {
      "cell_type": "markdown",
      "source": [
        "**Q7. What is a Support Vector Regressor (SVR)?**"
      ],
      "metadata": {
        "id": "eCPXW9vD3xws"
      }
    },
    {
      "cell_type": "markdown",
      "source": [
        "**Ans:** A **Support Vector Regressor (SVR)** is a machine learning algorithm that applies **Support Vector Machine (SVM)** principles to regression tasks. Instead of finding a hyperplane that separates classes (like in classification), SVR finds a **best-fit hyperplane** that predicts continuous values while **maximizing the margin** around the data points.\n",
        "\n",
        "### **How SVR Works**\n",
        "1. **Margin-Based Regression**  \n",
        "   - Instead of focusing on classification, SVR **predicts continuous values** while allowing a **tolerance margin** (ε) around the hyperplane.  \n",
        "   - Only data points **outside the margin** influence model training.\n",
        "   \n",
        "2. **Error Handling & Loss Function**  \n",
        "   - SVR minimizes a **loss function** that penalizes deviations beyond the ε-margin.\n",
        "   - Unlike traditional regression, it does **not** minimize Mean Squared Error directly.\n",
        "   - The **regularization parameter (C)** controls the trade-off between maximizing margin and reducing errors.\n",
        "\n",
        "3. **Kernel Trick for Non-Linear Regression**  \n",
        "   - If the data is **non-linear**, SVR can use **Kernel functions** to map inputs to a higher-dimensional space.\n",
        "   - **Common kernels** include:\n",
        "     - **Linear Kernel** (for simple relationships)\n",
        "     - **Polynomial Kernel** (for complex curves)\n",
        "     - **Radial Basis Function (RBF) Kernel** (for non-linear patterns)\n",
        "\n",
        "### **Advantages of SVR**\n",
        "✅ **Works well for small datasets**  \n",
        "✅ **Handles high-dimensional feature spaces effectively**  \n",
        "✅ **Uses support vectors efficiently**, reducing computational overhead  \n",
        "\n",
        "### **Use Case Examples**\n",
        "- **Stock price prediction**\n",
        "- **Demand forecasting**\n",
        "- **House price estimation**\n",
        "- **Predicting trends in datasets (like Spotify, Amazon sales, or car sales)**—which you’ve explored before!\n",
        "\n"
      ],
      "metadata": {
        "id": "XKxM11-w8lnm"
      }
    },
    {
      "cell_type": "markdown",
      "source": [
        "**Q8. What is the Kernel Trick in SVM?**"
      ],
      "metadata": {
        "id": "4cbnVJ__30gr"
      }
    },
    {
      "cell_type": "markdown",
      "source": [
        "**Ans:** The **Kernel Trick** is a powerful mathematical technique in **Support Vector Machines (SVM)** that allows the model to **learn non-linear decision boundaries** by implicitly mapping input data into a **higher-dimensional space** — without explicitly performing the transformation.\n",
        "\n",
        "---\n",
        "\n",
        "### 🧠 **Core Idea**\n",
        "\n",
        "In its basic form, SVM finds a linear hyperplane in the input space. However, for **non-linearly separable data**, a linear boundary isn’t enough.\n",
        "\n",
        "To fix this, SVM:\n",
        "\n",
        "* Transforms the data into a higher-dimensional feature space where it **becomes linearly separable**.\n",
        "* Instead of computing the transformation directly, it uses a **kernel function** to compute the dot product in the transformed space.\n",
        "\n",
        "This is the **Kernel Trick**.\n",
        "\n",
        "---\n",
        "\n",
        "### 🧮 **Mathematical View**\n",
        "\n",
        "Suppose we map data using a function $\\phi(x)$ to a higher-dimensional space:\n",
        "\n",
        "Instead of computing:\n",
        "\n",
        "$$\n",
        "\\phi(x_i) \\cdot \\phi(x_j)\n",
        "$$\n",
        "\n",
        "We use a **kernel function** $K(x_i, x_j)$ such that:\n",
        "\n",
        "$$\n",
        "K(x_i, x_j) = \\phi(x_i) \\cdot \\phi(x_j)\n",
        "$$\n",
        "\n",
        "✅ This avoids computing $\\phi(x)$ explicitly — saving computation and memory.\n",
        "\n",
        "---\n",
        "\n",
        "### 🔑 **Common Kernel Functions**\n",
        "\n",
        "| Kernel             | Formula                                   | Use Case                                  |\n",
        "| ------------------ | ----------------------------------------- | ----------------------------------------- |\n",
        "| **Linear**         | $K(x, x') = x \\cdot x'$                   | Linearly separable data                   |\n",
        "| **Polynomial**     | $K(x, x') = (x \\cdot x' + c)^d$           | Captures polynomial relationships         |\n",
        "| **RBF (Gaussian)** | $K(x, x') = \\exp(-\\gamma \\|x - x'\\|^2)$   | Non-linear, localized decision boundaries |\n",
        "| **Sigmoid**        | $K(x, x') = \\tanh(\\alpha x \\cdot x' + c)$ | Similar to neural networks                |\n",
        "\n",
        "---\n",
        "\n",
        "### 📈 **Why It Works Well**\n",
        "\n",
        "* Can model **complex decision boundaries**.\n",
        "* Avoids the **curse of dimensionality** by **not explicitly transforming data**.\n",
        "* Makes SVM extremely flexible for a wide range of problems.\n",
        "\n",
        "---\n",
        "\n",
        "### ✅ **Example in Scikit-learn**\n",
        "\n",
        "```python\n",
        "from sklearn.svm import SVC\n",
        "\n",
        "# Use RBF kernel to handle non-linear separation\n",
        "model = SVC(kernel='rbf', C=1.0, gamma='scale')\n",
        "model.fit(X_train, y_train)\n",
        "```\n",
        "\n",
        "---\n",
        "\n",
        "### 🧠 Intuition Summary\n",
        "\n",
        "| Concept        | Meaning                                                                  |\n",
        "| -------------- | ------------------------------------------------------------------------ |\n",
        "| Kernel Trick   | Compute inner product in higher-dimensional space without transformation |\n",
        "| Why useful?    | Enables SVM to classify non-linear data                                  |\n",
        "| What it avoids | Explicit mapping into high-dimensional space (saves computation)         |\n",
        "\n",
        "---\n",
        "\n",
        "\n"
      ],
      "metadata": {
        "id": "Ku3ca_ud8_t3"
      }
    },
    {
      "cell_type": "markdown",
      "source": [
        "**Q9. Compare Linear Kernel, Polynomial Kernel, and RBF Kernel.**"
      ],
      "metadata": {
        "id": "RfRniJTE35NI"
      }
    },
    {
      "cell_type": "markdown",
      "source": [
        "**Ans:** Here’s a detailed **comparison of Linear, Polynomial, and RBF (Radial Basis Function) Kernels** used in Support Vector Machines (SVM):\n",
        "\n",
        "---\n",
        "\n",
        "### 🔍 Overview\n",
        "\n",
        "| Kernel Type        | Formula                                 | Key Hyperparameters        | Captures                              |\n",
        "| ------------------ | --------------------------------------- | -------------------------- | ------------------------------------- |\n",
        "| **Linear**         | $K(x, x') = x \\cdot x'$                 | None (or just `C`)         | Linear relationships                  |\n",
        "| **Polynomial**     | $K(x, x') = (\\gamma x \\cdot x' + r)^d$  | `degree`, `gamma`, `coef0` | Polynomial relationships (degree `d`) |\n",
        "| **RBF (Gaussian)** | $K(x, x') = \\exp(-\\gamma \\|x - x'\\|^2)$ | `gamma`                    | Local, smooth, nonlinear patterns     |\n",
        "\n",
        "---\n",
        "\n",
        "### 🧠 When to Use Each\n",
        "\n",
        "| Kernel         | Best Use Case                                                                 |\n",
        "| -------------- | ----------------------------------------------------------------------------- |\n",
        "| **Linear**     | When data is linearly separable or high-dimensional with fewer samples        |\n",
        "| **Polynomial** | When there’s a known polynomial relationship between features and classes     |\n",
        "| **RBF**        | Default for most tasks — works well for **complex, non-linear** relationships |\n",
        "\n",
        "---\n",
        "\n",
        "### ⚙️ Complexity & Performance\n",
        "\n",
        "| Kernel         | Training Time | Flexibility                        | Risk of Overfitting          |\n",
        "| -------------- | ------------- | ---------------------------------- | ---------------------------- |\n",
        "| **Linear**     | Fast          | Low (only linear)                  | Low                          |\n",
        "| **Polynomial** | Moderate      | Medium to high (depends on degree) | Medium to high               |\n",
        "| **RBF**        | Slower        | High                               | High (if gamma is too large) |\n",
        "\n",
        "---\n",
        "\n",
        "### 📈 Example Decision Boundaries\n",
        "\n",
        "* **Linear**: Straight lines or hyperplanes\n",
        "* **Polynomial**: Curved but globally consistent (e.g., circular, elliptical)\n",
        "* **RBF**: Curved, **localized** boundaries that adapt to data clusters\n",
        "\n",
        "---\n",
        "\n",
        "### 🧪 Scikit-learn Examples\n",
        "\n",
        "```python\n",
        "from sklearn.svm import SVC\n",
        "\n",
        "# Linear Kernel\n",
        "svc_linear = SVC(kernel='linear', C=1.0)\n",
        "\n",
        "# Polynomial Kernel\n",
        "svc_poly = SVC(kernel='poly', degree=3, gamma='scale', coef0=1, C=1.0)\n",
        "\n",
        "# RBF Kernel (default)\n",
        "svc_rbf = SVC(kernel='rbf', gamma='scale', C=1.0)\n",
        "```\n",
        "\n",
        "---\n",
        "\n",
        "### 🎯 Summary Table\n",
        "\n",
        "| Feature               | Linear Kernel | Polynomial Kernel          | RBF Kernel           |\n",
        "| --------------------- | ------------- | -------------------------- | -------------------- |\n",
        "| Simplicity            | ✅ Simple      | ⚠️ Medium complexity       | ⚠️ Higher complexity |\n",
        "| Works for non-linear? | ❌ No          | ✅ Some                     | ✅✅ Very well         |\n",
        "| Hyperparameter tuning | Minimal       | Needed (`degree`, `coef0`) | Needed (`gamma`)     |\n",
        "| Default in sklearn?   | ❌ No          | ❌ No                       | ✅ Yes                |\n",
        "\n",
        "---\n",
        "\n"
      ],
      "metadata": {
        "id": "1Y-oVIhz9PLr"
      }
    },
    {
      "cell_type": "markdown",
      "source": [
        "**Q10. What is the effect of the C parameter in SVM?**"
      ],
      "metadata": {
        "id": "eWM6sjrk39eq"
      }
    },
    {
      "cell_type": "markdown",
      "source": [
        "**Ans:** The **C parameter** in Support Vector Machines (SVM) controls the **trade-off** between maximizing the margin and minimizing classification error. It acts as a **regularization parameter**, influencing how strictly the model penalizes misclassified points.\n",
        "\n",
        "### **Effect of C Parameter**\n",
        "1. **Small C (Soft Margin)**\n",
        "   - Prioritizes **maximizing the margin** between classes.\n",
        "   - Allows **some misclassifications** for better generalization.\n",
        "   - Works well when dealing with **noisy or complex datasets**.\n",
        "   - Prevents overfitting, but may lead to **underfitting**.\n",
        "\n",
        "2. **Large C (Hard Margin)**\n",
        "   - **Strongly penalizes misclassifications**, forcing the model to fit the training data more precisely.\n",
        "   - Can result in a **narrower margin**, making the decision boundary more complex.\n",
        "   - Works well when the dataset is **clean and well-separated**.\n",
        "   - Risk of **overfitting**, as the model memorizes specific points instead of learning the underlying pattern.\n",
        "\n",
        "### **Choosing the Right C Value**\n",
        "- **If the dataset has noise**, use a smaller C to avoid overfitting.\n",
        "- **If you need high accuracy on training data**, use a larger C.\n",
        "- **If your dataset has overlapping classes**, a moderate C might work best.\n",
        "\n",
        "### **Example in Python**\n",
        "```python\n",
        "from sklearn.svm import SVC\n",
        "model = SVC(C=1.0, kernel='linear')  # Default C value is 1.0\n",
        "```\n",
        "\n"
      ],
      "metadata": {
        "id": "e6SAR5Sr9ZJx"
      }
    },
    {
      "cell_type": "markdown",
      "source": [
        "**Q11. What is the role of the Gamma parameter in RBF Kernel SVM?**"
      ],
      "metadata": {
        "id": "6hyB5-AS4COy"
      }
    },
    {
      "cell_type": "markdown",
      "source": [
        "**Ans:** The **Gamma parameter** in **Radial Basis Function (RBF) Kernel SVM** controls how far the influence of a single data point reaches. It determines the **shape of the decision boundary**, affecting model complexity and generalization.\n",
        "\n",
        "### **Effect of Gamma in RBF Kernel**\n",
        "1. **Small Gamma (Low Complexity)**\n",
        "   - Points **far from a support vector** have **more influence** on the decision boundary.\n",
        "   - Leads to a **smoother, more generalized model**, which may **underfit** complex patterns.\n",
        "   - Works well when the data has **clear global structures**.\n",
        "\n",
        "2. **Large Gamma (High Complexity)**\n",
        "   - Points **only close to the support vector** influence the decision boundary.\n",
        "   - Creates a **highly flexible** model that can capture fine details.\n",
        "   - May lead to **overfitting**, as the decision boundary becomes too **specific** to the training set.\n",
        "\n",
        "### **Choosing the Right Gamma Value**\n",
        "- **If the dataset is simple**, a **smaller Gamma** keeps it generalized.\n",
        "- **If the dataset is complex**, a **larger Gamma** can capture intricate patterns.\n",
        "- **If overfitting occurs**, reducing **Gamma** might help.\n",
        "\n",
        "### **Gamma in Python (Scikit-Learn)**\n",
        "```python\n",
        "from sklearn.svm import SVC\n",
        "\n",
        "model = SVC(kernel='rbf', gamma=0.1)  # Lower gamma for smooth boundary\n",
        "model_high = SVC(kernel='rbf', gamma=10)  # Higher gamma for complex decision boundary\n",
        "```\n",
        "\n",
        "\n"
      ],
      "metadata": {
        "id": "tOdjqWeX9j_w"
      }
    },
    {
      "cell_type": "markdown",
      "source": [
        "**Q12.  What is the Naïve Bayes classifier, and why is it called \"Naïve\"?**"
      ],
      "metadata": {
        "id": "9NInLcJX4FxS"
      }
    },
    {
      "cell_type": "markdown",
      "source": [
        "The **Naïve Bayes classifier** is a **probabilistic machine learning algorithm** based on **Bayes' Theorem** with a **strong (naïve) assumption** of **feature independence**.\n",
        "\n",
        "---\n",
        "\n",
        "### 🧠 **Core Idea (Bayes' Theorem)**\n",
        "\n",
        "Bayes' Theorem calculates the probability of a class given the features:\n",
        "\n",
        "$$\n",
        "P(C \\mid X) = \\frac{P(X \\mid C) \\cdot P(C)}{P(X)}\n",
        "$$\n",
        "\n",
        "Where:\n",
        "\n",
        "* $P(C \\mid X)$: Posterior probability of class $C$ given features $X$\n",
        "* $P(X \\mid C)$: Likelihood of features given the class\n",
        "* $P(C)$: Prior probability of the class\n",
        "* $P(X)$: Marginal probability of the features\n",
        "\n",
        "---\n",
        "\n",
        "### 🤓 Why Is It Called \"**Naïve**\"?\n",
        "\n",
        "Because it **assumes that all features are conditionally independent** given the class label:\n",
        "\n",
        "$$\n",
        "P(X_1, X_2, \\dots, X_n \\mid C) = \\prod_{i=1}^n P(X_i \\mid C)\n",
        "$$\n",
        "\n",
        "This is **rarely true in real-world data**, but the classifier **still performs surprisingly well**, especially in:\n",
        "\n",
        "* **Text classification**\n",
        "* **Spam detection**\n",
        "* **Sentiment analysis**\n",
        "\n",
        "---\n",
        "\n",
        "### 📦 Types of Naïve Bayes Classifiers\n",
        "\n",
        "| Variant           | Feature Type Handled                       |\n",
        "| ----------------- | ------------------------------------------ |\n",
        "| **GaussianNB**    | Continuous data (uses normal distribution) |\n",
        "| **MultinomialNB** | Discrete counts (e.g. word frequencies)    |\n",
        "| **BernoulliNB**   | Binary features (e.g. word presence)       |\n",
        "\n",
        "---\n",
        "\n",
        "### ✅ **Advantages**\n",
        "\n",
        "* Fast and simple\n",
        "* Works well with high-dimensional data\n",
        "* Requires small amounts of training data\n",
        "\n",
        "---\n",
        "\n",
        "### ⚠️ **Limitations**\n",
        "\n",
        "* Assumes **independence** between features (often violated)\n",
        "* Can struggle with **correlated** or **numeric** features if not handled properly\n",
        "\n",
        "---\n",
        "\n",
        "### 🔍 Example Use Case: Text Classification\n",
        "\n",
        "For spam detection:\n",
        "\n",
        "* Words are treated as independent features.\n",
        "* Even if the assumption is naïve, the model is efficient and accurate.\n",
        "\n",
        "---\n",
        "\n",
        "### 🧪 Python Example\n",
        "\n",
        "```python\n",
        "from sklearn.naive_bayes import MultinomialNB\n",
        "from sklearn.feature_extraction.text import CountVectorizer\n",
        "from sklearn.pipeline import make_pipeline\n",
        "\n",
        "model = make_pipeline(CountVectorizer(), MultinomialNB())\n",
        "model.fit(texts_train, labels_train)\n",
        "print(model.score(texts_test, labels_test))\n",
        "```\n",
        "\n",
        "---\n",
        "\n",
        "### 📌 Summary\n",
        "\n",
        "| Feature          | Description                                             |\n",
        "| ---------------- | ------------------------------------------------------- |\n",
        "| Based on         | Bayes’ Theorem                                          |\n",
        "| \"Naïve\" because  | Assumes feature independence given the class            |\n",
        "| Performs well on | Text, spam, sentiment, document classification          |\n",
        "| Key strength     | Fast, scalable, requires few data points                |\n",
        "| Key weakness     | May underperform with correlated or continuous features |\n",
        "\n",
        "---\n",
        "\n",
        "\n"
      ],
      "metadata": {
        "id": "z6E8ZBqH9vfG"
      }
    },
    {
      "cell_type": "markdown",
      "source": [
        "**Q13. What is Bayes’ Theorem?**"
      ],
      "metadata": {
        "id": "U_oWWmA34Jf3"
      }
    },
    {
      "cell_type": "markdown",
      "source": [
        "**Ans:** **Bayes’ Theorem** is a fundamental rule in probability theory used to update the **probability of a hypothesis** based on new evidence. It describes the relationship between the **prior** and **posterior** probabilities of an event, given some **observed data**.\n",
        "\n",
        "---\n",
        "\n",
        "### 🧠 **Bayes’ Theorem Formula**\n",
        "\n",
        "$$\n",
        "P(A \\mid B) = \\frac{P(B \\mid A) \\cdot P(A)}{P(B)}\n",
        "$$\n",
        "\n",
        "Where:\n",
        "\n",
        "| Term          | Meaning                                                        |\n",
        "| ------------- | -------------------------------------------------------------- |\n",
        "| $P(A \\mid B)$ | **Posterior**: Probability of event A given B (updated belief) |\n",
        "| $P(B \\mid A)$ | **Likelihood**: Probability of observing B given A             |\n",
        "| $P(A)$        | **Prior**: Initial probability of A (before seeing B)          |\n",
        "| $P(B)$        | **Evidence**: Total probability of B occurring                 |\n",
        "\n",
        "---\n",
        "\n",
        "### 📦 **Interpretation Example**\n",
        "\n",
        "Let’s say you’re testing for a rare disease:\n",
        "\n",
        "* $A$: Person has the disease\n",
        "* $B$: Test result is positive\n",
        "\n",
        "Even if the test is accurate, **if the disease is rare**, the probability someone actually has it after a positive test (**posterior**) might still be low.\n",
        "\n",
        "Bayes’ Theorem lets you compute that probability by balancing:\n",
        "\n",
        "* How likely they were to have the disease beforehand (**prior**)\n",
        "* How accurate the test is (**likelihood**)\n",
        "\n",
        "---\n",
        "\n",
        "### 📘 **Real-World Applications**\n",
        "\n",
        "| Field                 | Use Case                                               |\n",
        "| --------------------- | ------------------------------------------------------ |\n",
        "| **Medical Diagnosis** | Update probability of disease based on symptoms/tests  |\n",
        "| **Spam Filtering**    | Probability of an email being spam given certain words |\n",
        "| **Machine Learning**  | Naïve Bayes classifier and probabilistic models        |\n",
        "| **Finance**           | Risk assessment, fraud detection                       |\n",
        "\n",
        "---\n",
        "\n",
        "### 🔍 Simple Numeric Example\n",
        "\n",
        "Suppose:\n",
        "\n",
        "* 1% of people have a disease (prior): $P(D) = 0.01$\n",
        "* The test is 99% accurate: $P(\\text{Positive} \\mid D) = 0.99$\n",
        "* False positive rate is 5%: $P(\\text{Positive} \\mid \\text{No D}) = 0.05$\n",
        "\n",
        "Then the probability someone **actually has the disease given a positive test** is:\n",
        "\n",
        "$$\n",
        "P(D \\mid \\text{Positive}) = \\frac{0.99 \\cdot 0.01}{0.99 \\cdot 0.01 + 0.05 \\cdot 0.99} \\approx 0.17\n",
        "$$\n",
        "\n",
        "✅ So, despite a positive test, the chance of having the disease is only **17%**.\n",
        "\n",
        "---\n",
        "\n",
        "### 📌 Summary\n",
        "\n",
        "| Term            | Description                                          |\n",
        "| --------------- | ---------------------------------------------------- |\n",
        "| **Bayes' Rule** | Updates belief based on new evidence                 |\n",
        "| **Used in**     | Classification, diagnosis, filtering                 |\n",
        "| **Key Idea**    | Combine prior belief and likelihood to get posterior |\n",
        "\n",
        "---\n",
        "\n",
        "\n"
      ],
      "metadata": {
        "id": "nWr0E1x4-cIW"
      }
    },
    {
      "cell_type": "markdown",
      "source": [
        "**Q14. Explain the differences between Gaussian Naïve Bayes, Multinomial Naïve Bayes, and Bernoulli Naïve Bayes.**"
      ],
      "metadata": {
        "id": "mMd2zIW74ONy"
      }
    },
    {
      "cell_type": "markdown",
      "source": [
        "**Ans:** The three main variants of **Naïve Bayes classifiers**—**Gaussian, Multinomial, and Bernoulli**—each work best for different types of data. Here’s how they differ:\n",
        "\n",
        "### **1. Gaussian Naïve Bayes (GNB)**\n",
        "   - **Best for:** Continuous numerical data\n",
        "   - **Assumption:** Features follow a **normal (Gaussian) distribution**.\n",
        "   - **Formula:** Uses **mean** and **variance** of features to estimate probabilities.\n",
        "   - **Example Use Cases:** Predicting **iris species**, **medical diagnoses**, and **sensor data analysis**.\n",
        "   - **Limitation:** Not suitable for discrete or categorical features.\n",
        "\n",
        "### **2. Multinomial Naïve Bayes (MNB)**\n",
        "   - **Best for:** Discrete data (count-based features)\n",
        "   - **Assumption:** Features represent **word counts or frequencies**.\n",
        "   - **Formula:** Uses **word occurrence probabilities**.\n",
        "   - **Example Use Cases:** **Text classification**, **spam detection**, **sentiment analysis**.\n",
        "   - **Limitation:** Requires features to be count-based (Bag-of-Words, TF-IDF).\n",
        "\n",
        "### **3. Bernoulli Naïve Bayes (BNB)**\n",
        "   - **Best for:** Binary data (0 or 1 values)\n",
        "   - **Assumption:** Features represent **presence or absence** of a feature.\n",
        "   - **Formula:** Uses **Bernoulli distribution** for binary indicators.\n",
        "   - **Example Use Cases:** **Spam filtering** (word presence/absence), **document classification**, **image recognition** (binary pixels).\n",
        "   - **Limitation:** Doesn’t work well with count-based features.\n",
        "\n",
        "### **Key Differences**\n",
        "| Variant      | Works With          | Assumes Distribution | Use Cases |\n",
        "|-------------|---------------------|----------------------|-----------|\n",
        "| **Gaussian**  | Continuous data       | Normal distribution | Medical, sensor data |\n",
        "| **Multinomial** | Count-based features  | Word frequency-based | Text classification |\n",
        "| **Bernoulli**  | Binary features       | Presence/absence of features | Spam detection |\n",
        "\n"
      ],
      "metadata": {
        "id": "QuvbCppv-nCh"
      }
    },
    {
      "cell_type": "markdown",
      "source": [
        "**Q15. When should you use Gaussian Naïve Bayes over other variants?**"
      ],
      "metadata": {
        "id": "ublUGnNS4TKr"
      }
    },
    {
      "cell_type": "markdown",
      "source": [
        "**Ans:** ### **When to Use Gaussian Naïve Bayes (GNB)**\n",
        "Gaussian Naïve Bayes is best suited for **continuous numerical data** that follows a **normal distribution**. Here’s when you should choose GNB over other Naïve Bayes variants:\n",
        "\n",
        "### **1. Dataset Contains Continuous Features**\n",
        "✅ **Ideal for:** Numerical attributes such as **temperature, height, weight, financial data, or sensor readings**.  \n",
        "❌ **Not suitable for:** Count-based features like word frequency in text classification.\n",
        "\n",
        "### **2. Assumption of Normal Distribution Holds**\n",
        "✅ Works well when features are **normally distributed** (bell-shaped curve).  \n",
        "❌ If features are highly skewed or non-Gaussian, **Multinomial or Bernoulli Naïve Bayes** might perform better.\n",
        "\n",
        "### **3. Faster and Simpler Computation**\n",
        "✅ **Computational efficiency** due to simple probability calculations based on **mean** and **variance**.  \n",
        "❌ Struggles when features have complex dependencies or discrete counts.\n",
        "\n",
        "### **Examples Where Gaussian Naïve Bayes Works Best**\n",
        "- **Medical diagnoses (e.g., predicting diseases based on blood pressure, BMI, cholesterol levels)**\n",
        "- **Iris flower classification (continuous petal/sepal length and width)**\n",
        "- **Stock price movement prediction**\n",
        "- **Weather classification (humidity, temperature trends)**\n",
        "\n",
        "### **Choosing Between Naïve Bayes Variants**\n",
        "| Variant      | Works Best For | Feature Type |\n",
        "|-------------|--------------|-------------|\n",
        "| **Gaussian** | Continuous numerical data | Real-valued features (e.g., height, weight) |\n",
        "| **Multinomial** | Text classification (word frequency) | Count-based features |\n",
        "| **Bernoulli** | Binary classification | Presence/absence of features |\n"
      ],
      "metadata": {
        "id": "MHmUS-B--xoa"
      }
    },
    {
      "cell_type": "markdown",
      "source": [
        "**Q16. What are the key assumptions made by Naïve Bayes?**"
      ],
      "metadata": {
        "id": "P2HyNPK04W87"
      }
    },
    {
      "cell_type": "markdown",
      "source": [
        "Ans: Naïve Bayes makes a few fundamental assumptions to simplify probability calculations, which can be strong or unrealistic in some cases but still often lead to surprisingly effective models. Here are the key assumptions:\n",
        "\n",
        "### **1. Feature Independence (The \"Naïve\" Assumption)**\n",
        "- The model assumes that **all features are independent**, meaning the presence of one feature does **not** affect the presence of another.\n",
        "- This assumption rarely holds in real-world data, but it simplifies probability calculations using **Bayes' Theorem**.\n",
        "  \n",
        "### **2. Equal Importance of Features**\n",
        "- Each feature contributes **independently** to the final classification.\n",
        "- There’s **no feature interaction**—this means that relationships between features aren’t considered.\n",
        "  \n",
        "### **3. Conditional Probability Based on Prior Knowledge**\n",
        "- The classifier estimates probabilities using **training data**, assuming the past distribution applies to new unseen data.\n",
        "- It follows Bayes' Theorem:  \n",
        "$$\n",
        "  [\n",
        "  P(Y | X) = \\frac{P(X | Y) P(Y)}{P(X)}\n",
        "  ]\n",
        "  $$\n",
        "### **4. Distribution-Specific Assumptions**\n",
        "- **Gaussian Naïve Bayes** assumes **features are normally distributed** when dealing with continuous data.\n",
        "- **Multinomial Naïve Bayes** assumes **word counts follow multinomial distribution** (common in text classification).\n",
        "- **Bernoulli Naïve Bayes** assumes **binary features follow Bernoulli distribution** (0 or 1 values).\n",
        "\n",
        "Despite these strong assumptions, **Naïve Bayes is highly efficient**, especially for **text classification and spam detection**, where features (words) often behave independently enough to make it work well.  \n",
        "\n",
        "Since you're focused on **classification techniques**, would you like to explore **real-world applications of Naïve Bayes**, or compare it with **Logistic Regression** in a practical scenario? 🚀  \n"
      ],
      "metadata": {
        "id": "CfT1gU2C-8xj"
      }
    },
    {
      "cell_type": "markdown",
      "source": [
        "**Q17. What are the advantages and disadvantages of Naïve Bayes?**"
      ],
      "metadata": {
        "id": "xx64ECJT4bB9"
      }
    },
    {
      "cell_type": "markdown",
      "source": [
        "Ans: ### **Advantages of Naïve Bayes**\n",
        "✅ **Fast and Efficient**  \n",
        "   - Works well with large datasets due to **low computational cost**.  \n",
        "   - Training is quick, even with high-dimensional data.\n",
        "\n",
        "✅ **Requires Less Training Data**  \n",
        "   - Unlike models like deep learning, it performs well with **limited data**, making it great for small datasets.\n",
        "\n",
        "✅ **Handles High-Dimensional Data Well**  \n",
        "   - Works well with text-based data (like emails or reviews) since it can handle **a large number of features**.\n",
        "\n",
        "✅ **Interpretable and Simple to Implement**  \n",
        "   - Probabilistic nature makes it easy to understand and interpret results.  \n",
        "   - Requires **no complex parameter tuning**.\n",
        "\n",
        "✅ **Works Well for Text Classification**  \n",
        "   - Popular in **spam filtering, sentiment analysis**, and **document categorization**.\n",
        "\n",
        "### **Disadvantages of Naïve Bayes**\n",
        "⚠️ **Assumption of Feature Independence is Unrealistic**  \n",
        "   - In reality, many features **depend on each other**, which Naïve Bayes ignores.  \n",
        "   - This can lead to **suboptimal predictions** in cases of correlated data.\n",
        "\n",
        "⚠️ **Struggles with Continuous Features**  \n",
        "   - Gaussian Naïve Bayes assumes normal distribution, which may not always fit the data well.\n",
        "\n",
        "⚠️ **Zero Probability Issue**  \n",
        "   - If a feature in test data **was never seen in training data**, the model assigns **zero probability**—which can break predictions.  \n",
        "   - This is resolved with techniques like **Laplace smoothing**.\n",
        "\n",
        "⚠️ **Not Always the Best for Complex Decision Boundaries**  \n",
        "   - Performs best when classes are well-separated probabilistically.  \n",
        "   - If decision boundaries are **complex or non-linear**, models like **SVM or Random Forest** may perform better.\n",
        "\n"
      ],
      "metadata": {
        "id": "2ZfCscKA_Kli"
      }
    },
    {
      "cell_type": "markdown",
      "source": [
        "**Q18. Why is Naïve Bayes a good choice for text classification?**"
      ],
      "metadata": {
        "id": "EFg-qkvg4emC"
      }
    },
    {
      "cell_type": "markdown",
      "source": [
        "**Ans:** Naïve Bayes is an excellent choice for **text classification** because of its speed, efficiency, and ability to handle large feature spaces. Here’s why it works so well:\n",
        "\n",
        "### **1. Handles High-Dimensional Data Efficiently**\n",
        "- Text data often has **thousands of features** (words, phrases).\n",
        "- Naïve Bayes works well with **high-dimensional datasets**, making it perfect for **document classification, sentiment analysis, and spam filtering**.\n",
        "\n",
        "### **2. Works Well with Sparse Data**\n",
        "- Text data, represented as **Bag-of-Words** or **TF-IDF**, is often sparse (many zero values).\n",
        "- Naïve Bayes **performs well on sparse matrices** compared to other algorithms.\n",
        "\n",
        "### **3. Probabilistic Approach Suits Text Data**\n",
        "- It estimates the **probability of a class** given the word frequencies.\n",
        "- Words in documents naturally follow probabilistic patterns, aligning well with Naïve Bayes' assumptions.\n",
        "\n",
        "### **4. Fast Training & Prediction**\n",
        "- Since it’s a **generative model**, it calculates probabilities directly instead of learning complex patterns.\n",
        "- **Much faster** compared to deep learning models or SVMs.\n",
        "\n",
        "### **5. Works Well Even with Limited Data**\n",
        "- Unlike deep learning, Naïve Bayes performs well with **small datasets**.\n",
        "- It generalizes well, even with minimal training samples.\n",
        "\n",
        "### **Real-World Applications**\n",
        "✅ **Spam detection** (checking word occurrences in emails)  \n",
        "✅ **Sentiment analysis** (predicting positive/negative reviews)  \n",
        "✅ **Topic classification** (grouping news articles into categories)  \n",
        "\n",
        "Despite its **feature independence assumption**, Naïve Bayes remains **one of the best choices** for text classification.  \n",
        "\n",
        "\n"
      ],
      "metadata": {
        "id": "-XXQj2kX_Sw_"
      }
    },
    {
      "cell_type": "markdown",
      "source": [
        "**Q19. Compare SVM and Naïve Bayes for classification tasks.**"
      ],
      "metadata": {
        "id": "38y_8KiL4iYO"
      }
    },
    {
      "cell_type": "markdown",
      "source": [
        "**Ans:** ### **Comparison: SVM vs. Naïve Bayes for Classification**\n",
        "\n",
        "| **Aspect** | **SVM (Support Vector Machine)** | **Naïve Bayes** |\n",
        "|------------|---------------------------------|----------------|\n",
        "| **Approach** | Finds an optimal **hyperplane** that separates classes | Uses **Bayes’ theorem** to estimate probabilities |\n",
        "| **Best for** | Complex **decision boundaries** and **non-linearly separable data** | **Text classification**, spam filtering, and high-dimensional data |\n",
        "| **Feature Independence** | Takes **feature interactions** into account | Assumes **features are independent** (which may not be realistic) |\n",
        "| **Data Type** | Works well with **numerical and categorical data** | Best for **text-based and categorical data** |\n",
        "| **Performance on Small Data** | Needs a **larger dataset** for better generalization | Performs well even with **limited training data** |\n",
        "| **Speed** | Slower on large datasets due to **quadratic complexity** | Extremely **fast and scalable**, even for huge datasets |\n",
        "| **Robustness to Noise** | Sensitive to **outliers** but can be tuned with **C and gamma** | Robust to **noise** and works well with sparse data |\n",
        "| **Interpretability** | Harder to interpret due to complex decision boundaries | Simple **probabilistic output**—easy to understand |\n",
        "| **Hyperparameter Tuning** | Requires tuning **C, kernel type, and gamma** | Minimal tuning needed—only **Laplace smoothing** |\n",
        "| **Example Use Cases** | **Image classification, medical diagnosis, anomaly detection** | **Spam filtering, sentiment analysis, topic classification** |\n",
        "\n",
        "### **Key Takeaways**\n",
        "✅ Use **SVM** when you need a **powerful classifier** for structured numerical data, complex decision boundaries, or when feature interactions matter.  \n",
        "✅ Use **Naïve Bayes** when handling **high-dimensional text data**, especially when speed and scalability are critical.  \n"
      ],
      "metadata": {
        "id": "_ZS0It6x_dhe"
      }
    },
    {
      "cell_type": "markdown",
      "source": [
        "**Q20. How does Laplace Smoothing help in Naïve Bayes?**"
      ],
      "metadata": {
        "id": "xMzSDBVf4mXU"
      }
    },
    {
      "cell_type": "markdown",
      "source": [
        "Ans: ### **Laplace Smoothing in Naïve Bayes**\n",
        "Laplace Smoothing (also called **Additive Smoothing**) is a technique used in **Naïve Bayes classification** to handle **zero probability** issues when a feature is missing in the training data.\n",
        "\n",
        "### **Problem: Zero Probability Issue**\n",
        "- In Naïve Bayes, probability is calculated using **Bayes' theorem**:\n",
        "$$\n",
        "  [\n",
        "  P(Y | X) = \\frac{P(X | Y) P(Y)}{P(X)}\n",
        "  ]\n",
        "  $$\n",
        "- If a word **never appears in training data**, its probability is **zero**, meaning Naïve Bayes **ignores the entire prediction**—which is problematic.\n",
        "\n",
        "### **Solution: Adding a Small Constant (Laplace Smoothing)**\n",
        "- Laplace Smoothing **adds a small value (usually 1)** to all word counts.\n",
        "- Prevents **zero probabilities**, ensuring every feature has some probability.\n",
        "- Formula with smoothing factor \\( k \\):\n",
        "  $[\n",
        "  P(X_i | Y) = \\frac{\\text{count}(X_i, Y) + k}{\\sum \\text{count}(X, Y) + k \\cdot \\text{number of features}}\n",
        "  ]$\n",
        "- Typical choice: \\( k = 1 \\) (Laplace) or \\( k \\) as a small fraction.\n",
        "\n",
        "### **Example Use Case**\n",
        "Imagine text classification, where a spam filter encounters a **new word** never seen in training. Without smoothing:\n",
        "❌ **Probability = 0**, causing classification errors.  \n",
        "✅ **With Laplace Smoothing**, the word gets a tiny probability, allowing correct predictions.\n",
        "\n",
        "### **Laplace Smoothing in Python**\n",
        "```python\n",
        "from sklearn.naive_bayes import MultinomialNB\n",
        "\n",
        "model = MultinomialNB(alpha=1.0)  # Alpha = Laplace Smoothing factor\n",
        "```\n",
        "\n",
        "### **Key Benefits**\n",
        "✅ **Prevents zero probability issues**  \n",
        "✅ **Ensures robustness in real-world applications**  \n",
        "✅ **Improves model generalization**  \n",
        "\n"
      ],
      "metadata": {
        "id": "_E7KhYhu_nYM"
      }
    },
    {
      "cell_type": "markdown",
      "source": [
        "###**PRACTICAL QUESTIONS:**"
      ],
      "metadata": {
        "id": "q8Fk1FTL4qMj"
      }
    },
    {
      "cell_type": "markdown",
      "source": [
        "**Q21. Write a Python program to train an SVM Classifier on the Iris dataset and evaluate accuracy.**"
      ],
      "metadata": {
        "id": "HDVSPhd24v2b"
      }
    },
    {
      "cell_type": "code",
      "source": [
        "from sklearn import datasets\n",
        "from sklearn.model_selection import train_test_split\n",
        "from sklearn.preprocessing import StandardScaler\n",
        "from sklearn.svm import SVC\n",
        "from sklearn.metrics import accuracy_score\n",
        "\n",
        "# Load the Iris dataset\n",
        "iris = datasets.load_iris()\n",
        "X = iris.data\n",
        "y = iris.target\n",
        "\n",
        "# Split into train and test sets (80% train, 20% test)\n",
        "X_train, X_test, y_train, y_test = train_test_split(X, y, test_size=0.2, random_state=42)\n",
        "\n",
        "# Feature scaling (important for SVM)\n",
        "scaler = StandardScaler()\n",
        "X_train_scaled = scaler.fit_transform(X_train)\n",
        "X_test_scaled = scaler.transform(X_test)\n",
        "\n",
        "# Train the SVM classifier (using RBF kernel)\n",
        "svm_classifier = SVC(kernel='rbf', C=1.0, gamma='scale', random_state=42)\n",
        "svm_classifier.fit(X_train_scaled, y_train)\n",
        "\n",
        "# Predict on the test set\n",
        "y_pred = svm_classifier.predict(X_test_scaled)\n",
        "\n",
        "# Evaluate accuracy\n",
        "accuracy = accuracy_score(y_test, y_pred)\n",
        "print(f\"Accuracy of SVM Classifier on Iris dataset: {accuracy:.2f}\")"
      ],
      "metadata": {
        "colab": {
          "base_uri": "https://localhost:8080/"
        },
        "id": "2iAc7-yu_86x",
        "outputId": "da0855a0-4a14-49f3-90be-19f96df525bb"
      },
      "execution_count": 1,
      "outputs": [
        {
          "output_type": "stream",
          "name": "stdout",
          "text": [
            "Accuracy of SVM Classifier on Iris dataset: 1.00\n"
          ]
        }
      ]
    },
    {
      "cell_type": "markdown",
      "source": [
        "**Q22. Write a Python program to train two SVM classifiers with Linear and RBF kernels on the Wine dataset, then**\n",
        "**compare their accuracies.**"
      ],
      "metadata": {
        "id": "EhKnukxV402B"
      }
    },
    {
      "cell_type": "code",
      "source": [
        "from sklearn import datasets\n",
        "from sklearn.model_selection import train_test_split\n",
        "from sklearn.preprocessing import StandardScaler\n",
        "from sklearn.svm import SVC\n",
        "from sklearn.metrics import accuracy_score\n",
        "\n",
        "# Load the Wine dataset\n",
        "wine = datasets.load_wine()\n",
        "X = wine.data\n",
        "y = wine.target\n",
        "\n",
        "# Split the dataset into training and testing sets (80/20)\n",
        "X_train, X_test, y_train, y_test = train_test_split(X, y, test_size=0.2, random_state=42)\n",
        "\n",
        "# Standardize the features (important for SVM)\n",
        "scaler = StandardScaler()\n",
        "X_train_scaled = scaler.fit_transform(X_train)\n",
        "X_test_scaled = scaler.transform(X_test)\n",
        "\n",
        "# Train SVM with Linear kernel\n",
        "svm_linear = SVC(kernel='linear', C=1.0, random_state=42)\n",
        "svm_linear.fit(X_train_scaled, y_train)\n",
        "y_pred_linear = svm_linear.predict(X_test_scaled)\n",
        "accuracy_linear = accuracy_score(y_test, y_pred_linear)\n",
        "\n",
        "# Train SVM with RBF kernel\n",
        "svm_rbf = SVC(kernel='rbf', C=1.0, gamma='scale', random_state=42)\n",
        "svm_rbf.fit(X_train_scaled, y_train)\n",
        "y_pred_rbf = svm_rbf.predict(X_test_scaled)\n",
        "accuracy_rbf = accuracy_score(y_test, y_pred_rbf)\n",
        "\n",
        "# Compare accuracies\n",
        "print(f\"Accuracy with Linear Kernel: {accuracy_linear:.2f}\")\n",
        "print(f\"Accuracy with RBF Kernel:    {accuracy_rbf:.2f}\")"
      ],
      "metadata": {
        "colab": {
          "base_uri": "https://localhost:8080/"
        },
        "id": "XsNmSebYAI7C",
        "outputId": "eeee87ed-ec05-4992-c098-9b19bc8dae4c"
      },
      "execution_count": 2,
      "outputs": [
        {
          "output_type": "stream",
          "name": "stdout",
          "text": [
            "Accuracy with Linear Kernel: 0.97\n",
            "Accuracy with RBF Kernel:    1.00\n"
          ]
        }
      ]
    },
    {
      "cell_type": "markdown",
      "source": [
        "**Q23. Write a Python program to train an SVM Regressor (SVR) on a housing dataset and evaluate it using Mean**\n",
        "**Squared Error (MSE).**"
      ],
      "metadata": {
        "id": "mYM3eDgZ48ta"
      }
    },
    {
      "cell_type": "code",
      "source": [
        "import numpy as np\n",
        "import pandas as pd\n",
        "from sklearn.model_selection import train_test_split\n",
        "from sklearn.svm import SVR\n",
        "from sklearn.metrics import mean_squared_error\n",
        "from sklearn.preprocessing import StandardScaler\n",
        "\n",
        "# Load sample housing dataset (California housing dataset)\n",
        "from sklearn.datasets import fetch_california_housing\n",
        "data = fetch_california_housing()\n",
        "X, y = data.data, data.target  # Features and target\n",
        "\n",
        "# Split data into training and test sets (80% train, 20% test)\n",
        "X_train, X_test, y_train, y_test = train_test_split(X, y, test_size=0.2, random_state=42)\n",
        "\n",
        "# Standardize features (important for SVR)\n",
        "scaler = StandardScaler()\n",
        "X_train_scaled = scaler.fit_transform(X_train)\n",
        "X_test_scaled = scaler.transform(X_test)\n",
        "\n",
        "# Train the SVM Regressor (using RBF kernel)\n",
        "svr = SVR(kernel='rbf', C=1.0, gamma='scale')\n",
        "svr.fit(X_train_scaled, y_train)\n",
        "\n",
        "# Predict on the test set\n",
        "y_pred = svr.predict(X_test_scaled)\n",
        "\n",
        "# Evaluate model performance using Mean Squared Error (MSE)\n",
        "mse = mean_squared_error(y_test, y_pred)\n",
        "\n",
        "print(f\"Mean Squared Error (MSE): {mse:.4f}\")"
      ],
      "metadata": {
        "colab": {
          "base_uri": "https://localhost:8080/"
        },
        "id": "GgDEkreLAymE",
        "outputId": "2b4a1aae-46f4-4b20-9d15-684f30d3fda7"
      },
      "execution_count": 1,
      "outputs": [
        {
          "output_type": "stream",
          "name": "stdout",
          "text": [
            "Mean Squared Error (MSE): 0.3570\n"
          ]
        }
      ]
    },
    {
      "cell_type": "markdown",
      "source": [
        "**Q24. Write a Python program to train an SVM Classifier with a Polynomial Kernel and visualize the decisio**n\n",
        "**boundary.**"
      ],
      "metadata": {
        "id": "7r0FoYWP5BYx"
      }
    },
    {
      "cell_type": "code",
      "source": [
        "import numpy as np\n",
        "import matplotlib.pyplot as plt\n",
        "from sklearn.datasets import make_classification\n",
        "from sklearn.svm import SVC\n",
        "from sklearn.preprocessing import StandardScaler\n",
        "\n",
        "# Generate a synthetic 2D classification dataset\n",
        "X, y = make_classification(\n",
        "    n_samples=200,\n",
        "    n_features=2,\n",
        "    n_informative=2,\n",
        "    n_redundant=0,\n",
        "    n_clusters_per_class=1,\n",
        "    class_sep=1.0,\n",
        "    random_state=42\n",
        ")\n",
        "\n",
        "# Scale the features\n",
        "scaler = StandardScaler()\n",
        "X_scaled = scaler.fit_transform(X)\n",
        "\n",
        "# Train SVM classifier with polynomial kernel\n",
        "svm_poly = SVC(kernel='poly', degree=3, C=1.0, coef0=1, gamma='scale')\n",
        "svm_poly.fit(X_scaled, y)\n",
        "\n",
        "# Create mesh to plot decision boundary\n",
        "x_min, x_max = X_scaled[:, 0].min() - 1, X_scaled[:, 0].max() + 1\n",
        "y_min, y_max = X_scaled[:, 1].min() - 1, X_scaled[:, 1].max() + 1\n",
        "xx, yy = np.meshgrid(\n",
        "    np.linspace(x_min, x_max, 500),\n",
        "    np.linspace(y_min, y_max, 500)\n",
        ")\n",
        "\n",
        "Z = svm_poly.predict(np.c_[xx.ravel(), yy.ravel()])\n",
        "Z = Z.reshape(xx.shape)\n",
        "\n",
        "# Plot the decision boundary and data points\n",
        "plt.figure(figsize=(8, 6))\n",
        "plt.contourf(xx, yy, Z, alpha=0.3, cmap=plt.cm.coolwarm)\n",
        "plt.scatter(X_scaled[:, 0], X_scaled[:, 1], c=y, cmap=plt.cm.coolwarm, edgecolors='k')\n",
        "plt.title(\"SVM with Polynomial Kernel (Degree = 3)\")\n",
        "plt.xlabel(\"Feature 1\")\n",
        "plt.ylabel(\"Feature 2\")\n",
        "plt.grid(True)\n",
        "plt.show()"
      ],
      "metadata": {
        "colab": {
          "base_uri": "https://localhost:8080/",
          "height": 564
        },
        "id": "RpNd6P7bBhE3",
        "outputId": "7dff16d1-ca81-4eb5-e9af-e549898e690c"
      },
      "execution_count": 1,
      "outputs": [
        {
          "output_type": "display_data",
          "data": {
            "text/plain": [
              "<Figure size 800x600 with 1 Axes>"
            ],
            "image/png": "[encoded data removed]"
          },
          "metadata": {}
        }
      ]
    },
    {
      "cell_type": "markdown",
      "source": [
        "**Q25. Write a Python program to train a Gaussian Naïve Bayes classifier on the Breast Cancer dataset and**\n",
        "**evaluate accuracy.**"
      ],
      "metadata": {
        "id": "smpD5Mo45IK2"
      }
    },
    {
      "cell_type": "code",
      "source": [
        "from sklearn.datasets import load_breast_cancer\n",
        "from sklearn.model_selection import train_test_split\n",
        "from sklearn.naive_bayes import GaussianNB\n",
        "from sklearn.metrics import accuracy_score\n",
        "\n",
        "# Load the Breast Cancer dataset\n",
        "data = load_breast_cancer()\n",
        "X = data.data\n",
        "y = data.target\n",
        "\n",
        "# Split into training and testing sets (80% train, 20% test)\n",
        "X_train, X_test, y_train, y_test = train_test_split(X, y, test_size=0.2, random_state=42)\n",
        "\n",
        "# Initialize and train Gaussian Naive Bayes classifier\n",
        "gnb = GaussianNB()\n",
        "gnb.fit(X_train, y_train)\n",
        "\n",
        "# Predict on the test set\n",
        "y_pred = gnb.predict(X_test)\n",
        "\n",
        "# Evaluate accuracy\n",
        "accuracy = accuracy_score(y_test, y_pred)\n",
        "print(f\"Accuracy of Gaussian Naïve Bayes on Breast Cancer dataset: {accuracy:.2f}\")"
      ],
      "metadata": {
        "colab": {
          "base_uri": "https://localhost:8080/"
        },
        "id": "KRD7ULzFBsh5",
        "outputId": "9328bd73-60ee-4bcd-8bf5-3b592954538b"
      },
      "execution_count": 2,
      "outputs": [
        {
          "output_type": "stream",
          "name": "stdout",
          "text": [
            "Accuracy of Gaussian Naïve Bayes on Breast Cancer dataset: 0.97\n"
          ]
        }
      ]
    },
    {
      "cell_type": "markdown",
      "source": [
        "**Q26. Write a Python program to train a Multinomial Naïve Bayes classifier for text classification using the 20**\n",
        "**Newsgroups dataset.**"
      ],
      "metadata": {
        "id": "ldH1hPhS5OQw"
      }
    },
    {
      "cell_type": "code",
      "source": [
        "from sklearn.datasets import fetch_20newsgroups\n",
        "from sklearn.feature_extraction.text import CountVectorizer\n",
        "from sklearn.model_selection import train_test_split\n",
        "from sklearn.naive_bayes import MultinomialNB\n",
        "from sklearn.metrics import accuracy_score, classification_report\n",
        "\n",
        "# Load the 20 Newsgroups dataset (subset for speed)\n",
        "categories = ['alt.atheism', 'comp.graphics', 'sci.space', 'talk.religion.misc']\n",
        "newsgroups = fetch_20newsgroups(subset='all', categories=categories, remove=('headers', 'footers', 'quotes'))\n",
        "\n",
        "# Split into training and testing sets\n",
        "X_train, X_test, y_train, y_test = train_test_split(newsgroups.data, newsgroups.target, test_size=0.2, random_state=42)\n",
        "\n",
        "# Convert text data into Bag-of-Words features\n",
        "vectorizer = CountVectorizer(stop_words='english')\n",
        "X_train_vec = vectorizer.fit_transform(X_train)\n",
        "X_test_vec = vectorizer.transform(X_test)\n",
        "\n",
        "# Train a Multinomial Naive Bayes classifier\n",
        "mnb = MultinomialNB()\n",
        "mnb.fit(X_train_vec, y_train)\n",
        "\n",
        "# Predict on test data\n",
        "y_pred = mnb.predict(X_test_vec)\n",
        "\n",
        "# Evaluate performance\n",
        "accuracy = accuracy_score(y_test, y_pred)\n",
        "print(f\"Accuracy of Multinomial Naïve Bayes on 20 Newsgroups dataset: {accuracy:.2f}\\n\")\n",
        "\n",
        "# Detailed classification report\n",
        "print(\"Classification Report:\")\n",
        "print(classification_report(y_test, y_pred, target_names=categories))"
      ],
      "metadata": {
        "colab": {
          "base_uri": "https://localhost:8080/"
        },
        "id": "T917_E8pB2iD",
        "outputId": "030abce0-caf9-400e-a173-e97708b953f3"
      },
      "execution_count": 3,
      "outputs": [
        {
          "output_type": "stream",
          "name": "stdout",
          "text": [
            "Accuracy of Multinomial Naïve Bayes on 20 Newsgroups dataset: 0.81\n",
            "\n",
            "Classification Report:\n",
            "                    precision    recall  f1-score   support\n",
            "\n",
            "       alt.atheism       0.70      0.77      0.74       155\n",
            "     comp.graphics       0.92      0.92      0.92       195\n",
            "         sci.space       0.85      0.85      0.85       201\n",
            "talk.religion.misc       0.70      0.61      0.66       127\n",
            "\n",
            "          accuracy                           0.81       678\n",
            "         macro avg       0.79      0.79      0.79       678\n",
            "      weighted avg       0.81      0.81      0.81       678\n",
            "\n"
          ]
        }
      ]
    },
    {
      "cell_type": "markdown",
      "source": [
        "**Q27. Write a Python program to train an SVM Classifier with different C values and compare the decision**\n",
        "**boundaries visually.**"
      ],
      "metadata": {
        "id": "rTxupHSC5Saq"
      }
    },
    {
      "cell_type": "code",
      "source": [
        "import numpy as np\n",
        "import matplotlib.pyplot as plt\n",
        "from sklearn.datasets import make_classification\n",
        "from sklearn.svm import SVC\n",
        "from sklearn.preprocessing import StandardScaler\n",
        "\n",
        "# Generate a 2D classification dataset\n",
        "X, y = make_classification(\n",
        "    n_samples=200,\n",
        "    n_features=2,\n",
        "    n_redundant=0,\n",
        "    n_informative=2,\n",
        "    n_clusters_per_class=1,\n",
        "    class_sep=1.0,\n",
        "    random_state=42\n",
        ")\n",
        "\n",
        "# Scale the features\n",
        "scaler = StandardScaler()\n",
        "X_scaled = scaler.fit_transform(X)\n",
        "\n",
        "# Define different C values\n",
        "C_values = [0.01, 0.1, 1, 10, 100]\n",
        "\n",
        "# Set up the plot\n",
        "plt.figure(figsize=(15, 8))\n",
        "\n",
        "for i, C in enumerate(C_values, 1):\n",
        "    # Train SVM with linear kernel and current C\n",
        "    svm = SVC(kernel='linear', C=C)\n",
        "    svm.fit(X_scaled, y)\n",
        "\n",
        "    # Create mesh grid for decision boundary\n",
        "    x_min, x_max = X_scaled[:, 0].min() - 1, X_scaled[:, 0].max() + 1\n",
        "    y_min, y_max = X_scaled[:, 1].min() - 1, X_scaled[:, 1].max() + 1\n",
        "    xx, yy = np.meshgrid(np.linspace(x_min, x_max, 500),\n",
        "                         np.linspace(y_min, y_max, 500))\n",
        "    Z = svm.predict(np.c_[xx.ravel(), yy.ravel()])\n",
        "    Z = Z.reshape(xx.shape)\n",
        "\n",
        "    # Plot\n",
        "    plt.subplot(2, 3, i)\n",
        "    plt.contourf(xx, yy, Z, alpha=0.3, cmap=plt.cm.coolwarm)\n",
        "    plt.scatter(X_scaled[:, 0], X_scaled[:, 1], c=y, cmap=plt.cm.coolwarm, edgecolors='k')\n",
        "    plt.title(f\"SVM with C = {C}\")\n",
        "    plt.xlabel(\"Feature 1\")\n",
        "    plt.ylabel(\"Feature 2\")\n",
        "\n",
        "plt.tight_layout()\n",
        "plt.suptitle(\"SVM Decision Boundaries with Different C Values\", fontsize=16, y=1.02)\n",
        "plt.show()"
      ],
      "metadata": {
        "colab": {
          "base_uri": "https://localhost:8080/",
          "height": 795
        },
        "id": "BbOK_kYTCFJ8",
        "outputId": "7a3e1b92-2928-4ba7-9856-e41c255c07e9"
      },
      "execution_count": 4,
      "outputs": [
        {
          "output_type": "display_data",
          "data": {
            "text/plain": [
              "<Figure size 1500x800 with 5 Axes>"
            ],
            "image/png": "[encoded data removed]"
          },
          "metadata": {}
        }
      ]
    },
    {
      "cell_type": "markdown",
      "source": [
        "**Q28. Write a Python program to train a Bernoulli Naïve Bayes classifier for binary classification on a dataset with**\n",
        "**binary features.**"
      ],
      "metadata": {
        "id": "1XozPLXG5XuT"
      }
    },
    {
      "cell_type": "code",
      "source": [
        "from sklearn.datasets import make_classification\n",
        "from sklearn.model_selection import train_test_split\n",
        "from sklearn.preprocessing import Binarizer\n",
        "from sklearn.naive_bayes import BernoulliNB\n",
        "from sklearn.metrics import accuracy_score, classification_report\n",
        "\n",
        "# Step 1: Generate a binary classification dataset\n",
        "X, y = make_classification(\n",
        "    n_samples=1000,\n",
        "    n_features=20,\n",
        "    n_informative=10,\n",
        "    n_redundant=5,\n",
        "    n_classes=2,\n",
        "    random_state=42\n",
        ")\n",
        "\n",
        "# Step 2: Binarize features (convert to 0/1)\n",
        "binarizer = Binarizer(threshold=0.0)\n",
        "X_binary = binarizer.fit_transform(X)\n",
        "\n",
        "# Step 3: Split into training and test sets\n",
        "X_train, X_test, y_train, y_test = train_test_split(X_binary, y, test_size=0.2, random_state=42)\n",
        "\n",
        "# Step 4: Train Bernoulli Naive Bayes classifier\n",
        "bnb = BernoulliNB()\n",
        "bnb.fit(X_train, y_train)\n",
        "\n",
        "# Step 5: Make predictions and evaluate\n",
        "y_pred = bnb.predict(X_test)\n",
        "\n",
        "accuracy = accuracy_score(y_test, y_pred)\n",
        "print(f\"Accuracy of Bernoulli Naïve Bayes: {accuracy:.2f}\\n\")\n",
        "\n",
        "# Step 6: Detailed classification report\n",
        "print(\"Classification Report:\")\n",
        "print(classification_report(y_test, y_pred))"
      ],
      "metadata": {
        "colab": {
          "base_uri": "https://localhost:8080/"
        },
        "id": "ZL2DXyYPCUHr",
        "outputId": "e7a5be98-6f02-4a3f-db32-57fc3aac902d"
      },
      "execution_count": 5,
      "outputs": [
        {
          "output_type": "stream",
          "name": "stdout",
          "text": [
            "Accuracy of Bernoulli Naïve Bayes: 0.77\n",
            "\n",
            "Classification Report:\n",
            "              precision    recall  f1-score   support\n",
            "\n",
            "           0       0.76      0.78      0.77       102\n",
            "           1       0.77      0.74      0.76        98\n",
            "\n",
            "    accuracy                           0.77       200\n",
            "   macro avg       0.77      0.76      0.76       200\n",
            "weighted avg       0.77      0.77      0.76       200\n",
            "\n"
          ]
        }
      ]
    },
    {
      "cell_type": "markdown",
      "source": [
        "**Q29. Write a Python program to apply feature scaling before training an SVM model and compare results with**\n",
        "**unscaled data.**"
      ],
      "metadata": {
        "id": "9EYxVrqE5dex"
      }
    },
    {
      "cell_type": "code",
      "source": [
        "from sklearn.datasets import load_iris\n",
        "from sklearn.model_selection import train_test_split\n",
        "from sklearn.svm import SVC\n",
        "from sklearn.preprocessing import StandardScaler\n",
        "from sklearn.metrics import accuracy_score\n",
        "\n",
        "# Load the Iris dataset\n",
        "data = load_iris()\n",
        "X = data.data\n",
        "y = data.target\n",
        "\n",
        "# Split into train/test sets\n",
        "X_train, X_test, y_train, y_test = train_test_split(X, y, test_size=0.2, random_state=42)\n",
        "\n",
        "# ----- Train SVM without feature scaling -----\n",
        "svm_unscaled = SVC(kernel='rbf', C=1.0, gamma='scale')\n",
        "svm_unscaled.fit(X_train, y_train)\n",
        "y_pred_unscaled = svm_unscaled.predict(X_test)\n",
        "accuracy_unscaled = accuracy_score(y_test, y_pred_unscaled)\n",
        "print(f\"Accuracy without feature scaling: {accuracy_unscaled:.2f}\")\n",
        "\n",
        "# ----- Apply feature scaling -----\n",
        "scaler = StandardScaler()\n",
        "X_train_scaled = scaler.fit_transform(X_train)\n",
        "X_test_scaled = scaler.transform(X_test)\n",
        "\n",
        "# ----- Train SVM with feature scaling -----\n",
        "svm_scaled = SVC(kernel='rbf', C=1.0, gamma='scale')\n",
        "svm_scaled.fit(X_train_scaled, y_train)\n",
        "y_pred_scaled = svm_scaled.predict(X_test_scaled)\n",
        "accuracy_scaled = accuracy_score(y_test, y_pred_scaled)\n",
        "print(f\"Accuracy with feature scaling: {accuracy_scaled:.2f}\")"
      ],
      "metadata": {
        "colab": {
          "base_uri": "https://localhost:8080/"
        },
        "id": "5MEiDx6xCj51",
        "outputId": "ffbc237e-b846-44a9-d05a-9df651caae57"
      },
      "execution_count": 6,
      "outputs": [
        {
          "output_type": "stream",
          "name": "stdout",
          "text": [
            "Accuracy without feature scaling: 1.00\n",
            "Accuracy with feature scaling: 1.00\n"
          ]
        }
      ]
    },
    {
      "cell_type": "markdown",
      "source": [
        "**Q30. Write a Python program to train a Gaussian Naïve Bayes model and compare the predictions before and**\n",
        "**after Laplace Smoothing.**"
      ],
      "metadata": {
        "id": "JOCR3S3l5ha0"
      }
    },
    {
      "cell_type": "code",
      "source": [
        "from sklearn.datasets import fetch_20newsgroups\n",
        "from sklearn.feature_extraction.text import CountVectorizer\n",
        "from sklearn.model_selection import train_test_split\n",
        "from sklearn.naive_bayes import MultinomialNB\n",
        "from sklearn.metrics import accuracy_score\n",
        "\n",
        "# Load a subset of the 20 Newsgroups dataset for speed\n",
        "categories = ['sci.space', 'talk.religion.misc']\n",
        "newsgroups = fetch_20newsgroups(subset='train', categories=categories, remove=('headers', 'footers', 'quotes'))\n",
        "\n",
        "# Vectorize text data into term counts\n",
        "vectorizer = CountVectorizer(stop_words='english')\n",
        "X = vectorizer.fit_transform(newsgroups.data)\n",
        "y = newsgroups.target\n",
        "\n",
        "# Split into training and testing sets\n",
        "X_train, X_test, y_train, y_test = train_test_split(X, y, test_size=0.2, random_state=42)\n",
        "\n",
        "# Train MultinomialNB without Laplace smoothing (alpha=0)\n",
        "model_no_smoothing = MultinomialNB(alpha=0.0)\n",
        "model_no_smoothing.fit(X_train, y_train)\n",
        "y_pred_no_smoothing = model_no_smoothing.predict(X_test)\n",
        "acc_no_smoothing = accuracy_score(y_test, y_pred_no_smoothing)\n",
        "\n",
        "# Train MultinomialNB with Laplace smoothing (alpha=1.0)\n",
        "model_laplace = MultinomialNB(alpha=1.0)\n",
        "model_laplace.fit(X_train, y_train)\n",
        "y_pred_laplace = model_laplace.predict(X_test)\n",
        "acc_laplace = accuracy_score(y_test, y_pred_laplace)\n",
        "\n",
        "# Results\n",
        "print(f\"Accuracy without Laplace Smoothing (alpha=0.0): {acc_no_smoothing:.2f}\")\n",
        "print(f\"Accuracy with Laplace Smoothing (alpha=1.0): {acc_laplace:.2f}\")"
      ],
      "metadata": {
        "colab": {
          "base_uri": "https://localhost:8080/"
        },
        "id": "VECyIgQECtem",
        "outputId": "cf56ccb5-c750-40d7-92f1-d546244f78bc"
      },
      "execution_count": 7,
      "outputs": [
        {
          "output_type": "stream",
          "name": "stdout",
          "text": [
            "Accuracy without Laplace Smoothing (alpha=0.0): 0.66\n",
            "Accuracy with Laplace Smoothing (alpha=1.0): 0.88\n"
          ]
        },
        {
          "output_type": "stream",
          "name": "stderr",
          "text": [
            "/usr/local/lib/python3.11/dist-packages/sklearn/naive_bayes.py:898: RuntimeWarning: divide by zero encountered in log\n",
            "  self.feature_log_prob_ = np.log(smoothed_fc) - np.log(\n"
          ]
        }
      ]
    },
    {
      "cell_type": "markdown",
      "source": [
        "**Q31. Write a Python program to train an SVM Classifier and use GridSearchCV to tune the hyperparameters (C,**\n",
        "**gamma, kernel).**"
      ],
      "metadata": {
        "id": "JtPuJ6_J5nWh"
      }
    },
    {
      "cell_type": "code",
      "source": [
        "from sklearn.datasets import load_iris\n",
        "from sklearn.model_selection import train_test_split, GridSearchCV\n",
        "from sklearn.svm import SVC\n",
        "from sklearn.metrics import accuracy_score, classification_report\n",
        "\n",
        "# Load the Iris dataset\n",
        "data = load_iris()\n",
        "X = data.data\n",
        "y = data.target\n",
        "\n",
        "# Split into training and testing datasets\n",
        "X_train, X_test, y_train, y_test = train_test_split(X, y, test_size=0.2, random_state=42)\n",
        "\n",
        "# Define the parameter grid for GridSearchCV\n",
        "param_grid = {\n",
        "    'C': [0.1, 1, 10],\n",
        "    'gamma': ['scale', 0.01, 0.1, 1],\n",
        "    'kernel': ['linear', 'rbf', 'poly']\n",
        "}\n",
        "\n",
        "# Initialize the SVM classifier\n",
        "svm = SVC()\n",
        "\n",
        "# Setup GridSearchCV\n",
        "grid_search = GridSearchCV(svm, param_grid, cv=5, scoring='accuracy', verbose=1)\n",
        "grid_search.fit(X_train, y_train)\n",
        "\n",
        "# Display the best parameters\n",
        "print(\"Best Parameters from Grid Search:\")\n",
        "print(grid_search.best_params_)\n",
        "\n",
        "# Evaluate on the test data\n",
        "best_model = grid_search.best_estimator_\n",
        "y_pred = best_model.predict(X_test)\n",
        "accuracy = accuracy_score(y_test, y_pred)\n",
        "\n",
        "print(f\"\\nTest Accuracy: {accuracy:.2f}\")\n",
        "print(\"\\nClassification Report:\")\n",
        "print(classification_report(y_test, y_pred, target_names=data.target_names))"
      ],
      "metadata": {
        "colab": {
          "base_uri": "https://localhost:8080/"
        },
        "id": "tdPnBk8uC3u-",
        "outputId": "d1e07697-046c-4a02-f3aa-c4ae12323ead"
      },
      "execution_count": 8,
      "outputs": [
        {
          "output_type": "stream",
          "name": "stdout",
          "text": [
            "Fitting 5 folds for each of 36 candidates, totalling 180 fits\n",
            "Best Parameters from Grid Search:\n",
            "{'C': 0.1, 'gamma': 0.1, 'kernel': 'poly'}\n",
            "\n",
            "Test Accuracy: 1.00\n",
            "\n",
            "Classification Report:\n",
            "              precision    recall  f1-score   support\n",
            "\n",
            "      setosa       1.00      1.00      1.00        10\n",
            "  versicolor       1.00      1.00      1.00         9\n",
            "   virginica       1.00      1.00      1.00        11\n",
            "\n",
            "    accuracy                           1.00        30\n",
            "   macro avg       1.00      1.00      1.00        30\n",
            "weighted avg       1.00      1.00      1.00        30\n",
            "\n"
          ]
        }
      ]
    },
    {
      "cell_type": "markdown",
      "source": [
        "**Q32. Write a Python program to train an SVM Classifier on an imbalanced dataset and apply class weighting and**\n",
        "**check it improve accuracy.**"
      ],
      "metadata": {
        "id": "HmVIryJ35viB"
      }
    },
    {
      "cell_type": "code",
      "source": [
        "from sklearn.datasets import make_classification\n",
        "from sklearn.model_selection import train_test_split\n",
        "from sklearn.svm import SVC\n",
        "from sklearn.metrics import classification_report, accuracy_score\n",
        "import matplotlib.pyplot as plt\n",
        "import seaborn as sns\n",
        "from sklearn.metrics import confusion_matrix\n",
        "\n",
        "# Step 1: Generate an imbalanced dataset\n",
        "X, y = make_classification(\n",
        "    n_samples=1000,\n",
        "    n_features=20,\n",
        "    n_classes=2,\n",
        "    weights=[0.9, 0.1],  # Imbalance: 90% class 0, 10% class 1\n",
        "    flip_y=0,\n",
        "    random_state=42\n",
        ")\n",
        "\n",
        "# Step 2: Split into train and test\n",
        "X_train, X_test, y_train, y_test = train_test_split(X, y, stratify=y, test_size=0.2, random_state=42)\n",
        "\n",
        "# Step 3: Train default SVM (no class weights)\n",
        "svm_default = SVC(kernel='rbf', random_state=42)\n",
        "svm_default.fit(X_train, y_train)\n",
        "y_pred_default = svm_default.predict(X_test)\n",
        "\n",
        "print(\"=== Default SVM ===\")\n",
        "print(\"Accuracy:\", accuracy_score(y_test, y_pred_default))\n",
        "print(classification_report(y_test, y_pred_default))\n",
        "\n",
        "# Step 4: Train SVM with class_weight='balanced'\n",
        "svm_weighted = SVC(kernel='rbf', class_weight='balanced', random_state=42)\n",
        "svm_weighted.fit(X_train, y_train)\n",
        "y_pred_weighted = svm_weighted.predict(X_test)\n",
        "\n",
        "print(\"=== Weighted SVM (class_weight='balanced') ===\")\n",
        "print(\"Accuracy:\", accuracy_score(y_test, y_pred_weighted))\n",
        "print(classification_report(y_test, y_pred_weighted))\n",
        "\n",
        "# Step 5: Confusion Matrix Visualization\n",
        "def plot_confusion(title, y_true, y_pred):\n",
        "    cm = confusion_matrix(y_true, y_pred)\n",
        "    sns.heatmap(cm, annot=True, fmt='d', cmap='Blues')\n",
        "    plt.title(title)\n",
        "    plt.xlabel(\"Predicted\")\n",
        "    plt.ylabel(\"Actual\")\n",
        "    plt.show()\n",
        "\n",
        "plot_confusion(\"Confusion Matrix - Default SVM\", y_test, y_pred_default)\n",
        "plot_confusion(\"Confusion Matrix - Weighted SVM\", y_test, y_pred_weighted)"
      ],
      "metadata": {
        "colab": {
          "base_uri": "https://localhost:8080/",
          "height": 1000
        },
        "id": "8hLMqbndDBs_",
        "outputId": "1802a892-3038-4921-805a-5ead850ace9a"
      },
      "execution_count": 9,
      "outputs": [
        {
          "output_type": "stream",
          "name": "stdout",
          "text": [
            "=== Default SVM ===\n",
            "Accuracy: 0.94\n",
            "              precision    recall  f1-score   support\n",
            "\n",
            "           0       0.95      0.98      0.97       180\n",
            "           1       0.79      0.55      0.65        20\n",
            "\n",
            "    accuracy                           0.94       200\n",
            "   macro avg       0.87      0.77      0.81       200\n",
            "weighted avg       0.94      0.94      0.94       200\n",
            "\n",
            "=== Weighted SVM (class_weight='balanced') ===\n",
            "Accuracy: 0.92\n",
            "              precision    recall  f1-score   support\n",
            "\n",
            "           0       0.97      0.94      0.95       180\n",
            "           1       0.58      0.75      0.65        20\n",
            "\n",
            "    accuracy                           0.92       200\n",
            "   macro avg       0.77      0.84      0.80       200\n",
            "weighted avg       0.93      0.92      0.92       200\n",
            "\n"
          ]
        },
        {
          "output_type": "display_data",
          "data": {
            "text/plain": [
              "<Figure size 640x480 with 2 Axes>"
            ],
            "image/png": "[encoded data removed]"
          },
          "metadata": {}
        },
        {
          "output_type": "display_data",
          "data": {
            "text/plain": [
              "<Figure size 640x480 with 2 Axes>"
            ],
            "image/png": "[encoded data removed]"
          },
          "metadata": {}
        }
      ]
    },
    {
      "cell_type": "markdown",
      "source": [
        "**Q33. Write a Python program to implement a Naïve Bayes classifier for spam detection using email data.**"
      ],
      "metadata": {
        "id": "An6DEbiH5zBh"
      }
    },
    {
      "cell_type": "code",
      "source": [
        "import pandas as pd\n",
        "from sklearn.model_selection import train_test_split\n",
        "from sklearn.feature_extraction.text import CountVectorizer\n",
        "from sklearn.naive_bayes import MultinomialNB\n",
        "from sklearn.metrics import accuracy_score, classification_report, confusion_matrix\n",
        "import seaborn as sns\n",
        "import matplotlib.pyplot as plt\n",
        "\n",
        "# Step 1: Load the dataset (SMS Spam Collection)\n",
        "url = \"https://raw.githubusercontent.com/justmarkham/pycon-2016-tutorial/master/data/sms.tsv\"\n",
        "df = pd.read_table(url, header=None, names=[\"label\", \"message\"])\n",
        "\n",
        "# Step 2: Encode labels (ham=0, spam=1)\n",
        "df['label_num'] = df.label.map({'ham': 0, 'spam': 1})\n",
        "\n",
        "# Step 3: Split the data\n",
        "X_train, X_test, y_train, y_test = train_test_split(df['message'], df['label_num'], test_size=0.2, random_state=42)\n",
        "\n",
        "# Step 4: Vectorize text data\n",
        "vectorizer = CountVectorizer(stop_words='english')\n",
        "X_train_vec = vectorizer.fit_transform(X_train)\n",
        "X_test_vec = vectorizer.transform(X_test)\n",
        "\n",
        "# Step 5: Train Multinomial Naïve Bayes classifier\n",
        "nb = MultinomialNB()\n",
        "nb.fit(X_train_vec, y_train)\n",
        "y_pred = nb.predict(X_test_vec)\n",
        "\n",
        "# Step 6: Evaluate model\n",
        "accuracy = accuracy_score(y_test, y_pred)\n",
        "print(f\"Accuracy: {accuracy:.2f}\")\n",
        "print(\"\\nClassification Report:\\n\", classification_report(y_test, y_pred, target_names=[\"Ham\", \"Spam\"]))\n",
        "\n",
        "# Step 7: Confusion Matrix\n",
        "cm = confusion_matrix(y_test, y_pred)\n",
        "sns.heatmap(cm, annot=True, fmt='d', cmap='Blues', xticklabels=[\"Ham\", \"Spam\"], yticklabels=[\"Ham\", \"Spam\"])\n",
        "plt.xlabel(\"Predicted\")\n",
        "plt.ylabel(\"Actual\")\n",
        "plt.title(\"Confusion Matrix\")\n",
        "plt.show()"
      ],
      "metadata": {
        "colab": {
          "base_uri": "https://localhost:8080/",
          "height": 680
        },
        "id": "UyaXX1ZoDNlt",
        "outputId": "bc29ba9a-66f7-46bf-c024-843a183ed7ae"
      },
      "execution_count": 10,
      "outputs": [
        {
          "output_type": "stream",
          "name": "stdout",
          "text": [
            "Accuracy: 0.99\n",
            "\n",
            "Classification Report:\n",
            "               precision    recall  f1-score   support\n",
            "\n",
            "         Ham       0.99      0.99      0.99       966\n",
            "        Spam       0.97      0.95      0.96       149\n",
            "\n",
            "    accuracy                           0.99      1115\n",
            "   macro avg       0.98      0.97      0.97      1115\n",
            "weighted avg       0.99      0.99      0.99      1115\n",
            "\n"
          ]
        },
        {
          "output_type": "display_data",
          "data": {
            "text/plain": [
              "<Figure size 640x480 with 2 Axes>"
            ],
            "image/png": "[encoded data removed]"
          },
          "metadata": {}
        }
      ]
    },
    {
      "cell_type": "markdown",
      "source": [
        "**Q34. Write a Python program to train an SVM Classifier and a Naïve Bayes Classifier on the same dataset and**\n",
        "**compare their accuracy.**"
      ],
      "metadata": {
        "id": "SWTFH8Bl52uP"
      }
    },
    {
      "cell_type": "code",
      "source": [
        "from sklearn.datasets import load_iris\n",
        "from sklearn.model_selection import train_test_split\n",
        "from sklearn.svm import SVC\n",
        "from sklearn.naive_bayes import GaussianNB\n",
        "from sklearn.metrics import accuracy_score, classification_report\n",
        "\n",
        "# Load the Iris dataset\n",
        "data = load_iris()\n",
        "X = data.data\n",
        "y = data.target\n",
        "\n",
        "# Split dataset into training and testing sets\n",
        "X_train, X_test, y_train, y_test = train_test_split(X, y, test_size=0.2, random_state=42)\n",
        "\n",
        "# Train SVM Classifier\n",
        "svm_model = SVC(kernel='rbf', gamma='scale', random_state=42)\n",
        "svm_model.fit(X_train, y_train)\n",
        "svm_preds = svm_model.predict(X_test)\n",
        "svm_accuracy = accuracy_score(y_test, svm_preds)\n",
        "\n",
        "# Train Naïve Bayes Classifier\n",
        "nb_model = GaussianNB()\n",
        "nb_model.fit(X_train, y_train)\n",
        "nb_preds = nb_model.predict(X_test)\n",
        "nb_accuracy = accuracy_score(y_test, nb_preds)\n",
        "\n",
        "# Print results\n",
        "print(\"=== SVM Classifier ===\")\n",
        "print(f\"Accuracy: {svm_accuracy:.2f}\")\n",
        "print(classification_report(y_test, svm_preds, target_names=data.target_names))\n",
        "\n",
        "print(\"=== Naïve Bayes Classifier ===\")\n",
        "print(f\"Accuracy: {nb_accuracy:.2f}\")\n",
        "print(classification_report(y_test, nb_preds, target_names=data.target_names))"
      ],
      "metadata": {
        "colab": {
          "base_uri": "https://localhost:8080/"
        },
        "id": "iTAVn9OiDWAN",
        "outputId": "903b89aa-ae32-464c-e506-564ed1f8b82d"
      },
      "execution_count": 11,
      "outputs": [
        {
          "output_type": "stream",
          "name": "stdout",
          "text": [
            "=== SVM Classifier ===\n",
            "Accuracy: 1.00\n",
            "              precision    recall  f1-score   support\n",
            "\n",
            "      setosa       1.00      1.00      1.00        10\n",
            "  versicolor       1.00      1.00      1.00         9\n",
            "   virginica       1.00      1.00      1.00        11\n",
            "\n",
            "    accuracy                           1.00        30\n",
            "   macro avg       1.00      1.00      1.00        30\n",
            "weighted avg       1.00      1.00      1.00        30\n",
            "\n",
            "=== Naïve Bayes Classifier ===\n",
            "Accuracy: 1.00\n",
            "              precision    recall  f1-score   support\n",
            "\n",
            "      setosa       1.00      1.00      1.00        10\n",
            "  versicolor       1.00      1.00      1.00         9\n",
            "   virginica       1.00      1.00      1.00        11\n",
            "\n",
            "    accuracy                           1.00        30\n",
            "   macro avg       1.00      1.00      1.00        30\n",
            "weighted avg       1.00      1.00      1.00        30\n",
            "\n"
          ]
        }
      ]
    },
    {
      "cell_type": "markdown",
      "source": [
        "**Q35. Write a Python program to perform feature selection before training a Naïve Bayes classifier and compare**\n",
        "**results.**"
      ],
      "metadata": {
        "id": "3c8q7UM_57kR"
      }
    },
    {
      "cell_type": "code",
      "source": [
        "from sklearn.datasets import load_iris\n",
        "from sklearn.model_selection import train_test_split\n",
        "from sklearn.naive_bayes import GaussianNB\n",
        "from sklearn.feature_selection import SelectKBest, f_classif\n",
        "from sklearn.metrics import accuracy_score, classification_report\n",
        "\n",
        "# Load the Iris dataset\n",
        "data = load_iris()\n",
        "X = data.data\n",
        "y = data.target\n",
        "\n",
        "# Split into train and test sets\n",
        "X_train, X_test, y_train, y_test = train_test_split(X, y, test_size=0.3, random_state=42)\n",
        "\n",
        "# -------------------------\n",
        "# Train on all features\n",
        "# -------------------------\n",
        "nb_full = GaussianNB()\n",
        "nb_full.fit(X_train, y_train)\n",
        "y_pred_full = nb_full.predict(X_test)\n",
        "full_acc = accuracy_score(y_test, y_pred_full)\n",
        "\n",
        "# -------------------------\n",
        "# Feature Selection: Select top 2 features\n",
        "# -------------------------\n",
        "selector = SelectKBest(score_func=f_classif, k=2)\n",
        "X_train_sel = selector.fit_transform(X_train, y_train)\n",
        "X_test_sel = selector.transform(X_test)\n",
        "\n",
        "nb_sel = GaussianNB()\n",
        "nb_sel.fit(X_train_sel, y_train)\n",
        "y_pred_sel = nb_sel.predict(X_test_sel)\n",
        "sel_acc = accuracy_score(y_test, y_pred_sel)\n",
        "\n",
        "# -------------------------\n",
        "# Results\n",
        "# -------------------------\n",
        "print(\"=== Naïve Bayes with All Features ===\")\n",
        "print(f\"Accuracy: {full_acc:.2f}\")\n",
        "print(classification_report(y_test, y_pred_full, target_names=data.target_names))\n",
        "\n",
        "print(\"=== Naïve Bayes with Top 2 Selected Features ===\")\n",
        "print(f\"Accuracy: {sel_acc:.2f}\")\n",
        "print(classification_report(y_test, y_pred_sel, target_names=data.target_names))\n",
        "\n",
        "# Optional: Show which features were selected\n",
        "selected_features = selector.get_support(indices=True)\n",
        "print(\"Selected feature indices:\", selected_features)\n",
        "print(\"Selected feature names:\", [data.feature_names[i] for i in selected_features])"
      ],
      "metadata": {
        "colab": {
          "base_uri": "https://localhost:8080/"
        },
        "id": "WkiJLnCJDfK4",
        "outputId": "c0ec0fa3-6e67-474a-8828-649cb4848521"
      },
      "execution_count": 12,
      "outputs": [
        {
          "output_type": "stream",
          "name": "stdout",
          "text": [
            "=== Naïve Bayes with All Features ===\n",
            "Accuracy: 0.98\n",
            "              precision    recall  f1-score   support\n",
            "\n",
            "      setosa       1.00      1.00      1.00        19\n",
            "  versicolor       1.00      0.92      0.96        13\n",
            "   virginica       0.93      1.00      0.96        13\n",
            "\n",
            "    accuracy                           0.98        45\n",
            "   macro avg       0.98      0.97      0.97        45\n",
            "weighted avg       0.98      0.98      0.98        45\n",
            "\n",
            "=== Naïve Bayes with Top 2 Selected Features ===\n",
            "Accuracy: 1.00\n",
            "              precision    recall  f1-score   support\n",
            "\n",
            "      setosa       1.00      1.00      1.00        19\n",
            "  versicolor       1.00      1.00      1.00        13\n",
            "   virginica       1.00      1.00      1.00        13\n",
            "\n",
            "    accuracy                           1.00        45\n",
            "   macro avg       1.00      1.00      1.00        45\n",
            "weighted avg       1.00      1.00      1.00        45\n",
            "\n",
            "Selected feature indices: [2 3]\n",
            "Selected feature names: ['petal length (cm)', 'petal width (cm)']\n"
          ]
        }
      ]
    },
    {
      "cell_type": "markdown",
      "source": [
        "**Q36. Write a Python program to train an SVM Classifier using One-vs-Rest (OvR) and One-vs-One (OvO)**\n",
        "**strategies on the Wine dataset and compare their accuracy.**"
      ],
      "metadata": {
        "id": "yPQQPFm46Jmt"
      }
    },
    {
      "cell_type": "code",
      "source": [
        "from sklearn.datasets import load_wine\n",
        "from sklearn.model_selection import train_test_split\n",
        "from sklearn.svm import SVC\n",
        "from sklearn.multiclass import OneVsRestClassifier, OneVsOneClassifier\n",
        "from sklearn.metrics import accuracy_score, classification_report\n",
        "\n",
        "# Step 1: Load the Wine dataset\n",
        "data = load_wine()\n",
        "X = data.data\n",
        "y = data.target\n",
        "\n",
        "# Step 2: Split into training and test sets\n",
        "X_train, X_test, y_train, y_test = train_test_split(X, y, test_size=0.3, random_state=42)\n",
        "\n",
        "# Step 3: Train SVM with One-vs-Rest (OvR)\n",
        "svm_ovr = OneVsRestClassifier(SVC(kernel='rbf', gamma='scale'))\n",
        "svm_ovr.fit(X_train, y_train)\n",
        "y_pred_ovr = svm_ovr.predict(X_test)\n",
        "acc_ovr = accuracy_score(y_test, y_pred_ovr)\n",
        "\n",
        "# Step 4: Train SVM with One-vs-One (OvO)\n",
        "svm_ovo = OneVsOneClassifier(SVC(kernel='rbf', gamma='scale'))\n",
        "svm_ovo.fit(X_train, y_train)\n",
        "y_pred_ovo = svm_ovo.predict(X_test)\n",
        "acc_ovo = accuracy_score(y_test, y_pred_ovo)\n",
        "\n",
        "# Step 5: Print accuracy and reports\n",
        "print(\"=== One-vs-Rest (OvR) SVM ===\")\n",
        "print(f\"Accuracy: {acc_ovr:.2f}\")\n",
        "print(classification_report(y_test, y_pred_ovr, target_names=data.target_names))\n",
        "\n",
        "print(\"=== One-vs-One (OvO) SVM ===\")\n",
        "print(f\"Accuracy: {acc_ovo:.2f}\")\n",
        "print(classification_report(y_test, y_pred_ovo, target_names=data.target_names))"
      ],
      "metadata": {
        "colab": {
          "base_uri": "https://localhost:8080/"
        },
        "id": "YzWes7r6DokA",
        "outputId": "79d23fdb-45ea-4643-f87e-0c900effa509"
      },
      "execution_count": 13,
      "outputs": [
        {
          "output_type": "stream",
          "name": "stdout",
          "text": [
            "=== One-vs-Rest (OvR) SVM ===\n",
            "Accuracy: 0.72\n",
            "              precision    recall  f1-score   support\n",
            "\n",
            "     class_0       0.83      1.00      0.90        19\n",
            "     class_1       0.65      0.95      0.77        21\n",
            "     class_2       0.00      0.00      0.00        14\n",
            "\n",
            "    accuracy                           0.72        54\n",
            "   macro avg       0.49      0.65      0.56        54\n",
            "weighted avg       0.54      0.72      0.62        54\n",
            "\n",
            "=== One-vs-One (OvO) SVM ===\n",
            "Accuracy: 0.80\n",
            "              precision    recall  f1-score   support\n",
            "\n",
            "     class_0       1.00      1.00      1.00        19\n",
            "     class_1       0.78      0.67      0.72        21\n",
            "     class_2       0.59      0.71      0.65        14\n",
            "\n",
            "    accuracy                           0.80        54\n",
            "   macro avg       0.79      0.79      0.79        54\n",
            "weighted avg       0.81      0.80      0.80        54\n",
            "\n"
          ]
        },
        {
          "output_type": "stream",
          "name": "stderr",
          "text": [
            "/usr/local/lib/python3.11/dist-packages/sklearn/metrics/_classification.py:1565: UndefinedMetricWarning: Precision is ill-defined and being set to 0.0 in labels with no predicted samples. Use `zero_division` parameter to control this behavior.\n",
            "  _warn_prf(average, modifier, f\"{metric.capitalize()} is\", len(result))\n",
            "/usr/local/lib/python3.11/dist-packages/sklearn/metrics/_classification.py:1565: UndefinedMetricWarning: Precision is ill-defined and being set to 0.0 in labels with no predicted samples. Use `zero_division` parameter to control this behavior.\n",
            "  _warn_prf(average, modifier, f\"{metric.capitalize()} is\", len(result))\n",
            "/usr/local/lib/python3.11/dist-packages/sklearn/metrics/_classification.py:1565: UndefinedMetricWarning: Precision is ill-defined and being set to 0.0 in labels with no predicted samples. Use `zero_division` parameter to control this behavior.\n",
            "  _warn_prf(average, modifier, f\"{metric.capitalize()} is\", len(result))\n"
          ]
        }
      ]
    },
    {
      "cell_type": "markdown",
      "source": [
        "**Q37. Write a Python program to train an SVM Classifier using Linear, Polynomial, and RBF kernels on the Breast**\n",
        "**Cancer dataset and compare their accuracy.**"
      ],
      "metadata": {
        "id": "72_XYvjg6Qp6"
      }
    },
    {
      "cell_type": "code",
      "source": [
        "import numpy as np\n",
        "import pandas as pd\n",
        "from sklearn.svm import SVC\n",
        "from sklearn.model_selection import train_test_split\n",
        "from sklearn.metrics import accuracy_score\n",
        "from sklearn.datasets import load_breast_cancer\n",
        "from sklearn.preprocessing import StandardScaler\n",
        "\n",
        "# Load the Breast Cancer dataset\n",
        "data = load_breast_cancer()\n",
        "X, y = data.data, data.target  # Features and target labels\n",
        "\n",
        "# Split into training (80%) and testing (20%) sets\n",
        "X_train, X_test, y_train, y_test = train_test_split(X, y, test_size=0.2, random_state=42)\n",
        "\n",
        "# Standardize features (important for SVM)\n",
        "scaler = StandardScaler()\n",
        "X_train_scaled = scaler.fit_transform(X_train)\n",
        "X_test_scaled = scaler.transform(X_test)\n",
        "\n",
        "# Define SVM models with different kernels\n",
        "kernels = ['linear', 'poly', 'rbf']\n",
        "models = {kernel: SVC(kernel=kernel, degree=3, C=1.0, gamma='scale') for kernel in kernels}\n",
        "\n",
        "# Train each model and evaluate accuracy\n",
        "accuracy_results = {}\n",
        "\n",
        "for kernel, model in models.items():\n",
        "    model.fit(X_train_scaled, y_train)  # Train model\n",
        "    y_pred = model.predict(X_test_scaled)  # Make predictions\n",
        "    accuracy = accuracy_score(y_test, y_pred)  # Compute accuracy\n",
        "    accuracy_results[kernel] = accuracy\n",
        "    print(f\"Accuracy for {kernel} kernel: {accuracy:.4f}\")\n",
        "\n",
        "# Compare results\n",
        "best_kernel = max(accuracy_results, key=accuracy_results.get)\n",
        "print(f\"\\nBest performing kernel: {best_kernel} with accuracy {accuracy_results[best_kernel]:.4f}\")"
      ],
      "metadata": {
        "colab": {
          "base_uri": "https://localhost:8080/"
        },
        "id": "TA7qrrQdDx6q",
        "outputId": "94880c70-267d-46be-8c2a-eefa254fa595"
      },
      "execution_count": 16,
      "outputs": [
        {
          "output_type": "stream",
          "name": "stdout",
          "text": [
            "Accuracy for linear kernel: 0.9561\n",
            "Accuracy for poly kernel: 0.8684\n",
            "Accuracy for rbf kernel: 0.9825\n",
            "\n",
            "Best performing kernel: rbf with accuracy 0.9825\n"
          ]
        }
      ]
    },
    {
      "cell_type": "markdown",
      "source": [
        "**Q38. Write a Python program to train an SVM Classifier using Stratified K-Fold Cross-Validation and compute the**\n",
        "**average accuracy.**"
      ],
      "metadata": {
        "id": "hAtVMuXX6VkP"
      }
    },
    {
      "cell_type": "code",
      "source": [
        "import numpy as np\n",
        "import pandas as pd\n",
        "from sklearn.svm import SVC\n",
        "from sklearn.model_selection import StratifiedKFold, cross_val_score\n",
        "from sklearn.datasets import load_breast_cancer\n",
        "from sklearn.preprocessing import StandardScaler\n",
        "\n",
        "# Load the Breast Cancer dataset\n",
        "data = load_breast_cancer()\n",
        "X, y = data.data, data.target  # Features and labels\n",
        "\n",
        "# Standardize features (important for SVM)\n",
        "scaler = StandardScaler()\n",
        "X_scaled = scaler.fit_transform(X)\n",
        "\n",
        "# Define SVM Classifier\n",
        "svm = SVC(kernel='rbf', C=1.0, gamma='scale')\n",
        "\n",
        "# Define Stratified K-Fold Cross-Validation (K=5)\n",
        "kf = StratifiedKFold(n_splits=5, shuffle=True, random_state=42)\n",
        "\n",
        "# Perform cross-validation and compute accuracy scores\n",
        "accuracy_scores = cross_val_score(svm, X_scaled, y, cv=kf, scoring='accuracy')\n",
        "\n",
        "# Calculate average accuracy\n",
        "average_accuracy = np.mean(accuracy_scores)\n",
        "\n",
        "# Print results\n",
        "print(f\"Individual fold accuracies: {accuracy_scores}\")\n",
        "print(f\"Average Accuracy across {kf.get_n_splits()} folds: {average_accuracy:.4f}\")"
      ],
      "metadata": {
        "colab": {
          "base_uri": "https://localhost:8080/"
        },
        "id": "7IvYP88DESPS",
        "outputId": "0ce665b6-3994-4125-9fa3-fbd0d2e101aa"
      },
      "execution_count": 17,
      "outputs": [
        {
          "output_type": "stream",
          "name": "stdout",
          "text": [
            "Individual fold accuracies: [0.99122807 0.93859649 0.97368421 0.99122807 0.98230088]\n",
            "Average Accuracy across 5 folds: 0.9754\n"
          ]
        }
      ]
    },
    {
      "cell_type": "markdown",
      "source": [
        "**Q39. Write a Python program to train a Naïve Bayes classifier using different prior probabilities and compare**\n",
        "**performance.**"
      ],
      "metadata": {
        "id": "Qa-qEKpI6ZW6"
      }
    },
    {
      "cell_type": "code",
      "source": [
        "import numpy as np\n",
        "import pandas as pd\n",
        "from sklearn.naive_bayes import GaussianNB\n",
        "from sklearn.model_selection import train_test_split\n",
        "from sklearn.metrics import accuracy_score\n",
        "from sklearn.datasets import load_breast_cancer\n",
        "\n",
        "# Load the Breast Cancer dataset\n",
        "data = load_breast_cancer()\n",
        "X, y = data.data, data.target  # Features and labels\n",
        "\n",
        "# Split into training (80%) and testing (20%) sets\n",
        "X_train, X_test, y_train, y_test = train_test_split(X, y, test_size=0.2, random_state=42)\n",
        "\n",
        "# Define different class prior probabilities\n",
        "priors = [\n",
        "    [0.5, 0.5],  # Equal probabilities for both classes\n",
        "    [0.7, 0.3],  # Higher prior for class 0\n",
        "    [0.3, 0.7],  # Higher prior for class 1\n",
        "]\n",
        "\n",
        "# Train and evaluate models with different priors\n",
        "accuracy_results = {}\n",
        "\n",
        "for prior in priors:\n",
        "    model = GaussianNB(priors=prior)  # Initialize model with custom prior\n",
        "    model.fit(X_train, y_train)  # Train model\n",
        "    y_pred = model.predict(X_test)  # Make predictions\n",
        "    accuracy = accuracy_score(y_test, y_pred)  # Compute accuracy\n",
        "    accuracy_results[str(prior)] = accuracy\n",
        "    print(f\"Accuracy with priors {prior}: {accuracy:.4f}\")\n",
        "\n",
        "# Determine the best-performing prior\n",
        "best_prior = max(accuracy_results, key=accuracy_results.get)\n",
        "print(f\"\\nBest performing prior: {best_prior} with accuracy {accuracy_results[best_prior]:.4f}\")"
      ],
      "metadata": {
        "colab": {
          "base_uri": "https://localhost:8080/"
        },
        "id": "ap_pCKxFEe8i",
        "outputId": "74c61dd6-b322-4cff-83c1-c191c0497f38"
      },
      "execution_count": 18,
      "outputs": [
        {
          "output_type": "stream",
          "name": "stdout",
          "text": [
            "Accuracy with priors [0.5, 0.5]: 0.9737\n",
            "Accuracy with priors [0.7, 0.3]: 0.9649\n",
            "Accuracy with priors [0.3, 0.7]: 0.9649\n",
            "\n",
            "Best performing prior: [0.5, 0.5] with accuracy 0.9737\n"
          ]
        }
      ]
    },
    {
      "cell_type": "markdown",
      "source": [
        "**Q40.  Write a Python program to perform Recursive Feature Elimination (RFE) before training an SVM Classifier and**\n",
        "**compare accuracy.**"
      ],
      "metadata": {
        "id": "nOjnKV1y6d9B"
      }
    },
    {
      "cell_type": "code",
      "source": [
        "import numpy as np\n",
        "import pandas as pd\n",
        "from sklearn.svm import SVC\n",
        "from sklearn.model_selection import train_test_split\n",
        "from sklearn.preprocessing import StandardScaler\n",
        "from sklearn.feature_selection import RFE\n",
        "from sklearn.metrics import accuracy_score\n",
        "from sklearn.datasets import load_breast_cancer\n",
        "\n",
        "# Load the Breast Cancer dataset\n",
        "data = load_breast_cancer()\n",
        "X, y = data.data, data.target  # Features and labels\n",
        "\n",
        "# Split into training (80%) and testing (20%) sets\n",
        "X_train, X_test, y_train, y_test = train_test_split(X, y, test_size=0.2, random_state=42)\n",
        "\n",
        "# Standardize features (important for SVM)\n",
        "scaler = StandardScaler()\n",
        "X_train_scaled = scaler.fit_transform(X_train)\n",
        "X_test_scaled = scaler.transform(X_test)\n",
        "\n",
        "# Train SVM Classifier without feature selection\n",
        "svm_no_rfe = SVC(kernel='linear', C=1.0)\n",
        "svm_no_rfe.fit(X_train_scaled, y_train)\n",
        "y_pred_no_rfe = svm_no_rfe.predict(X_test_scaled)\n",
        "accuracy_no_rfe = accuracy_score(y_test, y_pred_no_rfe)\n",
        "\n",
        "# Apply Recursive Feature Elimination (RFE) with SVM as the base estimator\n",
        "svm_rfe = SVC(kernel='linear', C=1.0)\n",
        "rfe = RFE(estimator=svm_rfe, n_features_to_select=10)  # Selecting top 10 features\n",
        "X_train_rfe = rfe.fit_transform(X_train_scaled, y_train)\n",
        "X_test_rfe = rfe.transform(X_test_scaled)\n",
        "\n",
        "# Train SVM Classifier on selected features\n",
        "svm_rfe.fit(X_train_rfe, y_train)\n",
        "y_pred_rfe = svm_rfe.predict(X_test_rfe)\n",
        "accuracy_rfe = accuracy_score(y_test, y_pred_rfe)\n",
        "\n",
        "# Print Accuracy Comparison\n",
        "print(f\"Accuracy without RFE: {accuracy_no_rfe:.4f}\")\n",
        "print(f\"Accuracy with RFE (top 10 features): {accuracy_rfe:.4f}\")\n",
        "\n",
        "# Display selected features\n",
        "selected_features = np.array(data.feature_names)[rfe.support_]\n",
        "print(f\"Selected Features: {selected_features}\")"
      ],
      "metadata": {
        "colab": {
          "base_uri": "https://localhost:8080/"
        },
        "id": "DINQY50EEk9W",
        "outputId": "9042a2d6-64d4-49e5-bf85-6b10d534fef6"
      },
      "execution_count": 19,
      "outputs": [
        {
          "output_type": "stream",
          "name": "stdout",
          "text": [
            "Accuracy without RFE: 0.9561\n",
            "Accuracy with RFE (top 10 features): 0.9737\n",
            "Selected Features: ['mean compactness' 'mean concavity' 'mean concave points' 'radius error'\n",
            " 'area error' 'fractal dimension error' 'worst radius' 'worst texture'\n",
            " 'worst area' 'worst fractal dimension']\n"
          ]
        }
      ]
    },
    {
      "cell_type": "markdown",
      "source": [
        "**Q41. Write a Python program to train an SVM Classifier and evaluate its performance using Precision, Recall, and**\n",
        "**F1-Score instead of accuracy.**"
      ],
      "metadata": {
        "id": "jsrXIokq6iLl"
      }
    },
    {
      "cell_type": "code",
      "source": [
        "import numpy as np\n",
        "import pandas as pd\n",
        "from sklearn.svm import SVC\n",
        "from sklearn.model_selection import train_test_split\n",
        "from sklearn.metrics import precision_score, recall_score, f1_score\n",
        "from sklearn.datasets import load_breast_cancer\n",
        "from sklearn.preprocessing import StandardScaler\n",
        "\n",
        "# Load the Breast Cancer dataset\n",
        "data = load_breast_cancer()\n",
        "X, y = data.data, data.target  # Features and labels\n",
        "\n",
        "# Split data into training (80%) and testing (20%) sets\n",
        "X_train, X_test, y_train, y_test = train_test_split(X, y, test_size=0.2, random_state=42)\n",
        "\n",
        "# Standardize features (important for SVM)\n",
        "scaler = StandardScaler()\n",
        "X_train_scaled = scaler.fit_transform(X_train)\n",
        "X_test_scaled = scaler.transform(X_test)\n",
        "\n",
        "# Train the SVM Classifier\n",
        "svm = SVC(kernel='rbf', C=1.0, gamma='scale')\n",
        "svm.fit(X_train_scaled, y_train)\n",
        "\n",
        "# Predict on the test set\n",
        "y_pred = svm.predict(X_test_scaled)\n",
        "\n",
        "# Compute Precision, Recall, and F1-Score\n",
        "precision = precision_score(y_test, y_pred)\n",
        "recall = recall_score(y_test, y_pred)\n",
        "f1 = f1_score(y_test, y_pred)\n",
        "\n",
        "# Print results\n",
        "print(f\"Precision: {precision:.4f}\")\n",
        "print(f\"Recall: {recall:.4f}\")\n",
        "print(f\"F1-Score: {f1:.4f}\")"
      ],
      "metadata": {
        "colab": {
          "base_uri": "https://localhost:8080/"
        },
        "id": "SGUJJxwIEwax",
        "outputId": "889f8b2d-7e82-4c0a-e827-385020eb9bdf"
      },
      "execution_count": 20,
      "outputs": [
        {
          "output_type": "stream",
          "name": "stdout",
          "text": [
            "Precision: 0.9726\n",
            "Recall: 1.0000\n",
            "F1-Score: 0.9861\n"
          ]
        }
      ]
    },
    {
      "cell_type": "markdown",
      "source": [
        "**Q42. Write a Python program to train a Naïve Bayes Classifier and evaluate its performance using Log Loss**\n",
        "**(Cross-Entropy Loss).**"
      ],
      "metadata": {
        "id": "gr90_d5b6mUh"
      }
    },
    {
      "cell_type": "code",
      "source": [
        "import numpy as np\n",
        "import pandas as pd\n",
        "from sklearn.naive_bayes import GaussianNB\n",
        "from sklearn.model_selection import train_test_split\n",
        "from sklearn.preprocessing import StandardScaler\n",
        "from sklearn.metrics import log_loss\n",
        "from sklearn.datasets import load_breast_cancer\n",
        "\n",
        "# Load the Breast Cancer dataset\n",
        "data = load_breast_cancer()\n",
        "X, y = data.data, data.target  # Features and labels\n",
        "\n",
        "# Split into training (80%) and testing (20%) sets\n",
        "X_train, X_test, y_train, y_test = train_test_split(X, y, test_size=0.2, random_state=42)\n",
        "\n",
        "# Standardize features (important for Gaussian Naïve Bayes)\n",
        "scaler = StandardScaler()\n",
        "X_train_scaled = scaler.fit_transform(X_train)\n",
        "X_test_scaled = scaler.transform(X_test)\n",
        "\n",
        "# Train a Gaussian Naïve Bayes Classifier\n",
        "gnb = GaussianNB()\n",
        "gnb.fit(X_train_scaled, y_train)\n",
        "\n",
        "# Predict class probabilities\n",
        "y_pred_prob = gnb.predict_proba(X_test_scaled)\n",
        "\n",
        "# Compute Log Loss (Cross-Entropy Loss)\n",
        "log_loss_value = log_loss(y_test, y_pred_prob)\n",
        "\n",
        "# Print Log Loss\n",
        "print(f\"Log Loss (Cross-Entropy Loss): {log_loss_value:.4f}\")"
      ],
      "metadata": {
        "colab": {
          "base_uri": "https://localhost:8080/"
        },
        "id": "rOXJBOjCE4nz",
        "outputId": "8635c86c-5173-49b1-d134-ea8a9c782234"
      },
      "execution_count": 21,
      "outputs": [
        {
          "output_type": "stream",
          "name": "stdout",
          "text": [
            "Log Loss (Cross-Entropy Loss): 0.2051\n"
          ]
        }
      ]
    },
    {
      "cell_type": "markdown",
      "source": [
        "**Q43. Write a Python program to train an SVM Classifier and visualize the Confusion Matrix using seaborn.**"
      ],
      "metadata": {
        "id": "FfPRi9YR6sLX"
      }
    },
    {
      "cell_type": "code",
      "source": [
        "import numpy as np\n",
        "import pandas as pd\n",
        "import seaborn as sns\n",
        "import matplotlib.pyplot as plt\n",
        "from sklearn.svm import SVC\n",
        "from sklearn.model_selection import train_test_split\n",
        "from sklearn.metrics import confusion_matrix\n",
        "from sklearn.datasets import load_breast_cancer\n",
        "from sklearn.preprocessing import StandardScaler\n",
        "\n",
        "# Load the Breast Cancer dataset\n",
        "data = load_breast_cancer()\n",
        "X, y = data.data, data.target  # Features and labels\n",
        "\n",
        "# Split data into training (80%) and testing (20%) sets\n",
        "X_train, X_test, y_train, y_test = train_test_split(X, y, test_size=0.2, random_state=42)\n",
        "\n",
        "# Standardize features (important for SVM)\n",
        "scaler = StandardScaler()\n",
        "X_train_scaled = scaler.fit_transform(X_train)\n",
        "X_test_scaled = scaler.transform(X_test)\n",
        "\n",
        "# Train the SVM Classifier\n",
        "svm = SVC(kernel='rbf', C=1.0, gamma='scale')\n",
        "svm.fit(X_train_scaled, y_train)\n",
        "\n",
        "# Predict on the test set\n",
        "y_pred = svm.predict(X_test_scaled)\n",
        "\n",
        "# Compute Confusion Matrix\n",
        "cm = confusion_matrix(y_test, y_pred)\n",
        "\n",
        "# Visualize Confusion Matrix using Seaborn\n",
        "plt.figure(figsize=(6,5))\n",
        "sns.heatmap(cm, annot=True, fmt='d', cmap='Blues', xticklabels=data.target_names, yticklabels=data.target_names)\n",
        "plt.xlabel(\"Predicted Labels\")\n",
        "plt.ylabel(\"True Labels\")\n",
        "plt.title(\"Confusion Matrix for SVM Classifier\")\n",
        "plt.show()"
      ],
      "metadata": {
        "colab": {
          "base_uri": "https://localhost:8080/",
          "height": 487
        },
        "id": "2lBiDFhdFAWU",
        "outputId": "d1151a2b-034f-4145-d196-6a7876e5e339"
      },
      "execution_count": 22,
      "outputs": [
        {
          "output_type": "display_data",
          "data": {
            "text/plain": [
              "<Figure size 600x500 with 2 Axes>"
            ],
            "image/png": "[encoded data removed]"
          },
          "metadata": {}
        }
      ]
    },
    {
      "cell_type": "markdown",
      "source": [
        "**Q44. Write a Python program to train an SVM Regressor (SVR) and evaluate its performance using Mean Absolute**\n",
        "**Error (MAE) instead of MSE.**"
      ],
      "metadata": {
        "id": "DDzu6jR76v4A"
      }
    },
    {
      "cell_type": "code",
      "source": [
        "import numpy as np\n",
        "import pandas as pd\n",
        "from sklearn.model_selection import train_test_split\n",
        "from sklearn.svm import SVR\n",
        "from sklearn.metrics import mean_absolute_error\n",
        "from sklearn.preprocessing import StandardScaler\n",
        "from sklearn.datasets import fetch_california_housing\n",
        "\n",
        "# Load the California housing dataset\n",
        "data = fetch_california_housing()\n",
        "X, y = data.data, data.target  # Features and target prices\n",
        "\n",
        "# Split data into training (80%) and testing (20%) sets\n",
        "X_train, X_test, y_train, y_test = train_test_split(X, y, test_size=0.2, random_state=42)\n",
        "\n",
        "# Standardize features (important for SVR)\n",
        "scaler = StandardScaler()\n",
        "X_train_scaled = scaler.fit_transform(X_train)\n",
        "X_test_scaled = scaler.transform(X_test)\n",
        "\n",
        "# Train SVM Regressor (using RBF kernel)\n",
        "svr = SVR(kernel='rbf', C=1.0, gamma='scale')\n",
        "svr.fit(X_train_scaled, y_train)\n",
        "\n",
        "# Predict on the test set\n",
        "y_pred = svr.predict(X_test_scaled)\n",
        "\n",
        "# Evaluate model performance using Mean Absolute Error (MAE)\n",
        "mae = mean_absolute_error(y_test, y_pred)\n",
        "\n",
        "print(f\"Mean Absolute Error (MAE): {mae:.4f}\")"
      ],
      "metadata": {
        "colab": {
          "base_uri": "https://localhost:8080/"
        },
        "id": "XNa8JwlpFIHq",
        "outputId": "38f07136-d63a-44ca-ae9e-29ecea35fbab"
      },
      "execution_count": 23,
      "outputs": [
        {
          "output_type": "stream",
          "name": "stdout",
          "text": [
            "Mean Absolute Error (MAE): 0.3986\n"
          ]
        }
      ]
    },
    {
      "cell_type": "markdown",
      "source": [
        "**Q45. Write a Python program to train a Naïve Bayes classifier and evaluate its performance using the ROC-AUC**\n",
        "**score.**"
      ],
      "metadata": {
        "id": "3H0jhCmo61er"
      }
    },
    {
      "cell_type": "code",
      "source": [
        "import numpy as np\n",
        "import pandas as pd\n",
        "from sklearn.naive_bayes import GaussianNB\n",
        "from sklearn.model_selection import train_test_split\n",
        "from sklearn.preprocessing import StandardScaler\n",
        "from sklearn.metrics import roc_auc_score\n",
        "from sklearn.datasets import load_breast_cancer\n",
        "\n",
        "# Load the Breast Cancer dataset\n",
        "data = load_breast_cancer()\n",
        "X, y = data.data, data.target  # Features and labels\n",
        "\n",
        "# Split into training (80%) and testing (20%) sets\n",
        "X_train, X_test, y_train, y_test = train_test_split(X, y, test_size=0.2, random_state=42)\n",
        "\n",
        "# Standardize features (important for Gaussian Naïve Bayes)\n",
        "scaler = StandardScaler()\n",
        "X_train_scaled = scaler.fit_transform(X_train)\n",
        "X_test_scaled = scaler.transform(X_test)\n",
        "\n",
        "# Train Gaussian Naïve Bayes Classifier\n",
        "gnb = GaussianNB()\n",
        "gnb.fit(X_train_scaled, y_train)\n",
        "\n",
        "# Predict probabilities for ROC-AUC evaluation\n",
        "y_pred_prob = gnb.predict_proba(X_test_scaled)[:, 1]  # Probability of the positive class\n",
        "\n",
        "# Compute ROC-AUC score\n",
        "roc_auc = roc_auc_score(y_test, y_pred_prob)\n",
        "\n",
        "# Print ROC-AUC Score\n",
        "print(f\"ROC-AUC Score: {roc_auc:.4f}\")"
      ],
      "metadata": {
        "colab": {
          "base_uri": "https://localhost:8080/"
        },
        "id": "Qy6U_0J0FTYu",
        "outputId": "c0b22688-17f8-4695-aac2-d3bb02f291e8"
      },
      "execution_count": 24,
      "outputs": [
        {
          "output_type": "stream",
          "name": "stdout",
          "text": [
            "ROC-AUC Score: 0.9974\n"
          ]
        }
      ]
    },
    {
      "cell_type": "markdown",
      "source": [
        "**Q46. Write a Python program to train an SVM Classifier and visualize the Precision-Recall Curve.**"
      ],
      "metadata": {
        "id": "UNC9fFdU65-A"
      }
    },
    {
      "cell_type": "code",
      "source": [
        "import numpy as np\n",
        "import pandas as pd\n",
        "import matplotlib.pyplot as plt\n",
        "from sklearn.svm import SVC\n",
        "from sklearn.model_selection import train_test_split\n",
        "from sklearn.preprocessing import StandardScaler\n",
        "from sklearn.metrics import precision_recall_curve, auc\n",
        "from sklearn.datasets import load_breast_cancer\n",
        "\n",
        "# Load the Breast Cancer dataset\n",
        "data = load_breast_cancer()\n",
        "X, y = data.data, data.target  # Features and labels\n",
        "\n",
        "# Split into training (80%) and testing (20%) sets\n",
        "X_train, X_test, y_train, y_test = train_test_split(X, y, test_size=0.2, random_state=42)\n",
        "\n",
        "# Standardize features (important for SVM)\n",
        "scaler = StandardScaler()\n",
        "X_train_scaled = scaler.fit_transform(X_train)\n",
        "X_test_scaled = scaler.transform(X_test)\n",
        "\n",
        "# Train SVM Classifier\n",
        "svm = SVC(kernel='rbf', C=1.0, gamma='scale', probability=True)\n",
        "svm.fit(X_train_scaled, y_train)\n",
        "\n",
        "# Predict probabilities for Precision-Recall evaluation\n",
        "y_pred_prob = svm.predict_proba(X_test_scaled)[:, 1]  # Probability of positive class\n",
        "\n",
        "# Compute Precision-Recall values\n",
        "precision, recall, _ = precision_recall_curve(y_test, y_pred_prob)\n",
        "\n",
        "# Compute AUC (Area Under Curve)\n",
        "pr_auc = auc(recall, precision)\n",
        "\n",
        "# Plot Precision-Recall Curve\n",
        "plt.figure(figsize=(8, 6))\n",
        "plt.plot(recall, precision, label=f'Precision-Recall Curve (AUC = {pr_auc:.4f})', linewidth=2)\n",
        "plt.xlabel(\"Recall\")\n",
        "plt.ylabel(\"Precision\")\n",
        "plt.title(\"Precision-Recall Curve for SVM Classifier\")\n",
        "plt.legend()\n",
        "plt.grid(True)\n",
        "plt.show()"
      ],
      "metadata": {
        "colab": {
          "base_uri": "https://localhost:8080/",
          "height": 564
        },
        "id": "_HymeNMNFeYf",
        "outputId": "eae71de0-b062-4c92-d6e5-4db2b07f20d6"
      },
      "execution_count": 25,
      "outputs": [
        {
          "output_type": "display_data",
          "data": {
            "text/plain": [
              "<Figure size 800x600 with 1 Axes>"
            ],
            "image/png": "[encoded data removed]"
          },
          "metadata": {}
        }
      ]
    }
  ]
}